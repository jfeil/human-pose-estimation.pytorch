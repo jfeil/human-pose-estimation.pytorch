{
 "cells": [
  {
   "cell_type": "code",
   "execution_count": 1,
   "id": "080d72b5-93ed-4904-acb7-260d635f1006",
   "metadata": {
    "ExecuteTime": {
     "end_time": "2024-01-31T12:15:28.567264827Z",
     "start_time": "2024-01-31T12:15:27.613745436Z"
    }
   },
   "outputs": [],
   "source": [
    "%matplotlib widget\n",
    "%load_ext autoreload\n",
    "%autoreload 2"
   ]
  },
  {
   "cell_type": "code",
   "execution_count": 2,
   "id": "7f79a139-71a2-41f0-a0fe-3098dd6c39d8",
   "metadata": {
    "ExecuteTime": {
     "end_time": "2024-01-31T12:15:34.406276540Z",
     "start_time": "2024-01-31T12:15:30.364687230Z"
    }
   },
   "outputs": [],
   "source": [
    "import os\n",
    "\n",
    "import torch\n",
    "from torchvision import transforms\n",
    "import mlflow\n",
    "\n",
    "from evaluate import eval_model, evaluate_run, upload_test_results, DisplayResults\n",
    "import _init_paths\n",
    "from core.config import update_config, config\n",
    "import dataset\n",
    "from utils.visualization import joints"
   ]
  },
  {
   "cell_type": "code",
   "execution_count": 3,
   "id": "1269c430-2a27-4cfe-9b66-cdbd98f97e00",
   "metadata": {
    "ExecuteTime": {
     "end_time": "2024-01-31T12:15:34.461868085Z",
     "start_time": "2024-01-31T12:15:34.409796561Z"
    }
   },
   "outputs": [],
   "source": [
    "temp_path = 'tmp'\n",
    "\n",
    "default_config = '../experiments/coco/resnet152/384x288_d256x3_adam_lr1e-3_TrainingLoopDefault.yaml'\n",
    "\n",
    "os.environ[\"MLFLOW_TRACKING_URI\"] = \"http://localhost:5000\"\n",
    "os.environ[\"MLFLOW_S3_ENDPOINT_URL\"] = \"http://localhost:9000\"\n",
    "mlflow.set_tracking_uri(\"http://localhost:5000\")\n",
    "# mlflow.set_registry_uri(\"http://localhost:9000\")"
   ]
  },
  {
   "cell_type": "code",
   "execution_count": 199,
   "id": "f9c75bd5-7fc0-452a-a11c-888b30f94dfd",
   "metadata": {
    "ExecuteTime": {
     "end_time": "2024-01-31T12:15:34.495059779Z",
     "start_time": "2024-01-31T12:15:34.441929809Z"
    },
    "scrolled": true
   },
   "outputs": [],
   "source": [
    "update_config(default_config)\n",
    "\n",
    "trans = transforms.Compose([\n",
    "            transforms.ToTensor(),\n",
    "            transforms.Normalize(mean=[0.485, 0.456, 0.406],\n",
    "                                 std=[0.229, 0.224, 0.225]),\n",
    "        ])\n",
    "\n",
    "\n",
    "test_dataset = dataset.coco(\n",
    "    config,\n",
    "    '../data/tennis_test/',\n",
    "    'test2017',\n",
    "    False,\n",
    "    trans\n",
    ")\n",
    "\n",
    "test_dataset.image_set = 't_est2017'\n",
    "\n",
    "test_loader = torch.utils.data.DataLoader(\n",
    "    test_dataset,\n",
    "    batch_size=config.TEST.BATCH_SIZE,\n",
    "    shuffle=False,\n",
    "    num_workers=config.WORKERS,\n",
    "    pin_memory=True\n",
    ")"
   ]
  },
  {
   "cell_type": "code",
   "execution_count": 5,
   "id": "2b4569d9-d274-4a60-8630-d2d854345b0a",
   "metadata": {
    "ExecuteTime": {
     "end_time": "2024-01-31T12:15:37.752759281Z",
     "start_time": "2024-01-31T12:15:37.116516942Z"
    },
    "scrolled": true
   },
   "outputs": [
    {
     "data": {
      "text/plain": [
       "['49af7b584f03469d98c339245d5b2b23',\n",
       " '081b42a460924120af77f6cee1a7782c',\n",
       " '4102fec81ddb43388d80f85a9c5dae8d',\n",
       " 'e324650bc77c4fe89a711f8ea8a9b9a1',\n",
       " '5a6b507b1dbe41adaaf66b44c9a22188',\n",
       " '6675a328409b403ebfb11fcef2a3ded7',\n",
       " '8f0c57249e564b668d88138d783a6ca8',\n",
       " '43fe19be4d604268b23e51ed0d15822b',\n",
       " '2809680ffcff48669ce315f75d7f9249',\n",
       " 'd0b5e996924e4bed9e8e617e0773f3cc',\n",
       " '57e2320428804d0daa4d3a1ab4acf9f4',\n",
       " '69885e0593f847f3aab62b230d7eda6b',\n",
       " 'b02e49382787494db87e634889989956',\n",
       " '305e7b9d90144dc79075b7e764f14c3f',\n",
       " '7d8506a2af6c4477b1a187595568b44b',\n",
       " '9d194ffa12f145f5bf994359c5fd36ae',\n",
       " '23170df0a5e44781bd64e45dfbbe2f31',\n",
       " 'a2791694d2fc4d7d8c7343209904c02f',\n",
       " 'cb4bf1341fc345259f1436e6a373a242',\n",
       " 'fff5f701beab46c6bbfd7f8e991e4700',\n",
       " 'b4bf469eb5d242cda0644efada86710d',\n",
       " 'e2672858625244f1813be1b1b63404c3',\n",
       " '0ee7c9fd0d8841918994129dc5a6e82f',\n",
       " '66a4701d05c24a3e922770d93246dd3d',\n",
       " 'b843163c6a274e31b412cd2cd7a5a60c',\n",
       " '5a31d2f2c10c40569d058f1eed856b4c',\n",
       " '2bd5fad450984958abc0b968b4eefadf',\n",
       " 'f0f2ba0b7ca544e8926e53888c03764f',\n",
       " '3e5cc8a513a14653a7e5ddcf8ed11f61',\n",
       " 'cd9fb5c7b5724c4b9f8970e52b5e95af',\n",
       " 'ce37c5b911754c60b55740151f217103',\n",
       " '7e551803e5bf4c5ca79397e527ac778a',\n",
       " 'a8d8c9d6fe19402b8d7be00378864ff1',\n",
       " '0bb70701a2fd4e2b8795ed9e69d47bbd',\n",
       " '73fb52c38d5c401ea9f55d8812ff6607',\n",
       " '6e5ac17c919f4fd5bdfb1ee8a9ac9135',\n",
       " 'd61beb2d898447ccb68e4cb35e0298aa',\n",
       " '9547163139bb4431822ab2c1ef9ac71a',\n",
       " '1bb0fcbb3aaa4026978aa7d58aff4f89',\n",
       " '50af238b6afa423986533f0fe16b4107',\n",
       " '83a56d15f6ca4625b1566f5c10c93c88',\n",
       " '0c947f644ba942ca97e03d3e88476c32',\n",
       " 'e5d19197c40a4028bd529d3bb0a4149f',\n",
       " '7f445757c4ab43bcbbfecc7198ad566f',\n",
       " '6a8b842fd1ca47148333d89172bd0609',\n",
       " 'd4b4dc86ffd9459aa8ba02e03118dbe5',\n",
       " 'd32411fb8bfe4054bb8fb1faa917bbfd']"
      ]
     },
     "execution_count": 5,
     "metadata": {},
     "output_type": "execute_result"
    }
   ],
   "source": [
    "experiment_ids = [0, 2, 3, 4]\n",
    "runs = []\n",
    "for experiment_id in experiment_ids:\n",
    "    runs += mlflow.search_runs(experiment_ids=str(experiment_id))['run_id'].values.tolist()\n",
    "runs"
   ]
  },
  {
   "cell_type": "markdown",
   "id": "0510a06f-dc50-4a71-aba9-60ea73d2500f",
   "metadata": {
    "jp-MarkdownHeadingCollapsed": true
   },
   "source": [
    "# MLFlow Uploading"
   ]
  },
  {
   "cell_type": "code",
   "execution_count": 9,
   "id": "77997064-0575-43ee-997f-86cfc01dd4e3",
   "metadata": {
    "collapsed": true,
    "jupyter": {
     "outputs_hidden": true
    },
    "scrolled": true
   },
   "outputs": [
    {
     "data": {
      "application/vnd.jupyter.widget-view+json": {
       "model_id": "ff38f092d3f84600ac7e8032fbe9dd18",
       "version_major": 2,
       "version_minor": 0
      },
      "text/plain": [
       "Downloading artifacts:   0%|          | 0/3 [00:00<?, ?it/s]"
      ]
     },
     "metadata": {},
     "output_type": "display_data"
    },
    {
     "data": {
      "application/vnd.jupyter.widget-view+json": {
       "model_id": "233207b47cb04c5c8c710670ce628e8c",
       "version_major": 2,
       "version_minor": 0
      },
      "text/plain": [
       "Models:   0%|          | 0/2 [00:00<?, ?it/s]"
      ]
     },
     "metadata": {},
     "output_type": "display_data"
    },
    {
     "data": {
      "application/vnd.jupyter.widget-view+json": {
       "model_id": "",
       "version_major": 2,
       "version_minor": 0
      },
      "text/plain": [
       "Epochs:   0%|          | 0/5 [00:00<?, ?it/s]"
      ]
     },
     "metadata": {},
     "output_type": "display_data"
    },
    {
     "data": {
      "application/vnd.jupyter.widget-view+json": {
       "model_id": "",
       "version_major": 2,
       "version_minor": 0
      },
      "text/plain": [
       "Epochs:   0%|          | 0/5 [00:00<?, ?it/s]"
      ]
     },
     "metadata": {},
     "output_type": "display_data"
    },
    {
     "data": {
      "application/vnd.jupyter.widget-view+json": {
       "model_id": "fdf23fd7d7bc4aada8baa5afc57cd2db",
       "version_major": 2,
       "version_minor": 0
      },
      "text/plain": [
       "Downloading artifacts:   0%|          | 0/3 [00:00<?, ?it/s]"
      ]
     },
     "metadata": {},
     "output_type": "display_data"
    },
    {
     "data": {
      "application/vnd.jupyter.widget-view+json": {
       "model_id": "98a475a899724528bb2ce26ed9ebd2d1",
       "version_major": 2,
       "version_minor": 0
      },
      "text/plain": [
       "Models:   0%|          | 0/2 [00:00<?, ?it/s]"
      ]
     },
     "metadata": {},
     "output_type": "display_data"
    },
    {
     "data": {
      "application/vnd.jupyter.widget-view+json": {
       "model_id": "",
       "version_major": 2,
       "version_minor": 0
      },
      "text/plain": [
       "Epochs:   0%|          | 0/5 [00:00<?, ?it/s]"
      ]
     },
     "metadata": {},
     "output_type": "display_data"
    },
    {
     "data": {
      "application/vnd.jupyter.widget-view+json": {
       "model_id": "",
       "version_major": 2,
       "version_minor": 0
      },
      "text/plain": [
       "Epochs:   0%|          | 0/5 [00:00<?, ?it/s]"
      ]
     },
     "metadata": {},
     "output_type": "display_data"
    },
    {
     "data": {
      "application/vnd.jupyter.widget-view+json": {
       "model_id": "e0fbf1196e28441b92db3553ec994089",
       "version_major": 2,
       "version_minor": 0
      },
      "text/plain": [
       "Downloading artifacts:   0%|          | 0/3 [00:00<?, ?it/s]"
      ]
     },
     "metadata": {},
     "output_type": "display_data"
    },
    {
     "data": {
      "application/vnd.jupyter.widget-view+json": {
       "model_id": "5d6b75736d774266aa86377b720a57aa",
       "version_major": 2,
       "version_minor": 0
      },
      "text/plain": [
       "Models:   0%|          | 0/2 [00:00<?, ?it/s]"
      ]
     },
     "metadata": {},
     "output_type": "display_data"
    },
    {
     "data": {
      "application/vnd.jupyter.widget-view+json": {
       "model_id": "",
       "version_major": 2,
       "version_minor": 0
      },
      "text/plain": [
       "Epochs:   0%|          | 0/5 [00:00<?, ?it/s]"
      ]
     },
     "metadata": {},
     "output_type": "display_data"
    },
    {
     "data": {
      "application/vnd.jupyter.widget-view+json": {
       "model_id": "",
       "version_major": 2,
       "version_minor": 0
      },
      "text/plain": [
       "Epochs:   0%|          | 0/5 [00:00<?, ?it/s]"
      ]
     },
     "metadata": {},
     "output_type": "display_data"
    },
    {
     "data": {
      "application/vnd.jupyter.widget-view+json": {
       "model_id": "7506c3a3cf4c4244ad354ddfb74d998b",
       "version_major": 2,
       "version_minor": 0
      },
      "text/plain": [
       "Downloading artifacts:   0%|          | 0/3 [00:00<?, ?it/s]"
      ]
     },
     "metadata": {},
     "output_type": "display_data"
    },
    {
     "data": {
      "application/vnd.jupyter.widget-view+json": {
       "model_id": "ecf03b1e2c254fce8e3878269c1ed2ca",
       "version_major": 2,
       "version_minor": 0
      },
      "text/plain": [
       "Models:   0%|          | 0/2 [00:00<?, ?it/s]"
      ]
     },
     "metadata": {},
     "output_type": "display_data"
    },
    {
     "data": {
      "application/vnd.jupyter.widget-view+json": {
       "model_id": "",
       "version_major": 2,
       "version_minor": 0
      },
      "text/plain": [
       "Epochs:   0%|          | 0/5 [00:00<?, ?it/s]"
      ]
     },
     "metadata": {},
     "output_type": "display_data"
    },
    {
     "data": {
      "application/vnd.jupyter.widget-view+json": {
       "model_id": "",
       "version_major": 2,
       "version_minor": 0
      },
      "text/plain": [
       "Epochs:   0%|          | 0/5 [00:00<?, ?it/s]"
      ]
     },
     "metadata": {},
     "output_type": "display_data"
    },
    {
     "data": {
      "application/vnd.jupyter.widget-view+json": {
       "model_id": "2a7627b24a684c63b0e8207dd8c11244",
       "version_major": 2,
       "version_minor": 0
      },
      "text/plain": [
       "Downloading artifacts:   0%|          | 0/3 [00:00<?, ?it/s]"
      ]
     },
     "metadata": {},
     "output_type": "display_data"
    },
    {
     "data": {
      "application/vnd.jupyter.widget-view+json": {
       "model_id": "1b4db1fabc5543c78832ae127d822501",
       "version_major": 2,
       "version_minor": 0
      },
      "text/plain": [
       "Models:   0%|          | 0/2 [00:00<?, ?it/s]"
      ]
     },
     "metadata": {},
     "output_type": "display_data"
    },
    {
     "data": {
      "application/vnd.jupyter.widget-view+json": {
       "model_id": "",
       "version_major": 2,
       "version_minor": 0
      },
      "text/plain": [
       "Epochs:   0%|          | 0/5 [00:00<?, ?it/s]"
      ]
     },
     "metadata": {},
     "output_type": "display_data"
    },
    {
     "data": {
      "application/vnd.jupyter.widget-view+json": {
       "model_id": "",
       "version_major": 2,
       "version_minor": 0
      },
      "text/plain": [
       "Epochs:   0%|          | 0/5 [00:00<?, ?it/s]"
      ]
     },
     "metadata": {},
     "output_type": "display_data"
    },
    {
     "data": {
      "application/vnd.jupyter.widget-view+json": {
       "model_id": "7fd1f56e207d4965b7a8740e301cef0a",
       "version_major": 2,
       "version_minor": 0
      },
      "text/plain": [
       "Downloading artifacts:   0%|          | 0/3 [00:00<?, ?it/s]"
      ]
     },
     "metadata": {},
     "output_type": "display_data"
    },
    {
     "data": {
      "application/vnd.jupyter.widget-view+json": {
       "model_id": "ed94fc98f3d545c1a2474a96d0c0930a",
       "version_major": 2,
       "version_minor": 0
      },
      "text/plain": [
       "Models:   0%|          | 0/2 [00:00<?, ?it/s]"
      ]
     },
     "metadata": {},
     "output_type": "display_data"
    },
    {
     "data": {
      "application/vnd.jupyter.widget-view+json": {
       "model_id": "",
       "version_major": 2,
       "version_minor": 0
      },
      "text/plain": [
       "Epochs:   0%|          | 0/5 [00:00<?, ?it/s]"
      ]
     },
     "metadata": {},
     "output_type": "display_data"
    },
    {
     "data": {
      "application/vnd.jupyter.widget-view+json": {
       "model_id": "",
       "version_major": 2,
       "version_minor": 0
      },
      "text/plain": [
       "Epochs:   0%|          | 0/5 [00:00<?, ?it/s]"
      ]
     },
     "metadata": {},
     "output_type": "display_data"
    },
    {
     "data": {
      "application/vnd.jupyter.widget-view+json": {
       "model_id": "eddf2cd5c00640808e985b0ba7d7aa65",
       "version_major": 2,
       "version_minor": 0
      },
      "text/plain": [
       "Downloading artifacts:   0%|          | 0/3 [00:00<?, ?it/s]"
      ]
     },
     "metadata": {},
     "output_type": "display_data"
    },
    {
     "data": {
      "application/vnd.jupyter.widget-view+json": {
       "model_id": "ad953fa918c8427bafe0559bf85fe2a9",
       "version_major": 2,
       "version_minor": 0
      },
      "text/plain": [
       "Models:   0%|          | 0/2 [00:00<?, ?it/s]"
      ]
     },
     "metadata": {},
     "output_type": "display_data"
    },
    {
     "data": {
      "application/vnd.jupyter.widget-view+json": {
       "model_id": "",
       "version_major": 2,
       "version_minor": 0
      },
      "text/plain": [
       "Epochs:   0%|          | 0/5 [00:00<?, ?it/s]"
      ]
     },
     "metadata": {},
     "output_type": "display_data"
    },
    {
     "data": {
      "application/vnd.jupyter.widget-view+json": {
       "model_id": "",
       "version_major": 2,
       "version_minor": 0
      },
      "text/plain": [
       "Epochs:   0%|          | 0/5 [00:00<?, ?it/s]"
      ]
     },
     "metadata": {},
     "output_type": "display_data"
    },
    {
     "data": {
      "application/vnd.jupyter.widget-view+json": {
       "model_id": "b8bcb9a919c74fadae9b3cf88ae85eb0",
       "version_major": 2,
       "version_minor": 0
      },
      "text/plain": [
       "Downloading artifacts:   0%|          | 0/2 [00:00<?, ?it/s]"
      ]
     },
     "metadata": {},
     "output_type": "display_data"
    },
    {
     "data": {
      "application/vnd.jupyter.widget-view+json": {
       "model_id": "fcbb8f66b6fd4e99abb0119a565d2752",
       "version_major": 2,
       "version_minor": 0
      },
      "text/plain": [
       "Models:   0%|          | 0/1 [00:00<?, ?it/s]"
      ]
     },
     "metadata": {},
     "output_type": "display_data"
    },
    {
     "data": {
      "application/vnd.jupyter.widget-view+json": {
       "model_id": "",
       "version_major": 2,
       "version_minor": 0
      },
      "text/plain": [
       "Epochs:   0%|          | 0/5 [00:00<?, ?it/s]"
      ]
     },
     "metadata": {},
     "output_type": "display_data"
    },
    {
     "data": {
      "application/vnd.jupyter.widget-view+json": {
       "model_id": "dc476c01baba47aeaf74abe1bfd7fd7e",
       "version_major": 2,
       "version_minor": 0
      },
      "text/plain": [
       "Downloading artifacts:   0%|          | 0/3 [00:00<?, ?it/s]"
      ]
     },
     "metadata": {},
     "output_type": "display_data"
    },
    {
     "data": {
      "application/vnd.jupyter.widget-view+json": {
       "model_id": "6be1b40df5c243d283e90a3bf987a737",
       "version_major": 2,
       "version_minor": 0
      },
      "text/plain": [
       "Models:   0%|          | 0/2 [00:00<?, ?it/s]"
      ]
     },
     "metadata": {},
     "output_type": "display_data"
    },
    {
     "data": {
      "application/vnd.jupyter.widget-view+json": {
       "model_id": "",
       "version_major": 2,
       "version_minor": 0
      },
      "text/plain": [
       "Epochs:   0%|          | 0/5 [00:00<?, ?it/s]"
      ]
     },
     "metadata": {},
     "output_type": "display_data"
    },
    {
     "data": {
      "application/vnd.jupyter.widget-view+json": {
       "model_id": "",
       "version_major": 2,
       "version_minor": 0
      },
      "text/plain": [
       "Epochs:   0%|          | 0/5 [00:00<?, ?it/s]"
      ]
     },
     "metadata": {},
     "output_type": "display_data"
    },
    {
     "data": {
      "application/vnd.jupyter.widget-view+json": {
       "model_id": "7a56d487ec384215b9d09d8c36f32310",
       "version_major": 2,
       "version_minor": 0
      },
      "text/plain": [
       "Downloading artifacts:   0%|          | 0/3 [00:00<?, ?it/s]"
      ]
     },
     "metadata": {},
     "output_type": "display_data"
    },
    {
     "data": {
      "application/vnd.jupyter.widget-view+json": {
       "model_id": "ea30932a50ff4d3f85033acc7679f10c",
       "version_major": 2,
       "version_minor": 0
      },
      "text/plain": [
       "Models:   0%|          | 0/2 [00:00<?, ?it/s]"
      ]
     },
     "metadata": {},
     "output_type": "display_data"
    },
    {
     "data": {
      "application/vnd.jupyter.widget-view+json": {
       "model_id": "",
       "version_major": 2,
       "version_minor": 0
      },
      "text/plain": [
       "Epochs:   0%|          | 0/5 [00:00<?, ?it/s]"
      ]
     },
     "metadata": {},
     "output_type": "display_data"
    },
    {
     "data": {
      "application/vnd.jupyter.widget-view+json": {
       "model_id": "",
       "version_major": 2,
       "version_minor": 0
      },
      "text/plain": [
       "Epochs:   0%|          | 0/5 [00:00<?, ?it/s]"
      ]
     },
     "metadata": {},
     "output_type": "display_data"
    },
    {
     "data": {
      "application/vnd.jupyter.widget-view+json": {
       "model_id": "7c5713966401487b809665086e659682",
       "version_major": 2,
       "version_minor": 0
      },
      "text/plain": [
       "Downloading artifacts:   0%|          | 0/3 [00:00<?, ?it/s]"
      ]
     },
     "metadata": {},
     "output_type": "display_data"
    },
    {
     "data": {
      "application/vnd.jupyter.widget-view+json": {
       "model_id": "87d07cd5d02c483ca6c4ac1f4d6d1b6f",
       "version_major": 2,
       "version_minor": 0
      },
      "text/plain": [
       "Models:   0%|          | 0/2 [00:00<?, ?it/s]"
      ]
     },
     "metadata": {},
     "output_type": "display_data"
    },
    {
     "data": {
      "application/vnd.jupyter.widget-view+json": {
       "model_id": "",
       "version_major": 2,
       "version_minor": 0
      },
      "text/plain": [
       "Epochs:   0%|          | 0/5 [00:00<?, ?it/s]"
      ]
     },
     "metadata": {},
     "output_type": "display_data"
    },
    {
     "data": {
      "application/vnd.jupyter.widget-view+json": {
       "model_id": "",
       "version_major": 2,
       "version_minor": 0
      },
      "text/plain": [
       "Epochs:   0%|          | 0/5 [00:00<?, ?it/s]"
      ]
     },
     "metadata": {},
     "output_type": "display_data"
    },
    {
     "data": {
      "application/vnd.jupyter.widget-view+json": {
       "model_id": "7a804bb3a29e45ad901794cc15a07508",
       "version_major": 2,
       "version_minor": 0
      },
      "text/plain": [
       "Downloading artifacts:   0%|          | 0/3 [00:00<?, ?it/s]"
      ]
     },
     "metadata": {},
     "output_type": "display_data"
    },
    {
     "data": {
      "application/vnd.jupyter.widget-view+json": {
       "model_id": "916eca094efa4bc8825d29d4037f1adf",
       "version_major": 2,
       "version_minor": 0
      },
      "text/plain": [
       "Models:   0%|          | 0/2 [00:00<?, ?it/s]"
      ]
     },
     "metadata": {},
     "output_type": "display_data"
    },
    {
     "data": {
      "application/vnd.jupyter.widget-view+json": {
       "model_id": "",
       "version_major": 2,
       "version_minor": 0
      },
      "text/plain": [
       "Epochs:   0%|          | 0/5 [00:00<?, ?it/s]"
      ]
     },
     "metadata": {},
     "output_type": "display_data"
    },
    {
     "data": {
      "application/vnd.jupyter.widget-view+json": {
       "model_id": "",
       "version_major": 2,
       "version_minor": 0
      },
      "text/plain": [
       "Epochs:   0%|          | 0/5 [00:00<?, ?it/s]"
      ]
     },
     "metadata": {},
     "output_type": "display_data"
    },
    {
     "data": {
      "application/vnd.jupyter.widget-view+json": {
       "model_id": "d6ab29ec466946008547ef1410bcbb4e",
       "version_major": 2,
       "version_minor": 0
      },
      "text/plain": [
       "Downloading artifacts:   0%|          | 0/2 [00:00<?, ?it/s]"
      ]
     },
     "metadata": {},
     "output_type": "display_data"
    },
    {
     "data": {
      "application/vnd.jupyter.widget-view+json": {
       "model_id": "d1be2b985e284839a146bf4559ff2d1b",
       "version_major": 2,
       "version_minor": 0
      },
      "text/plain": [
       "Models:   0%|          | 0/1 [00:00<?, ?it/s]"
      ]
     },
     "metadata": {},
     "output_type": "display_data"
    },
    {
     "data": {
      "application/vnd.jupyter.widget-view+json": {
       "model_id": "",
       "version_major": 2,
       "version_minor": 0
      },
      "text/plain": [
       "Epochs:   0%|          | 0/5 [00:00<?, ?it/s]"
      ]
     },
     "metadata": {},
     "output_type": "display_data"
    },
    {
     "data": {
      "application/vnd.jupyter.widget-view+json": {
       "model_id": "88d79ccadbd94ea5bf607c449a50c8de",
       "version_major": 2,
       "version_minor": 0
      },
      "text/plain": [
       "Downloading artifacts:   0%|          | 0/3 [00:00<?, ?it/s]"
      ]
     },
     "metadata": {},
     "output_type": "display_data"
    },
    {
     "data": {
      "application/vnd.jupyter.widget-view+json": {
       "model_id": "1cba4b8425b54b358162b412031f7d0a",
       "version_major": 2,
       "version_minor": 0
      },
      "text/plain": [
       "Models:   0%|          | 0/2 [00:00<?, ?it/s]"
      ]
     },
     "metadata": {},
     "output_type": "display_data"
    },
    {
     "data": {
      "application/vnd.jupyter.widget-view+json": {
       "model_id": "9673ff64efdc4d88a189c42961d6605b",
       "version_major": 2,
       "version_minor": 0
      },
      "text/plain": [
       "Epochs:   0%|          | 0/5 [00:00<?, ?it/s]"
      ]
     },
     "metadata": {},
     "output_type": "display_data"
    },
    {
     "data": {
      "application/vnd.jupyter.widget-view+json": {
       "model_id": "f94b182b7b6e4efe9d2deaed7d3c4d4d",
       "version_major": 2,
       "version_minor": 0
      },
      "text/plain": [
       "Epochs:   0%|          | 0/5 [00:00<?, ?it/s]"
      ]
     },
     "metadata": {},
     "output_type": "display_data"
    },
    {
     "data": {
      "application/vnd.jupyter.widget-view+json": {
       "model_id": "d60dd35ec2524b5dafe3f5241e7619a4",
       "version_major": 2,
       "version_minor": 0
      },
      "text/plain": [
       "Downloading artifacts:   0%|          | 0/3 [00:00<?, ?it/s]"
      ]
     },
     "metadata": {},
     "output_type": "display_data"
    },
    {
     "data": {
      "application/vnd.jupyter.widget-view+json": {
       "model_id": "ab39fe658f8b4b13bdcfb28d7870447d",
       "version_major": 2,
       "version_minor": 0
      },
      "text/plain": [
       "Models:   0%|          | 0/2 [00:00<?, ?it/s]"
      ]
     },
     "metadata": {},
     "output_type": "display_data"
    },
    {
     "data": {
      "application/vnd.jupyter.widget-view+json": {
       "model_id": "a7717a79d0ac4bc4984b048cc0b8a3fd",
       "version_major": 2,
       "version_minor": 0
      },
      "text/plain": [
       "Epochs:   0%|          | 0/5 [00:00<?, ?it/s]"
      ]
     },
     "metadata": {},
     "output_type": "display_data"
    },
    {
     "data": {
      "application/vnd.jupyter.widget-view+json": {
       "model_id": "ca0d7e13192447d69422e701d2e9e201",
       "version_major": 2,
       "version_minor": 0
      },
      "text/plain": [
       "Epochs:   0%|          | 0/5 [00:00<?, ?it/s]"
      ]
     },
     "metadata": {},
     "output_type": "display_data"
    },
    {
     "data": {
      "application/vnd.jupyter.widget-view+json": {
       "model_id": "b0f23dfb3e77468c86be13662c79f404",
       "version_major": 2,
       "version_minor": 0
      },
      "text/plain": [
       "Downloading artifacts:   0%|          | 0/3 [00:00<?, ?it/s]"
      ]
     },
     "metadata": {},
     "output_type": "display_data"
    },
    {
     "data": {
      "application/vnd.jupyter.widget-view+json": {
       "model_id": "b95e2f2f5b444ab088d890bb3b2be9f1",
       "version_major": 2,
       "version_minor": 0
      },
      "text/plain": [
       "Models:   0%|          | 0/2 [00:00<?, ?it/s]"
      ]
     },
     "metadata": {},
     "output_type": "display_data"
    },
    {
     "data": {
      "application/vnd.jupyter.widget-view+json": {
       "model_id": "2f2d2162a0e844db9fc4f6bb795841ef",
       "version_major": 2,
       "version_minor": 0
      },
      "text/plain": [
       "Epochs:   0%|          | 0/5 [00:00<?, ?it/s]"
      ]
     },
     "metadata": {},
     "output_type": "display_data"
    },
    {
     "data": {
      "application/vnd.jupyter.widget-view+json": {
       "model_id": "0b95896b3cfd4989913890cc4a6c6b01",
       "version_major": 2,
       "version_minor": 0
      },
      "text/plain": [
       "Epochs:   0%|          | 0/5 [00:00<?, ?it/s]"
      ]
     },
     "metadata": {},
     "output_type": "display_data"
    },
    {
     "data": {
      "application/vnd.jupyter.widget-view+json": {
       "model_id": "bef9f064b7424da885178d721b977b0b",
       "version_major": 2,
       "version_minor": 0
      },
      "text/plain": [
       "Downloading artifacts:   0%|          | 0/3 [00:00<?, ?it/s]"
      ]
     },
     "metadata": {},
     "output_type": "display_data"
    },
    {
     "data": {
      "application/vnd.jupyter.widget-view+json": {
       "model_id": "d2dc6d0edfc64f1c8bb9c72b1256b741",
       "version_major": 2,
       "version_minor": 0
      },
      "text/plain": [
       "Models:   0%|          | 0/2 [00:00<?, ?it/s]"
      ]
     },
     "metadata": {},
     "output_type": "display_data"
    },
    {
     "data": {
      "application/vnd.jupyter.widget-view+json": {
       "model_id": "97414eb2df7947a3960ca775828fe4a8",
       "version_major": 2,
       "version_minor": 0
      },
      "text/plain": [
       "Epochs:   0%|          | 0/5 [00:00<?, ?it/s]"
      ]
     },
     "metadata": {},
     "output_type": "display_data"
    },
    {
     "data": {
      "application/vnd.jupyter.widget-view+json": {
       "model_id": "1ad49a2a6b8f443e89cd62f8ea91ed39",
       "version_major": 2,
       "version_minor": 0
      },
      "text/plain": [
       "Epochs:   0%|          | 0/5 [00:00<?, ?it/s]"
      ]
     },
     "metadata": {},
     "output_type": "display_data"
    },
    {
     "data": {
      "application/vnd.jupyter.widget-view+json": {
       "model_id": "3c94a5be4dec498182f05b44f0123ad6",
       "version_major": 2,
       "version_minor": 0
      },
      "text/plain": [
       "Downloading artifacts:   0%|          | 0/3 [00:00<?, ?it/s]"
      ]
     },
     "metadata": {},
     "output_type": "display_data"
    },
    {
     "data": {
      "application/vnd.jupyter.widget-view+json": {
       "model_id": "a4b13a04414649bbbd5a69d39fcdd76f",
       "version_major": 2,
       "version_minor": 0
      },
      "text/plain": [
       "Models:   0%|          | 0/2 [00:00<?, ?it/s]"
      ]
     },
     "metadata": {},
     "output_type": "display_data"
    },
    {
     "data": {
      "application/vnd.jupyter.widget-view+json": {
       "model_id": "b8cee5e07c0149b8aef29dd6cd558192",
       "version_major": 2,
       "version_minor": 0
      },
      "text/plain": [
       "Epochs:   0%|          | 0/5 [00:00<?, ?it/s]"
      ]
     },
     "metadata": {},
     "output_type": "display_data"
    },
    {
     "data": {
      "application/vnd.jupyter.widget-view+json": {
       "model_id": "3613f1e58eb844a68b836e33ce94f4ae",
       "version_major": 2,
       "version_minor": 0
      },
      "text/plain": [
       "Epochs:   0%|          | 0/5 [00:00<?, ?it/s]"
      ]
     },
     "metadata": {},
     "output_type": "display_data"
    },
    {
     "data": {
      "application/vnd.jupyter.widget-view+json": {
       "model_id": "ef33800cf28c491f8959148528b0e88d",
       "version_major": 2,
       "version_minor": 0
      },
      "text/plain": [
       "Downloading artifacts:   0%|          | 0/2 [00:00<?, ?it/s]"
      ]
     },
     "metadata": {},
     "output_type": "display_data"
    },
    {
     "data": {
      "application/vnd.jupyter.widget-view+json": {
       "model_id": "d18c5be520d047df855ecd9ddb182eee",
       "version_major": 2,
       "version_minor": 0
      },
      "text/plain": [
       "Models:   0%|          | 0/1 [00:00<?, ?it/s]"
      ]
     },
     "metadata": {},
     "output_type": "display_data"
    },
    {
     "data": {
      "application/vnd.jupyter.widget-view+json": {
       "model_id": "c945bca796dc45c7ba8aa9aac72ec623",
       "version_major": 2,
       "version_minor": 0
      },
      "text/plain": [
       "Epochs:   0%|          | 0/5 [00:00<?, ?it/s]"
      ]
     },
     "metadata": {},
     "output_type": "display_data"
    },
    {
     "data": {
      "application/vnd.jupyter.widget-view+json": {
       "model_id": "f8098238cee4470184e4c3038f663ca2",
       "version_major": 2,
       "version_minor": 0
      },
      "text/plain": [
       "Downloading artifacts:   0%|          | 0/3 [00:00<?, ?it/s]"
      ]
     },
     "metadata": {},
     "output_type": "display_data"
    },
    {
     "data": {
      "application/vnd.jupyter.widget-view+json": {
       "model_id": "1f9a29db05f349e480ddc55000aa09c2",
       "version_major": 2,
       "version_minor": 0
      },
      "text/plain": [
       "Models:   0%|          | 0/2 [00:00<?, ?it/s]"
      ]
     },
     "metadata": {},
     "output_type": "display_data"
    },
    {
     "data": {
      "application/vnd.jupyter.widget-view+json": {
       "model_id": "618c4f4a495142209dd12ce649b4bda8",
       "version_major": 2,
       "version_minor": 0
      },
      "text/plain": [
       "Epochs:   0%|          | 0/5 [00:00<?, ?it/s]"
      ]
     },
     "metadata": {},
     "output_type": "display_data"
    },
    {
     "data": {
      "application/vnd.jupyter.widget-view+json": {
       "model_id": "b04e7c93b48a47b5945c6742d6339429",
       "version_major": 2,
       "version_minor": 0
      },
      "text/plain": [
       "Epochs:   0%|          | 0/5 [00:00<?, ?it/s]"
      ]
     },
     "metadata": {},
     "output_type": "display_data"
    },
    {
     "data": {
      "application/vnd.jupyter.widget-view+json": {
       "model_id": "b459a844ee5d4e04b2399fa14d611280",
       "version_major": 2,
       "version_minor": 0
      },
      "text/plain": [
       "Downloading artifacts:   0%|          | 0/3 [00:00<?, ?it/s]"
      ]
     },
     "metadata": {},
     "output_type": "display_data"
    },
    {
     "data": {
      "application/vnd.jupyter.widget-view+json": {
       "model_id": "fcd70949d4154ee9acf19071ae0d346b",
       "version_major": 2,
       "version_minor": 0
      },
      "text/plain": [
       "Models:   0%|          | 0/2 [00:00<?, ?it/s]"
      ]
     },
     "metadata": {},
     "output_type": "display_data"
    },
    {
     "data": {
      "application/vnd.jupyter.widget-view+json": {
       "model_id": "070aee7a44ee4b0abb358678ba80a02f",
       "version_major": 2,
       "version_minor": 0
      },
      "text/plain": [
       "Epochs:   0%|          | 0/5 [00:00<?, ?it/s]"
      ]
     },
     "metadata": {},
     "output_type": "display_data"
    },
    {
     "data": {
      "application/vnd.jupyter.widget-view+json": {
       "model_id": "51e3088eb796419ba2b35f0d3e600134",
       "version_major": 2,
       "version_minor": 0
      },
      "text/plain": [
       "Epochs:   0%|          | 0/5 [00:00<?, ?it/s]"
      ]
     },
     "metadata": {},
     "output_type": "display_data"
    },
    {
     "data": {
      "application/vnd.jupyter.widget-view+json": {
       "model_id": "7d2ebe280dca49acadf5c09205fa0423",
       "version_major": 2,
       "version_minor": 0
      },
      "text/plain": [
       "Downloading artifacts:   0%|          | 0/3 [00:00<?, ?it/s]"
      ]
     },
     "metadata": {},
     "output_type": "display_data"
    },
    {
     "data": {
      "application/vnd.jupyter.widget-view+json": {
       "model_id": "c7624feb681442ba95f1c372d807bce5",
       "version_major": 2,
       "version_minor": 0
      },
      "text/plain": [
       "Models:   0%|          | 0/2 [00:00<?, ?it/s]"
      ]
     },
     "metadata": {},
     "output_type": "display_data"
    },
    {
     "data": {
      "application/vnd.jupyter.widget-view+json": {
       "model_id": "5f7ced30412e43feb260675e874527b6",
       "version_major": 2,
       "version_minor": 0
      },
      "text/plain": [
       "Epochs:   0%|          | 0/5 [00:00<?, ?it/s]"
      ]
     },
     "metadata": {},
     "output_type": "display_data"
    },
    {
     "data": {
      "application/vnd.jupyter.widget-view+json": {
       "model_id": "5deedb9b96294e06b4ac386f719dd225",
       "version_major": 2,
       "version_minor": 0
      },
      "text/plain": [
       "Epochs:   0%|          | 0/5 [00:00<?, ?it/s]"
      ]
     },
     "metadata": {},
     "output_type": "display_data"
    },
    {
     "data": {
      "application/vnd.jupyter.widget-view+json": {
       "model_id": "9c72e2e7f5e24765ab2ebca8e9b76d9d",
       "version_major": 2,
       "version_minor": 0
      },
      "text/plain": [
       "Downloading artifacts:   0%|          | 0/3 [00:00<?, ?it/s]"
      ]
     },
     "metadata": {},
     "output_type": "display_data"
    },
    {
     "data": {
      "application/vnd.jupyter.widget-view+json": {
       "model_id": "4e32a5a6098444ac8de40c76ecf79d99",
       "version_major": 2,
       "version_minor": 0
      },
      "text/plain": [
       "Models:   0%|          | 0/2 [00:00<?, ?it/s]"
      ]
     },
     "metadata": {},
     "output_type": "display_data"
    },
    {
     "data": {
      "application/vnd.jupyter.widget-view+json": {
       "model_id": "9083f7f1da04417f92553c324354da27",
       "version_major": 2,
       "version_minor": 0
      },
      "text/plain": [
       "Epochs:   0%|          | 0/5 [00:00<?, ?it/s]"
      ]
     },
     "metadata": {},
     "output_type": "display_data"
    },
    {
     "data": {
      "application/vnd.jupyter.widget-view+json": {
       "model_id": "823fdb938dd6462d802b3a4025ff159f",
       "version_major": 2,
       "version_minor": 0
      },
      "text/plain": [
       "Epochs:   0%|          | 0/5 [00:00<?, ?it/s]"
      ]
     },
     "metadata": {},
     "output_type": "display_data"
    },
    {
     "data": {
      "application/vnd.jupyter.widget-view+json": {
       "model_id": "035e65f1d4604ffaa9b88bb0f5766fab",
       "version_major": 2,
       "version_minor": 0
      },
      "text/plain": [
       "Downloading artifacts:   0%|          | 0/3 [00:00<?, ?it/s]"
      ]
     },
     "metadata": {},
     "output_type": "display_data"
    },
    {
     "data": {
      "application/vnd.jupyter.widget-view+json": {
       "model_id": "be3c7dec443b4b86a33d59ab6007335c",
       "version_major": 2,
       "version_minor": 0
      },
      "text/plain": [
       "Models:   0%|          | 0/2 [00:00<?, ?it/s]"
      ]
     },
     "metadata": {},
     "output_type": "display_data"
    },
    {
     "data": {
      "application/vnd.jupyter.widget-view+json": {
       "model_id": "d1214474796b460ebfa2c1499dfa8d9b",
       "version_major": 2,
       "version_minor": 0
      },
      "text/plain": [
       "Epochs:   0%|          | 0/5 [00:00<?, ?it/s]"
      ]
     },
     "metadata": {},
     "output_type": "display_data"
    },
    {
     "data": {
      "application/vnd.jupyter.widget-view+json": {
       "model_id": "3f5fc845a5a941ea9755f8bd1b2fe229",
       "version_major": 2,
       "version_minor": 0
      },
      "text/plain": [
       "Epochs:   0%|          | 0/5 [00:00<?, ?it/s]"
      ]
     },
     "metadata": {},
     "output_type": "display_data"
    },
    {
     "data": {
      "application/vnd.jupyter.widget-view+json": {
       "model_id": "f1acb9cc4fd2437f8a472f251bd77ddf",
       "version_major": 2,
       "version_minor": 0
      },
      "text/plain": [
       "Downloading artifacts:   0%|          | 0/3 [00:00<?, ?it/s]"
      ]
     },
     "metadata": {},
     "output_type": "display_data"
    },
    {
     "data": {
      "application/vnd.jupyter.widget-view+json": {
       "model_id": "c76dd8a84a8c4cabb8e9d1b147b1c4df",
       "version_major": 2,
       "version_minor": 0
      },
      "text/plain": [
       "Models:   0%|          | 0/2 [00:00<?, ?it/s]"
      ]
     },
     "metadata": {},
     "output_type": "display_data"
    },
    {
     "data": {
      "application/vnd.jupyter.widget-view+json": {
       "model_id": "acdf6edfa3bb4f4890ae2f66c1036c06",
       "version_major": 2,
       "version_minor": 0
      },
      "text/plain": [
       "Epochs:   0%|          | 0/5 [00:00<?, ?it/s]"
      ]
     },
     "metadata": {},
     "output_type": "display_data"
    },
    {
     "data": {
      "application/vnd.jupyter.widget-view+json": {
       "model_id": "539592cc70e6426c8490038b9712d0ad",
       "version_major": 2,
       "version_minor": 0
      },
      "text/plain": [
       "Epochs:   0%|          | 0/5 [00:00<?, ?it/s]"
      ]
     },
     "metadata": {},
     "output_type": "display_data"
    },
    {
     "data": {
      "application/vnd.jupyter.widget-view+json": {
       "model_id": "0454c618bfd14653906377c84ec5c97f",
       "version_major": 2,
       "version_minor": 0
      },
      "text/plain": [
       "Downloading artifacts:   0%|          | 0/3 [00:00<?, ?it/s]"
      ]
     },
     "metadata": {},
     "output_type": "display_data"
    },
    {
     "data": {
      "application/vnd.jupyter.widget-view+json": {
       "model_id": "07d805c094494d13b7d7d2ab49113828",
       "version_major": 2,
       "version_minor": 0
      },
      "text/plain": [
       "Models:   0%|          | 0/2 [00:00<?, ?it/s]"
      ]
     },
     "metadata": {},
     "output_type": "display_data"
    },
    {
     "data": {
      "application/vnd.jupyter.widget-view+json": {
       "model_id": "54d41e6460f844e6a4fb08bbc830be12",
       "version_major": 2,
       "version_minor": 0
      },
      "text/plain": [
       "Epochs:   0%|          | 0/5 [00:00<?, ?it/s]"
      ]
     },
     "metadata": {},
     "output_type": "display_data"
    },
    {
     "data": {
      "application/vnd.jupyter.widget-view+json": {
       "model_id": "918cc4048c93469cb8b92048fb609d9b",
       "version_major": 2,
       "version_minor": 0
      },
      "text/plain": [
       "Epochs:   0%|          | 0/5 [00:00<?, ?it/s]"
      ]
     },
     "metadata": {},
     "output_type": "display_data"
    },
    {
     "data": {
      "application/vnd.jupyter.widget-view+json": {
       "model_id": "a27e681c32b44b5fae4af12df705f148",
       "version_major": 2,
       "version_minor": 0
      },
      "text/plain": [
       "Downloading artifacts:   0%|          | 0/3 [00:00<?, ?it/s]"
      ]
     },
     "metadata": {},
     "output_type": "display_data"
    },
    {
     "data": {
      "application/vnd.jupyter.widget-view+json": {
       "model_id": "c121dbafbf1b4a26aedb4bdb7e7dfcc2",
       "version_major": 2,
       "version_minor": 0
      },
      "text/plain": [
       "Models:   0%|          | 0/2 [00:00<?, ?it/s]"
      ]
     },
     "metadata": {},
     "output_type": "display_data"
    },
    {
     "data": {
      "application/vnd.jupyter.widget-view+json": {
       "model_id": "5ac94f73dcf8453f9d0220364bb27e19",
       "version_major": 2,
       "version_minor": 0
      },
      "text/plain": [
       "Epochs:   0%|          | 0/5 [00:00<?, ?it/s]"
      ]
     },
     "metadata": {},
     "output_type": "display_data"
    },
    {
     "data": {
      "application/vnd.jupyter.widget-view+json": {
       "model_id": "6d47007b1a0645e0aaef8f2a90553665",
       "version_major": 2,
       "version_minor": 0
      },
      "text/plain": [
       "Epochs:   0%|          | 0/5 [00:00<?, ?it/s]"
      ]
     },
     "metadata": {},
     "output_type": "display_data"
    },
    {
     "data": {
      "application/vnd.jupyter.widget-view+json": {
       "model_id": "c22fa3b8c9fa45f3b357d89c4de20f8e",
       "version_major": 2,
       "version_minor": 0
      },
      "text/plain": [
       "Downloading artifacts:   0%|          | 0/3 [00:00<?, ?it/s]"
      ]
     },
     "metadata": {},
     "output_type": "display_data"
    },
    {
     "data": {
      "application/vnd.jupyter.widget-view+json": {
       "model_id": "30a9df150034473ebf05c3ceb5a0294a",
       "version_major": 2,
       "version_minor": 0
      },
      "text/plain": [
       "Models:   0%|          | 0/2 [00:00<?, ?it/s]"
      ]
     },
     "metadata": {},
     "output_type": "display_data"
    },
    {
     "data": {
      "application/vnd.jupyter.widget-view+json": {
       "model_id": "91c0a0065c8843e788d724040c25168c",
       "version_major": 2,
       "version_minor": 0
      },
      "text/plain": [
       "Epochs:   0%|          | 0/5 [00:00<?, ?it/s]"
      ]
     },
     "metadata": {},
     "output_type": "display_data"
    },
    {
     "data": {
      "application/vnd.jupyter.widget-view+json": {
       "model_id": "0440116f51d749b6900ba052cc1d7d46",
       "version_major": 2,
       "version_minor": 0
      },
      "text/plain": [
       "Epochs:   0%|          | 0/5 [00:00<?, ?it/s]"
      ]
     },
     "metadata": {},
     "output_type": "display_data"
    },
    {
     "data": {
      "application/vnd.jupyter.widget-view+json": {
       "model_id": "63bafcef51c24972988124916cd0b966",
       "version_major": 2,
       "version_minor": 0
      },
      "text/plain": [
       "Downloading artifacts:   0%|          | 0/3 [00:00<?, ?it/s]"
      ]
     },
     "metadata": {},
     "output_type": "display_data"
    },
    {
     "data": {
      "application/vnd.jupyter.widget-view+json": {
       "model_id": "a57a42ce5ac745a4a8ffbf9020019a8f",
       "version_major": 2,
       "version_minor": 0
      },
      "text/plain": [
       "Models:   0%|          | 0/2 [00:00<?, ?it/s]"
      ]
     },
     "metadata": {},
     "output_type": "display_data"
    },
    {
     "data": {
      "application/vnd.jupyter.widget-view+json": {
       "model_id": "5c4e59f7b2424635906435da6c110ed3",
       "version_major": 2,
       "version_minor": 0
      },
      "text/plain": [
       "Epochs:   0%|          | 0/5 [00:00<?, ?it/s]"
      ]
     },
     "metadata": {},
     "output_type": "display_data"
    },
    {
     "data": {
      "application/vnd.jupyter.widget-view+json": {
       "model_id": "a1a353a8573b4127826fcbb9e75af52c",
       "version_major": 2,
       "version_minor": 0
      },
      "text/plain": [
       "Epochs:   0%|          | 0/5 [00:00<?, ?it/s]"
      ]
     },
     "metadata": {},
     "output_type": "display_data"
    },
    {
     "data": {
      "application/vnd.jupyter.widget-view+json": {
       "model_id": "ac9ba3c7ffe546489e2d143594003c27",
       "version_major": 2,
       "version_minor": 0
      },
      "text/plain": [
       "Downloading artifacts:   0%|          | 0/3 [00:00<?, ?it/s]"
      ]
     },
     "metadata": {},
     "output_type": "display_data"
    },
    {
     "data": {
      "application/vnd.jupyter.widget-view+json": {
       "model_id": "e5dc0eec0cf7482f8516e24f2fb74afc",
       "version_major": 2,
       "version_minor": 0
      },
      "text/plain": [
       "Models:   0%|          | 0/2 [00:00<?, ?it/s]"
      ]
     },
     "metadata": {},
     "output_type": "display_data"
    },
    {
     "data": {
      "application/vnd.jupyter.widget-view+json": {
       "model_id": "0d0b4ff203a3488bacad7c3215155046",
       "version_major": 2,
       "version_minor": 0
      },
      "text/plain": [
       "Epochs:   0%|          | 0/5 [00:00<?, ?it/s]"
      ]
     },
     "metadata": {},
     "output_type": "display_data"
    },
    {
     "data": {
      "application/vnd.jupyter.widget-view+json": {
       "model_id": "2c71883df4084dae9c18dd5a0ed92cab",
       "version_major": 2,
       "version_minor": 0
      },
      "text/plain": [
       "Epochs:   0%|          | 0/5 [00:00<?, ?it/s]"
      ]
     },
     "metadata": {},
     "output_type": "display_data"
    },
    {
     "data": {
      "application/vnd.jupyter.widget-view+json": {
       "model_id": "36d80c6cbb45470cb4b8f5c16d1fe648",
       "version_major": 2,
       "version_minor": 0
      },
      "text/plain": [
       "Downloading artifacts:   0%|          | 0/3 [00:00<?, ?it/s]"
      ]
     },
     "metadata": {},
     "output_type": "display_data"
    },
    {
     "data": {
      "application/vnd.jupyter.widget-view+json": {
       "model_id": "bc5f4a1d4a754e98ba5065e5be899014",
       "version_major": 2,
       "version_minor": 0
      },
      "text/plain": [
       "Models:   0%|          | 0/2 [00:00<?, ?it/s]"
      ]
     },
     "metadata": {},
     "output_type": "display_data"
    },
    {
     "data": {
      "application/vnd.jupyter.widget-view+json": {
       "model_id": "aaa2e1839e514331bc9e3d6b550a2c16",
       "version_major": 2,
       "version_minor": 0
      },
      "text/plain": [
       "Epochs:   0%|          | 0/5 [00:00<?, ?it/s]"
      ]
     },
     "metadata": {},
     "output_type": "display_data"
    },
    {
     "data": {
      "application/vnd.jupyter.widget-view+json": {
       "model_id": "1e3a3dfa8f2b4944b5278c7240b4a1fe",
       "version_major": 2,
       "version_minor": 0
      },
      "text/plain": [
       "Epochs:   0%|          | 0/5 [00:00<?, ?it/s]"
      ]
     },
     "metadata": {},
     "output_type": "display_data"
    },
    {
     "data": {
      "application/vnd.jupyter.widget-view+json": {
       "model_id": "c3092d09745e41d4815f1b65c72424d0",
       "version_major": 2,
       "version_minor": 0
      },
      "text/plain": [
       "Downloading artifacts:   0%|          | 0/3 [00:00<?, ?it/s]"
      ]
     },
     "metadata": {},
     "output_type": "display_data"
    },
    {
     "data": {
      "application/vnd.jupyter.widget-view+json": {
       "model_id": "d96f24c6686e411991b747be6454e7fa",
       "version_major": 2,
       "version_minor": 0
      },
      "text/plain": [
       "Models:   0%|          | 0/2 [00:00<?, ?it/s]"
      ]
     },
     "metadata": {},
     "output_type": "display_data"
    },
    {
     "data": {
      "application/vnd.jupyter.widget-view+json": {
       "model_id": "4ba0ef150c294e878f44320199ac62d6",
       "version_major": 2,
       "version_minor": 0
      },
      "text/plain": [
       "Epochs:   0%|          | 0/5 [00:00<?, ?it/s]"
      ]
     },
     "metadata": {},
     "output_type": "display_data"
    },
    {
     "data": {
      "application/vnd.jupyter.widget-view+json": {
       "model_id": "77070132355d4dc684b2997747f0fa79",
       "version_major": 2,
       "version_minor": 0
      },
      "text/plain": [
       "Epochs:   0%|          | 0/5 [00:00<?, ?it/s]"
      ]
     },
     "metadata": {},
     "output_type": "display_data"
    },
    {
     "data": {
      "application/vnd.jupyter.widget-view+json": {
       "model_id": "8584e368a3e84faebc1bad5ce2c607d9",
       "version_major": 2,
       "version_minor": 0
      },
      "text/plain": [
       "Downloading artifacts:   0%|          | 0/3 [00:00<?, ?it/s]"
      ]
     },
     "metadata": {},
     "output_type": "display_data"
    },
    {
     "data": {
      "application/vnd.jupyter.widget-view+json": {
       "model_id": "2381d9222bb441f586e6f8e13920ba70",
       "version_major": 2,
       "version_minor": 0
      },
      "text/plain": [
       "Models:   0%|          | 0/2 [00:00<?, ?it/s]"
      ]
     },
     "metadata": {},
     "output_type": "display_data"
    },
    {
     "data": {
      "application/vnd.jupyter.widget-view+json": {
       "model_id": "fa8f153a766a4deab5e8facd95f7b085",
       "version_major": 2,
       "version_minor": 0
      },
      "text/plain": [
       "Epochs:   0%|          | 0/5 [00:00<?, ?it/s]"
      ]
     },
     "metadata": {},
     "output_type": "display_data"
    },
    {
     "data": {
      "application/vnd.jupyter.widget-view+json": {
       "model_id": "f6a9ef6a7771435293957632eedd71b7",
       "version_major": 2,
       "version_minor": 0
      },
      "text/plain": [
       "Epochs:   0%|          | 0/5 [00:00<?, ?it/s]"
      ]
     },
     "metadata": {},
     "output_type": "display_data"
    },
    {
     "data": {
      "application/vnd.jupyter.widget-view+json": {
       "model_id": "19db1666d8d148b19457922bf091fb9e",
       "version_major": 2,
       "version_minor": 0
      },
      "text/plain": [
       "Downloading artifacts:   0%|          | 0/3 [00:00<?, ?it/s]"
      ]
     },
     "metadata": {},
     "output_type": "display_data"
    },
    {
     "data": {
      "application/vnd.jupyter.widget-view+json": {
       "model_id": "db35515995f4472897fc91c645a0e8de",
       "version_major": 2,
       "version_minor": 0
      },
      "text/plain": [
       "Models:   0%|          | 0/2 [00:00<?, ?it/s]"
      ]
     },
     "metadata": {},
     "output_type": "display_data"
    },
    {
     "data": {
      "application/vnd.jupyter.widget-view+json": {
       "model_id": "e688c599f36a4839a18ebc7d295cbe9f",
       "version_major": 2,
       "version_minor": 0
      },
      "text/plain": [
       "Epochs:   0%|          | 0/5 [00:00<?, ?it/s]"
      ]
     },
     "metadata": {},
     "output_type": "display_data"
    },
    {
     "data": {
      "application/vnd.jupyter.widget-view+json": {
       "model_id": "f351c63c484a45ed96d7dca8d86c413e",
       "version_major": 2,
       "version_minor": 0
      },
      "text/plain": [
       "Epochs:   0%|          | 0/5 [00:00<?, ?it/s]"
      ]
     },
     "metadata": {},
     "output_type": "display_data"
    },
    {
     "data": {
      "application/vnd.jupyter.widget-view+json": {
       "model_id": "d9e90777b0564cc7b88b7045bd2a66de",
       "version_major": 2,
       "version_minor": 0
      },
      "text/plain": [
       "Downloading artifacts:   0%|          | 0/3 [00:00<?, ?it/s]"
      ]
     },
     "metadata": {},
     "output_type": "display_data"
    },
    {
     "data": {
      "application/vnd.jupyter.widget-view+json": {
       "model_id": "b02572e7355b4443b3ef4a92c8bd5e2d",
       "version_major": 2,
       "version_minor": 0
      },
      "text/plain": [
       "Models:   0%|          | 0/2 [00:00<?, ?it/s]"
      ]
     },
     "metadata": {},
     "output_type": "display_data"
    },
    {
     "data": {
      "application/vnd.jupyter.widget-view+json": {
       "model_id": "b3dba38948f84496a5061f0ce3592b18",
       "version_major": 2,
       "version_minor": 0
      },
      "text/plain": [
       "Epochs:   0%|          | 0/5 [00:00<?, ?it/s]"
      ]
     },
     "metadata": {},
     "output_type": "display_data"
    },
    {
     "data": {
      "application/vnd.jupyter.widget-view+json": {
       "model_id": "3f013520ae3c4bb6835138656a451ba1",
       "version_major": 2,
       "version_minor": 0
      },
      "text/plain": [
       "Epochs:   0%|          | 0/5 [00:00<?, ?it/s]"
      ]
     },
     "metadata": {},
     "output_type": "display_data"
    },
    {
     "data": {
      "application/vnd.jupyter.widget-view+json": {
       "model_id": "1ffc3a7b33074f72a9210ad20e95de94",
       "version_major": 2,
       "version_minor": 0
      },
      "text/plain": [
       "Downloading artifacts:   0%|          | 0/3 [00:00<?, ?it/s]"
      ]
     },
     "metadata": {},
     "output_type": "display_data"
    },
    {
     "data": {
      "application/vnd.jupyter.widget-view+json": {
       "model_id": "751ec94b08f44656a90011e2d53af209",
       "version_major": 2,
       "version_minor": 0
      },
      "text/plain": [
       "Models:   0%|          | 0/2 [00:00<?, ?it/s]"
      ]
     },
     "metadata": {},
     "output_type": "display_data"
    },
    {
     "data": {
      "application/vnd.jupyter.widget-view+json": {
       "model_id": "d07caabdb24741fa8165e1ac6c921257",
       "version_major": 2,
       "version_minor": 0
      },
      "text/plain": [
       "Epochs:   0%|          | 0/5 [00:00<?, ?it/s]"
      ]
     },
     "metadata": {},
     "output_type": "display_data"
    },
    {
     "data": {
      "application/vnd.jupyter.widget-view+json": {
       "model_id": "1772d4fca9ab4697b67b251d9bc08c1c",
       "version_major": 2,
       "version_minor": 0
      },
      "text/plain": [
       "Epochs:   0%|          | 0/5 [00:00<?, ?it/s]"
      ]
     },
     "metadata": {},
     "output_type": "display_data"
    },
    {
     "data": {
      "application/vnd.jupyter.widget-view+json": {
       "model_id": "50c57e8ecbc84bbf989a02ed94dfd32b",
       "version_major": 2,
       "version_minor": 0
      },
      "text/plain": [
       "Downloading artifacts:   0%|          | 0/3 [00:00<?, ?it/s]"
      ]
     },
     "metadata": {},
     "output_type": "display_data"
    },
    {
     "data": {
      "application/vnd.jupyter.widget-view+json": {
       "model_id": "2815766e2ce24b17bc51acd53c972f3b",
       "version_major": 2,
       "version_minor": 0
      },
      "text/plain": [
       "Models:   0%|          | 0/2 [00:00<?, ?it/s]"
      ]
     },
     "metadata": {},
     "output_type": "display_data"
    },
    {
     "data": {
      "application/vnd.jupyter.widget-view+json": {
       "model_id": "71b683aa5d984a3d9f7d51be11472d5d",
       "version_major": 2,
       "version_minor": 0
      },
      "text/plain": [
       "Epochs:   0%|          | 0/5 [00:00<?, ?it/s]"
      ]
     },
     "metadata": {},
     "output_type": "display_data"
    },
    {
     "data": {
      "application/vnd.jupyter.widget-view+json": {
       "model_id": "a2e6e51c4f9b4a05a37227b97ad993ff",
       "version_major": 2,
       "version_minor": 0
      },
      "text/plain": [
       "Epochs:   0%|          | 0/5 [00:00<?, ?it/s]"
      ]
     },
     "metadata": {},
     "output_type": "display_data"
    },
    {
     "data": {
      "application/vnd.jupyter.widget-view+json": {
       "model_id": "9d4bdc00849c4bae964a1e9f6d40ad0d",
       "version_major": 2,
       "version_minor": 0
      },
      "text/plain": [
       "Downloading artifacts:   0%|          | 0/3 [00:00<?, ?it/s]"
      ]
     },
     "metadata": {},
     "output_type": "display_data"
    },
    {
     "data": {
      "application/vnd.jupyter.widget-view+json": {
       "model_id": "01bd18f0039d4256b4fe2797e4636876",
       "version_major": 2,
       "version_minor": 0
      },
      "text/plain": [
       "Models:   0%|          | 0/2 [00:00<?, ?it/s]"
      ]
     },
     "metadata": {},
     "output_type": "display_data"
    },
    {
     "data": {
      "application/vnd.jupyter.widget-view+json": {
       "model_id": "53470e62f9fa475fb86f8326940d1b62",
       "version_major": 2,
       "version_minor": 0
      },
      "text/plain": [
       "Epochs:   0%|          | 0/5 [00:00<?, ?it/s]"
      ]
     },
     "metadata": {},
     "output_type": "display_data"
    },
    {
     "data": {
      "application/vnd.jupyter.widget-view+json": {
       "model_id": "d55648345ea34b76a415e83227e42174",
       "version_major": 2,
       "version_minor": 0
      },
      "text/plain": [
       "Epochs:   0%|          | 0/5 [00:00<?, ?it/s]"
      ]
     },
     "metadata": {},
     "output_type": "display_data"
    },
    {
     "data": {
      "application/vnd.jupyter.widget-view+json": {
       "model_id": "ace321b6c2424c27a3d43c0f6675b5c4",
       "version_major": 2,
       "version_minor": 0
      },
      "text/plain": [
       "Downloading artifacts:   0%|          | 0/3 [00:00<?, ?it/s]"
      ]
     },
     "metadata": {},
     "output_type": "display_data"
    },
    {
     "data": {
      "application/vnd.jupyter.widget-view+json": {
       "model_id": "d36d2137625d49a9ae7c1d03686c8b79",
       "version_major": 2,
       "version_minor": 0
      },
      "text/plain": [
       "Models:   0%|          | 0/2 [00:00<?, ?it/s]"
      ]
     },
     "metadata": {},
     "output_type": "display_data"
    },
    {
     "data": {
      "application/vnd.jupyter.widget-view+json": {
       "model_id": "18630f35e7134c8b8214e22df9225f56",
       "version_major": 2,
       "version_minor": 0
      },
      "text/plain": [
       "Epochs:   0%|          | 0/5 [00:00<?, ?it/s]"
      ]
     },
     "metadata": {},
     "output_type": "display_data"
    },
    {
     "data": {
      "application/vnd.jupyter.widget-view+json": {
       "model_id": "fec05222b05b43eab6c669fcefb05e9d",
       "version_major": 2,
       "version_minor": 0
      },
      "text/plain": [
       "Epochs:   0%|          | 0/5 [00:00<?, ?it/s]"
      ]
     },
     "metadata": {},
     "output_type": "display_data"
    },
    {
     "data": {
      "application/vnd.jupyter.widget-view+json": {
       "model_id": "be102211c0834ba198d5f7e0c578d1c6",
       "version_major": 2,
       "version_minor": 0
      },
      "text/plain": [
       "Downloading artifacts:   0%|          | 0/3 [00:00<?, ?it/s]"
      ]
     },
     "metadata": {},
     "output_type": "display_data"
    },
    {
     "data": {
      "application/vnd.jupyter.widget-view+json": {
       "model_id": "ff607d4ef3bb4b0d9964cc291ab0a654",
       "version_major": 2,
       "version_minor": 0
      },
      "text/plain": [
       "Models:   0%|          | 0/2 [00:00<?, ?it/s]"
      ]
     },
     "metadata": {},
     "output_type": "display_data"
    },
    {
     "data": {
      "application/vnd.jupyter.widget-view+json": {
       "model_id": "fd3e4c77dd944d3e8d6931e46ec9c235",
       "version_major": 2,
       "version_minor": 0
      },
      "text/plain": [
       "Epochs:   0%|          | 0/5 [00:00<?, ?it/s]"
      ]
     },
     "metadata": {},
     "output_type": "display_data"
    },
    {
     "data": {
      "application/vnd.jupyter.widget-view+json": {
       "model_id": "eaa4d213101d42749425807d3090d3e1",
       "version_major": 2,
       "version_minor": 0
      },
      "text/plain": [
       "Epochs:   0%|          | 0/5 [00:00<?, ?it/s]"
      ]
     },
     "metadata": {},
     "output_type": "display_data"
    },
    {
     "data": {
      "application/vnd.jupyter.widget-view+json": {
       "model_id": "7b77f8e8802f4d1baa2a766d955b4978",
       "version_major": 2,
       "version_minor": 0
      },
      "text/plain": [
       "Downloading artifacts:   0%|          | 0/3 [00:00<?, ?it/s]"
      ]
     },
     "metadata": {},
     "output_type": "display_data"
    },
    {
     "data": {
      "application/vnd.jupyter.widget-view+json": {
       "model_id": "27bff6aca4784eeb81361b6da959c382",
       "version_major": 2,
       "version_minor": 0
      },
      "text/plain": [
       "Models:   0%|          | 0/2 [00:00<?, ?it/s]"
      ]
     },
     "metadata": {},
     "output_type": "display_data"
    },
    {
     "data": {
      "application/vnd.jupyter.widget-view+json": {
       "model_id": "a8f62edc293b4fc7bbe4a3363a51bd11",
       "version_major": 2,
       "version_minor": 0
      },
      "text/plain": [
       "Epochs:   0%|          | 0/5 [00:00<?, ?it/s]"
      ]
     },
     "metadata": {},
     "output_type": "display_data"
    },
    {
     "data": {
      "application/vnd.jupyter.widget-view+json": {
       "model_id": "670d36e357994751b447016eeb541072",
       "version_major": 2,
       "version_minor": 0
      },
      "text/plain": [
       "Epochs:   0%|          | 0/5 [00:00<?, ?it/s]"
      ]
     },
     "metadata": {},
     "output_type": "display_data"
    },
    {
     "data": {
      "application/vnd.jupyter.widget-view+json": {
       "model_id": "172f91b264b24ba68899ba651eefe2ec",
       "version_major": 2,
       "version_minor": 0
      },
      "text/plain": [
       "Downloading artifacts:   0%|          | 0/3 [00:00<?, ?it/s]"
      ]
     },
     "metadata": {},
     "output_type": "display_data"
    },
    {
     "data": {
      "application/vnd.jupyter.widget-view+json": {
       "model_id": "40f5038396a1499f9b29ad56845e1cf8",
       "version_major": 2,
       "version_minor": 0
      },
      "text/plain": [
       "Models:   0%|          | 0/2 [00:00<?, ?it/s]"
      ]
     },
     "metadata": {},
     "output_type": "display_data"
    },
    {
     "data": {
      "application/vnd.jupyter.widget-view+json": {
       "model_id": "2ecd581c87a84a428a69a995319ba7b1",
       "version_major": 2,
       "version_minor": 0
      },
      "text/plain": [
       "Epochs:   0%|          | 0/5 [00:00<?, ?it/s]"
      ]
     },
     "metadata": {},
     "output_type": "display_data"
    },
    {
     "data": {
      "application/vnd.jupyter.widget-view+json": {
       "model_id": "3484d3fe03194fb8bf3fbe2132861604",
       "version_major": 2,
       "version_minor": 0
      },
      "text/plain": [
       "Epochs:   0%|          | 0/5 [00:00<?, ?it/s]"
      ]
     },
     "metadata": {},
     "output_type": "display_data"
    },
    {
     "data": {
      "application/vnd.jupyter.widget-view+json": {
       "model_id": "111b3b444ae64aaea3341dad7b7c59ad",
       "version_major": 2,
       "version_minor": 0
      },
      "text/plain": [
       "Downloading artifacts:   0%|          | 0/3 [00:00<?, ?it/s]"
      ]
     },
     "metadata": {},
     "output_type": "display_data"
    },
    {
     "data": {
      "application/vnd.jupyter.widget-view+json": {
       "model_id": "099e6b00a2dd408c88044ed5b717efd0",
       "version_major": 2,
       "version_minor": 0
      },
      "text/plain": [
       "Models:   0%|          | 0/2 [00:00<?, ?it/s]"
      ]
     },
     "metadata": {},
     "output_type": "display_data"
    },
    {
     "data": {
      "application/vnd.jupyter.widget-view+json": {
       "model_id": "5c56b39bb7ce442eb9243f081d314de0",
       "version_major": 2,
       "version_minor": 0
      },
      "text/plain": [
       "Epochs:   0%|          | 0/5 [00:00<?, ?it/s]"
      ]
     },
     "metadata": {},
     "output_type": "display_data"
    },
    {
     "data": {
      "application/vnd.jupyter.widget-view+json": {
       "model_id": "d9ee300f992640e5bc3cec454027da05",
       "version_major": 2,
       "version_minor": 0
      },
      "text/plain": [
       "Epochs:   0%|          | 0/5 [00:00<?, ?it/s]"
      ]
     },
     "metadata": {},
     "output_type": "display_data"
    },
    {
     "data": {
      "application/vnd.jupyter.widget-view+json": {
       "model_id": "91df895f5b2c402cb37f0e2d35de75fa",
       "version_major": 2,
       "version_minor": 0
      },
      "text/plain": [
       "Downloading artifacts:   0%|          | 0/3 [00:00<?, ?it/s]"
      ]
     },
     "metadata": {},
     "output_type": "display_data"
    },
    {
     "data": {
      "application/vnd.jupyter.widget-view+json": {
       "model_id": "9d167d5a8a9e490e8035739025008260",
       "version_major": 2,
       "version_minor": 0
      },
      "text/plain": [
       "Models:   0%|          | 0/2 [00:00<?, ?it/s]"
      ]
     },
     "metadata": {},
     "output_type": "display_data"
    },
    {
     "data": {
      "application/vnd.jupyter.widget-view+json": {
       "model_id": "3ddbab3ac1c34531b57788b7407a5aa6",
       "version_major": 2,
       "version_minor": 0
      },
      "text/plain": [
       "Epochs:   0%|          | 0/5 [00:00<?, ?it/s]"
      ]
     },
     "metadata": {},
     "output_type": "display_data"
    },
    {
     "data": {
      "application/vnd.jupyter.widget-view+json": {
       "model_id": "ad66ae96d28f4041a7f902e888b6a549",
       "version_major": 2,
       "version_minor": 0
      },
      "text/plain": [
       "Epochs:   0%|          | 0/5 [00:00<?, ?it/s]"
      ]
     },
     "metadata": {},
     "output_type": "display_data"
    },
    {
     "data": {
      "application/vnd.jupyter.widget-view+json": {
       "model_id": "768036913fdd4c28aca5fa806fb889cb",
       "version_major": 2,
       "version_minor": 0
      },
      "text/plain": [
       "Downloading artifacts:   0%|          | 0/3 [00:00<?, ?it/s]"
      ]
     },
     "metadata": {},
     "output_type": "display_data"
    },
    {
     "data": {
      "application/vnd.jupyter.widget-view+json": {
       "model_id": "9358131bae2a4273b17f69b64c140437",
       "version_major": 2,
       "version_minor": 0
      },
      "text/plain": [
       "Models:   0%|          | 0/2 [00:00<?, ?it/s]"
      ]
     },
     "metadata": {},
     "output_type": "display_data"
    },
    {
     "data": {
      "application/vnd.jupyter.widget-view+json": {
       "model_id": "44041b2540d0438c8843d55971d1ff10",
       "version_major": 2,
       "version_minor": 0
      },
      "text/plain": [
       "Epochs:   0%|          | 0/5 [00:00<?, ?it/s]"
      ]
     },
     "metadata": {},
     "output_type": "display_data"
    },
    {
     "data": {
      "application/vnd.jupyter.widget-view+json": {
       "model_id": "249d1c116f0e498c9a043ffc05d16392",
       "version_major": 2,
       "version_minor": 0
      },
      "text/plain": [
       "Epochs:   0%|          | 0/5 [00:00<?, ?it/s]"
      ]
     },
     "metadata": {},
     "output_type": "display_data"
    },
    {
     "data": {
      "application/vnd.jupyter.widget-view+json": {
       "model_id": "066f19cbb2e84b6e9e766c3bf89f203a",
       "version_major": 2,
       "version_minor": 0
      },
      "text/plain": [
       "Downloading artifacts:   0%|          | 0/3 [00:00<?, ?it/s]"
      ]
     },
     "metadata": {},
     "output_type": "display_data"
    },
    {
     "data": {
      "application/vnd.jupyter.widget-view+json": {
       "model_id": "cf05e4284bd0437d80c8edf1feb44c4d",
       "version_major": 2,
       "version_minor": 0
      },
      "text/plain": [
       "Models:   0%|          | 0/2 [00:00<?, ?it/s]"
      ]
     },
     "metadata": {},
     "output_type": "display_data"
    },
    {
     "data": {
      "application/vnd.jupyter.widget-view+json": {
       "model_id": "0eb82043a8b2481082260c7121f9dbe2",
       "version_major": 2,
       "version_minor": 0
      },
      "text/plain": [
       "Epochs:   0%|          | 0/5 [00:00<?, ?it/s]"
      ]
     },
     "metadata": {},
     "output_type": "display_data"
    },
    {
     "data": {
      "application/vnd.jupyter.widget-view+json": {
       "model_id": "9e77fc23ea6e455ab027da1b3bdfd463",
       "version_major": 2,
       "version_minor": 0
      },
      "text/plain": [
       "Epochs:   0%|          | 0/5 [00:00<?, ?it/s]"
      ]
     },
     "metadata": {},
     "output_type": "display_data"
    },
    {
     "data": {
      "application/vnd.jupyter.widget-view+json": {
       "model_id": "e74ceaf6559a428ca036fd0da040945e",
       "version_major": 2,
       "version_minor": 0
      },
      "text/plain": [
       "Downloading artifacts:   0%|          | 0/3 [00:00<?, ?it/s]"
      ]
     },
     "metadata": {},
     "output_type": "display_data"
    },
    {
     "data": {
      "application/vnd.jupyter.widget-view+json": {
       "model_id": "4d1c726844b14a2e9fb9fc9842220c53",
       "version_major": 2,
       "version_minor": 0
      },
      "text/plain": [
       "Models:   0%|          | 0/2 [00:00<?, ?it/s]"
      ]
     },
     "metadata": {},
     "output_type": "display_data"
    },
    {
     "data": {
      "application/vnd.jupyter.widget-view+json": {
       "model_id": "73b468044e314ee89e73dd5a6207ad73",
       "version_major": 2,
       "version_minor": 0
      },
      "text/plain": [
       "Epochs:   0%|          | 0/5 [00:00<?, ?it/s]"
      ]
     },
     "metadata": {},
     "output_type": "display_data"
    },
    {
     "data": {
      "application/vnd.jupyter.widget-view+json": {
       "model_id": "0d165530ef1e40b6aeea6385c34886bb",
       "version_major": 2,
       "version_minor": 0
      },
      "text/plain": [
       "Epochs:   0%|          | 0/5 [00:00<?, ?it/s]"
      ]
     },
     "metadata": {},
     "output_type": "display_data"
    }
   ],
   "source": [
    "for id_ in runs:\n",
    "    upload_test_results(id_, test_loader, use_dark=True)"
   ]
  },
  {
   "cell_type": "markdown",
   "id": "c82e9175-6468-4224-8251-3b2cd7130e59",
   "metadata": {},
   "source": [
    "# Display Evaluation"
   ]
  },
  {
   "cell_type": "code",
   "execution_count": 5,
   "id": "7526ccdc-ed8b-4b24-94fc-a4035dca2bca",
   "metadata": {
    "scrolled": true
   },
   "outputs": [
    {
     "data": {
      "application/vnd.jupyter.widget-view+json": {
       "model_id": "7e94874d809b4c4db742beb6690cd843",
       "version_major": 2,
       "version_minor": 0
      },
      "text/plain": [
       "Downloading artifacts:   0%|          | 0/3 [00:00<?, ?it/s]"
      ]
     },
     "metadata": {},
     "output_type": "display_data"
    },
    {
     "data": {
      "application/vnd.jupyter.widget-view+json": {
       "model_id": "2d65f2853e3642b2a1c136f4437496ae",
       "version_major": 2,
       "version_minor": 0
      },
      "text/plain": [
       "Models:   0%|          | 0/2 [00:00<?, ?it/s]"
      ]
     },
     "metadata": {},
     "output_type": "display_data"
    },
    {
     "name": "stderr",
     "output_type": "stream",
     "text": [
      "/home/jfeil/.pyenv/versions/3.8.17/envs/DroneTracking/lib/python3.8/site-packages/torch/nn/_reduction.py:42: UserWarning: size_average and reduce args will be deprecated, please use reduction='mean' instead.\n",
      "  warnings.warn(warning.format(ret))\n"
     ]
    },
    {
     "data": {
      "application/vnd.jupyter.widget-view+json": {
       "model_id": "",
       "version_major": 2,
       "version_minor": 0
      },
      "text/plain": [
       "Epochs:   0%|          | 0/5 [00:00<?, ?it/s]"
      ]
     },
     "metadata": {},
     "output_type": "display_data"
    },
    {
     "name": "stderr",
     "output_type": "stream",
     "text": [
      "/home/jfeil/.pyenv/versions/3.8.17/envs/DroneTracking/lib/python3.8/site-packages/json_tricks/encoders.py:419: UserWarning: json-tricks: numpy scalar serialization is experimental and may work differently in future versions\n",
      "  warnings.warn('json-tricks: numpy scalar serialization is experimental and may work differently in future versions')\n"
     ]
    },
    {
     "data": {
      "application/vnd.jupyter.widget-view+json": {
       "model_id": "",
       "version_major": 2,
       "version_minor": 0
      },
      "text/plain": [
       "Epochs:   0%|          | 0/5 [00:00<?, ?it/s]"
      ]
     },
     "metadata": {},
     "output_type": "display_data"
    }
   ],
   "source": [
    "disp = DisplayResults('3e5cc8a513a14653a7e5ddcf8ed11f61', test_loader)\n"
   ]
  },
  {
   "cell_type": "code",
   "execution_count": 7,
   "id": "be8cb4aa-5ab3-42c0-a227-9cbbe9ced1c2",
   "metadata": {},
   "outputs": [
    {
     "data": {
      "application/vnd.jupyter.widget-view+json": {
       "model_id": "6b1999ca62544043991b10866f00a5af",
       "version_major": 2,
       "version_minor": 0
      },
      "image/png": "[encoded data removed]",
      "text/html": [
       "\n",
       "            <div style=\"display: inline-block;\">\n",
       "                <div class=\"jupyter-widgets widget-label\" style=\"text-align: center;\">\n",
       "                    Figure\n",
       "                </div>\n",
       "                <img src='data:image/png;base64,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' width=640.0/>\n",
       "            </div>\n",
       "        "
      ],
      "text/plain": [
       "Canvas(toolbar=Toolbar(toolitems=[('Home', 'Reset original view', 'home', 'home'), ('Back', 'Back to previous …"
      ]
     },
     "metadata": {},
     "output_type": "display_data"
    }
   ],
   "source": [
    "disp.display_fig()"
   ]
  },
  {
   "cell_type": "code",
   "execution_count": 8,
   "id": "253c93c2-0601-43c2-9809-429f62451e51",
   "metadata": {},
   "outputs": [
    {
     "data": {
      "application/vnd.jupyter.widget-view+json": {
       "model_id": "f93fccd7d59745dfb08420e4335f2f39",
       "version_major": 2,
       "version_minor": 0
      },
      "text/plain": [
       "HBox(children=(Button(description='Backward', style=ButtonStyle()), Text(value='0', description='Frame:'), But…"
      ]
     },
     "metadata": {},
     "output_type": "display_data"
    }
   ],
   "source": [
    "disp.display_buttons()"
   ]
  },
  {
   "cell_type": "code",
   "execution_count": 297,
   "id": "5eb31890-6608-4664-ab41-6947be1e8d28",
   "metadata": {},
   "outputs": [
    {
     "data": {
      "application/vnd.jupyter.widget-view+json": {
       "model_id": "11e304cc4a41483c8cfc54eeac57f7f9",
       "version_major": 2,
       "version_minor": 0
      },
      "text/plain": [
       "Downloading artifacts:   0%|          | 0/3 [00:00<?, ?it/s]"
      ]
     },
     "metadata": {},
     "output_type": "display_data"
    },
    {
     "data": {
      "application/vnd.jupyter.widget-view+json": {
       "model_id": "81902474385f4e98b4d370b3d24b7544",
       "version_major": 2,
       "version_minor": 0
      },
      "text/plain": [
       "Models:   0%|          | 0/2 [00:00<?, ?it/s]"
      ]
     },
     "metadata": {},
     "output_type": "display_data"
    },
    {
     "name": "stderr",
     "output_type": "stream",
     "text": [
      "/home/jfeil/.pyenv/versions/3.8.17/envs/DroneTracking/lib/python3.8/site-packages/torch/nn/_reduction.py:42: UserWarning: size_average and reduce args will be deprecated, please use reduction='mean' instead.\n",
      "  warnings.warn(warning.format(ret))\n"
     ]
    },
    {
     "data": {
      "application/vnd.jupyter.widget-view+json": {
       "model_id": "",
       "version_major": 2,
       "version_minor": 0
      },
      "text/plain": [
       "Epochs:   0%|          | 0/5 [00:00<?, ?it/s]"
      ]
     },
     "metadata": {},
     "output_type": "display_data"
    },
    {
     "data": {
      "application/vnd.jupyter.widget-view+json": {
       "model_id": "",
       "version_major": 2,
       "version_minor": 0
      },
      "text/plain": [
       "Epochs:   0%|          | 0/5 [00:00<?, ?it/s]"
      ]
     },
     "metadata": {},
     "output_type": "display_data"
    },
    {
     "data": {
      "application/vnd.jupyter.widget-view+json": {
       "model_id": "2eed23bf324f49518aba796fe25677af",
       "version_major": 2,
       "version_minor": 0
      },
      "image/png": "[encoded data removed]",
      "text/html": [
       "\n",
       "            <div style=\"display: inline-block;\">\n",
       "                <div class=\"jupyter-widgets widget-label\" style=\"text-align: center;\">\n",
       "                    Figure\n",
       "                </div>\n",
       "                <img src='data:image/png;base64,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' width=640.0/>\n",
       "            </div>\n",
       "        "
      ],
      "text/plain": [
       "Canvas(toolbar=Toolbar(toolitems=[('Home', 'Reset original view', 'home', 'home'), ('Back', 'Back to previous …"
      ]
     },
     "metadata": {},
     "output_type": "display_data"
    }
   ],
   "source": [
    "disp_dark = DisplayResults('a2791694d2fc4d7d8c7343209904c02f', test_loader, threshold=0.187, use_dark=True, weight_num=None)\n",
    "disp_dark.display_fig()\n",
    "self = disp_dark"
   ]
  },
  {
   "cell_type": "code",
   "execution_count": 337,
   "id": "9cbfb0c0-2916-4bc9-81f3-c5c57872cbb5",
   "metadata": {
    "scrolled": true
   },
   "outputs": [
    {
     "data": {
      "text/plain": [
       "array([[117, 129, 112, 130,  55],\n",
       "       [129, 117, 130,  81,   3]])"
      ]
     },
     "execution_count": 337,
     "metadata": {},
     "output_type": "execute_result"
    }
   ],
   "source": [
    "disp_dark.worst_images(5)"
   ]
  },
  {
   "cell_type": "code",
   "execution_count": 338,
   "id": "63a9d188-66dc-4003-87d7-905d42ac9daa",
   "metadata": {},
   "outputs": [
    {
     "data": {
      "text/plain": [
       "array([[7, 4, 5, 6, 3],\n",
       "       [5, 4, 6, 7, 3]])"
      ]
     },
     "execution_count": 338,
     "metadata": {},
     "output_type": "execute_result"
    }
   ],
   "source": [
    "disp_dark.worst_joint(5)"
   ]
  },
  {
   "cell_type": "code",
   "execution_count": 339,
   "id": "bc35feb8-ef12-4485-b556-6e18c10e9136",
   "metadata": {},
   "outputs": [
    {
     "data": {
      "application/vnd.jupyter.widget-view+json": {
       "model_id": "e1091e273560442e9c5b9b1ece8dd9fb",
       "version_major": 2,
       "version_minor": 0
      },
      "text/plain": [
       "HBox(children=(Button(description='Backward', style=ButtonStyle()), Text(value='0', description='Frame:'), But…"
      ]
     },
     "metadata": {},
     "output_type": "display_data"
    }
   ],
   "source": [
    "disp_dark.display_buttons()"
   ]
  },
  {
   "cell_type": "markdown",
   "id": "d2ca3613-9916-4d8d-b8d9-1169c2867740",
   "metadata": {},
   "source": [
    "# Data Evaluation"
   ]
  },
  {
   "cell_type": "code",
   "execution_count": 6,
   "id": "f6337e71-142a-4a59-adf6-e03c77ada67b",
   "metadata": {
    "ExecuteTime": {
     "end_time": "2024-01-31T12:15:53.854341747Z",
     "start_time": "2024-01-31T12:15:53.802682875Z"
    }
   },
   "outputs": [],
   "source": [
    "from matplotlib import pyplot as plt\n",
    "import numpy as np\n",
    "import cv2\n",
    "\n",
    "from core.inference import get_final_preds\n",
    "\n",
    "np.set_printoptions(suppress=True)"
   ]
  },
  {
   "cell_type": "code",
   "execution_count": 7,
   "id": "b58c57c3-5947-4561-a387-2ca325c48909",
   "metadata": {
    "ExecuteTime": {
     "end_time": "2024-01-31T12:15:54.563205764Z",
     "start_time": "2024-01-31T12:15:54.519778670Z"
    }
   },
   "outputs": [],
   "source": [
    "def evaluate_test(run_id, test_loader, temp_path='tmp'):\n",
    "    import glob\n",
    "    from tqdm.notebook import tqdm\n",
    "    \n",
    "    mlflow.artifacts.download_artifacts(run_id=run_id, dst_path=temp_path)\n",
    "    config_file = glob.glob(f\"{temp_path}/*.yaml\")\n",
    "    assert len(config_file) == 1\n",
    "    config_file = config_file[0]\n",
    "    \n",
    "    weight_paths = glob.glob(f\"{temp_path}/*.pth.tar\")\n",
    "    prefixes = [os.path.split(path)[1].replace('.pth.tar', '') for path in weight_paths]\n",
    "    results = []\n",
    "\n",
    "    for weight in tqdm(weight_paths, desc=\"Models\"):\n",
    "        upload_dict = {}\n",
    "        results = [eval_model(weight, test_loader)]\n",
    "    # shutil.rmtree(temp_path)\n",
    "    return prefixes, results\n"
   ]
  },
  {
   "cell_type": "code",
   "execution_count": 8,
   "id": "78cbafd3-dddd-4a2a-afbf-0ca6bacc59fc",
   "metadata": {
    "ExecuteTime": {
     "end_time": "2024-01-31T12:15:55.383971415Z",
     "start_time": "2024-01-31T12:15:55.321107298Z"
    }
   },
   "outputs": [],
   "source": [
    "def vis_heatmap(arr):\n",
    "    fig, axes = plt.subplots()\n",
    "    heatmap = np.zeros_like(arr[0])\n",
    "    for i in range(10):\n",
    "        # flatten_axes[i].imshow(test_dataset[analyzed_frame][1][i])\n",
    "        heatmap += arr[i]\n",
    "        print(arr[i].max())\n",
    "    heatmap[heatmap > 1] = 1\n",
    "    axes.imshow(heatmap)\n",
    "\n",
    "def calc_heat_score(sample, limb, coords_pred, visualize=False, debug=False):\n",
    "    if visualize:\n",
    "        plt.imshow(annotations[sample, limb])\n",
    "    x, y = coords_pred[sample, limb]\n",
    "    try:\n",
    "        if x > annotations[sample, limb].shape[1] or x < 0 or y < 0 or y > annotations[sample, limb].shape[0]:\n",
    "            return 0.0, 0.0\n",
    "        b1 = x - math.floor(x)\n",
    "        b2 = y - math.floor(y)\n",
    "        a1 = annotations[sample, limb][math.floor(y), math.floor(x)]\n",
    "        a2 = annotations[sample, limb][math.floor(y), math.ceil(x)]\n",
    "        a3 = annotations[sample, limb][math.ceil(y), math.floor(x)]\n",
    "        a4 = annotations[sample, limb][math.ceil(y), math.ceil(x)]\n",
    "    except:\n",
    "        debug = True\n",
    "    if debug:\n",
    "        print(f\"{sample}, {limb}\")\n",
    "        print(f\"x={x:.2f} y={y:.2f}\")\n",
    "        print(f\"b1={b1:.2f} b2={b2:.2f}\")\n",
    "        print(f\"{100*a1:.2f} {100*a2:.2f} {100*a3:.2f} {100*a4:.2f}\")\n",
    "        print(f\"{b1*b2} {(1-b1)*b2} {b1*(1-b2)} {(1-b1)*(1-b2)}\")\n",
    "    return (b1*b2 * a1 + (1-b1)*b2 * a2 + b1*(1-b2) * a3 + (1-b1)*(1-b2) * a4)\n",
    "\n",
    "def evaluate_sample(sample, coords_pred, maxvals_pred, limb_amount=10):\n",
    "    scores = np.zeros([limb_amount, 2])\n",
    "    for i in range(limb_amount):\n",
    "        score, pred_score = calc_heat_score(sample, i, coords_pred)\n",
    "        scores[i, 0] = score\n",
    "        scores[i, 1] = maxvals_pred[sample, i]\n",
    "    return scores\n",
    "\n",
    "# vis_heatmap(results[0][4][analyzed_frame])"
   ]
  },
  {
   "cell_type": "code",
   "execution_count": 9,
   "id": "0be5fe24-e7f8-4ed8-857b-e761d6163f02",
   "metadata": {
    "ExecuteTime": {
     "end_time": "2024-01-31T12:15:56.584089487Z",
     "start_time": "2024-01-31T12:15:56.488874490Z"
    }
   },
   "outputs": [],
   "source": [
    "import math\n",
    "\n",
    "import numpy as np\n",
    "import cv2\n",
    "\n",
    "from utils.transforms import transform_preds\n",
    "\n",
    "\n",
    "def get_max_preds(batch_heatmaps):\n",
    "    '''\n",
    "    get predictions from score maps\n",
    "    heatmaps: numpy.ndarray([batch_size, num_joints, height, width])\n",
    "    '''\n",
    "    assert isinstance(batch_heatmaps, np.ndarray), \\\n",
    "        'batch_heatmaps should be numpy.ndarray'\n",
    "    assert batch_heatmaps.ndim == 4, 'batch_images should be 4-ndim'\n",
    "\n",
    "    batch_size = batch_heatmaps.shape[0]\n",
    "    num_joints = batch_heatmaps.shape[1]\n",
    "    width = batch_heatmaps.shape[3]\n",
    "    heatmaps_reshaped = batch_heatmaps.reshape((batch_size, num_joints, -1))\n",
    "    idx = np.argmax(heatmaps_reshaped, 2)\n",
    "    maxvals = np.amax(heatmaps_reshaped, 2)\n",
    "\n",
    "    maxvals = maxvals.reshape((batch_size, num_joints, 1))\n",
    "    idx = idx.reshape((batch_size, num_joints, 1))\n",
    "\n",
    "    preds = np.tile(idx, (1, 1, 2)).astype(np.float32)\n",
    "\n",
    "    preds[:, :, 0] = (preds[:, :, 0]) % width\n",
    "    preds[:, :, 1] = np.floor((preds[:, :, 1]) / width)\n",
    "\n",
    "    pred_mask = np.tile(np.greater(maxvals, 0.0), (1, 1, 2))\n",
    "    pred_mask = pred_mask.astype(np.float32)\n",
    "\n",
    "    preds *= pred_mask\n",
    "    return preds, maxvals\n",
    "\n",
    "\n",
    "def taylor(hm, coord):\n",
    "    heatmap_height = hm.shape[0]\n",
    "    heatmap_width = hm.shape[1]\n",
    "    px = int(coord[0])\n",
    "    py = int(coord[1])\n",
    "    if 1 < px < heatmap_width-2 and 1 < py < heatmap_height-2:\n",
    "        dx  = 0.5 * (hm[py][px+1] - hm[py][px-1])\n",
    "        dy  = 0.5 * (hm[py+1][px] - hm[py-1][px])\n",
    "        dxx = 0.25 * (hm[py][px+2] - 2 * hm[py][px] + hm[py][px-2])\n",
    "        dxy = 0.25 * (hm[py+1][px+1] - hm[py-1][px+1] - hm[py+1][px-1] \\\n",
    "            + hm[py-1][px-1])\n",
    "        dyy = 0.25 * (hm[py+2*1][px] - 2 * hm[py][px] + hm[py-2*1][px])\n",
    "        derivative = np.matrix([[dx],[dy]])\n",
    "        hessian = np.matrix([[dxx,dxy],[dxy,dyy]])\n",
    "        if dxx * dyy - dxy ** 2 != 0:\n",
    "            hessianinv = hessian.I\n",
    "            offset = -hessianinv * derivative\n",
    "            offset = np.squeeze(np.array(offset.T), axis=0)\n",
    "            coord += offset\n",
    "    return coord\n",
    "\n",
    "\n",
    "def gaussian_blur(hm, kernel):\n",
    "    border = (kernel - 1) // 2\n",
    "    batch_size = hm.shape[0]\n",
    "    num_joints = hm.shape[1]\n",
    "    height = hm.shape[2]\n",
    "    width = hm.shape[3]\n",
    "    for i in range(batch_size):\n",
    "        for j in range(num_joints):\n",
    "            origin_max = np.max(hm[i,j])\n",
    "            dr = np.zeros((height + 2 * border, width + 2 * border))\n",
    "            dr[border: -border, border: -border] = hm[i,j].copy()\n",
    "            dr = cv2.GaussianBlur(dr, (kernel, kernel), 0)\n",
    "            hm[i,j] = dr[border: -border, border: -border].copy()\n",
    "            hm[i,j] *= origin_max / np.max(hm[i,j])\n",
    "    return hm\n",
    "\n",
    "\n",
    "def get_final_heatmaps(config, batch_heatmaps, center, scale, use_dark=False):\n",
    "    coords, maxvals = get_max_preds(batch_heatmaps)\n",
    "\n",
    "    heatmap_height = batch_heatmaps.shape[2]\n",
    "    heatmap_width = batch_heatmaps.shape[3]\n",
    "\n",
    "    if use_dark:\n",
    "        # post-processing\n",
    "        batch_heatmaps = gaussian_blur(batch_heatmaps, config.TEST.BLUR_KERNEL)\n",
    "        batch_heatmaps = np.maximum(batch_heatmaps, 1e-10)\n",
    "        batch_heatmaps = np.log(batch_heatmaps)\n",
    "        for n in range(coords.shape[0]):\n",
    "            for p in range(coords.shape[1]):\n",
    "                coords[n,p] = taylor(batch_heatmaps[n][p], coords[n][p])\n",
    "    else:\n",
    "        # post-processing\n",
    "        if config.TEST.POST_PROCESS:\n",
    "            for n in range(coords.shape[0]):\n",
    "                for p in range(coords.shape[1]):\n",
    "                    hm = batch_heatmaps[n][p]\n",
    "                    px = int(math.floor(coords[n][p][0] + 0.5))\n",
    "                    py = int(math.floor(coords[n][p][1] + 0.5))\n",
    "                    if 1 < px < heatmap_width-1 and 1 < py < heatmap_height-1:\n",
    "                        diff = np.array([hm[py][px+1] - hm[py][px-1],\n",
    "                                        hm[py+1][px]-hm[py-1][px]])\n",
    "                        coords[n][p] += np.sign(diff) * .25\n",
    "\n",
    "    return coords, maxvals\n",
    "\n",
    "    preds = coords.copy()\n",
    "\n",
    "    # Transform back\n",
    "    for i in range(coords.shape[0]):\n",
    "        preds[i] = transform_preds(coords[i], center[i], scale[i],\n",
    "                                   [heatmap_width, heatmap_height])\n",
    "\n",
    "    return preds, maxvals\n"
   ]
  },
  {
   "cell_type": "code",
   "execution_count": 274,
   "id": "e1d4738d-00e4-435e-8c45-268a5e1084e8",
   "metadata": {},
   "outputs": [
    {
     "data": {
      "application/vnd.jupyter.widget-view+json": {
       "model_id": "892e6e728bff47c0ab60f2aad057b53a",
       "version_major": 2,
       "version_minor": 0
      },
      "text/plain": [
       "Downloading artifacts:   0%|          | 0/3 [00:00<?, ?it/s]"
      ]
     },
     "metadata": {},
     "output_type": "display_data"
    },
    {
     "data": {
      "application/vnd.jupyter.widget-view+json": {
       "model_id": "b67b9fd4c8524da4a89df2b6f0fa0a86",
       "version_major": 2,
       "version_minor": 0
      },
      "text/plain": [
       "Models:   0%|          | 0/2 [00:00<?, ?it/s]"
      ]
     },
     "metadata": {},
     "output_type": "display_data"
    },
    {
     "data": {
      "application/vnd.jupyter.widget-view+json": {
       "model_id": "",
       "version_major": 2,
       "version_minor": 0
      },
      "text/plain": [
       "Epochs:   0%|          | 0/5 [00:00<?, ?it/s]"
      ]
     },
     "metadata": {},
     "output_type": "display_data"
    },
    {
     "data": {
      "application/vnd.jupyter.widget-view+json": {
       "model_id": "",
       "version_major": 2,
       "version_minor": 0
      },
      "text/plain": [
       "Epochs:   0%|          | 0/5 [00:00<?, ?it/s]"
      ]
     },
     "metadata": {},
     "output_type": "display_data"
    }
   ],
   "source": [
    "def analyze_run(run_id, test_loader, joints=joints, verbose=False):\n",
    "    prefix, results = evaluate_run(run_id, test_loader)\n",
    "\n",
    "    scores = np.zeros([len(results), len(annotations), 10, 2])\n",
    "\n",
    "    \n",
    "    for model_num in range(len(results)):\n",
    "        coords_pred, maxvals_pred = get_final_heatmaps(config, results[model_num][4], results[model_num][5], results[model_num][6], True)\n",
    "        for i in range(len(annotations)):\n",
    "            scores[model_num, i] = evaluate_sample(i, coords_pred, maxvals_pred)\n",
    "    \n",
    "    y_corr = (scores[:, :,:,0] > 0.25).astype(int)\n",
    "    probas_pred = scores[:, :,:,1]\n",
    "\n",
    "    if verbose:\n",
    "        for i in range(len(y_corr.sum(axis=1))):\n",
    "            print(f\"{i}: {y_corr.sum(axis=1)[i]}\")\n",
    "        for i, val in enumerate(joints):\n",
    "            print(f\"{val}: {y_corr.sum(axis=0)[i]}\")\n",
    "\n",
    "    return y_corr, probas_pred, scores, coords_pred, maxvals_pred, prefix, results\n",
    "\n",
    "c = analyze_run('a2791694d2fc4d7d8c7343209904c02f', test_loader)"
   ]
  },
  {
   "cell_type": "code",
   "execution_count": 283,
   "id": "b5c57a76-0004-4f6c-94f2-2ca30182a183",
   "metadata": {
    "scrolled": true
   },
   "outputs": [
    {
     "name": "stdout",
     "output_type": "stream",
     "text": [
      "[113 114 104 100  91  95  98  85 109 125]\n",
      "[7 4 5 6 3]\n",
      "[ 8  8  6  4  9  8  6  6  8  8 10  8  8  9  7  8  6 10 10  7  6 10 10  9\n",
      " 10 10  5  6  6  8  6  9  4  9  5 10  9  5  8  9 10  9  7  7 10  4 10  8\n",
      "  9  7  8  4  7 10  9  4  7  7  9  9  5  7 10 10 10  8  6  9  5  7  4  7\n",
      " 10  9  7  4 10 10  8  7  5  7  9  8 10  9  7  4 10  7 10  5  6  9  8  9\n",
      "  9 10 10  9 10  8  9 10  9  8  8  9  5 10  7  5  4  6 10  8  8  1 10 10\n",
      " 10  9 10  9  9 10 10  9  7  2  4  5  8]\n",
      "[117 129 112 130  55]\n"
     ]
    }
   ],
   "source": [
    "print(c[0][0].sum(axis=0))\n",
    "print(np.argsort(c[0][0].sum(axis=0))[:5])\n",
    "print(c[0][0].sum(axis=1))\n",
    "print(np.argsort(c[0][0].sum(axis=1))[:5])"
   ]
  },
  {
   "cell_type": "code",
   "execution_count": 51,
   "id": "10ed4e0a-08ce-4973-975a-f98b7a78a5a7",
   "metadata": {
    "scrolled": true
   },
   "outputs": [
    {
     "data": {
      "application/vnd.jupyter.widget-view+json": {
       "model_id": "d179f4556b85464c95855ca73b22c5fc",
       "version_major": 2,
       "version_minor": 0
      },
      "text/plain": [
       "  0%|          | 0/47 [00:00<?, ?it/s]"
      ]
     },
     "metadata": {},
     "output_type": "display_data"
    },
    {
     "data": {
      "application/vnd.jupyter.widget-view+json": {
       "model_id": "226b32cac82d465aa251931dbc2f2d6a",
       "version_major": 2,
       "version_minor": 0
      },
      "text/plain": [
       "Downloading artifacts:   0%|          | 0/3 [00:00<?, ?it/s]"
      ]
     },
     "metadata": {},
     "output_type": "display_data"
    },
    {
     "data": {
      "application/vnd.jupyter.widget-view+json": {
       "model_id": "dcce6f5c1021484fa6ea5018a57a794e",
       "version_major": 2,
       "version_minor": 0
      },
      "text/plain": [
       "Models:   0%|          | 0/2 [00:00<?, ?it/s]"
      ]
     },
     "metadata": {},
     "output_type": "display_data"
    },
    {
     "name": "stderr",
     "output_type": "stream",
     "text": [
      "/home/jfeil/.pyenv/versions/3.8.17/envs/DroneTracking/lib/python3.8/site-packages/torch/nn/_reduction.py:42: UserWarning: size_average and reduce args will be deprecated, please use reduction='mean' instead.\n",
      "  warnings.warn(warning.format(ret))\n"
     ]
    },
    {
     "data": {
      "application/vnd.jupyter.widget-view+json": {
       "model_id": "",
       "version_major": 2,
       "version_minor": 0
      },
      "text/plain": [
       "Epochs:   0%|          | 0/5 [00:00<?, ?it/s]"
      ]
     },
     "metadata": {},
     "output_type": "display_data"
    },
    {
     "data": {
      "application/vnd.jupyter.widget-view+json": {
       "model_id": "",
       "version_major": 2,
       "version_minor": 0
      },
      "text/plain": [
       "Epochs:   0%|          | 0/5 [00:00<?, ?it/s]"
      ]
     },
     "metadata": {},
     "output_type": "display_data"
    },
    {
     "data": {
      "application/vnd.jupyter.widget-view+json": {
       "model_id": "63dd07b853f0429897faccd4db9b135d",
       "version_major": 2,
       "version_minor": 0
      },
      "text/plain": [
       "Downloading artifacts:   0%|          | 0/3 [00:00<?, ?it/s]"
      ]
     },
     "metadata": {},
     "output_type": "display_data"
    },
    {
     "data": {
      "application/vnd.jupyter.widget-view+json": {
       "model_id": "c4ecd39f47e14b7392f35a530deea71b",
       "version_major": 2,
       "version_minor": 0
      },
      "text/plain": [
       "Models:   0%|          | 0/2 [00:00<?, ?it/s]"
      ]
     },
     "metadata": {},
     "output_type": "display_data"
    },
    {
     "name": "stderr",
     "output_type": "stream",
     "text": [
      "/home/jfeil/.pyenv/versions/3.8.17/envs/DroneTracking/lib/python3.8/site-packages/torch/nn/_reduction.py:42: UserWarning: size_average and reduce args will be deprecated, please use reduction='mean' instead.\n",
      "  warnings.warn(warning.format(ret))\n"
     ]
    },
    {
     "data": {
      "application/vnd.jupyter.widget-view+json": {
       "model_id": "",
       "version_major": 2,
       "version_minor": 0
      },
      "text/plain": [
       "Epochs:   0%|          | 0/5 [00:00<?, ?it/s]"
      ]
     },
     "metadata": {},
     "output_type": "display_data"
    },
    {
     "data": {
      "application/vnd.jupyter.widget-view+json": {
       "model_id": "",
       "version_major": 2,
       "version_minor": 0
      },
      "text/plain": [
       "Epochs:   0%|          | 0/5 [00:00<?, ?it/s]"
      ]
     },
     "metadata": {},
     "output_type": "display_data"
    },
    {
     "data": {
      "application/vnd.jupyter.widget-view+json": {
       "model_id": "d8960bbd415e485fa08a1c0615794dd5",
       "version_major": 2,
       "version_minor": 0
      },
      "text/plain": [
       "Downloading artifacts:   0%|          | 0/3 [00:00<?, ?it/s]"
      ]
     },
     "metadata": {},
     "output_type": "display_data"
    },
    {
     "data": {
      "application/vnd.jupyter.widget-view+json": {
       "model_id": "c44496f7fabf4efe8fc3234726da7e84",
       "version_major": 2,
       "version_minor": 0
      },
      "text/plain": [
       "Models:   0%|          | 0/2 [00:00<?, ?it/s]"
      ]
     },
     "metadata": {},
     "output_type": "display_data"
    },
    {
     "name": "stderr",
     "output_type": "stream",
     "text": [
      "/home/jfeil/.pyenv/versions/3.8.17/envs/DroneTracking/lib/python3.8/site-packages/torch/nn/_reduction.py:42: UserWarning: size_average and reduce args will be deprecated, please use reduction='mean' instead.\n",
      "  warnings.warn(warning.format(ret))\n"
     ]
    },
    {
     "data": {
      "application/vnd.jupyter.widget-view+json": {
       "model_id": "",
       "version_major": 2,
       "version_minor": 0
      },
      "text/plain": [
       "Epochs:   0%|          | 0/5 [00:00<?, ?it/s]"
      ]
     },
     "metadata": {},
     "output_type": "display_data"
    },
    {
     "data": {
      "application/vnd.jupyter.widget-view+json": {
       "model_id": "",
       "version_major": 2,
       "version_minor": 0
      },
      "text/plain": [
       "Epochs:   0%|          | 0/5 [00:00<?, ?it/s]"
      ]
     },
     "metadata": {},
     "output_type": "display_data"
    },
    {
     "data": {
      "application/vnd.jupyter.widget-view+json": {
       "model_id": "e98b0a5f16494aedb57c9d0492a7dc49",
       "version_major": 2,
       "version_minor": 0
      },
      "text/plain": [
       "Downloading artifacts:   0%|          | 0/3 [00:00<?, ?it/s]"
      ]
     },
     "metadata": {},
     "output_type": "display_data"
    },
    {
     "data": {
      "application/vnd.jupyter.widget-view+json": {
       "model_id": "500639d682a844ca8cf576ccdaa7d0c3",
       "version_major": 2,
       "version_minor": 0
      },
      "text/plain": [
       "Models:   0%|          | 0/2 [00:00<?, ?it/s]"
      ]
     },
     "metadata": {},
     "output_type": "display_data"
    },
    {
     "name": "stderr",
     "output_type": "stream",
     "text": [
      "/home/jfeil/.pyenv/versions/3.8.17/envs/DroneTracking/lib/python3.8/site-packages/torch/nn/_reduction.py:42: UserWarning: size_average and reduce args will be deprecated, please use reduction='mean' instead.\n",
      "  warnings.warn(warning.format(ret))\n"
     ]
    },
    {
     "data": {
      "application/vnd.jupyter.widget-view+json": {
       "model_id": "",
       "version_major": 2,
       "version_minor": 0
      },
      "text/plain": [
       "Epochs:   0%|          | 0/5 [00:00<?, ?it/s]"
      ]
     },
     "metadata": {},
     "output_type": "display_data"
    },
    {
     "data": {
      "application/vnd.jupyter.widget-view+json": {
       "model_id": "",
       "version_major": 2,
       "version_minor": 0
      },
      "text/plain": [
       "Epochs:   0%|          | 0/5 [00:00<?, ?it/s]"
      ]
     },
     "metadata": {},
     "output_type": "display_data"
    },
    {
     "data": {
      "application/vnd.jupyter.widget-view+json": {
       "model_id": "14ce66aae38148f28f27576fdae41208",
       "version_major": 2,
       "version_minor": 0
      },
      "text/plain": [
       "Downloading artifacts:   0%|          | 0/3 [00:00<?, ?it/s]"
      ]
     },
     "metadata": {},
     "output_type": "display_data"
    },
    {
     "data": {
      "application/vnd.jupyter.widget-view+json": {
       "model_id": "53eb401a27b040d0b11ca25a61f28220",
       "version_major": 2,
       "version_minor": 0
      },
      "text/plain": [
       "Models:   0%|          | 0/2 [00:00<?, ?it/s]"
      ]
     },
     "metadata": {},
     "output_type": "display_data"
    },
    {
     "name": "stderr",
     "output_type": "stream",
     "text": [
      "/home/jfeil/.pyenv/versions/3.8.17/envs/DroneTracking/lib/python3.8/site-packages/torch/nn/_reduction.py:42: UserWarning: size_average and reduce args will be deprecated, please use reduction='mean' instead.\n",
      "  warnings.warn(warning.format(ret))\n"
     ]
    },
    {
     "data": {
      "application/vnd.jupyter.widget-view+json": {
       "model_id": "",
       "version_major": 2,
       "version_minor": 0
      },
      "text/plain": [
       "Epochs:   0%|          | 0/5 [00:00<?, ?it/s]"
      ]
     },
     "metadata": {},
     "output_type": "display_data"
    },
    {
     "data": {
      "application/vnd.jupyter.widget-view+json": {
       "model_id": "",
       "version_major": 2,
       "version_minor": 0
      },
      "text/plain": [
       "Epochs:   0%|          | 0/5 [00:00<?, ?it/s]"
      ]
     },
     "metadata": {},
     "output_type": "display_data"
    },
    {
     "data": {
      "application/vnd.jupyter.widget-view+json": {
       "model_id": "d57cb44c158248eea16ad5d798e3a55a",
       "version_major": 2,
       "version_minor": 0
      },
      "text/plain": [
       "Downloading artifacts:   0%|          | 0/3 [00:00<?, ?it/s]"
      ]
     },
     "metadata": {},
     "output_type": "display_data"
    },
    {
     "data": {
      "application/vnd.jupyter.widget-view+json": {
       "model_id": "64842545e3f4474f86881de5ce23c001",
       "version_major": 2,
       "version_minor": 0
      },
      "text/plain": [
       "Models:   0%|          | 0/2 [00:00<?, ?it/s]"
      ]
     },
     "metadata": {},
     "output_type": "display_data"
    },
    {
     "name": "stderr",
     "output_type": "stream",
     "text": [
      "/home/jfeil/.pyenv/versions/3.8.17/envs/DroneTracking/lib/python3.8/site-packages/torch/nn/_reduction.py:42: UserWarning: size_average and reduce args will be deprecated, please use reduction='mean' instead.\n",
      "  warnings.warn(warning.format(ret))\n"
     ]
    },
    {
     "data": {
      "application/vnd.jupyter.widget-view+json": {
       "model_id": "",
       "version_major": 2,
       "version_minor": 0
      },
      "text/plain": [
       "Epochs:   0%|          | 0/5 [00:00<?, ?it/s]"
      ]
     },
     "metadata": {},
     "output_type": "display_data"
    },
    {
     "data": {
      "application/vnd.jupyter.widget-view+json": {
       "model_id": "",
       "version_major": 2,
       "version_minor": 0
      },
      "text/plain": [
       "Epochs:   0%|          | 0/5 [00:00<?, ?it/s]"
      ]
     },
     "metadata": {},
     "output_type": "display_data"
    },
    {
     "data": {
      "application/vnd.jupyter.widget-view+json": {
       "model_id": "4208567e59aa489aba35673833ceb068",
       "version_major": 2,
       "version_minor": 0
      },
      "text/plain": [
       "Downloading artifacts:   0%|          | 0/3 [00:00<?, ?it/s]"
      ]
     },
     "metadata": {},
     "output_type": "display_data"
    },
    {
     "data": {
      "application/vnd.jupyter.widget-view+json": {
       "model_id": "ae013d7e278d49f0a95b29bae424b499",
       "version_major": 2,
       "version_minor": 0
      },
      "text/plain": [
       "Models:   0%|          | 0/2 [00:00<?, ?it/s]"
      ]
     },
     "metadata": {},
     "output_type": "display_data"
    },
    {
     "name": "stderr",
     "output_type": "stream",
     "text": [
      "/home/jfeil/.pyenv/versions/3.8.17/envs/DroneTracking/lib/python3.8/site-packages/torch/nn/_reduction.py:42: UserWarning: size_average and reduce args will be deprecated, please use reduction='mean' instead.\n",
      "  warnings.warn(warning.format(ret))\n"
     ]
    },
    {
     "data": {
      "application/vnd.jupyter.widget-view+json": {
       "model_id": "",
       "version_major": 2,
       "version_minor": 0
      },
      "text/plain": [
       "Epochs:   0%|          | 0/5 [00:00<?, ?it/s]"
      ]
     },
     "metadata": {},
     "output_type": "display_data"
    },
    {
     "data": {
      "application/vnd.jupyter.widget-view+json": {
       "model_id": "",
       "version_major": 2,
       "version_minor": 0
      },
      "text/plain": [
       "Epochs:   0%|          | 0/5 [00:00<?, ?it/s]"
      ]
     },
     "metadata": {},
     "output_type": "display_data"
    },
    {
     "data": {
      "application/vnd.jupyter.widget-view+json": {
       "model_id": "0183189d5385418985ba36f97aa4b243",
       "version_major": 2,
       "version_minor": 0
      },
      "text/plain": [
       "Downloading artifacts:   0%|          | 0/2 [00:00<?, ?it/s]"
      ]
     },
     "metadata": {},
     "output_type": "display_data"
    },
    {
     "data": {
      "application/vnd.jupyter.widget-view+json": {
       "model_id": "90b8978495544372934c7065358783c0",
       "version_major": 2,
       "version_minor": 0
      },
      "text/plain": [
       "Models:   0%|          | 0/1 [00:00<?, ?it/s]"
      ]
     },
     "metadata": {},
     "output_type": "display_data"
    },
    {
     "name": "stderr",
     "output_type": "stream",
     "text": [
      "/home/jfeil/.pyenv/versions/3.8.17/envs/DroneTracking/lib/python3.8/site-packages/torch/nn/_reduction.py:42: UserWarning: size_average and reduce args will be deprecated, please use reduction='mean' instead.\n",
      "  warnings.warn(warning.format(ret))\n"
     ]
    },
    {
     "data": {
      "application/vnd.jupyter.widget-view+json": {
       "model_id": "",
       "version_major": 2,
       "version_minor": 0
      },
      "text/plain": [
       "Epochs:   0%|          | 0/5 [00:00<?, ?it/s]"
      ]
     },
     "metadata": {},
     "output_type": "display_data"
    },
    {
     "data": {
      "application/vnd.jupyter.widget-view+json": {
       "model_id": "857a3b238b624a5980f80d71b7655c5a",
       "version_major": 2,
       "version_minor": 0
      },
      "text/plain": [
       "Downloading artifacts:   0%|          | 0/3 [00:00<?, ?it/s]"
      ]
     },
     "metadata": {},
     "output_type": "display_data"
    },
    {
     "data": {
      "application/vnd.jupyter.widget-view+json": {
       "model_id": "9af3cc18fdab47a3a0001b2f250d2892",
       "version_major": 2,
       "version_minor": 0
      },
      "text/plain": [
       "Models:   0%|          | 0/2 [00:00<?, ?it/s]"
      ]
     },
     "metadata": {},
     "output_type": "display_data"
    },
    {
     "name": "stderr",
     "output_type": "stream",
     "text": [
      "/home/jfeil/.pyenv/versions/3.8.17/envs/DroneTracking/lib/python3.8/site-packages/torch/nn/_reduction.py:42: UserWarning: size_average and reduce args will be deprecated, please use reduction='mean' instead.\n",
      "  warnings.warn(warning.format(ret))\n"
     ]
    },
    {
     "data": {
      "application/vnd.jupyter.widget-view+json": {
       "model_id": "",
       "version_major": 2,
       "version_minor": 0
      },
      "text/plain": [
       "Epochs:   0%|          | 0/5 [00:00<?, ?it/s]"
      ]
     },
     "metadata": {},
     "output_type": "display_data"
    },
    {
     "data": {
      "application/vnd.jupyter.widget-view+json": {
       "model_id": "",
       "version_major": 2,
       "version_minor": 0
      },
      "text/plain": [
       "Epochs:   0%|          | 0/5 [00:00<?, ?it/s]"
      ]
     },
     "metadata": {},
     "output_type": "display_data"
    },
    {
     "data": {
      "application/vnd.jupyter.widget-view+json": {
       "model_id": "73be1fff98404ea6a19ed7e1d8c03b76",
       "version_major": 2,
       "version_minor": 0
      },
      "text/plain": [
       "Downloading artifacts:   0%|          | 0/3 [00:00<?, ?it/s]"
      ]
     },
     "metadata": {},
     "output_type": "display_data"
    },
    {
     "data": {
      "application/vnd.jupyter.widget-view+json": {
       "model_id": "39ae0d9083c243758509410c5f46ce59",
       "version_major": 2,
       "version_minor": 0
      },
      "text/plain": [
       "Models:   0%|          | 0/2 [00:00<?, ?it/s]"
      ]
     },
     "metadata": {},
     "output_type": "display_data"
    },
    {
     "name": "stderr",
     "output_type": "stream",
     "text": [
      "/home/jfeil/.pyenv/versions/3.8.17/envs/DroneTracking/lib/python3.8/site-packages/torch/nn/_reduction.py:42: UserWarning: size_average and reduce args will be deprecated, please use reduction='mean' instead.\n",
      "  warnings.warn(warning.format(ret))\n"
     ]
    },
    {
     "data": {
      "application/vnd.jupyter.widget-view+json": {
       "model_id": "",
       "version_major": 2,
       "version_minor": 0
      },
      "text/plain": [
       "Epochs:   0%|          | 0/5 [00:00<?, ?it/s]"
      ]
     },
     "metadata": {},
     "output_type": "display_data"
    },
    {
     "data": {
      "application/vnd.jupyter.widget-view+json": {
       "model_id": "",
       "version_major": 2,
       "version_minor": 0
      },
      "text/plain": [
       "Epochs:   0%|          | 0/5 [00:00<?, ?it/s]"
      ]
     },
     "metadata": {},
     "output_type": "display_data"
    },
    {
     "data": {
      "application/vnd.jupyter.widget-view+json": {
       "model_id": "57ad3f32119b4fa0b64e649367c5bd68",
       "version_major": 2,
       "version_minor": 0
      },
      "text/plain": [
       "Downloading artifacts:   0%|          | 0/3 [00:00<?, ?it/s]"
      ]
     },
     "metadata": {},
     "output_type": "display_data"
    },
    {
     "data": {
      "application/vnd.jupyter.widget-view+json": {
       "model_id": "3beb923b9a06404abb677f587aa42390",
       "version_major": 2,
       "version_minor": 0
      },
      "text/plain": [
       "Models:   0%|          | 0/2 [00:00<?, ?it/s]"
      ]
     },
     "metadata": {},
     "output_type": "display_data"
    },
    {
     "name": "stderr",
     "output_type": "stream",
     "text": [
      "/home/jfeil/.pyenv/versions/3.8.17/envs/DroneTracking/lib/python3.8/site-packages/torch/nn/_reduction.py:42: UserWarning: size_average and reduce args will be deprecated, please use reduction='mean' instead.\n",
      "  warnings.warn(warning.format(ret))\n"
     ]
    },
    {
     "data": {
      "application/vnd.jupyter.widget-view+json": {
       "model_id": "4444c6d23f1847df91feaa9783a12006",
       "version_major": 2,
       "version_minor": 0
      },
      "text/plain": [
       "Epochs:   0%|          | 0/5 [00:00<?, ?it/s]"
      ]
     },
     "metadata": {},
     "output_type": "display_data"
    },
    {
     "data": {
      "application/vnd.jupyter.widget-view+json": {
       "model_id": "61cbf6ff82cb4c79b2d7922cad60d597",
       "version_major": 2,
       "version_minor": 0
      },
      "text/plain": [
       "Epochs:   0%|          | 0/5 [00:00<?, ?it/s]"
      ]
     },
     "metadata": {},
     "output_type": "display_data"
    },
    {
     "data": {
      "application/vnd.jupyter.widget-view+json": {
       "model_id": "986333aea20f4b718ba6dba1f73d4bd3",
       "version_major": 2,
       "version_minor": 0
      },
      "text/plain": [
       "Downloading artifacts:   0%|          | 0/3 [00:00<?, ?it/s]"
      ]
     },
     "metadata": {},
     "output_type": "display_data"
    },
    {
     "data": {
      "application/vnd.jupyter.widget-view+json": {
       "model_id": "262780bcd3ac46f4848667b46e6e336e",
       "version_major": 2,
       "version_minor": 0
      },
      "text/plain": [
       "Models:   0%|          | 0/2 [00:00<?, ?it/s]"
      ]
     },
     "metadata": {},
     "output_type": "display_data"
    },
    {
     "name": "stderr",
     "output_type": "stream",
     "text": [
      "/home/jfeil/.pyenv/versions/3.8.17/envs/DroneTracking/lib/python3.8/site-packages/torch/nn/_reduction.py:42: UserWarning: size_average and reduce args will be deprecated, please use reduction='mean' instead.\n",
      "  warnings.warn(warning.format(ret))\n"
     ]
    },
    {
     "data": {
      "application/vnd.jupyter.widget-view+json": {
       "model_id": "2ee6a86ece724ae688a4299c7af538d7",
       "version_major": 2,
       "version_minor": 0
      },
      "text/plain": [
       "Epochs:   0%|          | 0/5 [00:00<?, ?it/s]"
      ]
     },
     "metadata": {},
     "output_type": "display_data"
    },
    {
     "data": {
      "application/vnd.jupyter.widget-view+json": {
       "model_id": "2a17fafc01024ed6a7510b3de53192f9",
       "version_major": 2,
       "version_minor": 0
      },
      "text/plain": [
       "Epochs:   0%|          | 0/5 [00:00<?, ?it/s]"
      ]
     },
     "metadata": {},
     "output_type": "display_data"
    },
    {
     "data": {
      "application/vnd.jupyter.widget-view+json": {
       "model_id": "d8397f5b21074c8d92ca8afda22e0585",
       "version_major": 2,
       "version_minor": 0
      },
      "text/plain": [
       "Downloading artifacts:   0%|          | 0/2 [00:00<?, ?it/s]"
      ]
     },
     "metadata": {},
     "output_type": "display_data"
    },
    {
     "data": {
      "application/vnd.jupyter.widget-view+json": {
       "model_id": "0c27bbb2bd7743618717e1b573a1d169",
       "version_major": 2,
       "version_minor": 0
      },
      "text/plain": [
       "Models:   0%|          | 0/1 [00:00<?, ?it/s]"
      ]
     },
     "metadata": {},
     "output_type": "display_data"
    },
    {
     "name": "stderr",
     "output_type": "stream",
     "text": [
      "/home/jfeil/.pyenv/versions/3.8.17/envs/DroneTracking/lib/python3.8/site-packages/torch/nn/_reduction.py:42: UserWarning: size_average and reduce args will be deprecated, please use reduction='mean' instead.\n",
      "  warnings.warn(warning.format(ret))\n"
     ]
    },
    {
     "data": {
      "application/vnd.jupyter.widget-view+json": {
       "model_id": "26a311fc0fb54172848919ebabd61a5b",
       "version_major": 2,
       "version_minor": 0
      },
      "text/plain": [
       "Epochs:   0%|          | 0/5 [00:00<?, ?it/s]"
      ]
     },
     "metadata": {},
     "output_type": "display_data"
    },
    {
     "data": {
      "application/vnd.jupyter.widget-view+json": {
       "model_id": "b6e1b71a80a244fbb0d582475bb0542a",
       "version_major": 2,
       "version_minor": 0
      },
      "text/plain": [
       "Downloading artifacts:   0%|          | 0/3 [00:00<?, ?it/s]"
      ]
     },
     "metadata": {},
     "output_type": "display_data"
    },
    {
     "data": {
      "application/vnd.jupyter.widget-view+json": {
       "model_id": "c8f348fa7e364ecaaa0d9ab68e3c221a",
       "version_major": 2,
       "version_minor": 0
      },
      "text/plain": [
       "Models:   0%|          | 0/2 [00:00<?, ?it/s]"
      ]
     },
     "metadata": {},
     "output_type": "display_data"
    },
    {
     "name": "stderr",
     "output_type": "stream",
     "text": [
      "/home/jfeil/.pyenv/versions/3.8.17/envs/DroneTracking/lib/python3.8/site-packages/torch/nn/_reduction.py:42: UserWarning: size_average and reduce args will be deprecated, please use reduction='mean' instead.\n",
      "  warnings.warn(warning.format(ret))\n"
     ]
    },
    {
     "data": {
      "application/vnd.jupyter.widget-view+json": {
       "model_id": "1f18c41890864ef5aa318618bbe4c066",
       "version_major": 2,
       "version_minor": 0
      },
      "text/plain": [
       "Epochs:   0%|          | 0/5 [00:00<?, ?it/s]"
      ]
     },
     "metadata": {},
     "output_type": "display_data"
    },
    {
     "data": {
      "application/vnd.jupyter.widget-view+json": {
       "model_id": "c9ba10eabd254fa4b91776c56e5dae9c",
       "version_major": 2,
       "version_minor": 0
      },
      "text/plain": [
       "Epochs:   0%|          | 0/5 [00:00<?, ?it/s]"
      ]
     },
     "metadata": {},
     "output_type": "display_data"
    },
    {
     "data": {
      "application/vnd.jupyter.widget-view+json": {
       "model_id": "d649df452210436a8a5e43e6f5eb362f",
       "version_major": 2,
       "version_minor": 0
      },
      "text/plain": [
       "Downloading artifacts:   0%|          | 0/3 [00:00<?, ?it/s]"
      ]
     },
     "metadata": {},
     "output_type": "display_data"
    },
    {
     "data": {
      "application/vnd.jupyter.widget-view+json": {
       "model_id": "39980c80fd4c48e486d1c73dcca6d597",
       "version_major": 2,
       "version_minor": 0
      },
      "text/plain": [
       "Models:   0%|          | 0/2 [00:00<?, ?it/s]"
      ]
     },
     "metadata": {},
     "output_type": "display_data"
    },
    {
     "name": "stderr",
     "output_type": "stream",
     "text": [
      "/home/jfeil/.pyenv/versions/3.8.17/envs/DroneTracking/lib/python3.8/site-packages/torch/nn/_reduction.py:42: UserWarning: size_average and reduce args will be deprecated, please use reduction='mean' instead.\n",
      "  warnings.warn(warning.format(ret))\n"
     ]
    },
    {
     "data": {
      "application/vnd.jupyter.widget-view+json": {
       "model_id": "6864114fd41c415c9a69a4cbf4904a24",
       "version_major": 2,
       "version_minor": 0
      },
      "text/plain": [
       "Epochs:   0%|          | 0/5 [00:00<?, ?it/s]"
      ]
     },
     "metadata": {},
     "output_type": "display_data"
    },
    {
     "data": {
      "application/vnd.jupyter.widget-view+json": {
       "model_id": "2c76f8d456db4e5189aaf4798f33fa08",
       "version_major": 2,
       "version_minor": 0
      },
      "text/plain": [
       "Epochs:   0%|          | 0/5 [00:00<?, ?it/s]"
      ]
     },
     "metadata": {},
     "output_type": "display_data"
    },
    {
     "data": {
      "application/vnd.jupyter.widget-view+json": {
       "model_id": "633faf6d3a7c4e0097c5a59c0f7b07ba",
       "version_major": 2,
       "version_minor": 0
      },
      "text/plain": [
       "Downloading artifacts:   0%|          | 0/3 [00:00<?, ?it/s]"
      ]
     },
     "metadata": {},
     "output_type": "display_data"
    },
    {
     "data": {
      "application/vnd.jupyter.widget-view+json": {
       "model_id": "5e408af137114438904f59f826b6c2e3",
       "version_major": 2,
       "version_minor": 0
      },
      "text/plain": [
       "Models:   0%|          | 0/2 [00:00<?, ?it/s]"
      ]
     },
     "metadata": {},
     "output_type": "display_data"
    },
    {
     "name": "stderr",
     "output_type": "stream",
     "text": [
      "/home/jfeil/.pyenv/versions/3.8.17/envs/DroneTracking/lib/python3.8/site-packages/torch/nn/_reduction.py:42: UserWarning: size_average and reduce args will be deprecated, please use reduction='mean' instead.\n",
      "  warnings.warn(warning.format(ret))\n"
     ]
    },
    {
     "data": {
      "application/vnd.jupyter.widget-view+json": {
       "model_id": "df8cbf4797c74ee583a357b3c9baf346",
       "version_major": 2,
       "version_minor": 0
      },
      "text/plain": [
       "Epochs:   0%|          | 0/5 [00:00<?, ?it/s]"
      ]
     },
     "metadata": {},
     "output_type": "display_data"
    },
    {
     "data": {
      "application/vnd.jupyter.widget-view+json": {
       "model_id": "f35e78bafe694a7493d4a971144ab5e0",
       "version_major": 2,
       "version_minor": 0
      },
      "text/plain": [
       "Epochs:   0%|          | 0/5 [00:00<?, ?it/s]"
      ]
     },
     "metadata": {},
     "output_type": "display_data"
    },
    {
     "data": {
      "application/vnd.jupyter.widget-view+json": {
       "model_id": "6dc61b9f14d14d6eb89ce74b4c675efd",
       "version_major": 2,
       "version_minor": 0
      },
      "text/plain": [
       "Downloading artifacts:   0%|          | 0/3 [00:00<?, ?it/s]"
      ]
     },
     "metadata": {},
     "output_type": "display_data"
    },
    {
     "data": {
      "application/vnd.jupyter.widget-view+json": {
       "model_id": "70a7144d8f9643e4ae3fad8c2c3713e3",
       "version_major": 2,
       "version_minor": 0
      },
      "text/plain": [
       "Models:   0%|          | 0/2 [00:00<?, ?it/s]"
      ]
     },
     "metadata": {},
     "output_type": "display_data"
    },
    {
     "name": "stderr",
     "output_type": "stream",
     "text": [
      "/home/jfeil/.pyenv/versions/3.8.17/envs/DroneTracking/lib/python3.8/site-packages/torch/nn/_reduction.py:42: UserWarning: size_average and reduce args will be deprecated, please use reduction='mean' instead.\n",
      "  warnings.warn(warning.format(ret))\n"
     ]
    },
    {
     "data": {
      "application/vnd.jupyter.widget-view+json": {
       "model_id": "d20aeb22f851455db35277b057ec2c56",
       "version_major": 2,
       "version_minor": 0
      },
      "text/plain": [
       "Epochs:   0%|          | 0/5 [00:00<?, ?it/s]"
      ]
     },
     "metadata": {},
     "output_type": "display_data"
    },
    {
     "data": {
      "application/vnd.jupyter.widget-view+json": {
       "model_id": "a0486c3736c94c6dad890209d0cb226d",
       "version_major": 2,
       "version_minor": 0
      },
      "text/plain": [
       "Epochs:   0%|          | 0/5 [00:00<?, ?it/s]"
      ]
     },
     "metadata": {},
     "output_type": "display_data"
    },
    {
     "data": {
      "application/vnd.jupyter.widget-view+json": {
       "model_id": "8571d806e8af43da8d7879af740f2132",
       "version_major": 2,
       "version_minor": 0
      },
      "text/plain": [
       "Downloading artifacts:   0%|          | 0/3 [00:00<?, ?it/s]"
      ]
     },
     "metadata": {},
     "output_type": "display_data"
    },
    {
     "data": {
      "application/vnd.jupyter.widget-view+json": {
       "model_id": "c804270c66984aaf96c017e2c5e41a24",
       "version_major": 2,
       "version_minor": 0
      },
      "text/plain": [
       "Models:   0%|          | 0/2 [00:00<?, ?it/s]"
      ]
     },
     "metadata": {},
     "output_type": "display_data"
    },
    {
     "name": "stderr",
     "output_type": "stream",
     "text": [
      "/home/jfeil/.pyenv/versions/3.8.17/envs/DroneTracking/lib/python3.8/site-packages/torch/nn/_reduction.py:42: UserWarning: size_average and reduce args will be deprecated, please use reduction='mean' instead.\n",
      "  warnings.warn(warning.format(ret))\n"
     ]
    },
    {
     "data": {
      "application/vnd.jupyter.widget-view+json": {
       "model_id": "6316184f907643a195a8ee9d8c85b12e",
       "version_major": 2,
       "version_minor": 0
      },
      "text/plain": [
       "Epochs:   0%|          | 0/5 [00:00<?, ?it/s]"
      ]
     },
     "metadata": {},
     "output_type": "display_data"
    },
    {
     "data": {
      "application/vnd.jupyter.widget-view+json": {
       "model_id": "8142f85a96104cab8e88de5d54a238ca",
       "version_major": 2,
       "version_minor": 0
      },
      "text/plain": [
       "Epochs:   0%|          | 0/5 [00:00<?, ?it/s]"
      ]
     },
     "metadata": {},
     "output_type": "display_data"
    },
    {
     "data": {
      "application/vnd.jupyter.widget-view+json": {
       "model_id": "4b10ab91af0a4e22a2db6fa5f53dcf2e",
       "version_major": 2,
       "version_minor": 0
      },
      "text/plain": [
       "Downloading artifacts:   0%|          | 0/2 [00:00<?, ?it/s]"
      ]
     },
     "metadata": {},
     "output_type": "display_data"
    },
    {
     "data": {
      "application/vnd.jupyter.widget-view+json": {
       "model_id": "eebe5c30e66f436fa5cff0b35411c132",
       "version_major": 2,
       "version_minor": 0
      },
      "text/plain": [
       "Models:   0%|          | 0/1 [00:00<?, ?it/s]"
      ]
     },
     "metadata": {},
     "output_type": "display_data"
    },
    {
     "name": "stderr",
     "output_type": "stream",
     "text": [
      "/home/jfeil/.pyenv/versions/3.8.17/envs/DroneTracking/lib/python3.8/site-packages/torch/nn/_reduction.py:42: UserWarning: size_average and reduce args will be deprecated, please use reduction='mean' instead.\n",
      "  warnings.warn(warning.format(ret))\n"
     ]
    },
    {
     "data": {
      "application/vnd.jupyter.widget-view+json": {
       "model_id": "f5ada90d1dc943e886cde7dd910d0a57",
       "version_major": 2,
       "version_minor": 0
      },
      "text/plain": [
       "Epochs:   0%|          | 0/5 [00:00<?, ?it/s]"
      ]
     },
     "metadata": {},
     "output_type": "display_data"
    },
    {
     "data": {
      "application/vnd.jupyter.widget-view+json": {
       "model_id": "b0e9ccad08ad4bc0bb850a8a9308569c",
       "version_major": 2,
       "version_minor": 0
      },
      "text/plain": [
       "Downloading artifacts:   0%|          | 0/3 [00:00<?, ?it/s]"
      ]
     },
     "metadata": {},
     "output_type": "display_data"
    },
    {
     "data": {
      "application/vnd.jupyter.widget-view+json": {
       "model_id": "65e9ef2a91274faf9f20cbf73c87e80c",
       "version_major": 2,
       "version_minor": 0
      },
      "text/plain": [
       "Models:   0%|          | 0/2 [00:00<?, ?it/s]"
      ]
     },
     "metadata": {},
     "output_type": "display_data"
    },
    {
     "name": "stderr",
     "output_type": "stream",
     "text": [
      "/home/jfeil/.pyenv/versions/3.8.17/envs/DroneTracking/lib/python3.8/site-packages/torch/nn/_reduction.py:42: UserWarning: size_average and reduce args will be deprecated, please use reduction='mean' instead.\n",
      "  warnings.warn(warning.format(ret))\n"
     ]
    },
    {
     "data": {
      "application/vnd.jupyter.widget-view+json": {
       "model_id": "4daa9334b1954294a40da74873ba296f",
       "version_major": 2,
       "version_minor": 0
      },
      "text/plain": [
       "Epochs:   0%|          | 0/5 [00:00<?, ?it/s]"
      ]
     },
     "metadata": {},
     "output_type": "display_data"
    },
    {
     "data": {
      "application/vnd.jupyter.widget-view+json": {
       "model_id": "31a39d5ce5754884bd5d1e086521cf6e",
       "version_major": 2,
       "version_minor": 0
      },
      "text/plain": [
       "Epochs:   0%|          | 0/5 [00:00<?, ?it/s]"
      ]
     },
     "metadata": {},
     "output_type": "display_data"
    },
    {
     "data": {
      "application/vnd.jupyter.widget-view+json": {
       "model_id": "7f5799179136422682015f6a8cdd4b3b",
       "version_major": 2,
       "version_minor": 0
      },
      "text/plain": [
       "Downloading artifacts:   0%|          | 0/3 [00:00<?, ?it/s]"
      ]
     },
     "metadata": {},
     "output_type": "display_data"
    },
    {
     "data": {
      "application/vnd.jupyter.widget-view+json": {
       "model_id": "02cc6feb61d441828eafb5189cd54b9f",
       "version_major": 2,
       "version_minor": 0
      },
      "text/plain": [
       "Models:   0%|          | 0/2 [00:00<?, ?it/s]"
      ]
     },
     "metadata": {},
     "output_type": "display_data"
    },
    {
     "name": "stderr",
     "output_type": "stream",
     "text": [
      "/home/jfeil/.pyenv/versions/3.8.17/envs/DroneTracking/lib/python3.8/site-packages/torch/nn/_reduction.py:42: UserWarning: size_average and reduce args will be deprecated, please use reduction='mean' instead.\n",
      "  warnings.warn(warning.format(ret))\n"
     ]
    },
    {
     "data": {
      "application/vnd.jupyter.widget-view+json": {
       "model_id": "1d46589531bf45cab65e1f64dd5328af",
       "version_major": 2,
       "version_minor": 0
      },
      "text/plain": [
       "Epochs:   0%|          | 0/5 [00:00<?, ?it/s]"
      ]
     },
     "metadata": {},
     "output_type": "display_data"
    },
    {
     "data": {
      "application/vnd.jupyter.widget-view+json": {
       "model_id": "7ae831832773482d883812da0df68556",
       "version_major": 2,
       "version_minor": 0
      },
      "text/plain": [
       "Epochs:   0%|          | 0/5 [00:00<?, ?it/s]"
      ]
     },
     "metadata": {},
     "output_type": "display_data"
    },
    {
     "data": {
      "application/vnd.jupyter.widget-view+json": {
       "model_id": "7928f30349ea463fb617692fb109ffe3",
       "version_major": 2,
       "version_minor": 0
      },
      "text/plain": [
       "Downloading artifacts:   0%|          | 0/3 [00:00<?, ?it/s]"
      ]
     },
     "metadata": {},
     "output_type": "display_data"
    },
    {
     "data": {
      "application/vnd.jupyter.widget-view+json": {
       "model_id": "db3cd7e1235e4a3f800f62135e9c4666",
       "version_major": 2,
       "version_minor": 0
      },
      "text/plain": [
       "Models:   0%|          | 0/2 [00:00<?, ?it/s]"
      ]
     },
     "metadata": {},
     "output_type": "display_data"
    },
    {
     "name": "stderr",
     "output_type": "stream",
     "text": [
      "/home/jfeil/.pyenv/versions/3.8.17/envs/DroneTracking/lib/python3.8/site-packages/torch/nn/_reduction.py:42: UserWarning: size_average and reduce args will be deprecated, please use reduction='mean' instead.\n",
      "  warnings.warn(warning.format(ret))\n"
     ]
    },
    {
     "data": {
      "application/vnd.jupyter.widget-view+json": {
       "model_id": "261f9a24488d493cb68fe526121b29cb",
       "version_major": 2,
       "version_minor": 0
      },
      "text/plain": [
       "Epochs:   0%|          | 0/5 [00:00<?, ?it/s]"
      ]
     },
     "metadata": {},
     "output_type": "display_data"
    },
    {
     "data": {
      "application/vnd.jupyter.widget-view+json": {
       "model_id": "876de213dc8c42c7a158e2058d71349f",
       "version_major": 2,
       "version_minor": 0
      },
      "text/plain": [
       "Epochs:   0%|          | 0/5 [00:00<?, ?it/s]"
      ]
     },
     "metadata": {},
     "output_type": "display_data"
    },
    {
     "data": {
      "application/vnd.jupyter.widget-view+json": {
       "model_id": "74bbe1bc4128463b84512f7d95b5174a",
       "version_major": 2,
       "version_minor": 0
      },
      "text/plain": [
       "Downloading artifacts:   0%|          | 0/3 [00:00<?, ?it/s]"
      ]
     },
     "metadata": {},
     "output_type": "display_data"
    },
    {
     "data": {
      "application/vnd.jupyter.widget-view+json": {
       "model_id": "82d5bbc20f9f449c869779648c90c1cf",
       "version_major": 2,
       "version_minor": 0
      },
      "text/plain": [
       "Models:   0%|          | 0/2 [00:00<?, ?it/s]"
      ]
     },
     "metadata": {},
     "output_type": "display_data"
    },
    {
     "name": "stderr",
     "output_type": "stream",
     "text": [
      "/home/jfeil/.pyenv/versions/3.8.17/envs/DroneTracking/lib/python3.8/site-packages/torch/nn/_reduction.py:42: UserWarning: size_average and reduce args will be deprecated, please use reduction='mean' instead.\n",
      "  warnings.warn(warning.format(ret))\n"
     ]
    },
    {
     "data": {
      "application/vnd.jupyter.widget-view+json": {
       "model_id": "8059edf563a2454d90d7d0148a0a7c08",
       "version_major": 2,
       "version_minor": 0
      },
      "text/plain": [
       "Epochs:   0%|          | 0/5 [00:00<?, ?it/s]"
      ]
     },
     "metadata": {},
     "output_type": "display_data"
    },
    {
     "data": {
      "application/vnd.jupyter.widget-view+json": {
       "model_id": "095d8b28e9d84e9fac97c03a5a89cd51",
       "version_major": 2,
       "version_minor": 0
      },
      "text/plain": [
       "Epochs:   0%|          | 0/5 [00:00<?, ?it/s]"
      ]
     },
     "metadata": {},
     "output_type": "display_data"
    },
    {
     "data": {
      "application/vnd.jupyter.widget-view+json": {
       "model_id": "8a126ecd3d01455bb405b174bbc82437",
       "version_major": 2,
       "version_minor": 0
      },
      "text/plain": [
       "Downloading artifacts:   0%|          | 0/3 [00:00<?, ?it/s]"
      ]
     },
     "metadata": {},
     "output_type": "display_data"
    },
    {
     "data": {
      "application/vnd.jupyter.widget-view+json": {
       "model_id": "46b61f75a5f1408689eb29ff62dfd6c2",
       "version_major": 2,
       "version_minor": 0
      },
      "text/plain": [
       "Models:   0%|          | 0/2 [00:00<?, ?it/s]"
      ]
     },
     "metadata": {},
     "output_type": "display_data"
    },
    {
     "name": "stderr",
     "output_type": "stream",
     "text": [
      "/home/jfeil/.pyenv/versions/3.8.17/envs/DroneTracking/lib/python3.8/site-packages/torch/nn/_reduction.py:42: UserWarning: size_average and reduce args will be deprecated, please use reduction='mean' instead.\n",
      "  warnings.warn(warning.format(ret))\n"
     ]
    },
    {
     "data": {
      "application/vnd.jupyter.widget-view+json": {
       "model_id": "7aabefb8035d404e9eb9826d421d63ac",
       "version_major": 2,
       "version_minor": 0
      },
      "text/plain": [
       "Epochs:   0%|          | 0/5 [00:00<?, ?it/s]"
      ]
     },
     "metadata": {},
     "output_type": "display_data"
    },
    {
     "data": {
      "application/vnd.jupyter.widget-view+json": {
       "model_id": "a34d72c5af744c06a93db66af30b660f",
       "version_major": 2,
       "version_minor": 0
      },
      "text/plain": [
       "Epochs:   0%|          | 0/5 [00:00<?, ?it/s]"
      ]
     },
     "metadata": {},
     "output_type": "display_data"
    },
    {
     "data": {
      "application/vnd.jupyter.widget-view+json": {
       "model_id": "0ff63ec846af42e9886580f327394002",
       "version_major": 2,
       "version_minor": 0
      },
      "text/plain": [
       "Downloading artifacts:   0%|          | 0/3 [00:00<?, ?it/s]"
      ]
     },
     "metadata": {},
     "output_type": "display_data"
    },
    {
     "data": {
      "application/vnd.jupyter.widget-view+json": {
       "model_id": "8fc034bf6d874ac4ad17f10522bd3213",
       "version_major": 2,
       "version_minor": 0
      },
      "text/plain": [
       "Models:   0%|          | 0/2 [00:00<?, ?it/s]"
      ]
     },
     "metadata": {},
     "output_type": "display_data"
    },
    {
     "name": "stderr",
     "output_type": "stream",
     "text": [
      "/home/jfeil/.pyenv/versions/3.8.17/envs/DroneTracking/lib/python3.8/site-packages/torch/nn/_reduction.py:42: UserWarning: size_average and reduce args will be deprecated, please use reduction='mean' instead.\n",
      "  warnings.warn(warning.format(ret))\n"
     ]
    },
    {
     "data": {
      "application/vnd.jupyter.widget-view+json": {
       "model_id": "d4aa830c2c0946a99cacbc4373bb9f89",
       "version_major": 2,
       "version_minor": 0
      },
      "text/plain": [
       "Epochs:   0%|          | 0/5 [00:00<?, ?it/s]"
      ]
     },
     "metadata": {},
     "output_type": "display_data"
    },
    {
     "data": {
      "application/vnd.jupyter.widget-view+json": {
       "model_id": "51c1691f6e234112b3a91e479e2714e7",
       "version_major": 2,
       "version_minor": 0
      },
      "text/plain": [
       "Epochs:   0%|          | 0/5 [00:00<?, ?it/s]"
      ]
     },
     "metadata": {},
     "output_type": "display_data"
    },
    {
     "data": {
      "application/vnd.jupyter.widget-view+json": {
       "model_id": "578be656cd3b457db7551b1b36754a21",
       "version_major": 2,
       "version_minor": 0
      },
      "text/plain": [
       "Downloading artifacts:   0%|          | 0/3 [00:00<?, ?it/s]"
      ]
     },
     "metadata": {},
     "output_type": "display_data"
    },
    {
     "data": {
      "application/vnd.jupyter.widget-view+json": {
       "model_id": "e65e3725738340a49adc189ef5c5e66f",
       "version_major": 2,
       "version_minor": 0
      },
      "text/plain": [
       "Models:   0%|          | 0/2 [00:00<?, ?it/s]"
      ]
     },
     "metadata": {},
     "output_type": "display_data"
    },
    {
     "name": "stderr",
     "output_type": "stream",
     "text": [
      "/home/jfeil/.pyenv/versions/3.8.17/envs/DroneTracking/lib/python3.8/site-packages/torch/nn/_reduction.py:42: UserWarning: size_average and reduce args will be deprecated, please use reduction='mean' instead.\n",
      "  warnings.warn(warning.format(ret))\n"
     ]
    },
    {
     "data": {
      "application/vnd.jupyter.widget-view+json": {
       "model_id": "cc22eac9b95842a0bccefabb7c6db44f",
       "version_major": 2,
       "version_minor": 0
      },
      "text/plain": [
       "Epochs:   0%|          | 0/5 [00:00<?, ?it/s]"
      ]
     },
     "metadata": {},
     "output_type": "display_data"
    },
    {
     "data": {
      "application/vnd.jupyter.widget-view+json": {
       "model_id": "f41451389f6541df8e7a30ac69e71c61",
       "version_major": 2,
       "version_minor": 0
      },
      "text/plain": [
       "Epochs:   0%|          | 0/5 [00:00<?, ?it/s]"
      ]
     },
     "metadata": {},
     "output_type": "display_data"
    },
    {
     "data": {
      "application/vnd.jupyter.widget-view+json": {
       "model_id": "fc497b496fc54bce93f15766eefc68cd",
       "version_major": 2,
       "version_minor": 0
      },
      "text/plain": [
       "Downloading artifacts:   0%|          | 0/3 [00:00<?, ?it/s]"
      ]
     },
     "metadata": {},
     "output_type": "display_data"
    },
    {
     "data": {
      "application/vnd.jupyter.widget-view+json": {
       "model_id": "25adfec00f0542998d8fa322b2f5214a",
       "version_major": 2,
       "version_minor": 0
      },
      "text/plain": [
       "Models:   0%|          | 0/2 [00:00<?, ?it/s]"
      ]
     },
     "metadata": {},
     "output_type": "display_data"
    },
    {
     "name": "stderr",
     "output_type": "stream",
     "text": [
      "/home/jfeil/.pyenv/versions/3.8.17/envs/DroneTracking/lib/python3.8/site-packages/torch/nn/_reduction.py:42: UserWarning: size_average and reduce args will be deprecated, please use reduction='mean' instead.\n",
      "  warnings.warn(warning.format(ret))\n"
     ]
    },
    {
     "data": {
      "application/vnd.jupyter.widget-view+json": {
       "model_id": "77dfc42d8dc64db3a52d1dd44a579df9",
       "version_major": 2,
       "version_minor": 0
      },
      "text/plain": [
       "Epochs:   0%|          | 0/5 [00:00<?, ?it/s]"
      ]
     },
     "metadata": {},
     "output_type": "display_data"
    },
    {
     "data": {
      "application/vnd.jupyter.widget-view+json": {
       "model_id": "140f5a85d9334dcba14f5f1ae8bf3d41",
       "version_major": 2,
       "version_minor": 0
      },
      "text/plain": [
       "Epochs:   0%|          | 0/5 [00:00<?, ?it/s]"
      ]
     },
     "metadata": {},
     "output_type": "display_data"
    },
    {
     "data": {
      "application/vnd.jupyter.widget-view+json": {
       "model_id": "39c98b29cebb47998b8e38bc01f8ac71",
       "version_major": 2,
       "version_minor": 0
      },
      "text/plain": [
       "Downloading artifacts:   0%|          | 0/3 [00:00<?, ?it/s]"
      ]
     },
     "metadata": {},
     "output_type": "display_data"
    },
    {
     "data": {
      "application/vnd.jupyter.widget-view+json": {
       "model_id": "36f42445b57545fd8e06fc9a187a6e1e",
       "version_major": 2,
       "version_minor": 0
      },
      "text/plain": [
       "Models:   0%|          | 0/2 [00:00<?, ?it/s]"
      ]
     },
     "metadata": {},
     "output_type": "display_data"
    },
    {
     "name": "stderr",
     "output_type": "stream",
     "text": [
      "/home/jfeil/.pyenv/versions/3.8.17/envs/DroneTracking/lib/python3.8/site-packages/torch/nn/_reduction.py:42: UserWarning: size_average and reduce args will be deprecated, please use reduction='mean' instead.\n",
      "  warnings.warn(warning.format(ret))\n"
     ]
    },
    {
     "data": {
      "application/vnd.jupyter.widget-view+json": {
       "model_id": "df15096c94a74df5af13a1e0014bd7e9",
       "version_major": 2,
       "version_minor": 0
      },
      "text/plain": [
       "Epochs:   0%|          | 0/5 [00:00<?, ?it/s]"
      ]
     },
     "metadata": {},
     "output_type": "display_data"
    },
    {
     "data": {
      "application/vnd.jupyter.widget-view+json": {
       "model_id": "0ff8488473444e1a8d49436bfff225c0",
       "version_major": 2,
       "version_minor": 0
      },
      "text/plain": [
       "Epochs:   0%|          | 0/5 [00:00<?, ?it/s]"
      ]
     },
     "metadata": {},
     "output_type": "display_data"
    },
    {
     "data": {
      "application/vnd.jupyter.widget-view+json": {
       "model_id": "c1a6604c0250441bafdf59cde2813578",
       "version_major": 2,
       "version_minor": 0
      },
      "text/plain": [
       "Downloading artifacts:   0%|          | 0/3 [00:00<?, ?it/s]"
      ]
     },
     "metadata": {},
     "output_type": "display_data"
    },
    {
     "data": {
      "application/vnd.jupyter.widget-view+json": {
       "model_id": "f4d7904e7037495bb735328056f2fe98",
       "version_major": 2,
       "version_minor": 0
      },
      "text/plain": [
       "Models:   0%|          | 0/2 [00:00<?, ?it/s]"
      ]
     },
     "metadata": {},
     "output_type": "display_data"
    },
    {
     "name": "stderr",
     "output_type": "stream",
     "text": [
      "/home/jfeil/.pyenv/versions/3.8.17/envs/DroneTracking/lib/python3.8/site-packages/torch/nn/_reduction.py:42: UserWarning: size_average and reduce args will be deprecated, please use reduction='mean' instead.\n",
      "  warnings.warn(warning.format(ret))\n"
     ]
    },
    {
     "data": {
      "application/vnd.jupyter.widget-view+json": {
       "model_id": "ff35d644b1234d57b5b9c94331510bc9",
       "version_major": 2,
       "version_minor": 0
      },
      "text/plain": [
       "Epochs:   0%|          | 0/5 [00:00<?, ?it/s]"
      ]
     },
     "metadata": {},
     "output_type": "display_data"
    },
    {
     "data": {
      "application/vnd.jupyter.widget-view+json": {
       "model_id": "dc986d0df90348bd8dbc875fe41437f2",
       "version_major": 2,
       "version_minor": 0
      },
      "text/plain": [
       "Epochs:   0%|          | 0/5 [00:00<?, ?it/s]"
      ]
     },
     "metadata": {},
     "output_type": "display_data"
    },
    {
     "data": {
      "application/vnd.jupyter.widget-view+json": {
       "model_id": "4ccc15f9ae0f4ddc997ba7e73acc3d81",
       "version_major": 2,
       "version_minor": 0
      },
      "text/plain": [
       "Downloading artifacts:   0%|          | 0/3 [00:00<?, ?it/s]"
      ]
     },
     "metadata": {},
     "output_type": "display_data"
    },
    {
     "data": {
      "application/vnd.jupyter.widget-view+json": {
       "model_id": "2ba9d608f9f04ceabcf44a26772023ab",
       "version_major": 2,
       "version_minor": 0
      },
      "text/plain": [
       "Models:   0%|          | 0/2 [00:00<?, ?it/s]"
      ]
     },
     "metadata": {},
     "output_type": "display_data"
    },
    {
     "name": "stderr",
     "output_type": "stream",
     "text": [
      "/home/jfeil/.pyenv/versions/3.8.17/envs/DroneTracking/lib/python3.8/site-packages/torch/nn/_reduction.py:42: UserWarning: size_average and reduce args will be deprecated, please use reduction='mean' instead.\n",
      "  warnings.warn(warning.format(ret))\n"
     ]
    },
    {
     "data": {
      "application/vnd.jupyter.widget-view+json": {
       "model_id": "89c173729f8740a1984df50aeee34925",
       "version_major": 2,
       "version_minor": 0
      },
      "text/plain": [
       "Epochs:   0%|          | 0/5 [00:00<?, ?it/s]"
      ]
     },
     "metadata": {},
     "output_type": "display_data"
    },
    {
     "data": {
      "application/vnd.jupyter.widget-view+json": {
       "model_id": "1308d5e0b5e3408a8f5eb1f73ebad7a7",
       "version_major": 2,
       "version_minor": 0
      },
      "text/plain": [
       "Epochs:   0%|          | 0/5 [00:00<?, ?it/s]"
      ]
     },
     "metadata": {},
     "output_type": "display_data"
    },
    {
     "data": {
      "application/vnd.jupyter.widget-view+json": {
       "model_id": "8e8d0f84bb1543e2a59672229cd6a834",
       "version_major": 2,
       "version_minor": 0
      },
      "text/plain": [
       "Downloading artifacts:   0%|          | 0/3 [00:00<?, ?it/s]"
      ]
     },
     "metadata": {},
     "output_type": "display_data"
    },
    {
     "data": {
      "application/vnd.jupyter.widget-view+json": {
       "model_id": "436c0a4103e544dca4587af6aaa6cf12",
       "version_major": 2,
       "version_minor": 0
      },
      "text/plain": [
       "Models:   0%|          | 0/2 [00:00<?, ?it/s]"
      ]
     },
     "metadata": {},
     "output_type": "display_data"
    },
    {
     "name": "stderr",
     "output_type": "stream",
     "text": [
      "/home/jfeil/.pyenv/versions/3.8.17/envs/DroneTracking/lib/python3.8/site-packages/torch/nn/_reduction.py:42: UserWarning: size_average and reduce args will be deprecated, please use reduction='mean' instead.\n",
      "  warnings.warn(warning.format(ret))\n"
     ]
    },
    {
     "data": {
      "application/vnd.jupyter.widget-view+json": {
       "model_id": "b76483fae1314299b0b5a0de1b95922f",
       "version_major": 2,
       "version_minor": 0
      },
      "text/plain": [
       "Epochs:   0%|          | 0/5 [00:00<?, ?it/s]"
      ]
     },
     "metadata": {},
     "output_type": "display_data"
    },
    {
     "data": {
      "application/vnd.jupyter.widget-view+json": {
       "model_id": "0fc03f66afde471da89c551ccbaa34f0",
       "version_major": 2,
       "version_minor": 0
      },
      "text/plain": [
       "Epochs:   0%|          | 0/5 [00:00<?, ?it/s]"
      ]
     },
     "metadata": {},
     "output_type": "display_data"
    },
    {
     "data": {
      "application/vnd.jupyter.widget-view+json": {
       "model_id": "6da65e674b6e4281a0702cffc9051879",
       "version_major": 2,
       "version_minor": 0
      },
      "text/plain": [
       "Downloading artifacts:   0%|          | 0/3 [00:00<?, ?it/s]"
      ]
     },
     "metadata": {},
     "output_type": "display_data"
    },
    {
     "data": {
      "application/vnd.jupyter.widget-view+json": {
       "model_id": "307dafe2d73e4ad1a279bd64cbf12b9f",
       "version_major": 2,
       "version_minor": 0
      },
      "text/plain": [
       "Models:   0%|          | 0/2 [00:00<?, ?it/s]"
      ]
     },
     "metadata": {},
     "output_type": "display_data"
    },
    {
     "name": "stderr",
     "output_type": "stream",
     "text": [
      "/home/jfeil/.pyenv/versions/3.8.17/envs/DroneTracking/lib/python3.8/site-packages/torch/nn/_reduction.py:42: UserWarning: size_average and reduce args will be deprecated, please use reduction='mean' instead.\n",
      "  warnings.warn(warning.format(ret))\n"
     ]
    },
    {
     "data": {
      "application/vnd.jupyter.widget-view+json": {
       "model_id": "4799e1a4b30d4607a497ac90e77c64a0",
       "version_major": 2,
       "version_minor": 0
      },
      "text/plain": [
       "Epochs:   0%|          | 0/5 [00:00<?, ?it/s]"
      ]
     },
     "metadata": {},
     "output_type": "display_data"
    },
    {
     "data": {
      "application/vnd.jupyter.widget-view+json": {
       "model_id": "88cf013aa3ed4239a4d75512a9963af5",
       "version_major": 2,
       "version_minor": 0
      },
      "text/plain": [
       "Epochs:   0%|          | 0/5 [00:00<?, ?it/s]"
      ]
     },
     "metadata": {},
     "output_type": "display_data"
    },
    {
     "data": {
      "application/vnd.jupyter.widget-view+json": {
       "model_id": "38788e3f139a4c8b9066c04ab262967e",
       "version_major": 2,
       "version_minor": 0
      },
      "text/plain": [
       "Downloading artifacts:   0%|          | 0/3 [00:00<?, ?it/s]"
      ]
     },
     "metadata": {},
     "output_type": "display_data"
    },
    {
     "data": {
      "application/vnd.jupyter.widget-view+json": {
       "model_id": "9dde21c8e77f4962b534a8cca93acd82",
       "version_major": 2,
       "version_minor": 0
      },
      "text/plain": [
       "Models:   0%|          | 0/2 [00:00<?, ?it/s]"
      ]
     },
     "metadata": {},
     "output_type": "display_data"
    },
    {
     "name": "stderr",
     "output_type": "stream",
     "text": [
      "/home/jfeil/.pyenv/versions/3.8.17/envs/DroneTracking/lib/python3.8/site-packages/torch/nn/_reduction.py:42: UserWarning: size_average and reduce args will be deprecated, please use reduction='mean' instead.\n",
      "  warnings.warn(warning.format(ret))\n"
     ]
    },
    {
     "data": {
      "application/vnd.jupyter.widget-view+json": {
       "model_id": "2f64031c89e14f81989f6077ed67009c",
       "version_major": 2,
       "version_minor": 0
      },
      "text/plain": [
       "Epochs:   0%|          | 0/5 [00:00<?, ?it/s]"
      ]
     },
     "metadata": {},
     "output_type": "display_data"
    },
    {
     "data": {
      "application/vnd.jupyter.widget-view+json": {
       "model_id": "e70a9ac374d441ea959da741693de3f8",
       "version_major": 2,
       "version_minor": 0
      },
      "text/plain": [
       "Epochs:   0%|          | 0/5 [00:00<?, ?it/s]"
      ]
     },
     "metadata": {},
     "output_type": "display_data"
    },
    {
     "data": {
      "application/vnd.jupyter.widget-view+json": {
       "model_id": "da440e2364694cdf93ba610dd9493a7d",
       "version_major": 2,
       "version_minor": 0
      },
      "text/plain": [
       "Downloading artifacts:   0%|          | 0/3 [00:00<?, ?it/s]"
      ]
     },
     "metadata": {},
     "output_type": "display_data"
    },
    {
     "data": {
      "application/vnd.jupyter.widget-view+json": {
       "model_id": "9906698bbc9443a0861d4a10911d8814",
       "version_major": 2,
       "version_minor": 0
      },
      "text/plain": [
       "Models:   0%|          | 0/2 [00:00<?, ?it/s]"
      ]
     },
     "metadata": {},
     "output_type": "display_data"
    },
    {
     "name": "stderr",
     "output_type": "stream",
     "text": [
      "/home/jfeil/.pyenv/versions/3.8.17/envs/DroneTracking/lib/python3.8/site-packages/torch/nn/_reduction.py:42: UserWarning: size_average and reduce args will be deprecated, please use reduction='mean' instead.\n",
      "  warnings.warn(warning.format(ret))\n"
     ]
    },
    {
     "data": {
      "application/vnd.jupyter.widget-view+json": {
       "model_id": "cd7c5871e3e447c881ef070839d80a23",
       "version_major": 2,
       "version_minor": 0
      },
      "text/plain": [
       "Epochs:   0%|          | 0/5 [00:00<?, ?it/s]"
      ]
     },
     "metadata": {},
     "output_type": "display_data"
    },
    {
     "data": {
      "application/vnd.jupyter.widget-view+json": {
       "model_id": "bae72a606e784483b7a9dfa99bf35038",
       "version_major": 2,
       "version_minor": 0
      },
      "text/plain": [
       "Epochs:   0%|          | 0/5 [00:00<?, ?it/s]"
      ]
     },
     "metadata": {},
     "output_type": "display_data"
    },
    {
     "data": {
      "application/vnd.jupyter.widget-view+json": {
       "model_id": "b4a547285df44b9dbb454f6405f19299",
       "version_major": 2,
       "version_minor": 0
      },
      "text/plain": [
       "Downloading artifacts:   0%|          | 0/3 [00:00<?, ?it/s]"
      ]
     },
     "metadata": {},
     "output_type": "display_data"
    },
    {
     "data": {
      "application/vnd.jupyter.widget-view+json": {
       "model_id": "11faffd204874fe38173617d920ff99d",
       "version_major": 2,
       "version_minor": 0
      },
      "text/plain": [
       "Models:   0%|          | 0/2 [00:00<?, ?it/s]"
      ]
     },
     "metadata": {},
     "output_type": "display_data"
    },
    {
     "name": "stderr",
     "output_type": "stream",
     "text": [
      "/home/jfeil/.pyenv/versions/3.8.17/envs/DroneTracking/lib/python3.8/site-packages/torch/nn/_reduction.py:42: UserWarning: size_average and reduce args will be deprecated, please use reduction='mean' instead.\n",
      "  warnings.warn(warning.format(ret))\n"
     ]
    },
    {
     "data": {
      "application/vnd.jupyter.widget-view+json": {
       "model_id": "b8f4489566564512a36c61f48f6505b7",
       "version_major": 2,
       "version_minor": 0
      },
      "text/plain": [
       "Epochs:   0%|          | 0/5 [00:00<?, ?it/s]"
      ]
     },
     "metadata": {},
     "output_type": "display_data"
    },
    {
     "data": {
      "application/vnd.jupyter.widget-view+json": {
       "model_id": "bbc9dc2b16e3444e9f74d445b799c72d",
       "version_major": 2,
       "version_minor": 0
      },
      "text/plain": [
       "Epochs:   0%|          | 0/5 [00:00<?, ?it/s]"
      ]
     },
     "metadata": {},
     "output_type": "display_data"
    },
    {
     "data": {
      "application/vnd.jupyter.widget-view+json": {
       "model_id": "fe8fa05fdfb945e1b853fa0fe4fc9197",
       "version_major": 2,
       "version_minor": 0
      },
      "text/plain": [
       "Downloading artifacts:   0%|          | 0/3 [00:00<?, ?it/s]"
      ]
     },
     "metadata": {},
     "output_type": "display_data"
    },
    {
     "data": {
      "application/vnd.jupyter.widget-view+json": {
       "model_id": "08080cb595a247cb8835ff9d817d9d7d",
       "version_major": 2,
       "version_minor": 0
      },
      "text/plain": [
       "Models:   0%|          | 0/2 [00:00<?, ?it/s]"
      ]
     },
     "metadata": {},
     "output_type": "display_data"
    },
    {
     "name": "stderr",
     "output_type": "stream",
     "text": [
      "/home/jfeil/.pyenv/versions/3.8.17/envs/DroneTracking/lib/python3.8/site-packages/torch/nn/_reduction.py:42: UserWarning: size_average and reduce args will be deprecated, please use reduction='mean' instead.\n",
      "  warnings.warn(warning.format(ret))\n"
     ]
    },
    {
     "data": {
      "application/vnd.jupyter.widget-view+json": {
       "model_id": "f1bd2de78d4c4d56af965e472914b0df",
       "version_major": 2,
       "version_minor": 0
      },
      "text/plain": [
       "Epochs:   0%|          | 0/5 [00:00<?, ?it/s]"
      ]
     },
     "metadata": {},
     "output_type": "display_data"
    },
    {
     "data": {
      "application/vnd.jupyter.widget-view+json": {
       "model_id": "22cd39af95b04e03868a343031bb41bc",
       "version_major": 2,
       "version_minor": 0
      },
      "text/plain": [
       "Epochs:   0%|          | 0/5 [00:00<?, ?it/s]"
      ]
     },
     "metadata": {},
     "output_type": "display_data"
    },
    {
     "data": {
      "application/vnd.jupyter.widget-view+json": {
       "model_id": "78f877349c194c5b9842864293477845",
       "version_major": 2,
       "version_minor": 0
      },
      "text/plain": [
       "Downloading artifacts:   0%|          | 0/3 [00:00<?, ?it/s]"
      ]
     },
     "metadata": {},
     "output_type": "display_data"
    },
    {
     "data": {
      "application/vnd.jupyter.widget-view+json": {
       "model_id": "82eba82544414ffd9d42b2fe113454bb",
       "version_major": 2,
       "version_minor": 0
      },
      "text/plain": [
       "Models:   0%|          | 0/2 [00:00<?, ?it/s]"
      ]
     },
     "metadata": {},
     "output_type": "display_data"
    },
    {
     "name": "stderr",
     "output_type": "stream",
     "text": [
      "/home/jfeil/.pyenv/versions/3.8.17/envs/DroneTracking/lib/python3.8/site-packages/torch/nn/_reduction.py:42: UserWarning: size_average and reduce args will be deprecated, please use reduction='mean' instead.\n",
      "  warnings.warn(warning.format(ret))\n"
     ]
    },
    {
     "data": {
      "application/vnd.jupyter.widget-view+json": {
       "model_id": "df1566bb8bce4227a65799fa4084ad8b",
       "version_major": 2,
       "version_minor": 0
      },
      "text/plain": [
       "Epochs:   0%|          | 0/5 [00:00<?, ?it/s]"
      ]
     },
     "metadata": {},
     "output_type": "display_data"
    },
    {
     "data": {
      "application/vnd.jupyter.widget-view+json": {
       "model_id": "1894e65101fa4aa7ad5ad02438f040a1",
       "version_major": 2,
       "version_minor": 0
      },
      "text/plain": [
       "Epochs:   0%|          | 0/5 [00:00<?, ?it/s]"
      ]
     },
     "metadata": {},
     "output_type": "display_data"
    },
    {
     "data": {
      "application/vnd.jupyter.widget-view+json": {
       "model_id": "36adaa432fa3464bb427d455ea0c5265",
       "version_major": 2,
       "version_minor": 0
      },
      "text/plain": [
       "Downloading artifacts:   0%|          | 0/3 [00:00<?, ?it/s]"
      ]
     },
     "metadata": {},
     "output_type": "display_data"
    },
    {
     "data": {
      "application/vnd.jupyter.widget-view+json": {
       "model_id": "be0c844305924594bccea93841aa1592",
       "version_major": 2,
       "version_minor": 0
      },
      "text/plain": [
       "Models:   0%|          | 0/2 [00:00<?, ?it/s]"
      ]
     },
     "metadata": {},
     "output_type": "display_data"
    },
    {
     "name": "stderr",
     "output_type": "stream",
     "text": [
      "/home/jfeil/.pyenv/versions/3.8.17/envs/DroneTracking/lib/python3.8/site-packages/torch/nn/_reduction.py:42: UserWarning: size_average and reduce args will be deprecated, please use reduction='mean' instead.\n",
      "  warnings.warn(warning.format(ret))\n"
     ]
    },
    {
     "data": {
      "application/vnd.jupyter.widget-view+json": {
       "model_id": "abee1ddce2064b059dba8e5888a5a4cb",
       "version_major": 2,
       "version_minor": 0
      },
      "text/plain": [
       "Epochs:   0%|          | 0/5 [00:00<?, ?it/s]"
      ]
     },
     "metadata": {},
     "output_type": "display_data"
    },
    {
     "data": {
      "application/vnd.jupyter.widget-view+json": {
       "model_id": "1d3945e22b7a4ebba7aa728fddf9af94",
       "version_major": 2,
       "version_minor": 0
      },
      "text/plain": [
       "Epochs:   0%|          | 0/5 [00:00<?, ?it/s]"
      ]
     },
     "metadata": {},
     "output_type": "display_data"
    },
    {
     "data": {
      "application/vnd.jupyter.widget-view+json": {
       "model_id": "c702da3c9c1e487cb0f291bb289debac",
       "version_major": 2,
       "version_minor": 0
      },
      "text/plain": [
       "Downloading artifacts:   0%|          | 0/3 [00:00<?, ?it/s]"
      ]
     },
     "metadata": {},
     "output_type": "display_data"
    },
    {
     "data": {
      "application/vnd.jupyter.widget-view+json": {
       "model_id": "1b2298f5751c470fa3258dc6b69f32a7",
       "version_major": 2,
       "version_minor": 0
      },
      "text/plain": [
       "Models:   0%|          | 0/2 [00:00<?, ?it/s]"
      ]
     },
     "metadata": {},
     "output_type": "display_data"
    },
    {
     "name": "stderr",
     "output_type": "stream",
     "text": [
      "/home/jfeil/.pyenv/versions/3.8.17/envs/DroneTracking/lib/python3.8/site-packages/torch/nn/_reduction.py:42: UserWarning: size_average and reduce args will be deprecated, please use reduction='mean' instead.\n",
      "  warnings.warn(warning.format(ret))\n"
     ]
    },
    {
     "data": {
      "application/vnd.jupyter.widget-view+json": {
       "model_id": "cf6a8affe1fa4537a61f98f96159e639",
       "version_major": 2,
       "version_minor": 0
      },
      "text/plain": [
       "Epochs:   0%|          | 0/5 [00:00<?, ?it/s]"
      ]
     },
     "metadata": {},
     "output_type": "display_data"
    },
    {
     "data": {
      "application/vnd.jupyter.widget-view+json": {
       "model_id": "c0dceb9194b24269bb43dffbc9f46fa4",
       "version_major": 2,
       "version_minor": 0
      },
      "text/plain": [
       "Epochs:   0%|          | 0/5 [00:00<?, ?it/s]"
      ]
     },
     "metadata": {},
     "output_type": "display_data"
    },
    {
     "data": {
      "application/vnd.jupyter.widget-view+json": {
       "model_id": "ba83709be5234c40b6f9c6637b858d4f",
       "version_major": 2,
       "version_minor": 0
      },
      "text/plain": [
       "Downloading artifacts:   0%|          | 0/3 [00:00<?, ?it/s]"
      ]
     },
     "metadata": {},
     "output_type": "display_data"
    },
    {
     "data": {
      "application/vnd.jupyter.widget-view+json": {
       "model_id": "7eed098dcbaa400ab718fdb7f43584d6",
       "version_major": 2,
       "version_minor": 0
      },
      "text/plain": [
       "Models:   0%|          | 0/2 [00:00<?, ?it/s]"
      ]
     },
     "metadata": {},
     "output_type": "display_data"
    },
    {
     "name": "stderr",
     "output_type": "stream",
     "text": [
      "/home/jfeil/.pyenv/versions/3.8.17/envs/DroneTracking/lib/python3.8/site-packages/torch/nn/_reduction.py:42: UserWarning: size_average and reduce args will be deprecated, please use reduction='mean' instead.\n",
      "  warnings.warn(warning.format(ret))\n"
     ]
    },
    {
     "data": {
      "application/vnd.jupyter.widget-view+json": {
       "model_id": "ef792d12ff554a9189bf67119f067956",
       "version_major": 2,
       "version_minor": 0
      },
      "text/plain": [
       "Epochs:   0%|          | 0/5 [00:00<?, ?it/s]"
      ]
     },
     "metadata": {},
     "output_type": "display_data"
    },
    {
     "data": {
      "application/vnd.jupyter.widget-view+json": {
       "model_id": "8e4ef5a4d26944b18088beb8653bc0c2",
       "version_major": 2,
       "version_minor": 0
      },
      "text/plain": [
       "Epochs:   0%|          | 0/5 [00:00<?, ?it/s]"
      ]
     },
     "metadata": {},
     "output_type": "display_data"
    },
    {
     "data": {
      "application/vnd.jupyter.widget-view+json": {
       "model_id": "6b4a753bf44e430cb9f403c883ec5836",
       "version_major": 2,
       "version_minor": 0
      },
      "text/plain": [
       "Downloading artifacts:   0%|          | 0/3 [00:00<?, ?it/s]"
      ]
     },
     "metadata": {},
     "output_type": "display_data"
    },
    {
     "data": {
      "application/vnd.jupyter.widget-view+json": {
       "model_id": "9c7a916c1c944bbc849a23c55b1143dc",
       "version_major": 2,
       "version_minor": 0
      },
      "text/plain": [
       "Models:   0%|          | 0/2 [00:00<?, ?it/s]"
      ]
     },
     "metadata": {},
     "output_type": "display_data"
    },
    {
     "name": "stderr",
     "output_type": "stream",
     "text": [
      "/home/jfeil/.pyenv/versions/3.8.17/envs/DroneTracking/lib/python3.8/site-packages/torch/nn/_reduction.py:42: UserWarning: size_average and reduce args will be deprecated, please use reduction='mean' instead.\n",
      "  warnings.warn(warning.format(ret))\n"
     ]
    },
    {
     "data": {
      "application/vnd.jupyter.widget-view+json": {
       "model_id": "5fdc8b180d584e32a4f3a39d3f931ba4",
       "version_major": 2,
       "version_minor": 0
      },
      "text/plain": [
       "Epochs:   0%|          | 0/5 [00:00<?, ?it/s]"
      ]
     },
     "metadata": {},
     "output_type": "display_data"
    },
    {
     "data": {
      "application/vnd.jupyter.widget-view+json": {
       "model_id": "9303de0b4bc54031ba60900426f67584",
       "version_major": 2,
       "version_minor": 0
      },
      "text/plain": [
       "Epochs:   0%|          | 0/5 [00:00<?, ?it/s]"
      ]
     },
     "metadata": {},
     "output_type": "display_data"
    },
    {
     "data": {
      "application/vnd.jupyter.widget-view+json": {
       "model_id": "0f4462ca1aea4741b9caa8f330b32516",
       "version_major": 2,
       "version_minor": 0
      },
      "text/plain": [
       "Downloading artifacts:   0%|          | 0/3 [00:00<?, ?it/s]"
      ]
     },
     "metadata": {},
     "output_type": "display_data"
    },
    {
     "data": {
      "application/vnd.jupyter.widget-view+json": {
       "model_id": "7274be18322245be88a73cc6674c2631",
       "version_major": 2,
       "version_minor": 0
      },
      "text/plain": [
       "Models:   0%|          | 0/2 [00:00<?, ?it/s]"
      ]
     },
     "metadata": {},
     "output_type": "display_data"
    },
    {
     "name": "stderr",
     "output_type": "stream",
     "text": [
      "/home/jfeil/.pyenv/versions/3.8.17/envs/DroneTracking/lib/python3.8/site-packages/torch/nn/_reduction.py:42: UserWarning: size_average and reduce args will be deprecated, please use reduction='mean' instead.\n",
      "  warnings.warn(warning.format(ret))\n"
     ]
    },
    {
     "data": {
      "application/vnd.jupyter.widget-view+json": {
       "model_id": "f5118c66c50f4991b8a49d34f32626b1",
       "version_major": 2,
       "version_minor": 0
      },
      "text/plain": [
       "Epochs:   0%|          | 0/5 [00:00<?, ?it/s]"
      ]
     },
     "metadata": {},
     "output_type": "display_data"
    },
    {
     "data": {
      "application/vnd.jupyter.widget-view+json": {
       "model_id": "cc9642cbee6f4e8291f0e763ec0befe4",
       "version_major": 2,
       "version_minor": 0
      },
      "text/plain": [
       "Epochs:   0%|          | 0/5 [00:00<?, ?it/s]"
      ]
     },
     "metadata": {},
     "output_type": "display_data"
    },
    {
     "data": {
      "application/vnd.jupyter.widget-view+json": {
       "model_id": "6c3b6cd4db57433da14c7425eeb8dcf6",
       "version_major": 2,
       "version_minor": 0
      },
      "text/plain": [
       "Downloading artifacts:   0%|          | 0/3 [00:00<?, ?it/s]"
      ]
     },
     "metadata": {},
     "output_type": "display_data"
    },
    {
     "data": {
      "application/vnd.jupyter.widget-view+json": {
       "model_id": "553b3c12247c4f02a58a469aab7678de",
       "version_major": 2,
       "version_minor": 0
      },
      "text/plain": [
       "Models:   0%|          | 0/2 [00:00<?, ?it/s]"
      ]
     },
     "metadata": {},
     "output_type": "display_data"
    },
    {
     "name": "stderr",
     "output_type": "stream",
     "text": [
      "/home/jfeil/.pyenv/versions/3.8.17/envs/DroneTracking/lib/python3.8/site-packages/torch/nn/_reduction.py:42: UserWarning: size_average and reduce args will be deprecated, please use reduction='mean' instead.\n",
      "  warnings.warn(warning.format(ret))\n"
     ]
    },
    {
     "data": {
      "application/vnd.jupyter.widget-view+json": {
       "model_id": "9b23fd5f7df94875b80b0dc65499bea4",
       "version_major": 2,
       "version_minor": 0
      },
      "text/plain": [
       "Epochs:   0%|          | 0/5 [00:00<?, ?it/s]"
      ]
     },
     "metadata": {},
     "output_type": "display_data"
    },
    {
     "data": {
      "application/vnd.jupyter.widget-view+json": {
       "model_id": "4463dbf03c8349f49ebbec4e9b1fdeb8",
       "version_major": 2,
       "version_minor": 0
      },
      "text/plain": [
       "Epochs:   0%|          | 0/5 [00:00<?, ?it/s]"
      ]
     },
     "metadata": {},
     "output_type": "display_data"
    },
    {
     "data": {
      "application/vnd.jupyter.widget-view+json": {
       "model_id": "a080100670ef470daa349248e68e0ad9",
       "version_major": 2,
       "version_minor": 0
      },
      "text/plain": [
       "Downloading artifacts:   0%|          | 0/3 [00:00<?, ?it/s]"
      ]
     },
     "metadata": {},
     "output_type": "display_data"
    },
    {
     "data": {
      "application/vnd.jupyter.widget-view+json": {
       "model_id": "cf357fae57934780a965673a5beec572",
       "version_major": 2,
       "version_minor": 0
      },
      "text/plain": [
       "Models:   0%|          | 0/2 [00:00<?, ?it/s]"
      ]
     },
     "metadata": {},
     "output_type": "display_data"
    },
    {
     "name": "stderr",
     "output_type": "stream",
     "text": [
      "/home/jfeil/.pyenv/versions/3.8.17/envs/DroneTracking/lib/python3.8/site-packages/torch/nn/_reduction.py:42: UserWarning: size_average and reduce args will be deprecated, please use reduction='mean' instead.\n",
      "  warnings.warn(warning.format(ret))\n"
     ]
    },
    {
     "data": {
      "application/vnd.jupyter.widget-view+json": {
       "model_id": "d134dbd00d5e46569075f020306b24d9",
       "version_major": 2,
       "version_minor": 0
      },
      "text/plain": [
       "Epochs:   0%|          | 0/5 [00:00<?, ?it/s]"
      ]
     },
     "metadata": {},
     "output_type": "display_data"
    },
    {
     "data": {
      "application/vnd.jupyter.widget-view+json": {
       "model_id": "f8e1c9f986624cc79d584101654dc301",
       "version_major": 2,
       "version_minor": 0
      },
      "text/plain": [
       "Epochs:   0%|          | 0/5 [00:00<?, ?it/s]"
      ]
     },
     "metadata": {},
     "output_type": "display_data"
    },
    {
     "data": {
      "application/vnd.jupyter.widget-view+json": {
       "model_id": "2f6b77e5e2494e5ebeec9c390a221e6c",
       "version_major": 2,
       "version_minor": 0
      },
      "text/plain": [
       "Downloading artifacts:   0%|          | 0/3 [00:00<?, ?it/s]"
      ]
     },
     "metadata": {},
     "output_type": "display_data"
    },
    {
     "data": {
      "application/vnd.jupyter.widget-view+json": {
       "model_id": "e98267f9dc3c4e4ea61f5c26b8929786",
       "version_major": 2,
       "version_minor": 0
      },
      "text/plain": [
       "Models:   0%|          | 0/2 [00:00<?, ?it/s]"
      ]
     },
     "metadata": {},
     "output_type": "display_data"
    },
    {
     "name": "stderr",
     "output_type": "stream",
     "text": [
      "/home/jfeil/.pyenv/versions/3.8.17/envs/DroneTracking/lib/python3.8/site-packages/torch/nn/_reduction.py:42: UserWarning: size_average and reduce args will be deprecated, please use reduction='mean' instead.\n",
      "  warnings.warn(warning.format(ret))\n"
     ]
    },
    {
     "data": {
      "application/vnd.jupyter.widget-view+json": {
       "model_id": "239c71aceb0d4a1f9c859942be1a349a",
       "version_major": 2,
       "version_minor": 0
      },
      "text/plain": [
       "Epochs:   0%|          | 0/5 [00:00<?, ?it/s]"
      ]
     },
     "metadata": {},
     "output_type": "display_data"
    },
    {
     "data": {
      "application/vnd.jupyter.widget-view+json": {
       "model_id": "9d2a589fc2b545d6a3f03198ac70dc40",
       "version_major": 2,
       "version_minor": 0
      },
      "text/plain": [
       "Epochs:   0%|          | 0/5 [00:00<?, ?it/s]"
      ]
     },
     "metadata": {},
     "output_type": "display_data"
    },
    {
     "data": {
      "application/vnd.jupyter.widget-view+json": {
       "model_id": "e3b579906fd1484188b354866fa052c9",
       "version_major": 2,
       "version_minor": 0
      },
      "text/plain": [
       "Downloading artifacts:   0%|          | 0/3 [00:00<?, ?it/s]"
      ]
     },
     "metadata": {},
     "output_type": "display_data"
    },
    {
     "data": {
      "application/vnd.jupyter.widget-view+json": {
       "model_id": "f8bbd43137834480a71c47b15326a0a1",
       "version_major": 2,
       "version_minor": 0
      },
      "text/plain": [
       "Models:   0%|          | 0/2 [00:00<?, ?it/s]"
      ]
     },
     "metadata": {},
     "output_type": "display_data"
    },
    {
     "name": "stderr",
     "output_type": "stream",
     "text": [
      "/home/jfeil/.pyenv/versions/3.8.17/envs/DroneTracking/lib/python3.8/site-packages/torch/nn/_reduction.py:42: UserWarning: size_average and reduce args will be deprecated, please use reduction='mean' instead.\n",
      "  warnings.warn(warning.format(ret))\n"
     ]
    },
    {
     "data": {
      "application/vnd.jupyter.widget-view+json": {
       "model_id": "ed562b41f9204955acb8cb95bd6eafd4",
       "version_major": 2,
       "version_minor": 0
      },
      "text/plain": [
       "Epochs:   0%|          | 0/5 [00:00<?, ?it/s]"
      ]
     },
     "metadata": {},
     "output_type": "display_data"
    },
    {
     "data": {
      "application/vnd.jupyter.widget-view+json": {
       "model_id": "7db98b5e08474d0e8bb4594a26ed3e65",
       "version_major": 2,
       "version_minor": 0
      },
      "text/plain": [
       "Epochs:   0%|          | 0/5 [00:00<?, ?it/s]"
      ]
     },
     "metadata": {},
     "output_type": "display_data"
    },
    {
     "data": {
      "application/vnd.jupyter.widget-view+json": {
       "model_id": "6e27fad42e234a698b5f639a097e11b7",
       "version_major": 2,
       "version_minor": 0
      },
      "text/plain": [
       "Downloading artifacts:   0%|          | 0/3 [00:00<?, ?it/s]"
      ]
     },
     "metadata": {},
     "output_type": "display_data"
    },
    {
     "data": {
      "application/vnd.jupyter.widget-view+json": {
       "model_id": "3a0e21f47e644af7845982a867dd8f2e",
       "version_major": 2,
       "version_minor": 0
      },
      "text/plain": [
       "Models:   0%|          | 0/2 [00:00<?, ?it/s]"
      ]
     },
     "metadata": {},
     "output_type": "display_data"
    },
    {
     "name": "stderr",
     "output_type": "stream",
     "text": [
      "/home/jfeil/.pyenv/versions/3.8.17/envs/DroneTracking/lib/python3.8/site-packages/torch/nn/_reduction.py:42: UserWarning: size_average and reduce args will be deprecated, please use reduction='mean' instead.\n",
      "  warnings.warn(warning.format(ret))\n"
     ]
    },
    {
     "data": {
      "application/vnd.jupyter.widget-view+json": {
       "model_id": "f3e0edee007347c28b8d5115c2b26f42",
       "version_major": 2,
       "version_minor": 0
      },
      "text/plain": [
       "Epochs:   0%|          | 0/5 [00:00<?, ?it/s]"
      ]
     },
     "metadata": {},
     "output_type": "display_data"
    },
    {
     "data": {
      "application/vnd.jupyter.widget-view+json": {
       "model_id": "106db8b430164fb3a4c2fb08e0599d10",
       "version_major": 2,
       "version_minor": 0
      },
      "text/plain": [
       "Epochs:   0%|          | 0/5 [00:00<?, ?it/s]"
      ]
     },
     "metadata": {},
     "output_type": "display_data"
    }
   ],
   "source": [
    "from collections import defaultdict\n",
    "from tqdm.notebook import tqdm\n",
    "from sklearn.metrics import precision_recall_curve, average_precision_score, PrecisionRecallDisplay, f1_score\n",
    "\n",
    "worst_images = defaultdict(lambda: 0)\n",
    "worst_joints = defaultdict(lambda: 0)\n",
    "\n",
    "ap_val = defaultdict(lambda: [])\n",
    "pr_curve = defaultdict(lambda: [])\n",
    "\n",
    "for run in tqdm(runs):\n",
    "    y_corr, probas_pred, scores, coords_pred, maxvals_pred, prefix, results = analyze_run(run, test_loader)\n",
    "\n",
    "    for i in range(y_corr.shape[0]):\n",
    "\n",
    "        ap_val[run] += [average_precision_score(y_corr[i].flatten(), probas_pred[i].flatten())]\n",
    "        pr_curve[run] +=  [precision_recall_curve(y_corr[i].flatten(), probas_pred[i].flatten())]\n",
    "\n",
    "        per_joint = y_corr[i].sum(axis=0)\n",
    "        per_image = y_corr[i].sum(axis=1)\n",
    "        \n",
    "        for i in np.argsort(per_image)[:5]:\n",
    "            worst_images[i] += 1\n",
    "        \n",
    "        for i in np.argsort(per_joint)[:3]:\n",
    "            worst_joints[i] += 1"
   ]
  },
  {
   "cell_type": "code",
   "execution_count": 67,
   "id": "63490d7a-e0a4-43d5-8e78-778a49c48c0b",
   "metadata": {},
   "outputs": [],
   "source": [
    "new_aps = []\n",
    "for key, value in ap_val.items():\n",
    "    for x in value:\n",
    "        new_aps += [(key, x)]"
   ]
  },
  {
   "cell_type": "code",
   "execution_count": 70,
   "id": "6fb2b051-0708-4d00-b4ae-8af8d8adb845",
   "metadata": {
    "scrolled": true
   },
   "outputs": [
    {
     "data": {
      "text/plain": [
       "[('a2791694d2fc4d7d8c7343209904c02f', 0.9387368354446297),\n",
       " ('e2672858625244f1813be1b1b63404c3', 0.9374613141581886),\n",
       " ('d0b5e996924e4bed9e8e617e0773f3cc', 0.9368811865085794),\n",
       " ('d61beb2d898447ccb68e4cb35e0298aa', 0.9367701541244933),\n",
       " ('0bb70701a2fd4e2b8795ed9e69d47bbd', 0.936429359834027),\n",
       " ('5a31d2f2c10c40569d058f1eed856b4c', 0.9362784506731565),\n",
       " ('3e5cc8a513a14653a7e5ddcf8ed11f61', 0.9349882222888125),\n",
       " ('d4b4dc86ffd9459aa8ba02e03118dbe5', 0.934954773916593),\n",
       " ('2809680ffcff48669ce315f75d7f9249', 0.9344295885668451),\n",
       " ('fff5f701beab46c6bbfd7f8e991e4700', 0.9334226055204838),\n",
       " ('b4bf469eb5d242cda0644efada86710d', 0.9331011499487906),\n",
       " ('e2672858625244f1813be1b1b63404c3', 0.9324784327463149),\n",
       " ('a8d8c9d6fe19402b8d7be00378864ff1', 0.9319155639679793),\n",
       " ('0bb70701a2fd4e2b8795ed9e69d47bbd', 0.9316200065560243),\n",
       " ('d61beb2d898447ccb68e4cb35e0298aa', 0.9309693519885128),\n",
       " ('9d194ffa12f145f5bf994359c5fd36ae', 0.9299232447778921),\n",
       " ('5a31d2f2c10c40569d058f1eed856b4c', 0.9298289542287),\n",
       " ('7f445757c4ab43bcbbfecc7198ad566f', 0.929451572002567),\n",
       " ('2bd5fad450984958abc0b968b4eefadf', 0.9293794116558034),\n",
       " ('081b42a460924120af77f6cee1a7782c', 0.9286057712457465),\n",
       " ('a8d8c9d6fe19402b8d7be00378864ff1', 0.9275763982302365),\n",
       " ('6a8b842fd1ca47148333d89172bd0609', 0.927460478703017),\n",
       " ('49af7b584f03469d98c339245d5b2b23', 0.9268314484323403),\n",
       " ('a2791694d2fc4d7d8c7343209904c02f', 0.9267438137050988),\n",
       " ('d0b5e996924e4bed9e8e617e0773f3cc', 0.9261558485322038),\n",
       " ('7d8506a2af6c4477b1a187595568b44b', 0.9258733693327974),\n",
       " ('4102fec81ddb43388d80f85a9c5dae8d', 0.9257263521916531),\n",
       " ('2bd5fad450984958abc0b968b4eefadf', 0.9254010763165861),\n",
       " ('8f0c57249e564b668d88138d783a6ca8', 0.9245260420095451),\n",
       " ('e5d19197c40a4028bd529d3bb0a4149f', 0.9244327114422937),\n",
       " ('69885e0593f847f3aab62b230d7eda6b', 0.9244047448554423),\n",
       " ('69885e0593f847f3aab62b230d7eda6b', 0.9240686914344669),\n",
       " ('081b42a460924120af77f6cee1a7782c', 0.9234825269350286),\n",
       " ('b843163c6a274e31b412cd2cd7a5a60c', 0.9233158216120438),\n",
       " ('cd9fb5c7b5724c4b9f8970e52b5e95af', 0.9230504031805848),\n",
       " ('6e5ac17c919f4fd5bdfb1ee8a9ac9135', 0.922704334231942),\n",
       " ('cd9fb5c7b5724c4b9f8970e52b5e95af', 0.9226997165423605),\n",
       " ('f0f2ba0b7ca544e8926e53888c03764f', 0.9226669127172186),\n",
       " ('57e2320428804d0daa4d3a1ab4acf9f4', 0.9225745172379172),\n",
       " ('73fb52c38d5c401ea9f55d8812ff6607', 0.9223094362745762),\n",
       " ('66a4701d05c24a3e922770d93246dd3d', 0.9221490159993131),\n",
       " ('d4b4dc86ffd9459aa8ba02e03118dbe5', 0.9216290186288894),\n",
       " ('73fb52c38d5c401ea9f55d8812ff6607', 0.9214167369270563),\n",
       " ('1bb0fcbb3aaa4026978aa7d58aff4f89', 0.9210295291694216),\n",
       " ('23170df0a5e44781bd64e45dfbbe2f31', 0.920807162411748),\n",
       " ('0c947f644ba942ca97e03d3e88476c32', 0.9202784609575991),\n",
       " ('b4bf469eb5d242cda0644efada86710d', 0.9197179116132619),\n",
       " ('e324650bc77c4fe89a711f8ea8a9b9a1', 0.9195453806784954),\n",
       " ('9d194ffa12f145f5bf994359c5fd36ae', 0.9189927562744183),\n",
       " ('66a4701d05c24a3e922770d93246dd3d', 0.9181810250532109),\n",
       " ('b843163c6a274e31b412cd2cd7a5a60c', 0.9181810250532109),\n",
       " ('8f0c57249e564b668d88138d783a6ca8', 0.9180626369168478),\n",
       " ('e5d19197c40a4028bd529d3bb0a4149f', 0.9174756039863169),\n",
       " ('9547163139bb4431822ab2c1ef9ac71a', 0.9173137285906747),\n",
       " ('83a56d15f6ca4625b1566f5c10c93c88', 0.9172981488500274),\n",
       " ('0c947f644ba942ca97e03d3e88476c32', 0.9172303203517232),\n",
       " ('49af7b584f03469d98c339245d5b2b23', 0.9168097233329107),\n",
       " ('305e7b9d90144dc79075b7e764f14c3f', 0.9160817201398842),\n",
       " ('7f445757c4ab43bcbbfecc7198ad566f', 0.9157691454417631),\n",
       " ('305e7b9d90144dc79075b7e764f14c3f', 0.9156549318560685),\n",
       " ('6675a328409b403ebfb11fcef2a3ded7', 0.9155760481772017),\n",
       " ('fff5f701beab46c6bbfd7f8e991e4700', 0.9154992029135631),\n",
       " ('23170df0a5e44781bd64e45dfbbe2f31', 0.9149979285569988),\n",
       " ('e324650bc77c4fe89a711f8ea8a9b9a1', 0.9149312638788618),\n",
       " ('83a56d15f6ca4625b1566f5c10c93c88', 0.9149144453329494),\n",
       " ('f0f2ba0b7ca544e8926e53888c03764f', 0.9145787344004968),\n",
       " ('50af238b6afa423986533f0fe16b4107', 0.9129852843144505),\n",
       " ('6a8b842fd1ca47148333d89172bd0609', 0.9093445314631563),\n",
       " ('50af238b6afa423986533f0fe16b4107', 0.9090550330911171),\n",
       " ('3e5cc8a513a14653a7e5ddcf8ed11f61', 0.9084743647061927),\n",
       " ('d32411fb8bfe4054bb8fb1faa917bbfd', 0.908399109606786),\n",
       " ('2809680ffcff48669ce315f75d7f9249', 0.9079204069776279),\n",
       " ('d32411fb8bfe4054bb8fb1faa917bbfd', 0.9076340528454464),\n",
       " ('6675a328409b403ebfb11fcef2a3ded7', 0.9076231096590461),\n",
       " ('1bb0fcbb3aaa4026978aa7d58aff4f89', 0.9075378520909568),\n",
       " ('4102fec81ddb43388d80f85a9c5dae8d', 0.9071759366515236),\n",
       " ('7d8506a2af6c4477b1a187595568b44b', 0.9037830426214627),\n",
       " ('6e5ac17c919f4fd5bdfb1ee8a9ac9135', 0.9011945639667399),\n",
       " ('9547163139bb4431822ab2c1ef9ac71a', 0.8996582750737357),\n",
       " ('57e2320428804d0daa4d3a1ab4acf9f4', 0.89223891653559),\n",
       " ('5a6b507b1dbe41adaaf66b44c9a22188', 0.8871504931971665),\n",
       " ('5a6b507b1dbe41adaaf66b44c9a22188', 0.8815502970661029),\n",
       " ('0ee7c9fd0d8841918994129dc5a6e82f', 0.8464130348543155),\n",
       " ('0ee7c9fd0d8841918994129dc5a6e82f', 0.8410541374039509),\n",
       " ('ce37c5b911754c60b55740151f217103', 0.7864924040853557),\n",
       " ('ce37c5b911754c60b55740151f217103', 0.781257839244018),\n",
       " ('7e551803e5bf4c5ca79397e527ac778a', 0.22491925990924047),\n",
       " ('7e551803e5bf4c5ca79397e527ac778a', 0.19451761606949097),\n",
       " ('cb4bf1341fc345259f1436e6a373a242', 0.17278104671812877),\n",
       " ('43fe19be4d604268b23e51ed0d15822b', 0.15655951009591024),\n",
       " ('b02e49382787494db87e634889989956', 0.06115872211542792)]"
      ]
     },
     "execution_count": 70,
     "metadata": {},
     "output_type": "execute_result"
    }
   ],
   "source": [
    "sorted(new_aps, key=lambda x: x[1], reverse=True)"
   ]
  },
  {
   "cell_type": "code",
   "execution_count": null,
   "id": "17c3de19-2c42-44b6-86ab-263472ff2abc",
   "metadata": {},
   "outputs": [],
   "source": [
    "probas_pred[i]"
   ]
  },
  {
   "cell_type": "code",
   "execution_count": 87,
   "id": "d4682878-d724-442f-b704-391f053787c6",
   "metadata": {},
   "outputs": [
    {
     "data": {
      "text/plain": [
       "[(49, 1),\n",
       " (79, 1),\n",
       " (66, 1),\n",
       " (95, 1),\n",
       " (93, 1),\n",
       " (92, 1),\n",
       " (78, 1),\n",
       " (0, 1),\n",
       " (84, 1),\n",
       " (83, 1),\n",
       " (89, 1),\n",
       " (21, 1),\n",
       " (34, 1),\n",
       " (65, 1),\n",
       " (113, 1),\n",
       " (131, 1),\n",
       " (109, 1),\n",
       " (116, 1),\n",
       " (115, 1),\n",
       " (114, 1),\n",
       " (108, 2),\n",
       " (82, 2),\n",
       " (68, 2),\n",
       " (53, 2),\n",
       " (85, 2),\n",
       " (112, 2),\n",
       " (101, 3),\n",
       " (6, 3),\n",
       " (3, 3),\n",
       " (30, 3),\n",
       " (61, 4),\n",
       " (27, 4),\n",
       " (28, 4),\n",
       " (57, 5),\n",
       " (91, 5),\n",
       " (75, 5),\n",
       " (81, 6),\n",
       " (60, 6),\n",
       " (26, 7),\n",
       " (14, 8),\n",
       " (19, 9),\n",
       " (55, 9),\n",
       " (88, 10),\n",
       " (45, 10),\n",
       " (87, 11),\n",
       " (9, 12),\n",
       " (111, 12),\n",
       " (37, 13),\n",
       " (51, 29),\n",
       " (130, 39),\n",
       " (32, 47),\n",
       " (117, 76),\n",
       " (129, 80)]"
      ]
     },
     "execution_count": 87,
     "metadata": {},
     "output_type": "execute_result"
    }
   ],
   "source": [
    "sorted(worst_images.items(), key=lambda x: x[1]) "
   ]
  },
  {
   "cell_type": "code",
   "execution_count": 83,
   "id": "ea21a377-d0e5-4a85-9791-d37f13522493",
   "metadata": {},
   "outputs": [
    {
     "name": "stdout",
     "output_type": "stream",
     "text": [
      "Elbow Right: 73\n",
      "Hand Right: 73\n",
      "Foot Left: 23\n",
      "Hand Left: 27\n",
      "Elbow Left: 11\n",
      "Foot Right: 60\n",
      "Hip: 3\n",
      "Shoulder Right: 1\n",
      "Shoulder Left: 2\n"
     ]
    }
   ],
   "source": [
    "for key in worst_joints:\n",
    "    print(f\"{joints[key]}: {worst_joints[key]}\")"
   ]
  },
  {
   "cell_type": "code",
   "execution_count": 43,
   "id": "07c86f6b-9ffd-488f-ad3c-3966354106fa",
   "metadata": {},
   "outputs": [
    {
     "data": {
      "text/plain": [
       "defaultdict(<function __main__.<lambda>()>,\n",
       "            {4: 37, 5: 36, 6: 10, 3: 13, 2: 6, 7: 34, 8: 3, 1: 1, 0: 1})"
      ]
     },
     "execution_count": 43,
     "metadata": {},
     "output_type": "execute_result"
    }
   ],
   "source": [
    "worst_joints"
   ]
  },
  {
   "cell_type": "code",
   "execution_count": 51,
   "id": "c664ac6c-b747-4aab-ba6d-2d1c946d771e",
   "metadata": {},
   "outputs": [
    {
     "data": {
      "text/plain": [
       "array([1, 2, 4, 4, 4])"
      ]
     },
     "execution_count": 51,
     "metadata": {},
     "output_type": "execute_result"
    }
   ],
   "source": [
    "y_corr.sum(axis=1)[np.argsort()[:5]]"
   ]
  },
  {
   "cell_type": "code",
   "execution_count": 39,
   "id": "dadc3e92-aa06-45bb-b540-8d97cbf4a3fa",
   "metadata": {},
   "outputs": [
    {
     "data": {
      "text/plain": [
       "array([113, 114, 104, 100,  91,  95,  98,  85, 109, 125])"
      ]
     },
     "execution_count": 39,
     "metadata": {},
     "output_type": "execute_result"
    }
   ],
   "source": [
    "y_corr.sum(axis=0)"
   ]
  },
  {
   "cell_type": "code",
   "execution_count": 148,
   "id": "8600109f-1708-4441-adad-93578cf54496",
   "metadata": {},
   "outputs": [
    {
     "data": {
      "text/plain": [
       "(85.46250462532043, 113.95000219345093)"
      ]
     },
     "execution_count": 148,
     "metadata": {},
     "output_type": "execute_result"
    }
   ],
   "source": [
    "w_ = x2 - x1\n",
    "h_ = y2 - y1\n",
    "w_, h_"
   ]
  },
  {
   "cell_type": "code",
   "execution_count": 141,
   "id": "1c7d71bf-8a34-4c52-a302-d84e0d434f2e",
   "metadata": {},
   "outputs": [],
   "source": [
    "w_ = int(np.round(x2 - x1))\n",
    "h_ = int(np.round(y2 - y1))"
   ]
  },
  {
   "cell_type": "code",
   "execution_count": 147,
   "id": "32b53675-0a3c-45d6-8bb0-a235b7201fe3",
   "metadata": {},
   "outputs": [
    {
     "data": {
      "text/plain": [
       "1.3333332868375865"
      ]
     },
     "execution_count": 147,
     "metadata": {},
     "output_type": "execute_result"
    }
   ],
   "source": [
    "h_ / w_"
   ]
  },
  {
   "cell_type": "code",
   "execution_count": 134,
   "id": "5a839cc2-2535-40ad-aff0-2ea7709f52b1",
   "metadata": {},
   "outputs": [
    {
     "data": {
      "text/plain": [
       "1.3333333333333333"
      ]
     },
     "execution_count": 134,
     "metadata": {},
     "output_type": "execute_result"
    }
   ],
   "source": [
    "heatmap.shape[0] / heatmap.shape[1]"
   ]
  },
  {
   "cell_type": "code",
   "execution_count": 109,
   "id": "fc4f3c54-7a52-4b0c-953b-a81b2fdce247",
   "metadata": {},
   "outputs": [
    {
     "data": {
      "text/plain": [
       "4.0"
      ]
     },
     "execution_count": 109,
     "metadata": {},
     "output_type": "execute_result"
    }
   ],
   "source": [
    "288 / 72\n",
    "384 / 96"
   ]
  },
  {
   "cell_type": "code",
   "execution_count": 72,
   "id": "e9093f8f-6c72-4b2a-92b6-ade77404f869",
   "metadata": {},
   "outputs": [
    {
     "ename": "error",
     "evalue": "OpenCV(4.8.1) /io/opencv/modules/imgproc/src/colormap.cpp:736: error: (-5:Bad argument) cv::ColorMap only supports source images of type CV_8UC1 or CV_8UC3 in function 'operator()'\n",
     "output_type": "error",
     "traceback": [
      "\u001b[0;31m---------------------------------------------------------------------------\u001b[0m",
      "\u001b[0;31merror\u001b[0m                                     Traceback (most recent call last)",
      "Cell \u001b[0;32mIn[72], line 1\u001b[0m\n\u001b[0;32m----> 1\u001b[0m heatmap_img \u001b[38;5;241m=\u001b[39m \u001b[43mcv2\u001b[49m\u001b[38;5;241;43m.\u001b[39;49m\u001b[43mapplyColorMap\u001b[49m\u001b[43m(\u001b[49m\u001b[43mheatmap\u001b[49m\u001b[38;5;241;43m*\u001b[39;49m\u001b[38;5;241;43m255\u001b[39;49m\u001b[43m,\u001b[49m\u001b[43m \u001b[49m\u001b[43mcv2\u001b[49m\u001b[38;5;241;43m.\u001b[39;49m\u001b[43mCOLORMAP_JET\u001b[49m\u001b[43m)\u001b[49m\n",
      "\u001b[0;31merror\u001b[0m: OpenCV(4.8.1) /io/opencv/modules/imgproc/src/colormap.cpp:736: error: (-5:Bad argument) cv::ColorMap only supports source images of type CV_8UC1 or CV_8UC3 in function 'operator()'\n"
     ]
    }
   ],
   "source": [
    "heatmap_img = cv2.applyColorMap(heatmap*255, cv2.COLORMAP_JET)"
   ]
  },
  {
   "cell_type": "code",
   "execution_count": 122,
   "id": "f85a23a9-1449-491b-aa51-bf30251803c1",
   "metadata": {},
   "outputs": [
    {
     "data": {
      "text/plain": [
       "<matplotlib.image.AxesImage at 0x7f0b8fe9ff70>"
      ]
     },
     "execution_count": 122,
     "metadata": {},
     "output_type": "execute_result"
    },
    {
     "data": {
      "application/vnd.jupyter.widget-view+json": {
       "model_id": "688fa66ebd1a4bbfb3051e6a18d54b77",
       "version_major": 2,
       "version_minor": 0
      },
      "image/png": "[encoded data removed]",
      "text/html": [
       "\n",
       "            <div style=\"display: inline-block;\">\n",
       "                <div class=\"jupyter-widgets widget-label\" style=\"text-align: center;\">\n",
       "                    Figure\n",
       "                </div>\n",
       "                <img src='data:image/png;base64,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' width=640.0/>\n",
       "            </div>\n",
       "        "
      ],
      "text/plain": [
       "Canvas(toolbar=Toolbar(toolitems=[('Home', 'Reset original view', 'home', 'home'), ('Back', 'Back to previous …"
      ]
     },
     "metadata": {},
     "output_type": "display_data"
    }
   ],
   "source": [
    "fig, axes = plt.subplots()\n",
    "axes.imshow(frame[y1:y2, x1:x2, :])"
   ]
  },
  {
   "cell_type": "code",
   "execution_count": 13,
   "id": "96aaa85c-8974-4de0-a1bb-d9ed9b74b9a3",
   "metadata": {},
   "outputs": [],
   "source": [
    "import _init_paths\n"
   ]
  },
  {
   "cell_type": "code",
   "execution_count": 28,
   "id": "f181e162-9d3f-4dbc-a622-33a19b7b0c20",
   "metadata": {},
   "outputs": [
    {
     "data": {
      "text/plain": [
       "(133, 10, 96, 72)"
      ]
     },
     "execution_count": 28,
     "metadata": {},
     "output_type": "execute_result"
    }
   ],
   "source": [
    "results[0][4].shape"
   ]
  },
  {
   "cell_type": "code",
   "execution_count": 102,
   "id": "96b5a1c9-d169-4146-be94-3e6cb7d0b337",
   "metadata": {},
   "outputs": [],
   "source": []
  },
  {
   "cell_type": "code",
   "execution_count": 103,
   "id": "d58b2f2b-3fed-413a-b1cb-6ee2d57df6af",
   "metadata": {},
   "outputs": [],
   "source": []
  },
  {
   "cell_type": "code",
   "execution_count": 35,
   "id": "de73e84d-46b9-451b-bbf9-deb8e051f3e0",
   "metadata": {},
   "outputs": [
    {
     "name": "stdout",
     "output_type": "stream",
     "text": [
      "1.0\n",
      "1.0\n",
      "1.0\n",
      "1.0\n",
      "1.0\n",
      "1.0\n",
      "1.0\n",
      "1.0\n",
      "1.0\n",
      "1.0\n"
     ]
    },
    {
     "data": {
      "application/vnd.jupyter.widget-view+json": {
       "model_id": "7f89315738a14a189372df1f4bfb8adf",
       "version_major": 2,
       "version_minor": 0
      },
      "image/png": "[encoded data removed]",
      "text/html": [
       "\n",
       "            <div style=\"display: inline-block;\">\n",
       "                <div class=\"jupyter-widgets widget-label\" style=\"text-align: center;\">\n",
       "                    Figure\n",
       "                </div>\n",
       "                <img src='data:image/png;base64,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' width=640.0/>\n",
       "            </div>\n",
       "        "
      ],
      "text/plain": [
       "Canvas(toolbar=Toolbar(toolitems=[('Home', 'Reset original view', 'home', 'home'), ('Back', 'Back to previous …"
      ]
     },
     "metadata": {},
     "output_type": "display_data"
    }
   ],
   "source": [
    "vis_heatmap(annotations[0])"
   ]
  },
  {
   "cell_type": "code",
   "execution_count": 264,
   "id": "66336535-368d-4436-bda2-b9ac3e193727",
   "metadata": {},
   "outputs": [
    {
     "data": {
      "application/vnd.jupyter.widget-view+json": {
       "model_id": "6fd639c76f4a4fde944a8ae199e9fa24",
       "version_major": 2,
       "version_minor": 0
      },
      "image/png": "[encoded data removed]",
      "text/html": [
       "\n",
       "            <div style=\"display: inline-block;\">\n",
       "                <div class=\"jupyter-widgets widget-label\" style=\"text-align: center;\">\n",
       "                    Figure\n",
       "                </div>\n",
       "                <img src='data:image/png;base64,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' width=640.0/>\n",
       "            </div>\n",
       "        "
      ],
      "text/plain": [
       "Canvas(toolbar=Toolbar(toolitems=[('Home', 'Reset original view', 'home', 'home'), ('Back', 'Back to previous …"
      ]
     },
     "metadata": {},
     "output_type": "display_data"
    }
   ],
   "source": []
  },
  {
   "cell_type": "code",
   "execution_count": 271,
   "id": "019fa74a-1c36-4d50-b457-532a4022a5f1",
   "metadata": {},
   "outputs": [
    {
     "data": {
      "text/plain": [
       "55"
      ]
     },
     "execution_count": 271,
     "metadata": {},
     "output_type": "execute_result"
    }
   ],
   "source": [
    "f1_scores = [f1_score(y_true, probas_pred >= t_) for t_ in t]\n",
    "optimum = np.argmax(f1_scores)\n",
    "optimum"
   ]
  },
  {
   "cell_type": "code",
   "execution_count": 272,
   "id": "572e3def-9d29-47b5-8204-74f6521295d9",
   "metadata": {},
   "outputs": [
    {
     "data": {
      "text/plain": [
       "0.9165964616680706"
      ]
     },
     "execution_count": 272,
     "metadata": {},
     "output_type": "execute_result"
    }
   ],
   "source": [
    "f1_scores[optimum]"
   ]
  },
  {
   "cell_type": "code",
   "execution_count": 273,
   "id": "4cc40cfb-4d98-405d-ab3d-be151517d7cf",
   "metadata": {},
   "outputs": [
    {
     "data": {
      "text/plain": [
       "0.8533333333333334"
      ]
     },
     "execution_count": 273,
     "metadata": {},
     "output_type": "execute_result"
    }
   ],
   "source": [
    "p[optimum]"
   ]
  },
  {
   "cell_type": "code",
   "execution_count": 274,
   "id": "23880461-762a-4eb8-82a3-280aa0dc3d0d",
   "metadata": {},
   "outputs": [
    {
     "data": {
      "text/plain": [
       "0.9899909008189263"
      ]
     },
     "execution_count": 274,
     "metadata": {},
     "output_type": "execute_result"
    }
   ],
   "source": [
    "r[optimum]"
   ]
  },
  {
   "cell_type": "code",
   "execution_count": 275,
   "id": "b652c455-3571-4329-99c5-1918bc00234f",
   "metadata": {},
   "outputs": [
    {
     "data": {
      "text/plain": [
       "0.18700863420963287"
      ]
     },
     "execution_count": 275,
     "metadata": {},
     "output_type": "execute_result"
    }
   ],
   "source": [
    "t[optimum]"
   ]
  }
 ],
 "metadata": {
  "kernelspec": {
   "display_name": "Python 3 (ipykernel)",
   "language": "python",
   "name": "python3"
  },
  "language_info": {
   "codemirror_mode": {
    "name": "ipython",
    "version": 3
   },
   "file_extension": ".py",
   "mimetype": "text/x-python",
   "name": "python",
   "nbconvert_exporter": "python",
   "pygments_lexer": "ipython3",
   "version": "3.8.17"
  }
 },
 "nbformat": 4,
 "nbformat_minor": 5
}
