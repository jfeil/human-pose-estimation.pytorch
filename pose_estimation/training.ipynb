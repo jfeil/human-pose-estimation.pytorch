{
 "cells": [
  {
   "cell_type": "code",
   "execution_count": 1,
   "id": "3764a862-5a58-457b-9be2-79e3426b60e0",
   "metadata": {},
   "outputs": [],
   "source": [
    "%load_ext autoreload\n",
    "%autoreload 2"
   ]
  },
  {
   "cell_type": "code",
   "execution_count": 8,
   "id": "bca6ff57-6de1-461d-9397-e411b311392e",
   "metadata": {
    "jupyter": {
     "source_hidden": true
    }
   },
   "outputs": [],
   "source": [
    "def create_splits(input_datasets, percentage=0.2):\n",
    "    splits = []\n",
    "    for i in range(len(input_datasets)):\n",
    "        train = list(input_datasets)\n",
    "        train.pop(i)\n",
    "        val = [input_datasets[i]]\n",
    "        splits += [{'train_set': train, 'val_set': val}]\n",
    "    return splits\n",
    "\n",
    "# create_splits([80, 68, 176, 81, 82, 71, 87])"
   ]
  },
  {
   "cell_type": "code",
   "execution_count": 2,
   "id": "initial_id",
   "metadata": {
    "ExecuteTime": {
     "end_time": "2024-01-15T13:20:26.295285850Z",
     "start_time": "2024-01-15T13:20:26.274466115Z"
    }
   },
   "outputs": [],
   "source": [
    "from train import train_loop, prepare_config, prepare_training_set\n",
    "import os\n",
    "os.environ[\"MLFLOW_TRACKING_URI\"] = \"http://localhost:5000\"\n",
    "os.environ[\"MLFLOW_S3_ENDPOINT_URL\"] = \"http://localhost:9000\"\n",
    "\n",
    "import mlflow\n",
    "from tqdm.notebook import tqdm\n",
    "\n",
    "mlflow.set_tracking_uri(\"http://localhost:5000\")\n",
    "mlflow.set_registry_uri(\"http://localhost:9000\")"
   ]
  },
  {
   "cell_type": "code",
   "execution_count": 4,
   "id": "ee4c3188-460a-4389-8d0a-c90b18652b81",
   "metadata": {},
   "outputs": [],
   "source": [
    "training_data = ({'train_set': [80, 68, 176, 81, 82, 71], 'val_set': [87]},)"
   ]
  },
  {
   "cell_type": "code",
   "execution_count": null,
   "id": "74bf9778-a6cf-4872-b8a5-682b63d7d9ce",
   "metadata": {},
   "outputs": [],
   "source": [
    "prepare_training_set('/home/jfeil/IDP/training_pipeline/data/tennis_dataset', training_data['train_set'], training_data['val_set'], '/var/tmp/test')"
   ]
  },
  {
   "cell_type": "code",
   "execution_count": 6,
   "id": "6cfd41d0-d73e-4127-badd-50544dc659a3",
   "metadata": {},
   "outputs": [
    {
     "data": {
      "text/plain": [
       "{'train_set': [80, 68, 176, 82, 71, 87], 'val_set': [81]}"
      ]
     },
     "execution_count": 6,
     "metadata": {},
     "output_type": "execute_result"
    }
   ],
   "source": [
    "training_data = create_splits([80, 68, 176, 81, 82, 71, 87])[3]"
   ]
  },
  {
   "cell_type": "code",
   "execution_count": 7,
   "id": "4ad5b7c3-0fcc-49d6-a659-dcafbdca32ab",
   "metadata": {
    "scrolled": true
   },
   "outputs": [
    {
     "data": {
      "application/vnd.jupyter.widget-view+json": {
       "model_id": "691292453bc841ec847a639bbe89ebdb",
       "version_major": 2,
       "version_minor": 0
      },
      "text/plain": [
       "  0%|          | 0/1 [00:00<?, ?it/s]"
      ]
     },
     "metadata": {},
     "output_type": "display_data"
    },
    {
     "name": "stderr",
     "output_type": "stream",
     "text": [
      "{'cfg': '/var/tmp/test/384x288_d256x3_adam_lr1e-3_TransferLearning_2024-01-16_09:50:30.288026.yaml',\n",
      " 'frequent': 20,\n",
      " 'gpus': '0',\n",
      " 'workers': 16}\n",
      "{'CUDNN': {'BENCHMARK': True, 'DETERMINISTIC': False, 'ENABLED': True},\n",
      " 'DATASET': {'DATASET': 'coco',\n",
      "             'DATA_FORMAT': 'png',\n",
      "             'FLIP': True,\n",
      "             'HYBRID_JOINTS_TYPE': '',\n",
      "             'ROOT': '/var/tmp/test',\n",
      "             'ROT_FACTOR': 40,\n",
      "             'SAT_FACTOR': 0.25,\n",
      "             'SCALE_FACTOR': 0.15,\n",
      "             'SELECT_DATA': False,\n",
      "             'TEST_SET': 'val2017',\n",
      "             'TRAIN_SET': 'train2017'},\n",
      " 'DATA_DIR': '',\n",
      " 'DEBUG': {'DEBUG': True,\n",
      "           'SAVE_BATCH_IMAGES_GT': True,\n",
      "           'SAVE_BATCH_IMAGES_PRED': True,\n",
      "           'SAVE_HEATMAPS_GT': True,\n",
      "           'SAVE_HEATMAPS_PRED': True},\n",
      " 'GPUS': '0',\n",
      " 'LOG_DIR': 'log',\n",
      " 'LOSS': {'USE_TARGET_WEIGHT': True},\n",
      " 'MODEL': {'EXTRA': {'DECONV_WITH_BIAS': False,\n",
      "                     'FINAL_CONV_KERNEL': 1,\n",
      "                     'HEATMAP_SIZE': array([72, 96]),\n",
      "                     'NUM_DECONV_FILTERS': [256, 256, 256],\n",
      "                     'NUM_DECONV_KERNELS': [4, 4, 4],\n",
      "                     'NUM_DECONV_LAYERS': 3,\n",
      "                     'NUM_LAYERS': 152,\n",
      "                     'SIGMA': 3,\n",
      "                     'TARGET_TYPE': 'gaussian'},\n",
      "           'IMAGE_SIZE': array([288, 384]),\n",
      "           'INIT_WEIGHTS': True,\n",
      "           'NAME': 'pose_resnet',\n",
      "           'NUM_JOINTS': 10,\n",
      "           'PRETRAINED': '/home/jfeil/IDP/baseline_implementations/microsoft_baseline/models/pytorch/pose_coco/pose_resnet_152_384x288.pth.tar',\n",
      "           'STYLE': 'pytorch'},\n",
      " 'OUTPUT_DIR': '/home/jfeil/IDP/baseline_implementations/microsoft_baseline/pose_estimation/experiment_output',\n",
      " 'PRINT_FREQ': 100,\n",
      " 'TEST': {'BATCH_SIZE': 32,\n",
      "          'BBOX_THRE': 1.0,\n",
      "          'COCO_BBOX_FILE': 'data/coco/person_detection_results/COCO_val2017_detections_AP_H_56_person.json',\n",
      "          'FLIP_TEST': False,\n",
      "          'IMAGE_THRE': 0.0,\n",
      "          'IN_VIS_THRE': 0.2,\n",
      "          'MODEL_FILE': '',\n",
      "          'NMS_THRE': 1.0,\n",
      "          'OKS_THRE': 0.9,\n",
      "          'POST_PROCESS': True,\n",
      "          'SHIFT_HEATMAP': True,\n",
      "          'USE_GT_BBOX': True},\n",
      " 'TRAIN': {'BATCH_SIZE': 32,\n",
      "           'BEGIN_EPOCH': 0,\n",
      "           'CHECKPOINT': '',\n",
      "           'END_EPOCH': 100,\n",
      "           'GAMMA1': 0.99,\n",
      "           'GAMMA2': 0.0,\n",
      "           'LR': 0.001,\n",
      "           'LR_FACTOR': 0.1,\n",
      "           'LR_STEP': [90, 120],\n",
      "           'MOMENTUM': 0.9,\n",
      "           'NESTEROV': False,\n",
      "           'OPTIMIZER': 'adam',\n",
      "           'RESUME': False,\n",
      "           'SHUFFLE': True,\n",
      "           'WD': 0.0001},\n",
      " 'WORKERS': 16}\n"
     ]
    },
    {
     "name": "stdout",
     "output_type": "stream",
     "text": [
      "=> creating /home/jfeil/IDP/baseline_implementations/microsoft_baseline/pose_estimation/experiment_output/coco/pose_resnet_152/384x288_d256x3_adam_lr1e-3_TransferLearning_2024-01-16_09:50:30\n",
      "=> creating log/coco/pose_resnet_152/384x288_d256x3_adam_lr1e-3_TransferLearning_2024-01-16_09:50:30_2024-01-16-09-50\n"
     ]
    },
    {
     "name": "stderr",
     "output_type": "stream",
     "text": [
      "=> init deconv weights from normal distribution\n",
      "=> init 0.weight as normal(0, 0.001)\n",
      "=> init 0.bias as 0\n",
      "=> init 1.weight as 1\n",
      "=> init 1.bias as 0\n",
      "=> init 3.weight as normal(0, 0.001)\n",
      "=> init 3.bias as 0\n",
      "=> init 4.weight as 1\n",
      "=> init 4.bias as 0\n",
      "=> init 6.weight as normal(0, 0.001)\n",
      "=> init 6.bias as 0\n",
      "=> init 7.weight as 1\n",
      "=> init 7.bias as 0\n",
      "=> init final conv weights from normal distribution\n",
      "=> init 8.weight as normal(0, 0.001)\n",
      "=> init 8.bias as 0\n",
      "=> loading pretrained model /home/jfeil/IDP/baseline_implementations/microsoft_baseline/models/pytorch/pose_coco/pose_resnet_152_384x288.pth.tar\n",
      "/home/jfeil/.pyenv/versions/3.8.17/envs/DroneTracking/lib/python3.8/site-packages/torch/nn/_reduction.py:42: UserWarning: size_average and reduce args will be deprecated, please use reduction='mean' instead.\n",
      "  warnings.warn(warning.format(ret))\n",
      "=> classes: ['__background__', 'Person']\n",
      "=> num_images: 65\n",
      "=> load 187 samples\n",
      "=> classes: ['__background__', 'Person']\n",
      "=> num_images: 10\n",
      "=> load 30 samples\n"
     ]
    },
    {
     "name": "stdout",
     "output_type": "stream",
     "text": [
      "loading annotations into memory...\n",
      "Done (t=0.00s)\n",
      "creating index...\n",
      "index created!\n",
      "loading annotations into memory...\n",
      "Done (t=0.00s)\n",
      "creating index...\n",
      "index created!\n"
     ]
    },
    {
     "name": "stderr",
     "output_type": "stream",
     "text": [
      "/home/jfeil/.pyenv/versions/3.8.17/envs/DroneTracking/lib/python3.8/site-packages/torch/optim/lr_scheduler.py:139: UserWarning: Detected call of `lr_scheduler.step()` before `optimizer.step()`. In PyTorch 1.1.0 and later, you should call them in the opposite order: `optimizer.step()` before `lr_scheduler.step()`.  Failure to do this will result in PyTorch skipping the first value of the learning rate schedule. See more details at https://pytorch.org/docs/stable/optim.html#how-to-adjust-learning-rate\n",
      "  warnings.warn(\"Detected call of `lr_scheduler.step()` before `optimizer.step()`. \"\n",
      "Epoch: [0][0/6]\tTime 16.047s (16.047s)\tSpeed 2.0 samples/s\tData 9.839s (9.839s)\tLoss 0.00199 (0.00199)\tAccuracy 0.035 (0.035)\n",
      "Test: [0/1]\tTime 8.058 (8.058)\tLoss 0.0020 (0.0020)\tAccuracy 0.153 (0.153)\n",
      "=> Writing results json to /home/jfeil/IDP/baseline_implementations/microsoft_baseline/pose_estimation/experiment_output/coco/pose_resnet_152/384x288_d256x3_adam_lr1e-3_TransferLearning_2024-01-16_09:50:30/results/keypoints_val2017_results.json\n",
      "/home/jfeil/.pyenv/versions/3.8.17/envs/DroneTracking/lib/python3.8/site-packages/json_tricks/encoders.py:419: UserWarning: json-tricks: numpy scalar serialization is experimental and may work differently in future versions\n",
      "  warnings.warn('json-tricks: numpy scalar serialization is experimental and may work differently in future versions')\n",
      "=> coco eval results saved to /home/jfeil/IDP/baseline_implementations/microsoft_baseline/pose_estimation/experiment_output/coco/pose_resnet_152/384x288_d256x3_adam_lr1e-3_TransferLearning_2024-01-16_09:50:30/results/keypoints_val2017_results.pkl\n",
      "| Arch | AP | Ap .5 | AP .75 | AP (M) | AP (L) | AR | AR .5 | AR .75 | AR (M) | AR (L) |\n",
      "|---|---|---|---|---|---|---|---|---|---|---|\n",
      "| 384x288_pose_resnet_152_d256d256d256 | 0.010 | 0.059 | 0.002 | 0.012 | -1.000 | 0.053 | 0.233 | 0.033 | 0.053 | -1.000 |\n",
      "=> saving checkpoint to /home/jfeil/IDP/baseline_implementations/microsoft_baseline/pose_estimation/experiment_output/coco/pose_resnet_152/384x288_d256x3_adam_lr1e-3_TransferLearning_2024-01-16_09:50:30\n"
     ]
    },
    {
     "name": "stdout",
     "output_type": "stream",
     "text": [
      "Loading and preparing results...\n",
      "DONE (t=0.00s)\n",
      "creating index...\n",
      "index created!\n",
      "Running per image evaluation...\n",
      "Evaluate annotation type *keypoints*\n",
      "DONE (t=0.01s).\n",
      "Accumulating evaluation results...\n",
      "DONE (t=0.00s).\n",
      " Average Precision  (AP) @[ IoU=0.50:0.95 | area=   all | maxDets= 20 ] = 0.010\n",
      " Average Precision  (AP) @[ IoU=0.50      | area=   all | maxDets= 20 ] = 0.059\n",
      " Average Precision  (AP) @[ IoU=0.75      | area=   all | maxDets= 20 ] = 0.002\n",
      " Average Precision  (AP) @[ IoU=0.50:0.95 | area=medium | maxDets= 20 ] = 0.012\n",
      " Average Precision  (AP) @[ IoU=0.50:0.95 | area= large | maxDets= 20 ] = -1.000\n",
      " Average Recall     (AR) @[ IoU=0.50:0.95 | area=   all | maxDets= 20 ] = 0.053\n",
      " Average Recall     (AR) @[ IoU=0.50      | area=   all | maxDets= 20 ] = 0.233\n",
      " Average Recall     (AR) @[ IoU=0.75      | area=   all | maxDets= 20 ] = 0.033\n",
      " Average Recall     (AR) @[ IoU=0.50:0.95 | area=medium | maxDets= 20 ] = 0.053\n",
      " Average Recall     (AR) @[ IoU=0.50:0.95 | area= large | maxDets= 20 ] = -1.000\n"
     ]
    },
    {
     "name": "stderr",
     "output_type": "stream",
     "text": [
      "Epoch: [1][0/6]\tTime 9.983s (9.983s)\tSpeed 3.2 samples/s\tData 9.719s (9.719s)\tLoss 0.00195 (0.00195)\tAccuracy 0.107 (0.107)\n",
      "Test: [0/1]\tTime 6.210 (6.210)\tLoss 0.0019 (0.0019)\tAccuracy 0.170 (0.170)\n",
      "=> Writing results json to /home/jfeil/IDP/baseline_implementations/microsoft_baseline/pose_estimation/experiment_output/coco/pose_resnet_152/384x288_d256x3_adam_lr1e-3_TransferLearning_2024-01-16_09:50:30/results/keypoints_val2017_results.json\n",
      "=> coco eval results saved to /home/jfeil/IDP/baseline_implementations/microsoft_baseline/pose_estimation/experiment_output/coco/pose_resnet_152/384x288_d256x3_adam_lr1e-3_TransferLearning_2024-01-16_09:50:30/results/keypoints_val2017_results.pkl\n",
      "| Arch | AP | Ap .5 | AP .75 | AP (M) | AP (L) | AR | AR .5 | AR .75 | AR (M) | AR (L) |\n",
      "|---|---|---|---|---|---|---|---|---|---|---|\n",
      "| 384x288_pose_resnet_152_d256d256d256 | 0.017 | 0.086 | 0.002 | 0.021 | -1.000 | 0.067 | 0.233 | 0.033 | 0.067 | -1.000 |\n",
      "=> saving checkpoint to /home/jfeil/IDP/baseline_implementations/microsoft_baseline/pose_estimation/experiment_output/coco/pose_resnet_152/384x288_d256x3_adam_lr1e-3_TransferLearning_2024-01-16_09:50:30\n"
     ]
    },
    {
     "name": "stdout",
     "output_type": "stream",
     "text": [
      "Loading and preparing results...\n",
      "DONE (t=0.00s)\n",
      "creating index...\n",
      "index created!\n",
      "Running per image evaluation...\n",
      "Evaluate annotation type *keypoints*\n",
      "DONE (t=0.01s).\n",
      "Accumulating evaluation results...\n",
      "DONE (t=0.00s).\n",
      " Average Precision  (AP) @[ IoU=0.50:0.95 | area=   all | maxDets= 20 ] = 0.017\n",
      " Average Precision  (AP) @[ IoU=0.50      | area=   all | maxDets= 20 ] = 0.086\n",
      " Average Precision  (AP) @[ IoU=0.75      | area=   all | maxDets= 20 ] = 0.002\n",
      " Average Precision  (AP) @[ IoU=0.50:0.95 | area=medium | maxDets= 20 ] = 0.021\n",
      " Average Precision  (AP) @[ IoU=0.50:0.95 | area= large | maxDets= 20 ] = -1.000\n",
      " Average Recall     (AR) @[ IoU=0.50:0.95 | area=   all | maxDets= 20 ] = 0.067\n",
      " Average Recall     (AR) @[ IoU=0.50      | area=   all | maxDets= 20 ] = 0.233\n",
      " Average Recall     (AR) @[ IoU=0.75      | area=   all | maxDets= 20 ] = 0.033\n",
      " Average Recall     (AR) @[ IoU=0.50:0.95 | area=medium | maxDets= 20 ] = 0.067\n",
      " Average Recall     (AR) @[ IoU=0.50:0.95 | area= large | maxDets= 20 ] = -1.000\n"
     ]
    },
    {
     "name": "stderr",
     "output_type": "stream",
     "text": [
      "Epoch: [2][0/6]\tTime 9.903s (9.903s)\tSpeed 3.2 samples/s\tData 9.650s (9.650s)\tLoss 0.00186 (0.00186)\tAccuracy 0.156 (0.156)\n",
      "Test: [0/1]\tTime 6.220 (6.220)\tLoss 0.0018 (0.0018)\tAccuracy 0.297 (0.297)\n",
      "=> Writing results json to /home/jfeil/IDP/baseline_implementations/microsoft_baseline/pose_estimation/experiment_output/coco/pose_resnet_152/384x288_d256x3_adam_lr1e-3_TransferLearning_2024-01-16_09:50:30/results/keypoints_val2017_results.json\n",
      "=> coco eval results saved to /home/jfeil/IDP/baseline_implementations/microsoft_baseline/pose_estimation/experiment_output/coco/pose_resnet_152/384x288_d256x3_adam_lr1e-3_TransferLearning_2024-01-16_09:50:30/results/keypoints_val2017_results.pkl\n",
      "| Arch | AP | Ap .5 | AP .75 | AP (M) | AP (L) | AR | AR .5 | AR .75 | AR (M) | AR (L) |\n",
      "|---|---|---|---|---|---|---|---|---|---|---|\n",
      "| 384x288_pose_resnet_152_d256d256d256 | 0.117 | 0.554 | 0.010 | 0.117 | -1.000 | 0.190 | 0.667 | 0.067 | 0.190 | -1.000 |\n",
      "=> saving checkpoint to /home/jfeil/IDP/baseline_implementations/microsoft_baseline/pose_estimation/experiment_output/coco/pose_resnet_152/384x288_d256x3_adam_lr1e-3_TransferLearning_2024-01-16_09:50:30\n"
     ]
    },
    {
     "name": "stdout",
     "output_type": "stream",
     "text": [
      "Loading and preparing results...\n",
      "DONE (t=0.00s)\n",
      "creating index...\n",
      "index created!\n",
      "Running per image evaluation...\n",
      "Evaluate annotation type *keypoints*\n",
      "DONE (t=0.01s).\n",
      "Accumulating evaluation results...\n",
      "DONE (t=0.00s).\n",
      " Average Precision  (AP) @[ IoU=0.50:0.95 | area=   all | maxDets= 20 ] = 0.117\n",
      " Average Precision  (AP) @[ IoU=0.50      | area=   all | maxDets= 20 ] = 0.554\n",
      " Average Precision  (AP) @[ IoU=0.75      | area=   all | maxDets= 20 ] = 0.010\n",
      " Average Precision  (AP) @[ IoU=0.50:0.95 | area=medium | maxDets= 20 ] = 0.117\n",
      " Average Precision  (AP) @[ IoU=0.50:0.95 | area= large | maxDets= 20 ] = -1.000\n",
      " Average Recall     (AR) @[ IoU=0.50:0.95 | area=   all | maxDets= 20 ] = 0.190\n",
      " Average Recall     (AR) @[ IoU=0.50      | area=   all | maxDets= 20 ] = 0.667\n",
      " Average Recall     (AR) @[ IoU=0.75      | area=   all | maxDets= 20 ] = 0.067\n",
      " Average Recall     (AR) @[ IoU=0.50:0.95 | area=medium | maxDets= 20 ] = 0.190\n",
      " Average Recall     (AR) @[ IoU=0.50:0.95 | area= large | maxDets= 20 ] = -1.000\n"
     ]
    },
    {
     "name": "stderr",
     "output_type": "stream",
     "text": [
      "Epoch: [3][0/6]\tTime 9.684s (9.684s)\tSpeed 3.3 samples/s\tData 9.440s (9.440s)\tLoss 0.00173 (0.00173)\tAccuracy 0.279 (0.279)\n",
      "Test: [0/1]\tTime 6.215 (6.215)\tLoss 0.0016 (0.0016)\tAccuracy 0.380 (0.380)\n",
      "=> Writing results json to /home/jfeil/IDP/baseline_implementations/microsoft_baseline/pose_estimation/experiment_output/coco/pose_resnet_152/384x288_d256x3_adam_lr1e-3_TransferLearning_2024-01-16_09:50:30/results/keypoints_val2017_results.json\n",
      "=> coco eval results saved to /home/jfeil/IDP/baseline_implementations/microsoft_baseline/pose_estimation/experiment_output/coco/pose_resnet_152/384x288_d256x3_adam_lr1e-3_TransferLearning_2024-01-16_09:50:30/results/keypoints_val2017_results.pkl\n",
      "| Arch | AP | Ap .5 | AP .75 | AP (M) | AP (L) | AR | AR .5 | AR .75 | AR (M) | AR (L) |\n",
      "|---|---|---|---|---|---|---|---|---|---|---|\n",
      "| 384x288_pose_resnet_152_d256d256d256 | 0.272 | 0.809 | 0.059 | 0.272 | -1.000 | 0.367 | 0.867 | 0.200 | 0.367 | -1.000 |\n",
      "=> saving checkpoint to /home/jfeil/IDP/baseline_implementations/microsoft_baseline/pose_estimation/experiment_output/coco/pose_resnet_152/384x288_d256x3_adam_lr1e-3_TransferLearning_2024-01-16_09:50:30\n"
     ]
    },
    {
     "name": "stdout",
     "output_type": "stream",
     "text": [
      "Loading and preparing results...\n",
      "DONE (t=0.00s)\n",
      "creating index...\n",
      "index created!\n",
      "Running per image evaluation...\n",
      "Evaluate annotation type *keypoints*\n",
      "DONE (t=0.01s).\n",
      "Accumulating evaluation results...\n",
      "DONE (t=0.00s).\n",
      " Average Precision  (AP) @[ IoU=0.50:0.95 | area=   all | maxDets= 20 ] = 0.272\n",
      " Average Precision  (AP) @[ IoU=0.50      | area=   all | maxDets= 20 ] = 0.809\n",
      " Average Precision  (AP) @[ IoU=0.75      | area=   all | maxDets= 20 ] = 0.059\n",
      " Average Precision  (AP) @[ IoU=0.50:0.95 | area=medium | maxDets= 20 ] = 0.272\n",
      " Average Precision  (AP) @[ IoU=0.50:0.95 | area= large | maxDets= 20 ] = -1.000\n",
      " Average Recall     (AR) @[ IoU=0.50:0.95 | area=   all | maxDets= 20 ] = 0.367\n",
      " Average Recall     (AR) @[ IoU=0.50      | area=   all | maxDets= 20 ] = 0.867\n",
      " Average Recall     (AR) @[ IoU=0.75      | area=   all | maxDets= 20 ] = 0.200\n",
      " Average Recall     (AR) @[ IoU=0.50:0.95 | area=medium | maxDets= 20 ] = 0.367\n",
      " Average Recall     (AR) @[ IoU=0.50:0.95 | area= large | maxDets= 20 ] = -1.000\n"
     ]
    },
    {
     "name": "stderr",
     "output_type": "stream",
     "text": [
      "Epoch: [4][0/6]\tTime 9.622s (9.622s)\tSpeed 3.3 samples/s\tData 9.376s (9.376s)\tLoss 0.00153 (0.00153)\tAccuracy 0.447 (0.447)\n",
      "Test: [0/1]\tTime 6.257 (6.257)\tLoss 0.0015 (0.0015)\tAccuracy 0.450 (0.450)\n",
      "=> Writing results json to /home/jfeil/IDP/baseline_implementations/microsoft_baseline/pose_estimation/experiment_output/coco/pose_resnet_152/384x288_d256x3_adam_lr1e-3_TransferLearning_2024-01-16_09:50:30/results/keypoints_val2017_results.json\n",
      "=> coco eval results saved to /home/jfeil/IDP/baseline_implementations/microsoft_baseline/pose_estimation/experiment_output/coco/pose_resnet_152/384x288_d256x3_adam_lr1e-3_TransferLearning_2024-01-16_09:50:30/results/keypoints_val2017_results.pkl\n",
      "| Arch | AP | Ap .5 | AP .75 | AP (M) | AP (L) | AR | AR .5 | AR .75 | AR (M) | AR (L) |\n",
      "|---|---|---|---|---|---|---|---|---|---|---|\n",
      "| 384x288_pose_resnet_152_d256d256d256 | 0.432 | 0.880 | 0.275 | 0.432 | -1.000 | 0.497 | 0.900 | 0.400 | 0.497 | -1.000 |\n",
      "=> saving checkpoint to /home/jfeil/IDP/baseline_implementations/microsoft_baseline/pose_estimation/experiment_output/coco/pose_resnet_152/384x288_d256x3_adam_lr1e-3_TransferLearning_2024-01-16_09:50:30\n"
     ]
    },
    {
     "name": "stdout",
     "output_type": "stream",
     "text": [
      "Loading and preparing results...\n",
      "DONE (t=0.00s)\n",
      "creating index...\n",
      "index created!\n",
      "Running per image evaluation...\n",
      "Evaluate annotation type *keypoints*\n",
      "DONE (t=0.01s).\n",
      "Accumulating evaluation results...\n",
      "DONE (t=0.00s).\n",
      " Average Precision  (AP) @[ IoU=0.50:0.95 | area=   all | maxDets= 20 ] = 0.432\n",
      " Average Precision  (AP) @[ IoU=0.50      | area=   all | maxDets= 20 ] = 0.880\n",
      " Average Precision  (AP) @[ IoU=0.75      | area=   all | maxDets= 20 ] = 0.275\n",
      " Average Precision  (AP) @[ IoU=0.50:0.95 | area=medium | maxDets= 20 ] = 0.432\n",
      " Average Precision  (AP) @[ IoU=0.50:0.95 | area= large | maxDets= 20 ] = -1.000\n",
      " Average Recall     (AR) @[ IoU=0.50:0.95 | area=   all | maxDets= 20 ] = 0.497\n",
      " Average Recall     (AR) @[ IoU=0.50      | area=   all | maxDets= 20 ] = 0.900\n",
      " Average Recall     (AR) @[ IoU=0.75      | area=   all | maxDets= 20 ] = 0.400\n",
      " Average Recall     (AR) @[ IoU=0.50:0.95 | area=medium | maxDets= 20 ] = 0.497\n",
      " Average Recall     (AR) @[ IoU=0.50:0.95 | area= large | maxDets= 20 ] = -1.000\n"
     ]
    },
    {
     "name": "stderr",
     "output_type": "stream",
     "text": [
      "Epoch: [5][0/6]\tTime 10.040s (10.040s)\tSpeed 3.2 samples/s\tData 9.793s (9.793s)\tLoss 0.00137 (0.00137)\tAccuracy 0.505 (0.505)\n",
      "Test: [0/1]\tTime 6.211 (6.211)\tLoss 0.0013 (0.0013)\tAccuracy 0.503 (0.503)\n",
      "=> Writing results json to /home/jfeil/IDP/baseline_implementations/microsoft_baseline/pose_estimation/experiment_output/coco/pose_resnet_152/384x288_d256x3_adam_lr1e-3_TransferLearning_2024-01-16_09:50:30/results/keypoints_val2017_results.json\n",
      "=> coco eval results saved to /home/jfeil/IDP/baseline_implementations/microsoft_baseline/pose_estimation/experiment_output/coco/pose_resnet_152/384x288_d256x3_adam_lr1e-3_TransferLearning_2024-01-16_09:50:30/results/keypoints_val2017_results.pkl\n",
      "| Arch | AP | Ap .5 | AP .75 | AP (M) | AP (L) | AR | AR .5 | AR .75 | AR (M) | AR (L) |\n",
      "|---|---|---|---|---|---|---|---|---|---|---|\n",
      "| 384x288_pose_resnet_152_d256d256d256 | 0.505 | 1.000 | 0.470 | 0.505 | -1.000 | 0.553 | 1.000 | 0.567 | 0.553 | -1.000 |\n",
      "=> saving checkpoint to /home/jfeil/IDP/baseline_implementations/microsoft_baseline/pose_estimation/experiment_output/coco/pose_resnet_152/384x288_d256x3_adam_lr1e-3_TransferLearning_2024-01-16_09:50:30\n"
     ]
    },
    {
     "name": "stdout",
     "output_type": "stream",
     "text": [
      "Loading and preparing results...\n",
      "DONE (t=0.00s)\n",
      "creating index...\n",
      "index created!\n",
      "Running per image evaluation...\n",
      "Evaluate annotation type *keypoints*\n",
      "DONE (t=0.01s).\n",
      "Accumulating evaluation results...\n",
      "DONE (t=0.00s).\n",
      " Average Precision  (AP) @[ IoU=0.50:0.95 | area=   all | maxDets= 20 ] = 0.505\n",
      " Average Precision  (AP) @[ IoU=0.50      | area=   all | maxDets= 20 ] = 1.000\n",
      " Average Precision  (AP) @[ IoU=0.75      | area=   all | maxDets= 20 ] = 0.470\n",
      " Average Precision  (AP) @[ IoU=0.50:0.95 | area=medium | maxDets= 20 ] = 0.505\n",
      " Average Precision  (AP) @[ IoU=0.50:0.95 | area= large | maxDets= 20 ] = -1.000\n",
      " Average Recall     (AR) @[ IoU=0.50:0.95 | area=   all | maxDets= 20 ] = 0.553\n",
      " Average Recall     (AR) @[ IoU=0.50      | area=   all | maxDets= 20 ] = 1.000\n",
      " Average Recall     (AR) @[ IoU=0.75      | area=   all | maxDets= 20 ] = 0.567\n",
      " Average Recall     (AR) @[ IoU=0.50:0.95 | area=medium | maxDets= 20 ] = 0.553\n",
      " Average Recall     (AR) @[ IoU=0.50:0.95 | area= large | maxDets= 20 ] = -1.000\n"
     ]
    },
    {
     "name": "stderr",
     "output_type": "stream",
     "text": [
      "Epoch: [6][0/6]\tTime 10.030s (10.030s)\tSpeed 3.2 samples/s\tData 9.778s (9.778s)\tLoss 0.00129 (0.00129)\tAccuracy 0.511 (0.511)\n",
      "Test: [0/1]\tTime 6.260 (6.260)\tLoss 0.0013 (0.0013)\tAccuracy 0.500 (0.500)\n",
      "=> Writing results json to /home/jfeil/IDP/baseline_implementations/microsoft_baseline/pose_estimation/experiment_output/coco/pose_resnet_152/384x288_d256x3_adam_lr1e-3_TransferLearning_2024-01-16_09:50:30/results/keypoints_val2017_results.json\n",
      "=> coco eval results saved to /home/jfeil/IDP/baseline_implementations/microsoft_baseline/pose_estimation/experiment_output/coco/pose_resnet_152/384x288_d256x3_adam_lr1e-3_TransferLearning_2024-01-16_09:50:30/results/keypoints_val2017_results.pkl\n",
      "| Arch | AP | Ap .5 | AP .75 | AP (M) | AP (L) | AR | AR .5 | AR .75 | AR (M) | AR (L) |\n",
      "|---|---|---|---|---|---|---|---|---|---|---|\n",
      "| 384x288_pose_resnet_152_d256d256d256 | 0.456 | 0.869 | 0.390 | 0.456 | -1.000 | 0.497 | 0.900 | 0.433 | 0.497 | -1.000 |\n",
      "=> saving checkpoint to /home/jfeil/IDP/baseline_implementations/microsoft_baseline/pose_estimation/experiment_output/coco/pose_resnet_152/384x288_d256x3_adam_lr1e-3_TransferLearning_2024-01-16_09:50:30\n"
     ]
    },
    {
     "name": "stdout",
     "output_type": "stream",
     "text": [
      "Loading and preparing results...\n",
      "DONE (t=0.00s)\n",
      "creating index...\n",
      "index created!\n",
      "Running per image evaluation...\n",
      "Evaluate annotation type *keypoints*\n",
      "DONE (t=0.01s).\n",
      "Accumulating evaluation results...\n",
      "DONE (t=0.00s).\n",
      " Average Precision  (AP) @[ IoU=0.50:0.95 | area=   all | maxDets= 20 ] = 0.456\n",
      " Average Precision  (AP) @[ IoU=0.50      | area=   all | maxDets= 20 ] = 0.869\n",
      " Average Precision  (AP) @[ IoU=0.75      | area=   all | maxDets= 20 ] = 0.390\n",
      " Average Precision  (AP) @[ IoU=0.50:0.95 | area=medium | maxDets= 20 ] = 0.456\n",
      " Average Precision  (AP) @[ IoU=0.50:0.95 | area= large | maxDets= 20 ] = -1.000\n",
      " Average Recall     (AR) @[ IoU=0.50:0.95 | area=   all | maxDets= 20 ] = 0.497\n",
      " Average Recall     (AR) @[ IoU=0.50      | area=   all | maxDets= 20 ] = 0.900\n",
      " Average Recall     (AR) @[ IoU=0.75      | area=   all | maxDets= 20 ] = 0.433\n",
      " Average Recall     (AR) @[ IoU=0.50:0.95 | area=medium | maxDets= 20 ] = 0.497\n",
      " Average Recall     (AR) @[ IoU=0.50:0.95 | area= large | maxDets= 20 ] = -1.000\n"
     ]
    },
    {
     "name": "stderr",
     "output_type": "stream",
     "text": [
      "Epoch: [7][0/6]\tTime 10.122s (10.122s)\tSpeed 3.2 samples/s\tData 9.871s (9.871s)\tLoss 0.00106 (0.00106)\tAccuracy 0.614 (0.614)\n",
      "Test: [0/1]\tTime 6.249 (6.249)\tLoss 0.0013 (0.0013)\tAccuracy 0.483 (0.483)\n",
      "=> Writing results json to /home/jfeil/IDP/baseline_implementations/microsoft_baseline/pose_estimation/experiment_output/coco/pose_resnet_152/384x288_d256x3_adam_lr1e-3_TransferLearning_2024-01-16_09:50:30/results/keypoints_val2017_results.json\n",
      "=> coco eval results saved to /home/jfeil/IDP/baseline_implementations/microsoft_baseline/pose_estimation/experiment_output/coco/pose_resnet_152/384x288_d256x3_adam_lr1e-3_TransferLearning_2024-01-16_09:50:30/results/keypoints_val2017_results.pkl\n",
      "| Arch | AP | Ap .5 | AP .75 | AP (M) | AP (L) | AR | AR .5 | AR .75 | AR (M) | AR (L) |\n",
      "|---|---|---|---|---|---|---|---|---|---|---|\n",
      "| 384x288_pose_resnet_152_d256d256d256 | 0.429 | 0.837 | 0.399 | 0.429 | -1.000 | 0.463 | 0.867 | 0.433 | 0.463 | -1.000 |\n",
      "=> saving checkpoint to /home/jfeil/IDP/baseline_implementations/microsoft_baseline/pose_estimation/experiment_output/coco/pose_resnet_152/384x288_d256x3_adam_lr1e-3_TransferLearning_2024-01-16_09:50:30\n"
     ]
    },
    {
     "name": "stdout",
     "output_type": "stream",
     "text": [
      "Loading and preparing results...\n",
      "DONE (t=0.00s)\n",
      "creating index...\n",
      "index created!\n",
      "Running per image evaluation...\n",
      "Evaluate annotation type *keypoints*\n",
      "DONE (t=0.01s).\n",
      "Accumulating evaluation results...\n",
      "DONE (t=0.00s).\n",
      " Average Precision  (AP) @[ IoU=0.50:0.95 | area=   all | maxDets= 20 ] = 0.429\n",
      " Average Precision  (AP) @[ IoU=0.50      | area=   all | maxDets= 20 ] = 0.837\n",
      " Average Precision  (AP) @[ IoU=0.75      | area=   all | maxDets= 20 ] = 0.399\n",
      " Average Precision  (AP) @[ IoU=0.50:0.95 | area=medium | maxDets= 20 ] = 0.429\n",
      " Average Precision  (AP) @[ IoU=0.50:0.95 | area= large | maxDets= 20 ] = -1.000\n",
      " Average Recall     (AR) @[ IoU=0.50:0.95 | area=   all | maxDets= 20 ] = 0.463\n",
      " Average Recall     (AR) @[ IoU=0.50      | area=   all | maxDets= 20 ] = 0.867\n",
      " Average Recall     (AR) @[ IoU=0.75      | area=   all | maxDets= 20 ] = 0.433\n",
      " Average Recall     (AR) @[ IoU=0.50:0.95 | area=medium | maxDets= 20 ] = 0.463\n",
      " Average Recall     (AR) @[ IoU=0.50:0.95 | area= large | maxDets= 20 ] = -1.000\n"
     ]
    },
    {
     "name": "stderr",
     "output_type": "stream",
     "text": [
      "Epoch: [8][0/6]\tTime 10.049s (10.049s)\tSpeed 3.2 samples/s\tData 9.804s (9.804s)\tLoss 0.00100 (0.00100)\tAccuracy 0.643 (0.643)\n",
      "Test: [0/1]\tTime 6.241 (6.241)\tLoss 0.0013 (0.0013)\tAccuracy 0.473 (0.473)\n",
      "=> Writing results json to /home/jfeil/IDP/baseline_implementations/microsoft_baseline/pose_estimation/experiment_output/coco/pose_resnet_152/384x288_d256x3_adam_lr1e-3_TransferLearning_2024-01-16_09:50:30/results/keypoints_val2017_results.json\n",
      "=> coco eval results saved to /home/jfeil/IDP/baseline_implementations/microsoft_baseline/pose_estimation/experiment_output/coco/pose_resnet_152/384x288_d256x3_adam_lr1e-3_TransferLearning_2024-01-16_09:50:30/results/keypoints_val2017_results.pkl\n",
      "| Arch | AP | Ap .5 | AP .75 | AP (M) | AP (L) | AR | AR .5 | AR .75 | AR (M) | AR (L) |\n",
      "|---|---|---|---|---|---|---|---|---|---|---|\n",
      "| 384x288_pose_resnet_152_d256d256d256 | 0.422 | 0.779 | 0.390 | 0.422 | -1.000 | 0.453 | 0.833 | 0.400 | 0.453 | -1.000 |\n",
      "=> saving checkpoint to /home/jfeil/IDP/baseline_implementations/microsoft_baseline/pose_estimation/experiment_output/coco/pose_resnet_152/384x288_d256x3_adam_lr1e-3_TransferLearning_2024-01-16_09:50:30\n"
     ]
    },
    {
     "name": "stdout",
     "output_type": "stream",
     "text": [
      "Loading and preparing results...\n",
      "DONE (t=0.00s)\n",
      "creating index...\n",
      "index created!\n",
      "Running per image evaluation...\n",
      "Evaluate annotation type *keypoints*\n",
      "DONE (t=0.01s).\n",
      "Accumulating evaluation results...\n",
      "DONE (t=0.00s).\n",
      " Average Precision  (AP) @[ IoU=0.50:0.95 | area=   all | maxDets= 20 ] = 0.422\n",
      " Average Precision  (AP) @[ IoU=0.50      | area=   all | maxDets= 20 ] = 0.779\n",
      " Average Precision  (AP) @[ IoU=0.75      | area=   all | maxDets= 20 ] = 0.390\n",
      " Average Precision  (AP) @[ IoU=0.50:0.95 | area=medium | maxDets= 20 ] = 0.422\n",
      " Average Precision  (AP) @[ IoU=0.50:0.95 | area= large | maxDets= 20 ] = -1.000\n",
      " Average Recall     (AR) @[ IoU=0.50:0.95 | area=   all | maxDets= 20 ] = 0.453\n",
      " Average Recall     (AR) @[ IoU=0.50      | area=   all | maxDets= 20 ] = 0.833\n",
      " Average Recall     (AR) @[ IoU=0.75      | area=   all | maxDets= 20 ] = 0.400\n",
      " Average Recall     (AR) @[ IoU=0.50:0.95 | area=medium | maxDets= 20 ] = 0.453\n",
      " Average Recall     (AR) @[ IoU=0.50:0.95 | area= large | maxDets= 20 ] = -1.000\n"
     ]
    },
    {
     "name": "stderr",
     "output_type": "stream",
     "text": [
      "Epoch: [9][0/6]\tTime 9.897s (9.897s)\tSpeed 3.2 samples/s\tData 9.642s (9.642s)\tLoss 0.00106 (0.00106)\tAccuracy 0.628 (0.628)\n",
      "Test: [0/1]\tTime 6.234 (6.234)\tLoss 0.0013 (0.0013)\tAccuracy 0.500 (0.500)\n",
      "=> Writing results json to /home/jfeil/IDP/baseline_implementations/microsoft_baseline/pose_estimation/experiment_output/coco/pose_resnet_152/384x288_d256x3_adam_lr1e-3_TransferLearning_2024-01-16_09:50:30/results/keypoints_val2017_results.json\n",
      "=> coco eval results saved to /home/jfeil/IDP/baseline_implementations/microsoft_baseline/pose_estimation/experiment_output/coco/pose_resnet_152/384x288_d256x3_adam_lr1e-3_TransferLearning_2024-01-16_09:50:30/results/keypoints_val2017_results.pkl\n",
      "| Arch | AP | Ap .5 | AP .75 | AP (M) | AP (L) | AR | AR .5 | AR .75 | AR (M) | AR (L) |\n",
      "|---|---|---|---|---|---|---|---|---|---|---|\n",
      "| 384x288_pose_resnet_152_d256d256d256 | 0.433 | 0.857 | 0.393 | 0.433 | -1.000 | 0.480 | 0.900 | 0.433 | 0.480 | -1.000 |\n",
      "=> saving checkpoint to /home/jfeil/IDP/baseline_implementations/microsoft_baseline/pose_estimation/experiment_output/coco/pose_resnet_152/384x288_d256x3_adam_lr1e-3_TransferLearning_2024-01-16_09:50:30\n"
     ]
    },
    {
     "name": "stdout",
     "output_type": "stream",
     "text": [
      "Loading and preparing results...\n",
      "DONE (t=0.00s)\n",
      "creating index...\n",
      "index created!\n",
      "Running per image evaluation...\n",
      "Evaluate annotation type *keypoints*\n",
      "DONE (t=0.01s).\n",
      "Accumulating evaluation results...\n",
      "DONE (t=0.00s).\n",
      " Average Precision  (AP) @[ IoU=0.50:0.95 | area=   all | maxDets= 20 ] = 0.433\n",
      " Average Precision  (AP) @[ IoU=0.50      | area=   all | maxDets= 20 ] = 0.857\n",
      " Average Precision  (AP) @[ IoU=0.75      | area=   all | maxDets= 20 ] = 0.393\n",
      " Average Precision  (AP) @[ IoU=0.50:0.95 | area=medium | maxDets= 20 ] = 0.433\n",
      " Average Precision  (AP) @[ IoU=0.50:0.95 | area= large | maxDets= 20 ] = -1.000\n",
      " Average Recall     (AR) @[ IoU=0.50:0.95 | area=   all | maxDets= 20 ] = 0.480\n",
      " Average Recall     (AR) @[ IoU=0.50      | area=   all | maxDets= 20 ] = 0.900\n",
      " Average Recall     (AR) @[ IoU=0.75      | area=   all | maxDets= 20 ] = 0.433\n",
      " Average Recall     (AR) @[ IoU=0.50:0.95 | area=medium | maxDets= 20 ] = 0.480\n",
      " Average Recall     (AR) @[ IoU=0.50:0.95 | area= large | maxDets= 20 ] = -1.000\n"
     ]
    },
    {
     "name": "stderr",
     "output_type": "stream",
     "text": [
      "Epoch: [10][0/6]\tTime 10.185s (10.185s)\tSpeed 3.1 samples/s\tData 9.940s (9.940s)\tLoss 0.00094 (0.00094)\tAccuracy 0.682 (0.682)\n",
      "Test: [0/1]\tTime 6.381 (6.381)\tLoss 0.0013 (0.0013)\tAccuracy 0.513 (0.513)\n",
      "=> Writing results json to /home/jfeil/IDP/baseline_implementations/microsoft_baseline/pose_estimation/experiment_output/coco/pose_resnet_152/384x288_d256x3_adam_lr1e-3_TransferLearning_2024-01-16_09:50:30/results/keypoints_val2017_results.json\n",
      "=> coco eval results saved to /home/jfeil/IDP/baseline_implementations/microsoft_baseline/pose_estimation/experiment_output/coco/pose_resnet_152/384x288_d256x3_adam_lr1e-3_TransferLearning_2024-01-16_09:50:30/results/keypoints_val2017_results.pkl\n",
      "| Arch | AP | Ap .5 | AP .75 | AP (M) | AP (L) | AR | AR .5 | AR .75 | AR (M) | AR (L) |\n",
      "|---|---|---|---|---|---|---|---|---|---|---|\n",
      "| 384x288_pose_resnet_152_d256d256d256 | 0.452 | 0.928 | 0.380 | 0.452 | -1.000 | 0.493 | 0.933 | 0.433 | 0.493 | -1.000 |\n",
      "=> saving checkpoint to /home/jfeil/IDP/baseline_implementations/microsoft_baseline/pose_estimation/experiment_output/coco/pose_resnet_152/384x288_d256x3_adam_lr1e-3_TransferLearning_2024-01-16_09:50:30\n"
     ]
    },
    {
     "name": "stdout",
     "output_type": "stream",
     "text": [
      "Loading and preparing results...\n",
      "DONE (t=0.00s)\n",
      "creating index...\n",
      "index created!\n",
      "Running per image evaluation...\n",
      "Evaluate annotation type *keypoints*\n",
      "DONE (t=0.01s).\n",
      "Accumulating evaluation results...\n",
      "DONE (t=0.00s).\n",
      " Average Precision  (AP) @[ IoU=0.50:0.95 | area=   all | maxDets= 20 ] = 0.452\n",
      " Average Precision  (AP) @[ IoU=0.50      | area=   all | maxDets= 20 ] = 0.928\n",
      " Average Precision  (AP) @[ IoU=0.75      | area=   all | maxDets= 20 ] = 0.380\n",
      " Average Precision  (AP) @[ IoU=0.50:0.95 | area=medium | maxDets= 20 ] = 0.452\n",
      " Average Precision  (AP) @[ IoU=0.50:0.95 | area= large | maxDets= 20 ] = -1.000\n",
      " Average Recall     (AR) @[ IoU=0.50:0.95 | area=   all | maxDets= 20 ] = 0.493\n",
      " Average Recall     (AR) @[ IoU=0.50      | area=   all | maxDets= 20 ] = 0.933\n",
      " Average Recall     (AR) @[ IoU=0.75      | area=   all | maxDets= 20 ] = 0.433\n",
      " Average Recall     (AR) @[ IoU=0.50:0.95 | area=medium | maxDets= 20 ] = 0.493\n",
      " Average Recall     (AR) @[ IoU=0.50:0.95 | area= large | maxDets= 20 ] = -1.000\n"
     ]
    },
    {
     "name": "stderr",
     "output_type": "stream",
     "text": [
      "Epoch: [11][0/6]\tTime 9.567s (9.567s)\tSpeed 3.3 samples/s\tData 9.311s (9.311s)\tLoss 0.00088 (0.00088)\tAccuracy 0.753 (0.753)\n",
      "Test: [0/1]\tTime 6.205 (6.205)\tLoss 0.0013 (0.0013)\tAccuracy 0.513 (0.513)\n",
      "=> Writing results json to /home/jfeil/IDP/baseline_implementations/microsoft_baseline/pose_estimation/experiment_output/coco/pose_resnet_152/384x288_d256x3_adam_lr1e-3_TransferLearning_2024-01-16_09:50:30/results/keypoints_val2017_results.json\n",
      "=> coco eval results saved to /home/jfeil/IDP/baseline_implementations/microsoft_baseline/pose_estimation/experiment_output/coco/pose_resnet_152/384x288_d256x3_adam_lr1e-3_TransferLearning_2024-01-16_09:50:30/results/keypoints_val2017_results.pkl\n",
      "| Arch | AP | Ap .5 | AP .75 | AP (M) | AP (L) | AR | AR .5 | AR .75 | AR (M) | AR (L) |\n",
      "|---|---|---|---|---|---|---|---|---|---|---|\n",
      "| 384x288_pose_resnet_152_d256d256d256 | 0.430 | 0.950 | 0.403 | 0.430 | -1.000 | 0.483 | 0.967 | 0.467 | 0.483 | -1.000 |\n",
      "=> saving checkpoint to /home/jfeil/IDP/baseline_implementations/microsoft_baseline/pose_estimation/experiment_output/coco/pose_resnet_152/384x288_d256x3_adam_lr1e-3_TransferLearning_2024-01-16_09:50:30\n"
     ]
    },
    {
     "name": "stdout",
     "output_type": "stream",
     "text": [
      "Loading and preparing results...\n",
      "DONE (t=0.00s)\n",
      "creating index...\n",
      "index created!\n",
      "Running per image evaluation...\n",
      "Evaluate annotation type *keypoints*\n",
      "DONE (t=0.01s).\n",
      "Accumulating evaluation results...\n",
      "DONE (t=0.00s).\n",
      " Average Precision  (AP) @[ IoU=0.50:0.95 | area=   all | maxDets= 20 ] = 0.430\n",
      " Average Precision  (AP) @[ IoU=0.50      | area=   all | maxDets= 20 ] = 0.950\n",
      " Average Precision  (AP) @[ IoU=0.75      | area=   all | maxDets= 20 ] = 0.403\n",
      " Average Precision  (AP) @[ IoU=0.50:0.95 | area=medium | maxDets= 20 ] = 0.430\n",
      " Average Precision  (AP) @[ IoU=0.50:0.95 | area= large | maxDets= 20 ] = -1.000\n",
      " Average Recall     (AR) @[ IoU=0.50:0.95 | area=   all | maxDets= 20 ] = 0.483\n",
      " Average Recall     (AR) @[ IoU=0.50      | area=   all | maxDets= 20 ] = 0.967\n",
      " Average Recall     (AR) @[ IoU=0.75      | area=   all | maxDets= 20 ] = 0.467\n",
      " Average Recall     (AR) @[ IoU=0.50:0.95 | area=medium | maxDets= 20 ] = 0.483\n",
      " Average Recall     (AR) @[ IoU=0.50:0.95 | area= large | maxDets= 20 ] = -1.000\n"
     ]
    },
    {
     "name": "stderr",
     "output_type": "stream",
     "text": [
      "Epoch: [12][0/6]\tTime 9.842s (9.842s)\tSpeed 3.3 samples/s\tData 9.589s (9.589s)\tLoss 0.00088 (0.00088)\tAccuracy 0.700 (0.700)\n",
      "Test: [0/1]\tTime 6.344 (6.344)\tLoss 0.0013 (0.0013)\tAccuracy 0.507 (0.507)\n",
      "=> Writing results json to /home/jfeil/IDP/baseline_implementations/microsoft_baseline/pose_estimation/experiment_output/coco/pose_resnet_152/384x288_d256x3_adam_lr1e-3_TransferLearning_2024-01-16_09:50:30/results/keypoints_val2017_results.json\n",
      "=> coco eval results saved to /home/jfeil/IDP/baseline_implementations/microsoft_baseline/pose_estimation/experiment_output/coco/pose_resnet_152/384x288_d256x3_adam_lr1e-3_TransferLearning_2024-01-16_09:50:30/results/keypoints_val2017_results.pkl\n",
      "| Arch | AP | Ap .5 | AP .75 | AP (M) | AP (L) | AR | AR .5 | AR .75 | AR (M) | AR (L) |\n",
      "|---|---|---|---|---|---|---|---|---|---|---|\n",
      "| 384x288_pose_resnet_152_d256d256d256 | 0.457 | 0.885 | 0.421 | 0.457 | -1.000 | 0.497 | 0.900 | 0.467 | 0.497 | -1.000 |\n",
      "=> saving checkpoint to /home/jfeil/IDP/baseline_implementations/microsoft_baseline/pose_estimation/experiment_output/coco/pose_resnet_152/384x288_d256x3_adam_lr1e-3_TransferLearning_2024-01-16_09:50:30\n"
     ]
    },
    {
     "name": "stdout",
     "output_type": "stream",
     "text": [
      "Loading and preparing results...\n",
      "DONE (t=0.00s)\n",
      "creating index...\n",
      "index created!\n",
      "Running per image evaluation...\n",
      "Evaluate annotation type *keypoints*\n",
      "DONE (t=0.01s).\n",
      "Accumulating evaluation results...\n",
      "DONE (t=0.00s).\n",
      " Average Precision  (AP) @[ IoU=0.50:0.95 | area=   all | maxDets= 20 ] = 0.457\n",
      " Average Precision  (AP) @[ IoU=0.50      | area=   all | maxDets= 20 ] = 0.885\n",
      " Average Precision  (AP) @[ IoU=0.75      | area=   all | maxDets= 20 ] = 0.421\n",
      " Average Precision  (AP) @[ IoU=0.50:0.95 | area=medium | maxDets= 20 ] = 0.457\n",
      " Average Precision  (AP) @[ IoU=0.50:0.95 | area= large | maxDets= 20 ] = -1.000\n",
      " Average Recall     (AR) @[ IoU=0.50:0.95 | area=   all | maxDets= 20 ] = 0.497\n",
      " Average Recall     (AR) @[ IoU=0.50      | area=   all | maxDets= 20 ] = 0.900\n",
      " Average Recall     (AR) @[ IoU=0.75      | area=   all | maxDets= 20 ] = 0.467\n",
      " Average Recall     (AR) @[ IoU=0.50:0.95 | area=medium | maxDets= 20 ] = 0.497\n",
      " Average Recall     (AR) @[ IoU=0.50:0.95 | area= large | maxDets= 20 ] = -1.000\n"
     ]
    },
    {
     "name": "stderr",
     "output_type": "stream",
     "text": [
      "Epoch: [13][0/6]\tTime 10.415s (10.415s)\tSpeed 3.1 samples/s\tData 10.170s (10.170s)\tLoss 0.00068 (0.00068)\tAccuracy 0.821 (0.821)\n",
      "Test: [0/1]\tTime 6.250 (6.250)\tLoss 0.0014 (0.0014)\tAccuracy 0.510 (0.510)\n",
      "=> Writing results json to /home/jfeil/IDP/baseline_implementations/microsoft_baseline/pose_estimation/experiment_output/coco/pose_resnet_152/384x288_d256x3_adam_lr1e-3_TransferLearning_2024-01-16_09:50:30/results/keypoints_val2017_results.json\n",
      "=> coco eval results saved to /home/jfeil/IDP/baseline_implementations/microsoft_baseline/pose_estimation/experiment_output/coco/pose_resnet_152/384x288_d256x3_adam_lr1e-3_TransferLearning_2024-01-16_09:50:30/results/keypoints_val2017_results.pkl\n",
      "| Arch | AP | Ap .5 | AP .75 | AP (M) | AP (L) | AR | AR .5 | AR .75 | AR (M) | AR (L) |\n",
      "|---|---|---|---|---|---|---|---|---|---|---|\n",
      "| 384x288_pose_resnet_152_d256d256d256 | 0.444 | 0.788 | 0.402 | 0.444 | -1.000 | 0.467 | 0.800 | 0.433 | 0.467 | -1.000 |\n",
      "=> saving checkpoint to /home/jfeil/IDP/baseline_implementations/microsoft_baseline/pose_estimation/experiment_output/coco/pose_resnet_152/384x288_d256x3_adam_lr1e-3_TransferLearning_2024-01-16_09:50:30\n"
     ]
    },
    {
     "name": "stdout",
     "output_type": "stream",
     "text": [
      "Loading and preparing results...\n",
      "DONE (t=0.00s)\n",
      "creating index...\n",
      "index created!\n",
      "Running per image evaluation...\n",
      "Evaluate annotation type *keypoints*\n",
      "DONE (t=0.01s).\n",
      "Accumulating evaluation results...\n",
      "DONE (t=0.00s).\n",
      " Average Precision  (AP) @[ IoU=0.50:0.95 | area=   all | maxDets= 20 ] = 0.444\n",
      " Average Precision  (AP) @[ IoU=0.50      | area=   all | maxDets= 20 ] = 0.788\n",
      " Average Precision  (AP) @[ IoU=0.75      | area=   all | maxDets= 20 ] = 0.402\n",
      " Average Precision  (AP) @[ IoU=0.50:0.95 | area=medium | maxDets= 20 ] = 0.444\n",
      " Average Precision  (AP) @[ IoU=0.50:0.95 | area= large | maxDets= 20 ] = -1.000\n",
      " Average Recall     (AR) @[ IoU=0.50:0.95 | area=   all | maxDets= 20 ] = 0.467\n",
      " Average Recall     (AR) @[ IoU=0.50      | area=   all | maxDets= 20 ] = 0.800\n",
      " Average Recall     (AR) @[ IoU=0.75      | area=   all | maxDets= 20 ] = 0.433\n",
      " Average Recall     (AR) @[ IoU=0.50:0.95 | area=medium | maxDets= 20 ] = 0.467\n",
      " Average Recall     (AR) @[ IoU=0.50:0.95 | area= large | maxDets= 20 ] = -1.000\n"
     ]
    },
    {
     "name": "stderr",
     "output_type": "stream",
     "text": [
      "Epoch: [14][0/6]\tTime 9.885s (9.885s)\tSpeed 3.2 samples/s\tData 9.638s (9.638s)\tLoss 0.00095 (0.00095)\tAccuracy 0.658 (0.658)\n",
      "Test: [0/1]\tTime 6.215 (6.215)\tLoss 0.0013 (0.0013)\tAccuracy 0.510 (0.510)\n",
      "=> Writing results json to /home/jfeil/IDP/baseline_implementations/microsoft_baseline/pose_estimation/experiment_output/coco/pose_resnet_152/384x288_d256x3_adam_lr1e-3_TransferLearning_2024-01-16_09:50:30/results/keypoints_val2017_results.json\n",
      "=> coco eval results saved to /home/jfeil/IDP/baseline_implementations/microsoft_baseline/pose_estimation/experiment_output/coco/pose_resnet_152/384x288_d256x3_adam_lr1e-3_TransferLearning_2024-01-16_09:50:30/results/keypoints_val2017_results.pkl\n",
      "| Arch | AP | Ap .5 | AP .75 | AP (M) | AP (L) | AR | AR .5 | AR .75 | AR (M) | AR (L) |\n",
      "|---|---|---|---|---|---|---|---|---|---|---|\n",
      "| 384x288_pose_resnet_152_d256d256d256 | 0.456 | 0.876 | 0.377 | 0.456 | -1.000 | 0.483 | 0.900 | 0.400 | 0.483 | -1.000 |\n",
      "=> saving checkpoint to /home/jfeil/IDP/baseline_implementations/microsoft_baseline/pose_estimation/experiment_output/coco/pose_resnet_152/384x288_d256x3_adam_lr1e-3_TransferLearning_2024-01-16_09:50:30\n"
     ]
    },
    {
     "name": "stdout",
     "output_type": "stream",
     "text": [
      "Loading and preparing results...\n",
      "DONE (t=0.00s)\n",
      "creating index...\n",
      "index created!\n",
      "Running per image evaluation...\n",
      "Evaluate annotation type *keypoints*\n",
      "DONE (t=0.01s).\n",
      "Accumulating evaluation results...\n",
      "DONE (t=0.00s).\n",
      " Average Precision  (AP) @[ IoU=0.50:0.95 | area=   all | maxDets= 20 ] = 0.456\n",
      " Average Precision  (AP) @[ IoU=0.50      | area=   all | maxDets= 20 ] = 0.876\n",
      " Average Precision  (AP) @[ IoU=0.75      | area=   all | maxDets= 20 ] = 0.377\n",
      " Average Precision  (AP) @[ IoU=0.50:0.95 | area=medium | maxDets= 20 ] = 0.456\n",
      " Average Precision  (AP) @[ IoU=0.50:0.95 | area= large | maxDets= 20 ] = -1.000\n",
      " Average Recall     (AR) @[ IoU=0.50:0.95 | area=   all | maxDets= 20 ] = 0.483\n",
      " Average Recall     (AR) @[ IoU=0.50      | area=   all | maxDets= 20 ] = 0.900\n",
      " Average Recall     (AR) @[ IoU=0.75      | area=   all | maxDets= 20 ] = 0.400\n",
      " Average Recall     (AR) @[ IoU=0.50:0.95 | area=medium | maxDets= 20 ] = 0.483\n",
      " Average Recall     (AR) @[ IoU=0.50:0.95 | area= large | maxDets= 20 ] = -1.000\n"
     ]
    },
    {
     "name": "stderr",
     "output_type": "stream",
     "text": [
      "Epoch: [15][0/6]\tTime 9.996s (9.996s)\tSpeed 3.2 samples/s\tData 9.743s (9.743s)\tLoss 0.00085 (0.00085)\tAccuracy 0.696 (0.696)\n",
      "Test: [0/1]\tTime 6.237 (6.237)\tLoss 0.0014 (0.0014)\tAccuracy 0.493 (0.493)\n",
      "=> Writing results json to /home/jfeil/IDP/baseline_implementations/microsoft_baseline/pose_estimation/experiment_output/coco/pose_resnet_152/384x288_d256x3_adam_lr1e-3_TransferLearning_2024-01-16_09:50:30/results/keypoints_val2017_results.json\n",
      "=> coco eval results saved to /home/jfeil/IDP/baseline_implementations/microsoft_baseline/pose_estimation/experiment_output/coco/pose_resnet_152/384x288_d256x3_adam_lr1e-3_TransferLearning_2024-01-16_09:50:30/results/keypoints_val2017_results.pkl\n",
      "| Arch | AP | Ap .5 | AP .75 | AP (M) | AP (L) | AR | AR .5 | AR .75 | AR (M) | AR (L) |\n",
      "|---|---|---|---|---|---|---|---|---|---|---|\n",
      "| 384x288_pose_resnet_152_d256d256d256 | 0.401 | 0.775 | 0.366 | 0.401 | -1.000 | 0.437 | 0.800 | 0.400 | 0.437 | -1.000 |\n",
      "=> saving checkpoint to /home/jfeil/IDP/baseline_implementations/microsoft_baseline/pose_estimation/experiment_output/coco/pose_resnet_152/384x288_d256x3_adam_lr1e-3_TransferLearning_2024-01-16_09:50:30\n"
     ]
    },
    {
     "name": "stdout",
     "output_type": "stream",
     "text": [
      "Loading and preparing results...\n",
      "DONE (t=0.00s)\n",
      "creating index...\n",
      "index created!\n",
      "Running per image evaluation...\n",
      "Evaluate annotation type *keypoints*\n",
      "DONE (t=0.01s).\n",
      "Accumulating evaluation results...\n",
      "DONE (t=0.00s).\n",
      " Average Precision  (AP) @[ IoU=0.50:0.95 | area=   all | maxDets= 20 ] = 0.401\n",
      " Average Precision  (AP) @[ IoU=0.50      | area=   all | maxDets= 20 ] = 0.775\n",
      " Average Precision  (AP) @[ IoU=0.75      | area=   all | maxDets= 20 ] = 0.366\n",
      " Average Precision  (AP) @[ IoU=0.50:0.95 | area=medium | maxDets= 20 ] = 0.401\n",
      " Average Precision  (AP) @[ IoU=0.50:0.95 | area= large | maxDets= 20 ] = -1.000\n",
      " Average Recall     (AR) @[ IoU=0.50:0.95 | area=   all | maxDets= 20 ] = 0.437\n",
      " Average Recall     (AR) @[ IoU=0.50      | area=   all | maxDets= 20 ] = 0.800\n",
      " Average Recall     (AR) @[ IoU=0.75      | area=   all | maxDets= 20 ] = 0.400\n",
      " Average Recall     (AR) @[ IoU=0.50:0.95 | area=medium | maxDets= 20 ] = 0.437\n",
      " Average Recall     (AR) @[ IoU=0.50:0.95 | area= large | maxDets= 20 ] = -1.000\n"
     ]
    },
    {
     "name": "stderr",
     "output_type": "stream",
     "text": [
      "Epoch: [16][0/6]\tTime 10.132s (10.132s)\tSpeed 3.2 samples/s\tData 9.888s (9.888s)\tLoss 0.00076 (0.00076)\tAccuracy 0.783 (0.783)\n",
      "Test: [0/1]\tTime 6.239 (6.239)\tLoss 0.0014 (0.0014)\tAccuracy 0.500 (0.500)\n",
      "=> Writing results json to /home/jfeil/IDP/baseline_implementations/microsoft_baseline/pose_estimation/experiment_output/coco/pose_resnet_152/384x288_d256x3_adam_lr1e-3_TransferLearning_2024-01-16_09:50:30/results/keypoints_val2017_results.json\n",
      "=> coco eval results saved to /home/jfeil/IDP/baseline_implementations/microsoft_baseline/pose_estimation/experiment_output/coco/pose_resnet_152/384x288_d256x3_adam_lr1e-3_TransferLearning_2024-01-16_09:50:30/results/keypoints_val2017_results.pkl\n",
      "| Arch | AP | Ap .5 | AP .75 | AP (M) | AP (L) | AR | AR .5 | AR .75 | AR (M) | AR (L) |\n",
      "|---|---|---|---|---|---|---|---|---|---|---|\n",
      "| 384x288_pose_resnet_152_d256d256d256 | 0.431 | 0.812 | 0.411 | 0.431 | -1.000 | 0.467 | 0.833 | 0.467 | 0.467 | -1.000 |\n",
      "=> saving checkpoint to /home/jfeil/IDP/baseline_implementations/microsoft_baseline/pose_estimation/experiment_output/coco/pose_resnet_152/384x288_d256x3_adam_lr1e-3_TransferLearning_2024-01-16_09:50:30\n"
     ]
    },
    {
     "name": "stdout",
     "output_type": "stream",
     "text": [
      "Loading and preparing results...\n",
      "DONE (t=0.00s)\n",
      "creating index...\n",
      "index created!\n",
      "Running per image evaluation...\n",
      "Evaluate annotation type *keypoints*\n",
      "DONE (t=0.01s).\n",
      "Accumulating evaluation results...\n",
      "DONE (t=0.00s).\n",
      " Average Precision  (AP) @[ IoU=0.50:0.95 | area=   all | maxDets= 20 ] = 0.431\n",
      " Average Precision  (AP) @[ IoU=0.50      | area=   all | maxDets= 20 ] = 0.812\n",
      " Average Precision  (AP) @[ IoU=0.75      | area=   all | maxDets= 20 ] = 0.411\n",
      " Average Precision  (AP) @[ IoU=0.50:0.95 | area=medium | maxDets= 20 ] = 0.431\n",
      " Average Precision  (AP) @[ IoU=0.50:0.95 | area= large | maxDets= 20 ] = -1.000\n",
      " Average Recall     (AR) @[ IoU=0.50:0.95 | area=   all | maxDets= 20 ] = 0.467\n",
      " Average Recall     (AR) @[ IoU=0.50      | area=   all | maxDets= 20 ] = 0.833\n",
      " Average Recall     (AR) @[ IoU=0.75      | area=   all | maxDets= 20 ] = 0.467\n",
      " Average Recall     (AR) @[ IoU=0.50:0.95 | area=medium | maxDets= 20 ] = 0.467\n",
      " Average Recall     (AR) @[ IoU=0.50:0.95 | area= large | maxDets= 20 ] = -1.000\n"
     ]
    },
    {
     "name": "stderr",
     "output_type": "stream",
     "text": [
      "Epoch: [17][0/6]\tTime 9.871s (9.871s)\tSpeed 3.2 samples/s\tData 9.600s (9.600s)\tLoss 0.00070 (0.00070)\tAccuracy 0.824 (0.824)\n",
      "Test: [0/1]\tTime 6.308 (6.308)\tLoss 0.0014 (0.0014)\tAccuracy 0.510 (0.510)\n",
      "=> Writing results json to /home/jfeil/IDP/baseline_implementations/microsoft_baseline/pose_estimation/experiment_output/coco/pose_resnet_152/384x288_d256x3_adam_lr1e-3_TransferLearning_2024-01-16_09:50:30/results/keypoints_val2017_results.json\n",
      "=> coco eval results saved to /home/jfeil/IDP/baseline_implementations/microsoft_baseline/pose_estimation/experiment_output/coco/pose_resnet_152/384x288_d256x3_adam_lr1e-3_TransferLearning_2024-01-16_09:50:30/results/keypoints_val2017_results.pkl\n",
      "| Arch | AP | Ap .5 | AP .75 | AP (M) | AP (L) | AR | AR .5 | AR .75 | AR (M) | AR (L) |\n",
      "|---|---|---|---|---|---|---|---|---|---|---|\n",
      "| 384x288_pose_resnet_152_d256d256d256 | 0.419 | 0.784 | 0.413 | 0.419 | -1.000 | 0.473 | 0.833 | 0.467 | 0.473 | -1.000 |\n",
      "=> saving checkpoint to /home/jfeil/IDP/baseline_implementations/microsoft_baseline/pose_estimation/experiment_output/coco/pose_resnet_152/384x288_d256x3_adam_lr1e-3_TransferLearning_2024-01-16_09:50:30\n"
     ]
    },
    {
     "name": "stdout",
     "output_type": "stream",
     "text": [
      "Loading and preparing results...\n",
      "DONE (t=0.00s)\n",
      "creating index...\n",
      "index created!\n",
      "Running per image evaluation...\n",
      "Evaluate annotation type *keypoints*\n",
      "DONE (t=0.01s).\n",
      "Accumulating evaluation results...\n",
      "DONE (t=0.00s).\n",
      " Average Precision  (AP) @[ IoU=0.50:0.95 | area=   all | maxDets= 20 ] = 0.419\n",
      " Average Precision  (AP) @[ IoU=0.50      | area=   all | maxDets= 20 ] = 0.784\n",
      " Average Precision  (AP) @[ IoU=0.75      | area=   all | maxDets= 20 ] = 0.413\n",
      " Average Precision  (AP) @[ IoU=0.50:0.95 | area=medium | maxDets= 20 ] = 0.419\n",
      " Average Precision  (AP) @[ IoU=0.50:0.95 | area= large | maxDets= 20 ] = -1.000\n",
      " Average Recall     (AR) @[ IoU=0.50:0.95 | area=   all | maxDets= 20 ] = 0.473\n",
      " Average Recall     (AR) @[ IoU=0.50      | area=   all | maxDets= 20 ] = 0.833\n",
      " Average Recall     (AR) @[ IoU=0.75      | area=   all | maxDets= 20 ] = 0.467\n",
      " Average Recall     (AR) @[ IoU=0.50:0.95 | area=medium | maxDets= 20 ] = 0.473\n",
      " Average Recall     (AR) @[ IoU=0.50:0.95 | area= large | maxDets= 20 ] = -1.000\n"
     ]
    },
    {
     "name": "stderr",
     "output_type": "stream",
     "text": [
      "Epoch: [18][0/6]\tTime 10.085s (10.085s)\tSpeed 3.2 samples/s\tData 9.835s (9.835s)\tLoss 0.00069 (0.00069)\tAccuracy 0.817 (0.817)\n",
      "Test: [0/1]\tTime 6.259 (6.259)\tLoss 0.0014 (0.0014)\tAccuracy 0.517 (0.517)\n",
      "=> Writing results json to /home/jfeil/IDP/baseline_implementations/microsoft_baseline/pose_estimation/experiment_output/coco/pose_resnet_152/384x288_d256x3_adam_lr1e-3_TransferLearning_2024-01-16_09:50:30/results/keypoints_val2017_results.json\n",
      "=> coco eval results saved to /home/jfeil/IDP/baseline_implementations/microsoft_baseline/pose_estimation/experiment_output/coco/pose_resnet_152/384x288_d256x3_adam_lr1e-3_TransferLearning_2024-01-16_09:50:30/results/keypoints_val2017_results.pkl\n",
      "| Arch | AP | Ap .5 | AP .75 | AP (M) | AP (L) | AR | AR .5 | AR .75 | AR (M) | AR (L) |\n",
      "|---|---|---|---|---|---|---|---|---|---|---|\n",
      "| 384x288_pose_resnet_152_d256d256d256 | 0.457 | 0.811 | 0.437 | 0.457 | -1.000 | 0.507 | 0.833 | 0.500 | 0.507 | -1.000 |\n",
      "=> saving checkpoint to /home/jfeil/IDP/baseline_implementations/microsoft_baseline/pose_estimation/experiment_output/coco/pose_resnet_152/384x288_d256x3_adam_lr1e-3_TransferLearning_2024-01-16_09:50:30\n"
     ]
    },
    {
     "name": "stdout",
     "output_type": "stream",
     "text": [
      "Loading and preparing results...\n",
      "DONE (t=0.00s)\n",
      "creating index...\n",
      "index created!\n",
      "Running per image evaluation...\n",
      "Evaluate annotation type *keypoints*\n",
      "DONE (t=0.01s).\n",
      "Accumulating evaluation results...\n",
      "DONE (t=0.00s).\n",
      " Average Precision  (AP) @[ IoU=0.50:0.95 | area=   all | maxDets= 20 ] = 0.457\n",
      " Average Precision  (AP) @[ IoU=0.50      | area=   all | maxDets= 20 ] = 0.811\n",
      " Average Precision  (AP) @[ IoU=0.75      | area=   all | maxDets= 20 ] = 0.437\n",
      " Average Precision  (AP) @[ IoU=0.50:0.95 | area=medium | maxDets= 20 ] = 0.457\n",
      " Average Precision  (AP) @[ IoU=0.50:0.95 | area= large | maxDets= 20 ] = -1.000\n",
      " Average Recall     (AR) @[ IoU=0.50:0.95 | area=   all | maxDets= 20 ] = 0.507\n",
      " Average Recall     (AR) @[ IoU=0.50      | area=   all | maxDets= 20 ] = 0.833\n",
      " Average Recall     (AR) @[ IoU=0.75      | area=   all | maxDets= 20 ] = 0.500\n",
      " Average Recall     (AR) @[ IoU=0.50:0.95 | area=medium | maxDets= 20 ] = 0.507\n",
      " Average Recall     (AR) @[ IoU=0.50:0.95 | area= large | maxDets= 20 ] = -1.000\n"
     ]
    },
    {
     "name": "stderr",
     "output_type": "stream",
     "text": [
      "Epoch: [19][0/6]\tTime 9.865s (9.865s)\tSpeed 3.2 samples/s\tData 9.619s (9.619s)\tLoss 0.00071 (0.00071)\tAccuracy 0.817 (0.817)\n",
      "Test: [0/1]\tTime 6.264 (6.264)\tLoss 0.0014 (0.0014)\tAccuracy 0.503 (0.503)\n",
      "=> Writing results json to /home/jfeil/IDP/baseline_implementations/microsoft_baseline/pose_estimation/experiment_output/coco/pose_resnet_152/384x288_d256x3_adam_lr1e-3_TransferLearning_2024-01-16_09:50:30/results/keypoints_val2017_results.json\n",
      "=> coco eval results saved to /home/jfeil/IDP/baseline_implementations/microsoft_baseline/pose_estimation/experiment_output/coco/pose_resnet_152/384x288_d256x3_adam_lr1e-3_TransferLearning_2024-01-16_09:50:30/results/keypoints_val2017_results.pkl\n",
      "| Arch | AP | Ap .5 | AP .75 | AP (M) | AP (L) | AR | AR .5 | AR .75 | AR (M) | AR (L) |\n",
      "|---|---|---|---|---|---|---|---|---|---|---|\n",
      "| 384x288_pose_resnet_152_d256d256d256 | 0.425 | 0.876 | 0.391 | 0.425 | -1.000 | 0.480 | 0.900 | 0.467 | 0.480 | -1.000 |\n",
      "=> saving checkpoint to /home/jfeil/IDP/baseline_implementations/microsoft_baseline/pose_estimation/experiment_output/coco/pose_resnet_152/384x288_d256x3_adam_lr1e-3_TransferLearning_2024-01-16_09:50:30\n"
     ]
    },
    {
     "name": "stdout",
     "output_type": "stream",
     "text": [
      "Loading and preparing results...\n",
      "DONE (t=0.00s)\n",
      "creating index...\n",
      "index created!\n",
      "Running per image evaluation...\n",
      "Evaluate annotation type *keypoints*\n",
      "DONE (t=0.01s).\n",
      "Accumulating evaluation results...\n",
      "DONE (t=0.00s).\n",
      " Average Precision  (AP) @[ IoU=0.50:0.95 | area=   all | maxDets= 20 ] = 0.425\n",
      " Average Precision  (AP) @[ IoU=0.50      | area=   all | maxDets= 20 ] = 0.876\n",
      " Average Precision  (AP) @[ IoU=0.75      | area=   all | maxDets= 20 ] = 0.391\n",
      " Average Precision  (AP) @[ IoU=0.50:0.95 | area=medium | maxDets= 20 ] = 0.425\n",
      " Average Precision  (AP) @[ IoU=0.50:0.95 | area= large | maxDets= 20 ] = -1.000\n",
      " Average Recall     (AR) @[ IoU=0.50:0.95 | area=   all | maxDets= 20 ] = 0.480\n",
      " Average Recall     (AR) @[ IoU=0.50      | area=   all | maxDets= 20 ] = 0.900\n",
      " Average Recall     (AR) @[ IoU=0.75      | area=   all | maxDets= 20 ] = 0.467\n",
      " Average Recall     (AR) @[ IoU=0.50:0.95 | area=medium | maxDets= 20 ] = 0.480\n",
      " Average Recall     (AR) @[ IoU=0.50:0.95 | area= large | maxDets= 20 ] = -1.000\n"
     ]
    },
    {
     "name": "stderr",
     "output_type": "stream",
     "text": [
      "Epoch: [20][0/6]\tTime 10.116s (10.116s)\tSpeed 3.2 samples/s\tData 9.870s (9.870s)\tLoss 0.00066 (0.00066)\tAccuracy 0.805 (0.805)\n",
      "Test: [0/1]\tTime 6.245 (6.245)\tLoss 0.0014 (0.0014)\tAccuracy 0.507 (0.507)\n",
      "=> Writing results json to /home/jfeil/IDP/baseline_implementations/microsoft_baseline/pose_estimation/experiment_output/coco/pose_resnet_152/384x288_d256x3_adam_lr1e-3_TransferLearning_2024-01-16_09:50:30/results/keypoints_val2017_results.json\n",
      "=> coco eval results saved to /home/jfeil/IDP/baseline_implementations/microsoft_baseline/pose_estimation/experiment_output/coco/pose_resnet_152/384x288_d256x3_adam_lr1e-3_TransferLearning_2024-01-16_09:50:30/results/keypoints_val2017_results.pkl\n",
      "| Arch | AP | Ap .5 | AP .75 | AP (M) | AP (L) | AR | AR .5 | AR .75 | AR (M) | AR (L) |\n",
      "|---|---|---|---|---|---|---|---|---|---|---|\n",
      "| 384x288_pose_resnet_152_d256d256d256 | 0.411 | 0.868 | 0.324 | 0.411 | -1.000 | 0.450 | 0.900 | 0.367 | 0.450 | -1.000 |\n",
      "=> saving checkpoint to /home/jfeil/IDP/baseline_implementations/microsoft_baseline/pose_estimation/experiment_output/coco/pose_resnet_152/384x288_d256x3_adam_lr1e-3_TransferLearning_2024-01-16_09:50:30\n"
     ]
    },
    {
     "name": "stdout",
     "output_type": "stream",
     "text": [
      "Loading and preparing results...\n",
      "DONE (t=0.00s)\n",
      "creating index...\n",
      "index created!\n",
      "Running per image evaluation...\n",
      "Evaluate annotation type *keypoints*\n",
      "DONE (t=0.01s).\n",
      "Accumulating evaluation results...\n",
      "DONE (t=0.00s).\n",
      " Average Precision  (AP) @[ IoU=0.50:0.95 | area=   all | maxDets= 20 ] = 0.411\n",
      " Average Precision  (AP) @[ IoU=0.50      | area=   all | maxDets= 20 ] = 0.868\n",
      " Average Precision  (AP) @[ IoU=0.75      | area=   all | maxDets= 20 ] = 0.324\n",
      " Average Precision  (AP) @[ IoU=0.50:0.95 | area=medium | maxDets= 20 ] = 0.411\n",
      " Average Precision  (AP) @[ IoU=0.50:0.95 | area= large | maxDets= 20 ] = -1.000\n",
      " Average Recall     (AR) @[ IoU=0.50:0.95 | area=   all | maxDets= 20 ] = 0.450\n",
      " Average Recall     (AR) @[ IoU=0.50      | area=   all | maxDets= 20 ] = 0.900\n",
      " Average Recall     (AR) @[ IoU=0.75      | area=   all | maxDets= 20 ] = 0.367\n",
      " Average Recall     (AR) @[ IoU=0.50:0.95 | area=medium | maxDets= 20 ] = 0.450\n",
      " Average Recall     (AR) @[ IoU=0.50:0.95 | area= large | maxDets= 20 ] = -1.000\n"
     ]
    },
    {
     "name": "stderr",
     "output_type": "stream",
     "text": [
      "Epoch: [21][0/6]\tTime 10.196s (10.196s)\tSpeed 3.1 samples/s\tData 9.949s (9.949s)\tLoss 0.00066 (0.00066)\tAccuracy 0.832 (0.832)\n",
      "Test: [0/1]\tTime 6.245 (6.245)\tLoss 0.0014 (0.0014)\tAccuracy 0.517 (0.517)\n",
      "=> Writing results json to /home/jfeil/IDP/baseline_implementations/microsoft_baseline/pose_estimation/experiment_output/coco/pose_resnet_152/384x288_d256x3_adam_lr1e-3_TransferLearning_2024-01-16_09:50:30/results/keypoints_val2017_results.json\n",
      "=> coco eval results saved to /home/jfeil/IDP/baseline_implementations/microsoft_baseline/pose_estimation/experiment_output/coco/pose_resnet_152/384x288_d256x3_adam_lr1e-3_TransferLearning_2024-01-16_09:50:30/results/keypoints_val2017_results.pkl\n",
      "| Arch | AP | Ap .5 | AP .75 | AP (M) | AP (L) | AR | AR .5 | AR .75 | AR (M) | AR (L) |\n",
      "|---|---|---|---|---|---|---|---|---|---|---|\n",
      "| 384x288_pose_resnet_152_d256d256d256 | 0.443 | 0.884 | 0.386 | 0.443 | -1.000 | 0.477 | 0.900 | 0.467 | 0.477 | -1.000 |\n",
      "=> saving checkpoint to /home/jfeil/IDP/baseline_implementations/microsoft_baseline/pose_estimation/experiment_output/coco/pose_resnet_152/384x288_d256x3_adam_lr1e-3_TransferLearning_2024-01-16_09:50:30\n"
     ]
    },
    {
     "name": "stdout",
     "output_type": "stream",
     "text": [
      "Loading and preparing results...\n",
      "DONE (t=0.00s)\n",
      "creating index...\n",
      "index created!\n",
      "Running per image evaluation...\n",
      "Evaluate annotation type *keypoints*\n",
      "DONE (t=0.01s).\n",
      "Accumulating evaluation results...\n",
      "DONE (t=0.00s).\n",
      " Average Precision  (AP) @[ IoU=0.50:0.95 | area=   all | maxDets= 20 ] = 0.443\n",
      " Average Precision  (AP) @[ IoU=0.50      | area=   all | maxDets= 20 ] = 0.884\n",
      " Average Precision  (AP) @[ IoU=0.75      | area=   all | maxDets= 20 ] = 0.386\n",
      " Average Precision  (AP) @[ IoU=0.50:0.95 | area=medium | maxDets= 20 ] = 0.443\n",
      " Average Precision  (AP) @[ IoU=0.50:0.95 | area= large | maxDets= 20 ] = -1.000\n",
      " Average Recall     (AR) @[ IoU=0.50:0.95 | area=   all | maxDets= 20 ] = 0.477\n",
      " Average Recall     (AR) @[ IoU=0.50      | area=   all | maxDets= 20 ] = 0.900\n",
      " Average Recall     (AR) @[ IoU=0.75      | area=   all | maxDets= 20 ] = 0.467\n",
      " Average Recall     (AR) @[ IoU=0.50:0.95 | area=medium | maxDets= 20 ] = 0.477\n",
      " Average Recall     (AR) @[ IoU=0.50:0.95 | area= large | maxDets= 20 ] = -1.000\n"
     ]
    },
    {
     "name": "stderr",
     "output_type": "stream",
     "text": [
      "Epoch: [22][0/6]\tTime 10.058s (10.058s)\tSpeed 3.2 samples/s\tData 9.812s (9.812s)\tLoss 0.00063 (0.00063)\tAccuracy 0.840 (0.840)\n",
      "Test: [0/1]\tTime 6.216 (6.216)\tLoss 0.0014 (0.0014)\tAccuracy 0.510 (0.510)\n",
      "=> Writing results json to /home/jfeil/IDP/baseline_implementations/microsoft_baseline/pose_estimation/experiment_output/coco/pose_resnet_152/384x288_d256x3_adam_lr1e-3_TransferLearning_2024-01-16_09:50:30/results/keypoints_val2017_results.json\n",
      "=> coco eval results saved to /home/jfeil/IDP/baseline_implementations/microsoft_baseline/pose_estimation/experiment_output/coco/pose_resnet_152/384x288_d256x3_adam_lr1e-3_TransferLearning_2024-01-16_09:50:30/results/keypoints_val2017_results.pkl\n",
      "| Arch | AP | Ap .5 | AP .75 | AP (M) | AP (L) | AR | AR .5 | AR .75 | AR (M) | AR (L) |\n",
      "|---|---|---|---|---|---|---|---|---|---|---|\n",
      "| 384x288_pose_resnet_152_d256d256d256 | 0.421 | 0.826 | 0.425 | 0.421 | -1.000 | 0.477 | 0.867 | 0.500 | 0.477 | -1.000 |\n",
      "=> saving checkpoint to /home/jfeil/IDP/baseline_implementations/microsoft_baseline/pose_estimation/experiment_output/coco/pose_resnet_152/384x288_d256x3_adam_lr1e-3_TransferLearning_2024-01-16_09:50:30\n"
     ]
    },
    {
     "name": "stdout",
     "output_type": "stream",
     "text": [
      "Loading and preparing results...\n",
      "DONE (t=0.00s)\n",
      "creating index...\n",
      "index created!\n",
      "Running per image evaluation...\n",
      "Evaluate annotation type *keypoints*\n",
      "DONE (t=0.01s).\n",
      "Accumulating evaluation results...\n",
      "DONE (t=0.00s).\n",
      " Average Precision  (AP) @[ IoU=0.50:0.95 | area=   all | maxDets= 20 ] = 0.421\n",
      " Average Precision  (AP) @[ IoU=0.50      | area=   all | maxDets= 20 ] = 0.826\n",
      " Average Precision  (AP) @[ IoU=0.75      | area=   all | maxDets= 20 ] = 0.425\n",
      " Average Precision  (AP) @[ IoU=0.50:0.95 | area=medium | maxDets= 20 ] = 0.421\n",
      " Average Precision  (AP) @[ IoU=0.50:0.95 | area= large | maxDets= 20 ] = -1.000\n",
      " Average Recall     (AR) @[ IoU=0.50:0.95 | area=   all | maxDets= 20 ] = 0.477\n",
      " Average Recall     (AR) @[ IoU=0.50      | area=   all | maxDets= 20 ] = 0.867\n",
      " Average Recall     (AR) @[ IoU=0.75      | area=   all | maxDets= 20 ] = 0.500\n",
      " Average Recall     (AR) @[ IoU=0.50:0.95 | area=medium | maxDets= 20 ] = 0.477\n",
      " Average Recall     (AR) @[ IoU=0.50:0.95 | area= large | maxDets= 20 ] = -1.000\n"
     ]
    },
    {
     "name": "stderr",
     "output_type": "stream",
     "text": [
      "Epoch: [23][0/6]\tTime 10.045s (10.045s)\tSpeed 3.2 samples/s\tData 9.789s (9.789s)\tLoss 0.00056 (0.00056)\tAccuracy 0.877 (0.877)\n",
      "Test: [0/1]\tTime 6.190 (6.190)\tLoss 0.0014 (0.0014)\tAccuracy 0.503 (0.503)\n",
      "=> Writing results json to /home/jfeil/IDP/baseline_implementations/microsoft_baseline/pose_estimation/experiment_output/coco/pose_resnet_152/384x288_d256x3_adam_lr1e-3_TransferLearning_2024-01-16_09:50:30/results/keypoints_val2017_results.json\n",
      "=> coco eval results saved to /home/jfeil/IDP/baseline_implementations/microsoft_baseline/pose_estimation/experiment_output/coco/pose_resnet_152/384x288_d256x3_adam_lr1e-3_TransferLearning_2024-01-16_09:50:30/results/keypoints_val2017_results.pkl\n",
      "| Arch | AP | Ap .5 | AP .75 | AP (M) | AP (L) | AR | AR .5 | AR .75 | AR (M) | AR (L) |\n",
      "|---|---|---|---|---|---|---|---|---|---|---|\n",
      "| 384x288_pose_resnet_152_d256d256d256 | 0.430 | 0.837 | 0.402 | 0.430 | -1.000 | 0.487 | 0.867 | 0.467 | 0.487 | -1.000 |\n",
      "=> saving checkpoint to /home/jfeil/IDP/baseline_implementations/microsoft_baseline/pose_estimation/experiment_output/coco/pose_resnet_152/384x288_d256x3_adam_lr1e-3_TransferLearning_2024-01-16_09:50:30\n"
     ]
    },
    {
     "name": "stdout",
     "output_type": "stream",
     "text": [
      "Loading and preparing results...\n",
      "DONE (t=0.00s)\n",
      "creating index...\n",
      "index created!\n",
      "Running per image evaluation...\n",
      "Evaluate annotation type *keypoints*\n",
      "DONE (t=0.01s).\n",
      "Accumulating evaluation results...\n",
      "DONE (t=0.00s).\n",
      " Average Precision  (AP) @[ IoU=0.50:0.95 | area=   all | maxDets= 20 ] = 0.430\n",
      " Average Precision  (AP) @[ IoU=0.50      | area=   all | maxDets= 20 ] = 0.837\n",
      " Average Precision  (AP) @[ IoU=0.75      | area=   all | maxDets= 20 ] = 0.402\n",
      " Average Precision  (AP) @[ IoU=0.50:0.95 | area=medium | maxDets= 20 ] = 0.430\n",
      " Average Precision  (AP) @[ IoU=0.50:0.95 | area= large | maxDets= 20 ] = -1.000\n",
      " Average Recall     (AR) @[ IoU=0.50:0.95 | area=   all | maxDets= 20 ] = 0.487\n",
      " Average Recall     (AR) @[ IoU=0.50      | area=   all | maxDets= 20 ] = 0.867\n",
      " Average Recall     (AR) @[ IoU=0.75      | area=   all | maxDets= 20 ] = 0.467\n",
      " Average Recall     (AR) @[ IoU=0.50:0.95 | area=medium | maxDets= 20 ] = 0.487\n",
      " Average Recall     (AR) @[ IoU=0.50:0.95 | area= large | maxDets= 20 ] = -1.000\n"
     ]
    },
    {
     "name": "stderr",
     "output_type": "stream",
     "text": [
      "Epoch: [24][0/6]\tTime 10.017s (10.017s)\tSpeed 3.2 samples/s\tData 9.772s (9.772s)\tLoss 0.00058 (0.00058)\tAccuracy 0.862 (0.862)\n",
      "Test: [0/1]\tTime 6.173 (6.173)\tLoss 0.0014 (0.0014)\tAccuracy 0.517 (0.517)\n",
      "=> Writing results json to /home/jfeil/IDP/baseline_implementations/microsoft_baseline/pose_estimation/experiment_output/coco/pose_resnet_152/384x288_d256x3_adam_lr1e-3_TransferLearning_2024-01-16_09:50:30/results/keypoints_val2017_results.json\n",
      "=> coco eval results saved to /home/jfeil/IDP/baseline_implementations/microsoft_baseline/pose_estimation/experiment_output/coco/pose_resnet_152/384x288_d256x3_adam_lr1e-3_TransferLearning_2024-01-16_09:50:30/results/keypoints_val2017_results.pkl\n",
      "| Arch | AP | Ap .5 | AP .75 | AP (M) | AP (L) | AR | AR .5 | AR .75 | AR (M) | AR (L) |\n",
      "|---|---|---|---|---|---|---|---|---|---|---|\n",
      "| 384x288_pose_resnet_152_d256d256d256 | 0.440 | 0.874 | 0.370 | 0.440 | -1.000 | 0.507 | 0.900 | 0.467 | 0.507 | -1.000 |\n",
      "=> saving checkpoint to /home/jfeil/IDP/baseline_implementations/microsoft_baseline/pose_estimation/experiment_output/coco/pose_resnet_152/384x288_d256x3_adam_lr1e-3_TransferLearning_2024-01-16_09:50:30\n"
     ]
    },
    {
     "name": "stdout",
     "output_type": "stream",
     "text": [
      "Loading and preparing results...\n",
      "DONE (t=0.00s)\n",
      "creating index...\n",
      "index created!\n",
      "Running per image evaluation...\n",
      "Evaluate annotation type *keypoints*\n",
      "DONE (t=0.01s).\n",
      "Accumulating evaluation results...\n",
      "DONE (t=0.00s).\n",
      " Average Precision  (AP) @[ IoU=0.50:0.95 | area=   all | maxDets= 20 ] = 0.440\n",
      " Average Precision  (AP) @[ IoU=0.50      | area=   all | maxDets= 20 ] = 0.874\n",
      " Average Precision  (AP) @[ IoU=0.75      | area=   all | maxDets= 20 ] = 0.370\n",
      " Average Precision  (AP) @[ IoU=0.50:0.95 | area=medium | maxDets= 20 ] = 0.440\n",
      " Average Precision  (AP) @[ IoU=0.50:0.95 | area= large | maxDets= 20 ] = -1.000\n",
      " Average Recall     (AR) @[ IoU=0.50:0.95 | area=   all | maxDets= 20 ] = 0.507\n",
      " Average Recall     (AR) @[ IoU=0.50      | area=   all | maxDets= 20 ] = 0.900\n",
      " Average Recall     (AR) @[ IoU=0.75      | area=   all | maxDets= 20 ] = 0.467\n",
      " Average Recall     (AR) @[ IoU=0.50:0.95 | area=medium | maxDets= 20 ] = 0.507\n",
      " Average Recall     (AR) @[ IoU=0.50:0.95 | area= large | maxDets= 20 ] = -1.000\n"
     ]
    },
    {
     "name": "stderr",
     "output_type": "stream",
     "text": [
      "Epoch: [25][0/6]\tTime 10.007s (10.007s)\tSpeed 3.2 samples/s\tData 9.753s (9.753s)\tLoss 0.00049 (0.00049)\tAccuracy 0.892 (0.892)\n",
      "Test: [0/1]\tTime 6.231 (6.231)\tLoss 0.0013 (0.0013)\tAccuracy 0.547 (0.547)\n",
      "=> Writing results json to /home/jfeil/IDP/baseline_implementations/microsoft_baseline/pose_estimation/experiment_output/coco/pose_resnet_152/384x288_d256x3_adam_lr1e-3_TransferLearning_2024-01-16_09:50:30/results/keypoints_val2017_results.json\n",
      "=> coco eval results saved to /home/jfeil/IDP/baseline_implementations/microsoft_baseline/pose_estimation/experiment_output/coco/pose_resnet_152/384x288_d256x3_adam_lr1e-3_TransferLearning_2024-01-16_09:50:30/results/keypoints_val2017_results.pkl\n",
      "| Arch | AP | Ap .5 | AP .75 | AP (M) | AP (L) | AR | AR .5 | AR .75 | AR (M) | AR (L) |\n",
      "|---|---|---|---|---|---|---|---|---|---|---|\n",
      "| 384x288_pose_resnet_152_d256d256d256 | 0.461 | 0.793 | 0.406 | 0.461 | -1.000 | 0.523 | 0.867 | 0.500 | 0.523 | -1.000 |\n",
      "=> saving checkpoint to /home/jfeil/IDP/baseline_implementations/microsoft_baseline/pose_estimation/experiment_output/coco/pose_resnet_152/384x288_d256x3_adam_lr1e-3_TransferLearning_2024-01-16_09:50:30\n"
     ]
    },
    {
     "name": "stdout",
     "output_type": "stream",
     "text": [
      "Loading and preparing results...\n",
      "DONE (t=0.00s)\n",
      "creating index...\n",
      "index created!\n",
      "Running per image evaluation...\n",
      "Evaluate annotation type *keypoints*\n",
      "DONE (t=0.01s).\n",
      "Accumulating evaluation results...\n",
      "DONE (t=0.00s).\n",
      " Average Precision  (AP) @[ IoU=0.50:0.95 | area=   all | maxDets= 20 ] = 0.461\n",
      " Average Precision  (AP) @[ IoU=0.50      | area=   all | maxDets= 20 ] = 0.793\n",
      " Average Precision  (AP) @[ IoU=0.75      | area=   all | maxDets= 20 ] = 0.406\n",
      " Average Precision  (AP) @[ IoU=0.50:0.95 | area=medium | maxDets= 20 ] = 0.461\n",
      " Average Precision  (AP) @[ IoU=0.50:0.95 | area= large | maxDets= 20 ] = -1.000\n",
      " Average Recall     (AR) @[ IoU=0.50:0.95 | area=   all | maxDets= 20 ] = 0.523\n",
      " Average Recall     (AR) @[ IoU=0.50      | area=   all | maxDets= 20 ] = 0.867\n",
      " Average Recall     (AR) @[ IoU=0.75      | area=   all | maxDets= 20 ] = 0.500\n",
      " Average Recall     (AR) @[ IoU=0.50:0.95 | area=medium | maxDets= 20 ] = 0.523\n",
      " Average Recall     (AR) @[ IoU=0.50:0.95 | area= large | maxDets= 20 ] = -1.000\n"
     ]
    },
    {
     "name": "stderr",
     "output_type": "stream",
     "text": [
      "Epoch: [26][0/6]\tTime 9.711s (9.711s)\tSpeed 3.3 samples/s\tData 9.459s (9.459s)\tLoss 0.00061 (0.00061)\tAccuracy 0.843 (0.843)\n",
      "Test: [0/1]\tTime 6.194 (6.194)\tLoss 0.0014 (0.0014)\tAccuracy 0.527 (0.527)\n",
      "=> Writing results json to /home/jfeil/IDP/baseline_implementations/microsoft_baseline/pose_estimation/experiment_output/coco/pose_resnet_152/384x288_d256x3_adam_lr1e-3_TransferLearning_2024-01-16_09:50:30/results/keypoints_val2017_results.json\n",
      "=> coco eval results saved to /home/jfeil/IDP/baseline_implementations/microsoft_baseline/pose_estimation/experiment_output/coco/pose_resnet_152/384x288_d256x3_adam_lr1e-3_TransferLearning_2024-01-16_09:50:30/results/keypoints_val2017_results.pkl\n",
      "| Arch | AP | Ap .5 | AP .75 | AP (M) | AP (L) | AR | AR .5 | AR .75 | AR (M) | AR (L) |\n",
      "|---|---|---|---|---|---|---|---|---|---|---|\n",
      "| 384x288_pose_resnet_152_d256d256d256 | 0.463 | 0.821 | 0.413 | 0.463 | -1.000 | 0.517 | 0.867 | 0.500 | 0.517 | -1.000 |\n",
      "=> saving checkpoint to /home/jfeil/IDP/baseline_implementations/microsoft_baseline/pose_estimation/experiment_output/coco/pose_resnet_152/384x288_d256x3_adam_lr1e-3_TransferLearning_2024-01-16_09:50:30\n"
     ]
    },
    {
     "name": "stdout",
     "output_type": "stream",
     "text": [
      "Loading and preparing results...\n",
      "DONE (t=0.00s)\n",
      "creating index...\n",
      "index created!\n",
      "Running per image evaluation...\n",
      "Evaluate annotation type *keypoints*\n",
      "DONE (t=0.01s).\n",
      "Accumulating evaluation results...\n",
      "DONE (t=0.00s).\n",
      " Average Precision  (AP) @[ IoU=0.50:0.95 | area=   all | maxDets= 20 ] = 0.463\n",
      " Average Precision  (AP) @[ IoU=0.50      | area=   all | maxDets= 20 ] = 0.821\n",
      " Average Precision  (AP) @[ IoU=0.75      | area=   all | maxDets= 20 ] = 0.413\n",
      " Average Precision  (AP) @[ IoU=0.50:0.95 | area=medium | maxDets= 20 ] = 0.463\n",
      " Average Precision  (AP) @[ IoU=0.50:0.95 | area= large | maxDets= 20 ] = -1.000\n",
      " Average Recall     (AR) @[ IoU=0.50:0.95 | area=   all | maxDets= 20 ] = 0.517\n",
      " Average Recall     (AR) @[ IoU=0.50      | area=   all | maxDets= 20 ] = 0.867\n",
      " Average Recall     (AR) @[ IoU=0.75      | area=   all | maxDets= 20 ] = 0.500\n",
      " Average Recall     (AR) @[ IoU=0.50:0.95 | area=medium | maxDets= 20 ] = 0.517\n",
      " Average Recall     (AR) @[ IoU=0.50:0.95 | area= large | maxDets= 20 ] = -1.000\n"
     ]
    },
    {
     "name": "stderr",
     "output_type": "stream",
     "text": [
      "Epoch: [27][0/6]\tTime 9.959s (9.959s)\tSpeed 3.2 samples/s\tData 9.713s (9.713s)\tLoss 0.00064 (0.00064)\tAccuracy 0.822 (0.822)\n",
      "Test: [0/1]\tTime 6.154 (6.154)\tLoss 0.0014 (0.0014)\tAccuracy 0.507 (0.507)\n",
      "=> Writing results json to /home/jfeil/IDP/baseline_implementations/microsoft_baseline/pose_estimation/experiment_output/coco/pose_resnet_152/384x288_d256x3_adam_lr1e-3_TransferLearning_2024-01-16_09:50:30/results/keypoints_val2017_results.json\n",
      "=> coco eval results saved to /home/jfeil/IDP/baseline_implementations/microsoft_baseline/pose_estimation/experiment_output/coco/pose_resnet_152/384x288_d256x3_adam_lr1e-3_TransferLearning_2024-01-16_09:50:30/results/keypoints_val2017_results.pkl\n",
      "| Arch | AP | Ap .5 | AP .75 | AP (M) | AP (L) | AR | AR .5 | AR .75 | AR (M) | AR (L) |\n",
      "|---|---|---|---|---|---|---|---|---|---|---|\n",
      "| 384x288_pose_resnet_152_d256d256d256 | 0.491 | 0.949 | 0.440 | 0.491 | -1.000 | 0.527 | 0.967 | 0.500 | 0.527 | -1.000 |\n",
      "=> saving checkpoint to /home/jfeil/IDP/baseline_implementations/microsoft_baseline/pose_estimation/experiment_output/coco/pose_resnet_152/384x288_d256x3_adam_lr1e-3_TransferLearning_2024-01-16_09:50:30\n"
     ]
    },
    {
     "name": "stdout",
     "output_type": "stream",
     "text": [
      "Loading and preparing results...\n",
      "DONE (t=0.00s)\n",
      "creating index...\n",
      "index created!\n",
      "Running per image evaluation...\n",
      "Evaluate annotation type *keypoints*\n",
      "DONE (t=0.01s).\n",
      "Accumulating evaluation results...\n",
      "DONE (t=0.00s).\n",
      " Average Precision  (AP) @[ IoU=0.50:0.95 | area=   all | maxDets= 20 ] = 0.491\n",
      " Average Precision  (AP) @[ IoU=0.50      | area=   all | maxDets= 20 ] = 0.949\n",
      " Average Precision  (AP) @[ IoU=0.75      | area=   all | maxDets= 20 ] = 0.440\n",
      " Average Precision  (AP) @[ IoU=0.50:0.95 | area=medium | maxDets= 20 ] = 0.491\n",
      " Average Precision  (AP) @[ IoU=0.50:0.95 | area= large | maxDets= 20 ] = -1.000\n",
      " Average Recall     (AR) @[ IoU=0.50:0.95 | area=   all | maxDets= 20 ] = 0.527\n",
      " Average Recall     (AR) @[ IoU=0.50      | area=   all | maxDets= 20 ] = 0.967\n",
      " Average Recall     (AR) @[ IoU=0.75      | area=   all | maxDets= 20 ] = 0.500\n",
      " Average Recall     (AR) @[ IoU=0.50:0.95 | area=medium | maxDets= 20 ] = 0.527\n",
      " Average Recall     (AR) @[ IoU=0.50:0.95 | area= large | maxDets= 20 ] = -1.000\n"
     ]
    },
    {
     "name": "stderr",
     "output_type": "stream",
     "text": [
      "Epoch: [28][0/6]\tTime 10.021s (10.021s)\tSpeed 3.2 samples/s\tData 9.776s (9.776s)\tLoss 0.00049 (0.00049)\tAccuracy 0.881 (0.881)\n",
      "Test: [0/1]\tTime 6.237 (6.237)\tLoss 0.0014 (0.0014)\tAccuracy 0.523 (0.523)\n",
      "=> Writing results json to /home/jfeil/IDP/baseline_implementations/microsoft_baseline/pose_estimation/experiment_output/coco/pose_resnet_152/384x288_d256x3_adam_lr1e-3_TransferLearning_2024-01-16_09:50:30/results/keypoints_val2017_results.json\n",
      "=> coco eval results saved to /home/jfeil/IDP/baseline_implementations/microsoft_baseline/pose_estimation/experiment_output/coco/pose_resnet_152/384x288_d256x3_adam_lr1e-3_TransferLearning_2024-01-16_09:50:30/results/keypoints_val2017_results.pkl\n",
      "| Arch | AP | Ap .5 | AP .75 | AP (M) | AP (L) | AR | AR .5 | AR .75 | AR (M) | AR (L) |\n",
      "|---|---|---|---|---|---|---|---|---|---|---|\n",
      "| 384x288_pose_resnet_152_d256d256d256 | 0.480 | 0.955 | 0.396 | 0.480 | -1.000 | 0.520 | 0.967 | 0.467 | 0.520 | -1.000 |\n",
      "=> saving checkpoint to /home/jfeil/IDP/baseline_implementations/microsoft_baseline/pose_estimation/experiment_output/coco/pose_resnet_152/384x288_d256x3_adam_lr1e-3_TransferLearning_2024-01-16_09:50:30\n"
     ]
    },
    {
     "name": "stdout",
     "output_type": "stream",
     "text": [
      "Loading and preparing results...\n",
      "DONE (t=0.00s)\n",
      "creating index...\n",
      "index created!\n",
      "Running per image evaluation...\n",
      "Evaluate annotation type *keypoints*\n",
      "DONE (t=0.01s).\n",
      "Accumulating evaluation results...\n",
      "DONE (t=0.00s).\n",
      " Average Precision  (AP) @[ IoU=0.50:0.95 | area=   all | maxDets= 20 ] = 0.480\n",
      " Average Precision  (AP) @[ IoU=0.50      | area=   all | maxDets= 20 ] = 0.955\n",
      " Average Precision  (AP) @[ IoU=0.75      | area=   all | maxDets= 20 ] = 0.396\n",
      " Average Precision  (AP) @[ IoU=0.50:0.95 | area=medium | maxDets= 20 ] = 0.480\n",
      " Average Precision  (AP) @[ IoU=0.50:0.95 | area= large | maxDets= 20 ] = -1.000\n",
      " Average Recall     (AR) @[ IoU=0.50:0.95 | area=   all | maxDets= 20 ] = 0.520\n",
      " Average Recall     (AR) @[ IoU=0.50      | area=   all | maxDets= 20 ] = 0.967\n",
      " Average Recall     (AR) @[ IoU=0.75      | area=   all | maxDets= 20 ] = 0.467\n",
      " Average Recall     (AR) @[ IoU=0.50:0.95 | area=medium | maxDets= 20 ] = 0.520\n",
      " Average Recall     (AR) @[ IoU=0.50:0.95 | area= large | maxDets= 20 ] = -1.000\n"
     ]
    },
    {
     "name": "stderr",
     "output_type": "stream",
     "text": [
      "Epoch: [29][0/6]\tTime 10.230s (10.230s)\tSpeed 3.1 samples/s\tData 9.984s (9.984s)\tLoss 0.00054 (0.00054)\tAccuracy 0.886 (0.886)\n",
      "Test: [0/1]\tTime 6.366 (6.366)\tLoss 0.0013 (0.0013)\tAccuracy 0.533 (0.533)\n",
      "=> Writing results json to /home/jfeil/IDP/baseline_implementations/microsoft_baseline/pose_estimation/experiment_output/coco/pose_resnet_152/384x288_d256x3_adam_lr1e-3_TransferLearning_2024-01-16_09:50:30/results/keypoints_val2017_results.json\n",
      "=> coco eval results saved to /home/jfeil/IDP/baseline_implementations/microsoft_baseline/pose_estimation/experiment_output/coco/pose_resnet_152/384x288_d256x3_adam_lr1e-3_TransferLearning_2024-01-16_09:50:30/results/keypoints_val2017_results.pkl\n",
      "| Arch | AP | Ap .5 | AP .75 | AP (M) | AP (L) | AR | AR .5 | AR .75 | AR (M) | AR (L) |\n",
      "|---|---|---|---|---|---|---|---|---|---|---|\n",
      "| 384x288_pose_resnet_152_d256d256d256 | 0.509 | 0.946 | 0.422 | 0.509 | -1.000 | 0.547 | 0.967 | 0.500 | 0.547 | -1.000 |\n",
      "=> saving checkpoint to /home/jfeil/IDP/baseline_implementations/microsoft_baseline/pose_estimation/experiment_output/coco/pose_resnet_152/384x288_d256x3_adam_lr1e-3_TransferLearning_2024-01-16_09:50:30\n"
     ]
    },
    {
     "name": "stdout",
     "output_type": "stream",
     "text": [
      "Loading and preparing results...\n",
      "DONE (t=0.00s)\n",
      "creating index...\n",
      "index created!\n",
      "Running per image evaluation...\n",
      "Evaluate annotation type *keypoints*\n",
      "DONE (t=0.01s).\n",
      "Accumulating evaluation results...\n",
      "DONE (t=0.00s).\n",
      " Average Precision  (AP) @[ IoU=0.50:0.95 | area=   all | maxDets= 20 ] = 0.509\n",
      " Average Precision  (AP) @[ IoU=0.50      | area=   all | maxDets= 20 ] = 0.946\n",
      " Average Precision  (AP) @[ IoU=0.75      | area=   all | maxDets= 20 ] = 0.422\n",
      " Average Precision  (AP) @[ IoU=0.50:0.95 | area=medium | maxDets= 20 ] = 0.509\n",
      " Average Precision  (AP) @[ IoU=0.50:0.95 | area= large | maxDets= 20 ] = -1.000\n",
      " Average Recall     (AR) @[ IoU=0.50:0.95 | area=   all | maxDets= 20 ] = 0.547\n",
      " Average Recall     (AR) @[ IoU=0.50      | area=   all | maxDets= 20 ] = 0.967\n",
      " Average Recall     (AR) @[ IoU=0.75      | area=   all | maxDets= 20 ] = 0.500\n",
      " Average Recall     (AR) @[ IoU=0.50:0.95 | area=medium | maxDets= 20 ] = 0.547\n",
      " Average Recall     (AR) @[ IoU=0.50:0.95 | area= large | maxDets= 20 ] = -1.000\n"
     ]
    },
    {
     "name": "stderr",
     "output_type": "stream",
     "text": [
      "Epoch: [30][0/6]\tTime 9.813s (9.813s)\tSpeed 3.3 samples/s\tData 9.562s (9.562s)\tLoss 0.00057 (0.00057)\tAccuracy 0.851 (0.851)\n",
      "Test: [0/1]\tTime 6.275 (6.275)\tLoss 0.0014 (0.0014)\tAccuracy 0.530 (0.530)\n",
      "=> Writing results json to /home/jfeil/IDP/baseline_implementations/microsoft_baseline/pose_estimation/experiment_output/coco/pose_resnet_152/384x288_d256x3_adam_lr1e-3_TransferLearning_2024-01-16_09:50:30/results/keypoints_val2017_results.json\n",
      "=> coco eval results saved to /home/jfeil/IDP/baseline_implementations/microsoft_baseline/pose_estimation/experiment_output/coco/pose_resnet_152/384x288_d256x3_adam_lr1e-3_TransferLearning_2024-01-16_09:50:30/results/keypoints_val2017_results.pkl\n",
      "| Arch | AP | Ap .5 | AP .75 | AP (M) | AP (L) | AR | AR .5 | AR .75 | AR (M) | AR (L) |\n",
      "|---|---|---|---|---|---|---|---|---|---|---|\n",
      "| 384x288_pose_resnet_152_d256d256d256 | 0.480 | 0.919 | 0.382 | 0.480 | -1.000 | 0.517 | 0.933 | 0.433 | 0.517 | -1.000 |\n",
      "=> saving checkpoint to /home/jfeil/IDP/baseline_implementations/microsoft_baseline/pose_estimation/experiment_output/coco/pose_resnet_152/384x288_d256x3_adam_lr1e-3_TransferLearning_2024-01-16_09:50:30\n"
     ]
    },
    {
     "name": "stdout",
     "output_type": "stream",
     "text": [
      "Loading and preparing results...\n",
      "DONE (t=0.00s)\n",
      "creating index...\n",
      "index created!\n",
      "Running per image evaluation...\n",
      "Evaluate annotation type *keypoints*\n",
      "DONE (t=0.01s).\n",
      "Accumulating evaluation results...\n",
      "DONE (t=0.00s).\n",
      " Average Precision  (AP) @[ IoU=0.50:0.95 | area=   all | maxDets= 20 ] = 0.480\n",
      " Average Precision  (AP) @[ IoU=0.50      | area=   all | maxDets= 20 ] = 0.919\n",
      " Average Precision  (AP) @[ IoU=0.75      | area=   all | maxDets= 20 ] = 0.382\n",
      " Average Precision  (AP) @[ IoU=0.50:0.95 | area=medium | maxDets= 20 ] = 0.480\n",
      " Average Precision  (AP) @[ IoU=0.50:0.95 | area= large | maxDets= 20 ] = -1.000\n",
      " Average Recall     (AR) @[ IoU=0.50:0.95 | area=   all | maxDets= 20 ] = 0.517\n",
      " Average Recall     (AR) @[ IoU=0.50      | area=   all | maxDets= 20 ] = 0.933\n",
      " Average Recall     (AR) @[ IoU=0.75      | area=   all | maxDets= 20 ] = 0.433\n",
      " Average Recall     (AR) @[ IoU=0.50:0.95 | area=medium | maxDets= 20 ] = 0.517\n",
      " Average Recall     (AR) @[ IoU=0.50:0.95 | area= large | maxDets= 20 ] = -1.000\n"
     ]
    },
    {
     "name": "stderr",
     "output_type": "stream",
     "text": [
      "Epoch: [31][0/6]\tTime 10.020s (10.020s)\tSpeed 3.2 samples/s\tData 9.773s (9.773s)\tLoss 0.00041 (0.00041)\tAccuracy 0.945 (0.945)\n",
      "Test: [0/1]\tTime 6.227 (6.227)\tLoss 0.0014 (0.0014)\tAccuracy 0.543 (0.543)\n",
      "=> Writing results json to /home/jfeil/IDP/baseline_implementations/microsoft_baseline/pose_estimation/experiment_output/coco/pose_resnet_152/384x288_d256x3_adam_lr1e-3_TransferLearning_2024-01-16_09:50:30/results/keypoints_val2017_results.json\n",
      "=> coco eval results saved to /home/jfeil/IDP/baseline_implementations/microsoft_baseline/pose_estimation/experiment_output/coco/pose_resnet_152/384x288_d256x3_adam_lr1e-3_TransferLearning_2024-01-16_09:50:30/results/keypoints_val2017_results.pkl\n",
      "| Arch | AP | Ap .5 | AP .75 | AP (M) | AP (L) | AR | AR .5 | AR .75 | AR (M) | AR (L) |\n",
      "|---|---|---|---|---|---|---|---|---|---|---|\n",
      "| 384x288_pose_resnet_152_d256d256d256 | 0.511 | 1.000 | 0.365 | 0.511 | -1.000 | 0.553 | 1.000 | 0.433 | 0.553 | -1.000 |\n",
      "=> saving checkpoint to /home/jfeil/IDP/baseline_implementations/microsoft_baseline/pose_estimation/experiment_output/coco/pose_resnet_152/384x288_d256x3_adam_lr1e-3_TransferLearning_2024-01-16_09:50:30\n"
     ]
    },
    {
     "name": "stdout",
     "output_type": "stream",
     "text": [
      "Loading and preparing results...\n",
      "DONE (t=0.00s)\n",
      "creating index...\n",
      "index created!\n",
      "Running per image evaluation...\n",
      "Evaluate annotation type *keypoints*\n",
      "DONE (t=0.01s).\n",
      "Accumulating evaluation results...\n",
      "DONE (t=0.00s).\n",
      " Average Precision  (AP) @[ IoU=0.50:0.95 | area=   all | maxDets= 20 ] = 0.511\n",
      " Average Precision  (AP) @[ IoU=0.50      | area=   all | maxDets= 20 ] = 1.000\n",
      " Average Precision  (AP) @[ IoU=0.75      | area=   all | maxDets= 20 ] = 0.365\n",
      " Average Precision  (AP) @[ IoU=0.50:0.95 | area=medium | maxDets= 20 ] = 0.511\n",
      " Average Precision  (AP) @[ IoU=0.50:0.95 | area= large | maxDets= 20 ] = -1.000\n",
      " Average Recall     (AR) @[ IoU=0.50:0.95 | area=   all | maxDets= 20 ] = 0.553\n",
      " Average Recall     (AR) @[ IoU=0.50      | area=   all | maxDets= 20 ] = 1.000\n",
      " Average Recall     (AR) @[ IoU=0.75      | area=   all | maxDets= 20 ] = 0.433\n",
      " Average Recall     (AR) @[ IoU=0.50:0.95 | area=medium | maxDets= 20 ] = 0.553\n",
      " Average Recall     (AR) @[ IoU=0.50:0.95 | area= large | maxDets= 20 ] = -1.000\n"
     ]
    },
    {
     "name": "stderr",
     "output_type": "stream",
     "text": [
      "Epoch: [32][0/6]\tTime 9.843s (9.843s)\tSpeed 3.3 samples/s\tData 9.592s (9.592s)\tLoss 0.00042 (0.00042)\tAccuracy 0.933 (0.933)\n",
      "Test: [0/1]\tTime 6.245 (6.245)\tLoss 0.0014 (0.0014)\tAccuracy 0.523 (0.523)\n",
      "=> Writing results json to /home/jfeil/IDP/baseline_implementations/microsoft_baseline/pose_estimation/experiment_output/coco/pose_resnet_152/384x288_d256x3_adam_lr1e-3_TransferLearning_2024-01-16_09:50:30/results/keypoints_val2017_results.json\n",
      "=> coco eval results saved to /home/jfeil/IDP/baseline_implementations/microsoft_baseline/pose_estimation/experiment_output/coco/pose_resnet_152/384x288_d256x3_adam_lr1e-3_TransferLearning_2024-01-16_09:50:30/results/keypoints_val2017_results.pkl\n",
      "| Arch | AP | Ap .5 | AP .75 | AP (M) | AP (L) | AR | AR .5 | AR .75 | AR (M) | AR (L) |\n",
      "|---|---|---|---|---|---|---|---|---|---|---|\n",
      "| 384x288_pose_resnet_152_d256d256d256 | 0.502 | 1.000 | 0.414 | 0.502 | -1.000 | 0.557 | 1.000 | 0.467 | 0.557 | -1.000 |\n",
      "=> saving checkpoint to /home/jfeil/IDP/baseline_implementations/microsoft_baseline/pose_estimation/experiment_output/coco/pose_resnet_152/384x288_d256x3_adam_lr1e-3_TransferLearning_2024-01-16_09:50:30\n"
     ]
    },
    {
     "name": "stdout",
     "output_type": "stream",
     "text": [
      "Loading and preparing results...\n",
      "DONE (t=0.00s)\n",
      "creating index...\n",
      "index created!\n",
      "Running per image evaluation...\n",
      "Evaluate annotation type *keypoints*\n",
      "DONE (t=0.01s).\n",
      "Accumulating evaluation results...\n",
      "DONE (t=0.00s).\n",
      " Average Precision  (AP) @[ IoU=0.50:0.95 | area=   all | maxDets= 20 ] = 0.502\n",
      " Average Precision  (AP) @[ IoU=0.50      | area=   all | maxDets= 20 ] = 1.000\n",
      " Average Precision  (AP) @[ IoU=0.75      | area=   all | maxDets= 20 ] = 0.414\n",
      " Average Precision  (AP) @[ IoU=0.50:0.95 | area=medium | maxDets= 20 ] = 0.502\n",
      " Average Precision  (AP) @[ IoU=0.50:0.95 | area= large | maxDets= 20 ] = -1.000\n",
      " Average Recall     (AR) @[ IoU=0.50:0.95 | area=   all | maxDets= 20 ] = 0.557\n",
      " Average Recall     (AR) @[ IoU=0.50      | area=   all | maxDets= 20 ] = 1.000\n",
      " Average Recall     (AR) @[ IoU=0.75      | area=   all | maxDets= 20 ] = 0.467\n",
      " Average Recall     (AR) @[ IoU=0.50:0.95 | area=medium | maxDets= 20 ] = 0.557\n",
      " Average Recall     (AR) @[ IoU=0.50:0.95 | area= large | maxDets= 20 ] = -1.000\n"
     ]
    },
    {
     "name": "stderr",
     "output_type": "stream",
     "text": [
      "Epoch: [33][0/6]\tTime 10.201s (10.201s)\tSpeed 3.1 samples/s\tData 9.950s (9.950s)\tLoss 0.00050 (0.00050)\tAccuracy 0.890 (0.890)\n",
      "Test: [0/1]\tTime 6.164 (6.164)\tLoss 0.0015 (0.0015)\tAccuracy 0.497 (0.497)\n",
      "=> Writing results json to /home/jfeil/IDP/baseline_implementations/microsoft_baseline/pose_estimation/experiment_output/coco/pose_resnet_152/384x288_d256x3_adam_lr1e-3_TransferLearning_2024-01-16_09:50:30/results/keypoints_val2017_results.json\n",
      "=> coco eval results saved to /home/jfeil/IDP/baseline_implementations/microsoft_baseline/pose_estimation/experiment_output/coco/pose_resnet_152/384x288_d256x3_adam_lr1e-3_TransferLearning_2024-01-16_09:50:30/results/keypoints_val2017_results.pkl\n",
      "| Arch | AP | Ap .5 | AP .75 | AP (M) | AP (L) | AR | AR .5 | AR .75 | AR (M) | AR (L) |\n",
      "|---|---|---|---|---|---|---|---|---|---|---|\n",
      "| 384x288_pose_resnet_152_d256d256d256 | 0.406 | 0.700 | 0.395 | 0.406 | -1.000 | 0.430 | 0.733 | 0.400 | 0.430 | -1.000 |\n",
      "=> saving checkpoint to /home/jfeil/IDP/baseline_implementations/microsoft_baseline/pose_estimation/experiment_output/coco/pose_resnet_152/384x288_d256x3_adam_lr1e-3_TransferLearning_2024-01-16_09:50:30\n"
     ]
    },
    {
     "name": "stdout",
     "output_type": "stream",
     "text": [
      "Loading and preparing results...\n",
      "DONE (t=0.00s)\n",
      "creating index...\n",
      "index created!\n",
      "Running per image evaluation...\n",
      "Evaluate annotation type *keypoints*\n",
      "DONE (t=0.01s).\n",
      "Accumulating evaluation results...\n",
      "DONE (t=0.00s).\n",
      " Average Precision  (AP) @[ IoU=0.50:0.95 | area=   all | maxDets= 20 ] = 0.406\n",
      " Average Precision  (AP) @[ IoU=0.50      | area=   all | maxDets= 20 ] = 0.700\n",
      " Average Precision  (AP) @[ IoU=0.75      | area=   all | maxDets= 20 ] = 0.395\n",
      " Average Precision  (AP) @[ IoU=0.50:0.95 | area=medium | maxDets= 20 ] = 0.406\n",
      " Average Precision  (AP) @[ IoU=0.50:0.95 | area= large | maxDets= 20 ] = -1.000\n",
      " Average Recall     (AR) @[ IoU=0.50:0.95 | area=   all | maxDets= 20 ] = 0.430\n",
      " Average Recall     (AR) @[ IoU=0.50      | area=   all | maxDets= 20 ] = 0.733\n",
      " Average Recall     (AR) @[ IoU=0.75      | area=   all | maxDets= 20 ] = 0.400\n",
      " Average Recall     (AR) @[ IoU=0.50:0.95 | area=medium | maxDets= 20 ] = 0.430\n",
      " Average Recall     (AR) @[ IoU=0.50:0.95 | area= large | maxDets= 20 ] = -1.000\n"
     ]
    },
    {
     "name": "stderr",
     "output_type": "stream",
     "text": [
      "Epoch: [34][0/6]\tTime 9.836s (9.836s)\tSpeed 3.3 samples/s\tData 9.578s (9.578s)\tLoss 0.00048 (0.00048)\tAccuracy 0.902 (0.902)\n",
      "Test: [0/1]\tTime 6.231 (6.231)\tLoss 0.0013 (0.0013)\tAccuracy 0.540 (0.540)\n",
      "=> Writing results json to /home/jfeil/IDP/baseline_implementations/microsoft_baseline/pose_estimation/experiment_output/coco/pose_resnet_152/384x288_d256x3_adam_lr1e-3_TransferLearning_2024-01-16_09:50:30/results/keypoints_val2017_results.json\n",
      "=> coco eval results saved to /home/jfeil/IDP/baseline_implementations/microsoft_baseline/pose_estimation/experiment_output/coco/pose_resnet_152/384x288_d256x3_adam_lr1e-3_TransferLearning_2024-01-16_09:50:30/results/keypoints_val2017_results.pkl\n",
      "| Arch | AP | Ap .5 | AP .75 | AP (M) | AP (L) | AR | AR .5 | AR .75 | AR (M) | AR (L) |\n",
      "|---|---|---|---|---|---|---|---|---|---|---|\n",
      "| 384x288_pose_resnet_152_d256d256d256 | 0.522 | 1.000 | 0.431 | 0.522 | -1.000 | 0.547 | 1.000 | 0.467 | 0.547 | -1.000 |\n",
      "=> saving checkpoint to /home/jfeil/IDP/baseline_implementations/microsoft_baseline/pose_estimation/experiment_output/coco/pose_resnet_152/384x288_d256x3_adam_lr1e-3_TransferLearning_2024-01-16_09:50:30\n"
     ]
    },
    {
     "name": "stdout",
     "output_type": "stream",
     "text": [
      "Loading and preparing results...\n",
      "DONE (t=0.00s)\n",
      "creating index...\n",
      "index created!\n",
      "Running per image evaluation...\n",
      "Evaluate annotation type *keypoints*\n",
      "DONE (t=0.01s).\n",
      "Accumulating evaluation results...\n",
      "DONE (t=0.00s).\n",
      " Average Precision  (AP) @[ IoU=0.50:0.95 | area=   all | maxDets= 20 ] = 0.522\n",
      " Average Precision  (AP) @[ IoU=0.50      | area=   all | maxDets= 20 ] = 1.000\n",
      " Average Precision  (AP) @[ IoU=0.75      | area=   all | maxDets= 20 ] = 0.431\n",
      " Average Precision  (AP) @[ IoU=0.50:0.95 | area=medium | maxDets= 20 ] = 0.522\n",
      " Average Precision  (AP) @[ IoU=0.50:0.95 | area= large | maxDets= 20 ] = -1.000\n",
      " Average Recall     (AR) @[ IoU=0.50:0.95 | area=   all | maxDets= 20 ] = 0.547\n",
      " Average Recall     (AR) @[ IoU=0.50      | area=   all | maxDets= 20 ] = 1.000\n",
      " Average Recall     (AR) @[ IoU=0.75      | area=   all | maxDets= 20 ] = 0.467\n",
      " Average Recall     (AR) @[ IoU=0.50:0.95 | area=medium | maxDets= 20 ] = 0.547\n",
      " Average Recall     (AR) @[ IoU=0.50:0.95 | area= large | maxDets= 20 ] = -1.000\n"
     ]
    },
    {
     "name": "stderr",
     "output_type": "stream",
     "text": [
      "Epoch: [35][0/6]\tTime 10.026s (10.026s)\tSpeed 3.2 samples/s\tData 9.775s (9.775s)\tLoss 0.00055 (0.00055)\tAccuracy 0.878 (0.878)\n",
      "Test: [0/1]\tTime 6.205 (6.205)\tLoss 0.0014 (0.0014)\tAccuracy 0.513 (0.513)\n",
      "=> Writing results json to /home/jfeil/IDP/baseline_implementations/microsoft_baseline/pose_estimation/experiment_output/coco/pose_resnet_152/384x288_d256x3_adam_lr1e-3_TransferLearning_2024-01-16_09:50:30/results/keypoints_val2017_results.json\n",
      "=> coco eval results saved to /home/jfeil/IDP/baseline_implementations/microsoft_baseline/pose_estimation/experiment_output/coco/pose_resnet_152/384x288_d256x3_adam_lr1e-3_TransferLearning_2024-01-16_09:50:30/results/keypoints_val2017_results.pkl\n",
      "| Arch | AP | Ap .5 | AP .75 | AP (M) | AP (L) | AR | AR .5 | AR .75 | AR (M) | AR (L) |\n",
      "|---|---|---|---|---|---|---|---|---|---|---|\n",
      "| 384x288_pose_resnet_152_d256d256d256 | 0.437 | 0.919 | 0.337 | 0.437 | -1.000 | 0.483 | 0.933 | 0.400 | 0.483 | -1.000 |\n",
      "=> saving checkpoint to /home/jfeil/IDP/baseline_implementations/microsoft_baseline/pose_estimation/experiment_output/coco/pose_resnet_152/384x288_d256x3_adam_lr1e-3_TransferLearning_2024-01-16_09:50:30\n"
     ]
    },
    {
     "name": "stdout",
     "output_type": "stream",
     "text": [
      "Loading and preparing results...\n",
      "DONE (t=0.00s)\n",
      "creating index...\n",
      "index created!\n",
      "Running per image evaluation...\n",
      "Evaluate annotation type *keypoints*\n",
      "DONE (t=0.01s).\n",
      "Accumulating evaluation results...\n",
      "DONE (t=0.00s).\n",
      " Average Precision  (AP) @[ IoU=0.50:0.95 | area=   all | maxDets= 20 ] = 0.437\n",
      " Average Precision  (AP) @[ IoU=0.50      | area=   all | maxDets= 20 ] = 0.919\n",
      " Average Precision  (AP) @[ IoU=0.75      | area=   all | maxDets= 20 ] = 0.337\n",
      " Average Precision  (AP) @[ IoU=0.50:0.95 | area=medium | maxDets= 20 ] = 0.437\n",
      " Average Precision  (AP) @[ IoU=0.50:0.95 | area= large | maxDets= 20 ] = -1.000\n",
      " Average Recall     (AR) @[ IoU=0.50:0.95 | area=   all | maxDets= 20 ] = 0.483\n",
      " Average Recall     (AR) @[ IoU=0.50      | area=   all | maxDets= 20 ] = 0.933\n",
      " Average Recall     (AR) @[ IoU=0.75      | area=   all | maxDets= 20 ] = 0.400\n",
      " Average Recall     (AR) @[ IoU=0.50:0.95 | area=medium | maxDets= 20 ] = 0.483\n",
      " Average Recall     (AR) @[ IoU=0.50:0.95 | area= large | maxDets= 20 ] = -1.000\n"
     ]
    },
    {
     "name": "stderr",
     "output_type": "stream",
     "text": [
      "Epoch: [36][0/6]\tTime 10.056s (10.056s)\tSpeed 3.2 samples/s\tData 9.814s (9.814s)\tLoss 0.00051 (0.00051)\tAccuracy 0.889 (0.889)\n",
      "Test: [0/1]\tTime 6.202 (6.202)\tLoss 0.0014 (0.0014)\tAccuracy 0.507 (0.507)\n",
      "=> Writing results json to /home/jfeil/IDP/baseline_implementations/microsoft_baseline/pose_estimation/experiment_output/coco/pose_resnet_152/384x288_d256x3_adam_lr1e-3_TransferLearning_2024-01-16_09:50:30/results/keypoints_val2017_results.json\n",
      "=> coco eval results saved to /home/jfeil/IDP/baseline_implementations/microsoft_baseline/pose_estimation/experiment_output/coco/pose_resnet_152/384x288_d256x3_adam_lr1e-3_TransferLearning_2024-01-16_09:50:30/results/keypoints_val2017_results.pkl\n",
      "| Arch | AP | Ap .5 | AP .75 | AP (M) | AP (L) | AR | AR .5 | AR .75 | AR (M) | AR (L) |\n",
      "|---|---|---|---|---|---|---|---|---|---|---|\n",
      "| 384x288_pose_resnet_152_d256d256d256 | 0.415 | 0.788 | 0.365 | 0.415 | -1.000 | 0.460 | 0.833 | 0.400 | 0.460 | -1.000 |\n",
      "=> saving checkpoint to /home/jfeil/IDP/baseline_implementations/microsoft_baseline/pose_estimation/experiment_output/coco/pose_resnet_152/384x288_d256x3_adam_lr1e-3_TransferLearning_2024-01-16_09:50:30\n"
     ]
    },
    {
     "name": "stdout",
     "output_type": "stream",
     "text": [
      "Loading and preparing results...\n",
      "DONE (t=0.00s)\n",
      "creating index...\n",
      "index created!\n",
      "Running per image evaluation...\n",
      "Evaluate annotation type *keypoints*\n",
      "DONE (t=0.01s).\n",
      "Accumulating evaluation results...\n",
      "DONE (t=0.00s).\n",
      " Average Precision  (AP) @[ IoU=0.50:0.95 | area=   all | maxDets= 20 ] = 0.415\n",
      " Average Precision  (AP) @[ IoU=0.50      | area=   all | maxDets= 20 ] = 0.788\n",
      " Average Precision  (AP) @[ IoU=0.75      | area=   all | maxDets= 20 ] = 0.365\n",
      " Average Precision  (AP) @[ IoU=0.50:0.95 | area=medium | maxDets= 20 ] = 0.415\n",
      " Average Precision  (AP) @[ IoU=0.50:0.95 | area= large | maxDets= 20 ] = -1.000\n",
      " Average Recall     (AR) @[ IoU=0.50:0.95 | area=   all | maxDets= 20 ] = 0.460\n",
      " Average Recall     (AR) @[ IoU=0.50      | area=   all | maxDets= 20 ] = 0.833\n",
      " Average Recall     (AR) @[ IoU=0.75      | area=   all | maxDets= 20 ] = 0.400\n",
      " Average Recall     (AR) @[ IoU=0.50:0.95 | area=medium | maxDets= 20 ] = 0.460\n",
      " Average Recall     (AR) @[ IoU=0.50:0.95 | area= large | maxDets= 20 ] = -1.000\n"
     ]
    },
    {
     "name": "stderr",
     "output_type": "stream",
     "text": [
      "Epoch: [37][0/6]\tTime 10.235s (10.235s)\tSpeed 3.1 samples/s\tData 9.991s (9.991s)\tLoss 0.00047 (0.00047)\tAccuracy 0.908 (0.908)\n",
      "Test: [0/1]\tTime 6.253 (6.253)\tLoss 0.0013 (0.0013)\tAccuracy 0.530 (0.530)\n",
      "=> Writing results json to /home/jfeil/IDP/baseline_implementations/microsoft_baseline/pose_estimation/experiment_output/coco/pose_resnet_152/384x288_d256x3_adam_lr1e-3_TransferLearning_2024-01-16_09:50:30/results/keypoints_val2017_results.json\n",
      "=> coco eval results saved to /home/jfeil/IDP/baseline_implementations/microsoft_baseline/pose_estimation/experiment_output/coco/pose_resnet_152/384x288_d256x3_adam_lr1e-3_TransferLearning_2024-01-16_09:50:30/results/keypoints_val2017_results.pkl\n",
      "| Arch | AP | Ap .5 | AP .75 | AP (M) | AP (L) | AR | AR .5 | AR .75 | AR (M) | AR (L) |\n",
      "|---|---|---|---|---|---|---|---|---|---|---|\n",
      "| 384x288_pose_resnet_152_d256d256d256 | 0.489 | 0.883 | 0.474 | 0.489 | -1.000 | 0.513 | 0.900 | 0.500 | 0.513 | -1.000 |\n",
      "=> saving checkpoint to /home/jfeil/IDP/baseline_implementations/microsoft_baseline/pose_estimation/experiment_output/coco/pose_resnet_152/384x288_d256x3_adam_lr1e-3_TransferLearning_2024-01-16_09:50:30\n"
     ]
    },
    {
     "name": "stdout",
     "output_type": "stream",
     "text": [
      "Loading and preparing results...\n",
      "DONE (t=0.00s)\n",
      "creating index...\n",
      "index created!\n",
      "Running per image evaluation...\n",
      "Evaluate annotation type *keypoints*\n",
      "DONE (t=0.01s).\n",
      "Accumulating evaluation results...\n",
      "DONE (t=0.00s).\n",
      " Average Precision  (AP) @[ IoU=0.50:0.95 | area=   all | maxDets= 20 ] = 0.489\n",
      " Average Precision  (AP) @[ IoU=0.50      | area=   all | maxDets= 20 ] = 0.883\n",
      " Average Precision  (AP) @[ IoU=0.75      | area=   all | maxDets= 20 ] = 0.474\n",
      " Average Precision  (AP) @[ IoU=0.50:0.95 | area=medium | maxDets= 20 ] = 0.489\n",
      " Average Precision  (AP) @[ IoU=0.50:0.95 | area= large | maxDets= 20 ] = -1.000\n",
      " Average Recall     (AR) @[ IoU=0.50:0.95 | area=   all | maxDets= 20 ] = 0.513\n",
      " Average Recall     (AR) @[ IoU=0.50      | area=   all | maxDets= 20 ] = 0.900\n",
      " Average Recall     (AR) @[ IoU=0.75      | area=   all | maxDets= 20 ] = 0.500\n",
      " Average Recall     (AR) @[ IoU=0.50:0.95 | area=medium | maxDets= 20 ] = 0.513\n",
      " Average Recall     (AR) @[ IoU=0.50:0.95 | area= large | maxDets= 20 ] = -1.000\n"
     ]
    },
    {
     "name": "stderr",
     "output_type": "stream",
     "text": [
      "Epoch: [38][0/6]\tTime 10.022s (10.022s)\tSpeed 3.2 samples/s\tData 9.772s (9.772s)\tLoss 0.00041 (0.00041)\tAccuracy 0.927 (0.927)\n",
      "Test: [0/1]\tTime 6.198 (6.198)\tLoss 0.0013 (0.0013)\tAccuracy 0.527 (0.527)\n",
      "=> Writing results json to /home/jfeil/IDP/baseline_implementations/microsoft_baseline/pose_estimation/experiment_output/coco/pose_resnet_152/384x288_d256x3_adam_lr1e-3_TransferLearning_2024-01-16_09:50:30/results/keypoints_val2017_results.json\n",
      "=> coco eval results saved to /home/jfeil/IDP/baseline_implementations/microsoft_baseline/pose_estimation/experiment_output/coco/pose_resnet_152/384x288_d256x3_adam_lr1e-3_TransferLearning_2024-01-16_09:50:30/results/keypoints_val2017_results.pkl\n",
      "| Arch | AP | Ap .5 | AP .75 | AP (M) | AP (L) | AR | AR .5 | AR .75 | AR (M) | AR (L) |\n",
      "|---|---|---|---|---|---|---|---|---|---|---|\n",
      "| 384x288_pose_resnet_152_d256d256d256 | 0.490 | 0.918 | 0.432 | 0.490 | -1.000 | 0.520 | 0.933 | 0.467 | 0.520 | -1.000 |\n",
      "=> saving checkpoint to /home/jfeil/IDP/baseline_implementations/microsoft_baseline/pose_estimation/experiment_output/coco/pose_resnet_152/384x288_d256x3_adam_lr1e-3_TransferLearning_2024-01-16_09:50:30\n"
     ]
    },
    {
     "name": "stdout",
     "output_type": "stream",
     "text": [
      "Loading and preparing results...\n",
      "DONE (t=0.00s)\n",
      "creating index...\n",
      "index created!\n",
      "Running per image evaluation...\n",
      "Evaluate annotation type *keypoints*\n",
      "DONE (t=0.01s).\n",
      "Accumulating evaluation results...\n",
      "DONE (t=0.00s).\n",
      " Average Precision  (AP) @[ IoU=0.50:0.95 | area=   all | maxDets= 20 ] = 0.490\n",
      " Average Precision  (AP) @[ IoU=0.50      | area=   all | maxDets= 20 ] = 0.918\n",
      " Average Precision  (AP) @[ IoU=0.75      | area=   all | maxDets= 20 ] = 0.432\n",
      " Average Precision  (AP) @[ IoU=0.50:0.95 | area=medium | maxDets= 20 ] = 0.490\n",
      " Average Precision  (AP) @[ IoU=0.50:0.95 | area= large | maxDets= 20 ] = -1.000\n",
      " Average Recall     (AR) @[ IoU=0.50:0.95 | area=   all | maxDets= 20 ] = 0.520\n",
      " Average Recall     (AR) @[ IoU=0.50      | area=   all | maxDets= 20 ] = 0.933\n",
      " Average Recall     (AR) @[ IoU=0.75      | area=   all | maxDets= 20 ] = 0.467\n",
      " Average Recall     (AR) @[ IoU=0.50:0.95 | area=medium | maxDets= 20 ] = 0.520\n",
      " Average Recall     (AR) @[ IoU=0.50:0.95 | area= large | maxDets= 20 ] = -1.000\n"
     ]
    },
    {
     "name": "stderr",
     "output_type": "stream",
     "text": [
      "Epoch: [39][0/6]\tTime 9.792s (9.792s)\tSpeed 3.3 samples/s\tData 9.539s (9.539s)\tLoss 0.00042 (0.00042)\tAccuracy 0.933 (0.933)\n",
      "Test: [0/1]\tTime 6.235 (6.235)\tLoss 0.0014 (0.0014)\tAccuracy 0.497 (0.497)\n",
      "=> Writing results json to /home/jfeil/IDP/baseline_implementations/microsoft_baseline/pose_estimation/experiment_output/coco/pose_resnet_152/384x288_d256x3_adam_lr1e-3_TransferLearning_2024-01-16_09:50:30/results/keypoints_val2017_results.json\n",
      "=> coco eval results saved to /home/jfeil/IDP/baseline_implementations/microsoft_baseline/pose_estimation/experiment_output/coco/pose_resnet_152/384x288_d256x3_adam_lr1e-3_TransferLearning_2024-01-16_09:50:30/results/keypoints_val2017_results.pkl\n",
      "| Arch | AP | Ap .5 | AP .75 | AP (M) | AP (L) | AR | AR .5 | AR .75 | AR (M) | AR (L) |\n",
      "|---|---|---|---|---|---|---|---|---|---|---|\n",
      "| 384x288_pose_resnet_152_d256d256d256 | 0.435 | 0.794 | 0.405 | 0.435 | -1.000 | 0.473 | 0.833 | 0.467 | 0.473 | -1.000 |\n",
      "=> saving checkpoint to /home/jfeil/IDP/baseline_implementations/microsoft_baseline/pose_estimation/experiment_output/coco/pose_resnet_152/384x288_d256x3_adam_lr1e-3_TransferLearning_2024-01-16_09:50:30\n"
     ]
    },
    {
     "name": "stdout",
     "output_type": "stream",
     "text": [
      "Loading and preparing results...\n",
      "DONE (t=0.00s)\n",
      "creating index...\n",
      "index created!\n",
      "Running per image evaluation...\n",
      "Evaluate annotation type *keypoints*\n",
      "DONE (t=0.01s).\n",
      "Accumulating evaluation results...\n",
      "DONE (t=0.00s).\n",
      " Average Precision  (AP) @[ IoU=0.50:0.95 | area=   all | maxDets= 20 ] = 0.435\n",
      " Average Precision  (AP) @[ IoU=0.50      | area=   all | maxDets= 20 ] = 0.794\n",
      " Average Precision  (AP) @[ IoU=0.75      | area=   all | maxDets= 20 ] = 0.405\n",
      " Average Precision  (AP) @[ IoU=0.50:0.95 | area=medium | maxDets= 20 ] = 0.435\n",
      " Average Precision  (AP) @[ IoU=0.50:0.95 | area= large | maxDets= 20 ] = -1.000\n",
      " Average Recall     (AR) @[ IoU=0.50:0.95 | area=   all | maxDets= 20 ] = 0.473\n",
      " Average Recall     (AR) @[ IoU=0.50      | area=   all | maxDets= 20 ] = 0.833\n",
      " Average Recall     (AR) @[ IoU=0.75      | area=   all | maxDets= 20 ] = 0.467\n",
      " Average Recall     (AR) @[ IoU=0.50:0.95 | area=medium | maxDets= 20 ] = 0.473\n",
      " Average Recall     (AR) @[ IoU=0.50:0.95 | area= large | maxDets= 20 ] = -1.000\n"
     ]
    },
    {
     "name": "stderr",
     "output_type": "stream",
     "text": [
      "Epoch: [40][0/6]\tTime 9.924s (9.924s)\tSpeed 3.2 samples/s\tData 9.676s (9.676s)\tLoss 0.00040 (0.00040)\tAccuracy 0.921 (0.921)\n",
      "Test: [0/1]\tTime 6.206 (6.206)\tLoss 0.0014 (0.0014)\tAccuracy 0.530 (0.530)\n",
      "=> Writing results json to /home/jfeil/IDP/baseline_implementations/microsoft_baseline/pose_estimation/experiment_output/coco/pose_resnet_152/384x288_d256x3_adam_lr1e-3_TransferLearning_2024-01-16_09:50:30/results/keypoints_val2017_results.json\n",
      "=> coco eval results saved to /home/jfeil/IDP/baseline_implementations/microsoft_baseline/pose_estimation/experiment_output/coco/pose_resnet_152/384x288_d256x3_adam_lr1e-3_TransferLearning_2024-01-16_09:50:30/results/keypoints_val2017_results.pkl\n",
      "| Arch | AP | Ap .5 | AP .75 | AP (M) | AP (L) | AR | AR .5 | AR .75 | AR (M) | AR (L) |\n",
      "|---|---|---|---|---|---|---|---|---|---|---|\n",
      "| 384x288_pose_resnet_152_d256d256d256 | 0.469 | 0.915 | 0.384 | 0.469 | -1.000 | 0.520 | 0.933 | 0.467 | 0.520 | -1.000 |\n",
      "=> saving checkpoint to /home/jfeil/IDP/baseline_implementations/microsoft_baseline/pose_estimation/experiment_output/coco/pose_resnet_152/384x288_d256x3_adam_lr1e-3_TransferLearning_2024-01-16_09:50:30\n"
     ]
    },
    {
     "name": "stdout",
     "output_type": "stream",
     "text": [
      "Loading and preparing results...\n",
      "DONE (t=0.00s)\n",
      "creating index...\n",
      "index created!\n",
      "Running per image evaluation...\n",
      "Evaluate annotation type *keypoints*\n",
      "DONE (t=0.01s).\n",
      "Accumulating evaluation results...\n",
      "DONE (t=0.00s).\n",
      " Average Precision  (AP) @[ IoU=0.50:0.95 | area=   all | maxDets= 20 ] = 0.469\n",
      " Average Precision  (AP) @[ IoU=0.50      | area=   all | maxDets= 20 ] = 0.915\n",
      " Average Precision  (AP) @[ IoU=0.75      | area=   all | maxDets= 20 ] = 0.384\n",
      " Average Precision  (AP) @[ IoU=0.50:0.95 | area=medium | maxDets= 20 ] = 0.469\n",
      " Average Precision  (AP) @[ IoU=0.50:0.95 | area= large | maxDets= 20 ] = -1.000\n",
      " Average Recall     (AR) @[ IoU=0.50:0.95 | area=   all | maxDets= 20 ] = 0.520\n",
      " Average Recall     (AR) @[ IoU=0.50      | area=   all | maxDets= 20 ] = 0.933\n",
      " Average Recall     (AR) @[ IoU=0.75      | area=   all | maxDets= 20 ] = 0.467\n",
      " Average Recall     (AR) @[ IoU=0.50:0.95 | area=medium | maxDets= 20 ] = 0.520\n",
      " Average Recall     (AR) @[ IoU=0.50:0.95 | area= large | maxDets= 20 ] = -1.000\n"
     ]
    },
    {
     "name": "stderr",
     "output_type": "stream",
     "text": [
      "Epoch: [41][0/6]\tTime 10.083s (10.083s)\tSpeed 3.2 samples/s\tData 9.837s (9.837s)\tLoss 0.00048 (0.00048)\tAccuracy 0.896 (0.896)\n",
      "Test: [0/1]\tTime 6.249 (6.249)\tLoss 0.0014 (0.0014)\tAccuracy 0.513 (0.513)\n",
      "=> Writing results json to /home/jfeil/IDP/baseline_implementations/microsoft_baseline/pose_estimation/experiment_output/coco/pose_resnet_152/384x288_d256x3_adam_lr1e-3_TransferLearning_2024-01-16_09:50:30/results/keypoints_val2017_results.json\n",
      "=> coco eval results saved to /home/jfeil/IDP/baseline_implementations/microsoft_baseline/pose_estimation/experiment_output/coco/pose_resnet_152/384x288_d256x3_adam_lr1e-3_TransferLearning_2024-01-16_09:50:30/results/keypoints_val2017_results.pkl\n",
      "| Arch | AP | Ap .5 | AP .75 | AP (M) | AP (L) | AR | AR .5 | AR .75 | AR (M) | AR (L) |\n",
      "|---|---|---|---|---|---|---|---|---|---|---|\n",
      "| 384x288_pose_resnet_152_d256d256d256 | 0.438 | 0.799 | 0.449 | 0.438 | -1.000 | 0.497 | 0.867 | 0.500 | 0.497 | -1.000 |\n",
      "=> saving checkpoint to /home/jfeil/IDP/baseline_implementations/microsoft_baseline/pose_estimation/experiment_output/coco/pose_resnet_152/384x288_d256x3_adam_lr1e-3_TransferLearning_2024-01-16_09:50:30\n"
     ]
    },
    {
     "name": "stdout",
     "output_type": "stream",
     "text": [
      "Loading and preparing results...\n",
      "DONE (t=0.00s)\n",
      "creating index...\n",
      "index created!\n",
      "Running per image evaluation...\n",
      "Evaluate annotation type *keypoints*\n",
      "DONE (t=0.01s).\n",
      "Accumulating evaluation results...\n",
      "DONE (t=0.00s).\n",
      " Average Precision  (AP) @[ IoU=0.50:0.95 | area=   all | maxDets= 20 ] = 0.438\n",
      " Average Precision  (AP) @[ IoU=0.50      | area=   all | maxDets= 20 ] = 0.799\n",
      " Average Precision  (AP) @[ IoU=0.75      | area=   all | maxDets= 20 ] = 0.449\n",
      " Average Precision  (AP) @[ IoU=0.50:0.95 | area=medium | maxDets= 20 ] = 0.438\n",
      " Average Precision  (AP) @[ IoU=0.50:0.95 | area= large | maxDets= 20 ] = -1.000\n",
      " Average Recall     (AR) @[ IoU=0.50:0.95 | area=   all | maxDets= 20 ] = 0.497\n",
      " Average Recall     (AR) @[ IoU=0.50      | area=   all | maxDets= 20 ] = 0.867\n",
      " Average Recall     (AR) @[ IoU=0.75      | area=   all | maxDets= 20 ] = 0.500\n",
      " Average Recall     (AR) @[ IoU=0.50:0.95 | area=medium | maxDets= 20 ] = 0.497\n",
      " Average Recall     (AR) @[ IoU=0.50:0.95 | area= large | maxDets= 20 ] = -1.000\n"
     ]
    },
    {
     "name": "stderr",
     "output_type": "stream",
     "text": [
      "Epoch: [42][0/6]\tTime 9.897s (9.897s)\tSpeed 3.2 samples/s\tData 9.642s (9.642s)\tLoss 0.00043 (0.00043)\tAccuracy 0.911 (0.911)\n",
      "Test: [0/1]\tTime 6.157 (6.157)\tLoss 0.0015 (0.0015)\tAccuracy 0.500 (0.500)\n",
      "=> Writing results json to /home/jfeil/IDP/baseline_implementations/microsoft_baseline/pose_estimation/experiment_output/coco/pose_resnet_152/384x288_d256x3_adam_lr1e-3_TransferLearning_2024-01-16_09:50:30/results/keypoints_val2017_results.json\n",
      "=> coco eval results saved to /home/jfeil/IDP/baseline_implementations/microsoft_baseline/pose_estimation/experiment_output/coco/pose_resnet_152/384x288_d256x3_adam_lr1e-3_TransferLearning_2024-01-16_09:50:30/results/keypoints_val2017_results.pkl\n",
      "| Arch | AP | Ap .5 | AP .75 | AP (M) | AP (L) | AR | AR .5 | AR .75 | AR (M) | AR (L) |\n",
      "|---|---|---|---|---|---|---|---|---|---|---|\n",
      "| 384x288_pose_resnet_152_d256d256d256 | 0.429 | 0.857 | 0.393 | 0.429 | -1.000 | 0.487 | 0.900 | 0.467 | 0.487 | -1.000 |\n",
      "=> saving checkpoint to /home/jfeil/IDP/baseline_implementations/microsoft_baseline/pose_estimation/experiment_output/coco/pose_resnet_152/384x288_d256x3_adam_lr1e-3_TransferLearning_2024-01-16_09:50:30\n"
     ]
    },
    {
     "name": "stdout",
     "output_type": "stream",
     "text": [
      "Loading and preparing results...\n",
      "DONE (t=0.00s)\n",
      "creating index...\n",
      "index created!\n",
      "Running per image evaluation...\n",
      "Evaluate annotation type *keypoints*\n",
      "DONE (t=0.01s).\n",
      "Accumulating evaluation results...\n",
      "DONE (t=0.00s).\n",
      " Average Precision  (AP) @[ IoU=0.50:0.95 | area=   all | maxDets= 20 ] = 0.429\n",
      " Average Precision  (AP) @[ IoU=0.50      | area=   all | maxDets= 20 ] = 0.857\n",
      " Average Precision  (AP) @[ IoU=0.75      | area=   all | maxDets= 20 ] = 0.393\n",
      " Average Precision  (AP) @[ IoU=0.50:0.95 | area=medium | maxDets= 20 ] = 0.429\n",
      " Average Precision  (AP) @[ IoU=0.50:0.95 | area= large | maxDets= 20 ] = -1.000\n",
      " Average Recall     (AR) @[ IoU=0.50:0.95 | area=   all | maxDets= 20 ] = 0.487\n",
      " Average Recall     (AR) @[ IoU=0.50      | area=   all | maxDets= 20 ] = 0.900\n",
      " Average Recall     (AR) @[ IoU=0.75      | area=   all | maxDets= 20 ] = 0.467\n",
      " Average Recall     (AR) @[ IoU=0.50:0.95 | area=medium | maxDets= 20 ] = 0.487\n",
      " Average Recall     (AR) @[ IoU=0.50:0.95 | area= large | maxDets= 20 ] = -1.000\n"
     ]
    },
    {
     "name": "stderr",
     "output_type": "stream",
     "text": [
      "Epoch: [43][0/6]\tTime 10.055s (10.055s)\tSpeed 3.2 samples/s\tData 9.814s (9.814s)\tLoss 0.00039 (0.00039)\tAccuracy 0.924 (0.924)\n",
      "Test: [0/1]\tTime 6.284 (6.284)\tLoss 0.0014 (0.0014)\tAccuracy 0.507 (0.507)\n",
      "=> Writing results json to /home/jfeil/IDP/baseline_implementations/microsoft_baseline/pose_estimation/experiment_output/coco/pose_resnet_152/384x288_d256x3_adam_lr1e-3_TransferLearning_2024-01-16_09:50:30/results/keypoints_val2017_results.json\n",
      "=> coco eval results saved to /home/jfeil/IDP/baseline_implementations/microsoft_baseline/pose_estimation/experiment_output/coco/pose_resnet_152/384x288_d256x3_adam_lr1e-3_TransferLearning_2024-01-16_09:50:30/results/keypoints_val2017_results.pkl\n",
      "| Arch | AP | Ap .5 | AP .75 | AP (M) | AP (L) | AR | AR .5 | AR .75 | AR (M) | AR (L) |\n",
      "|---|---|---|---|---|---|---|---|---|---|---|\n",
      "| 384x288_pose_resnet_152_d256d256d256 | 0.433 | 0.812 | 0.432 | 0.433 | -1.000 | 0.480 | 0.867 | 0.500 | 0.480 | -1.000 |\n",
      "=> saving checkpoint to /home/jfeil/IDP/baseline_implementations/microsoft_baseline/pose_estimation/experiment_output/coco/pose_resnet_152/384x288_d256x3_adam_lr1e-3_TransferLearning_2024-01-16_09:50:30\n"
     ]
    },
    {
     "name": "stdout",
     "output_type": "stream",
     "text": [
      "Loading and preparing results...\n",
      "DONE (t=0.00s)\n",
      "creating index...\n",
      "index created!\n",
      "Running per image evaluation...\n",
      "Evaluate annotation type *keypoints*\n",
      "DONE (t=0.01s).\n",
      "Accumulating evaluation results...\n",
      "DONE (t=0.00s).\n",
      " Average Precision  (AP) @[ IoU=0.50:0.95 | area=   all | maxDets= 20 ] = 0.433\n",
      " Average Precision  (AP) @[ IoU=0.50      | area=   all | maxDets= 20 ] = 0.812\n",
      " Average Precision  (AP) @[ IoU=0.75      | area=   all | maxDets= 20 ] = 0.432\n",
      " Average Precision  (AP) @[ IoU=0.50:0.95 | area=medium | maxDets= 20 ] = 0.433\n",
      " Average Precision  (AP) @[ IoU=0.50:0.95 | area= large | maxDets= 20 ] = -1.000\n",
      " Average Recall     (AR) @[ IoU=0.50:0.95 | area=   all | maxDets= 20 ] = 0.480\n",
      " Average Recall     (AR) @[ IoU=0.50      | area=   all | maxDets= 20 ] = 0.867\n",
      " Average Recall     (AR) @[ IoU=0.75      | area=   all | maxDets= 20 ] = 0.500\n",
      " Average Recall     (AR) @[ IoU=0.50:0.95 | area=medium | maxDets= 20 ] = 0.480\n",
      " Average Recall     (AR) @[ IoU=0.50:0.95 | area= large | maxDets= 20 ] = -1.000\n"
     ]
    },
    {
     "name": "stderr",
     "output_type": "stream",
     "text": [
      "Epoch: [44][0/6]\tTime 10.179s (10.179s)\tSpeed 3.1 samples/s\tData 9.935s (9.935s)\tLoss 0.00036 (0.00036)\tAccuracy 0.955 (0.955)\n",
      "Test: [0/1]\tTime 6.290 (6.290)\tLoss 0.0014 (0.0014)\tAccuracy 0.513 (0.513)\n",
      "=> Writing results json to /home/jfeil/IDP/baseline_implementations/microsoft_baseline/pose_estimation/experiment_output/coco/pose_resnet_152/384x288_d256x3_adam_lr1e-3_TransferLearning_2024-01-16_09:50:30/results/keypoints_val2017_results.json\n",
      "=> coco eval results saved to /home/jfeil/IDP/baseline_implementations/microsoft_baseline/pose_estimation/experiment_output/coco/pose_resnet_152/384x288_d256x3_adam_lr1e-3_TransferLearning_2024-01-16_09:50:30/results/keypoints_val2017_results.pkl\n",
      "| Arch | AP | Ap .5 | AP .75 | AP (M) | AP (L) | AR | AR .5 | AR .75 | AR (M) | AR (L) |\n",
      "|---|---|---|---|---|---|---|---|---|---|---|\n",
      "| 384x288_pose_resnet_152_d256d256d256 | 0.433 | 0.806 | 0.373 | 0.433 | -1.000 | 0.483 | 0.867 | 0.433 | 0.483 | -1.000 |\n",
      "=> saving checkpoint to /home/jfeil/IDP/baseline_implementations/microsoft_baseline/pose_estimation/experiment_output/coco/pose_resnet_152/384x288_d256x3_adam_lr1e-3_TransferLearning_2024-01-16_09:50:30\n"
     ]
    },
    {
     "name": "stdout",
     "output_type": "stream",
     "text": [
      "Loading and preparing results...\n",
      "DONE (t=0.00s)\n",
      "creating index...\n",
      "index created!\n",
      "Running per image evaluation...\n",
      "Evaluate annotation type *keypoints*\n",
      "DONE (t=0.01s).\n",
      "Accumulating evaluation results...\n",
      "DONE (t=0.00s).\n",
      " Average Precision  (AP) @[ IoU=0.50:0.95 | area=   all | maxDets= 20 ] = 0.433\n",
      " Average Precision  (AP) @[ IoU=0.50      | area=   all | maxDets= 20 ] = 0.806\n",
      " Average Precision  (AP) @[ IoU=0.75      | area=   all | maxDets= 20 ] = 0.373\n",
      " Average Precision  (AP) @[ IoU=0.50:0.95 | area=medium | maxDets= 20 ] = 0.433\n",
      " Average Precision  (AP) @[ IoU=0.50:0.95 | area= large | maxDets= 20 ] = -1.000\n",
      " Average Recall     (AR) @[ IoU=0.50:0.95 | area=   all | maxDets= 20 ] = 0.483\n",
      " Average Recall     (AR) @[ IoU=0.50      | area=   all | maxDets= 20 ] = 0.867\n",
      " Average Recall     (AR) @[ IoU=0.75      | area=   all | maxDets= 20 ] = 0.433\n",
      " Average Recall     (AR) @[ IoU=0.50:0.95 | area=medium | maxDets= 20 ] = 0.483\n",
      " Average Recall     (AR) @[ IoU=0.50:0.95 | area= large | maxDets= 20 ] = -1.000\n"
     ]
    },
    {
     "name": "stderr",
     "output_type": "stream",
     "text": [
      "Epoch: [45][0/6]\tTime 10.258s (10.258s)\tSpeed 3.1 samples/s\tData 10.016s (10.016s)\tLoss 0.00042 (0.00042)\tAccuracy 0.939 (0.939)\n",
      "Test: [0/1]\tTime 6.184 (6.184)\tLoss 0.0014 (0.0014)\tAccuracy 0.537 (0.537)\n",
      "=> Writing results json to /home/jfeil/IDP/baseline_implementations/microsoft_baseline/pose_estimation/experiment_output/coco/pose_resnet_152/384x288_d256x3_adam_lr1e-3_TransferLearning_2024-01-16_09:50:30/results/keypoints_val2017_results.json\n",
      "=> coco eval results saved to /home/jfeil/IDP/baseline_implementations/microsoft_baseline/pose_estimation/experiment_output/coco/pose_resnet_152/384x288_d256x3_adam_lr1e-3_TransferLearning_2024-01-16_09:50:30/results/keypoints_val2017_results.pkl\n",
      "| Arch | AP | Ap .5 | AP .75 | AP (M) | AP (L) | AR | AR .5 | AR .75 | AR (M) | AR (L) |\n",
      "|---|---|---|---|---|---|---|---|---|---|---|\n",
      "| 384x288_pose_resnet_152_d256d256d256 | 0.474 | 0.885 | 0.481 | 0.474 | -1.000 | 0.507 | 0.900 | 0.533 | 0.507 | -1.000 |\n",
      "=> saving checkpoint to /home/jfeil/IDP/baseline_implementations/microsoft_baseline/pose_estimation/experiment_output/coco/pose_resnet_152/384x288_d256x3_adam_lr1e-3_TransferLearning_2024-01-16_09:50:30\n"
     ]
    },
    {
     "name": "stdout",
     "output_type": "stream",
     "text": [
      "Loading and preparing results...\n",
      "DONE (t=0.00s)\n",
      "creating index...\n",
      "index created!\n",
      "Running per image evaluation...\n",
      "Evaluate annotation type *keypoints*\n",
      "DONE (t=0.01s).\n",
      "Accumulating evaluation results...\n",
      "DONE (t=0.00s).\n",
      " Average Precision  (AP) @[ IoU=0.50:0.95 | area=   all | maxDets= 20 ] = 0.474\n",
      " Average Precision  (AP) @[ IoU=0.50      | area=   all | maxDets= 20 ] = 0.885\n",
      " Average Precision  (AP) @[ IoU=0.75      | area=   all | maxDets= 20 ] = 0.481\n",
      " Average Precision  (AP) @[ IoU=0.50:0.95 | area=medium | maxDets= 20 ] = 0.474\n",
      " Average Precision  (AP) @[ IoU=0.50:0.95 | area= large | maxDets= 20 ] = -1.000\n",
      " Average Recall     (AR) @[ IoU=0.50:0.95 | area=   all | maxDets= 20 ] = 0.507\n",
      " Average Recall     (AR) @[ IoU=0.50      | area=   all | maxDets= 20 ] = 0.900\n",
      " Average Recall     (AR) @[ IoU=0.75      | area=   all | maxDets= 20 ] = 0.533\n",
      " Average Recall     (AR) @[ IoU=0.50:0.95 | area=medium | maxDets= 20 ] = 0.507\n",
      " Average Recall     (AR) @[ IoU=0.50:0.95 | area= large | maxDets= 20 ] = -1.000\n"
     ]
    },
    {
     "name": "stderr",
     "output_type": "stream",
     "text": [
      "Epoch: [46][0/6]\tTime 10.129s (10.129s)\tSpeed 3.2 samples/s\tData 9.874s (9.874s)\tLoss 0.00045 (0.00045)\tAccuracy 0.911 (0.911)\n",
      "Test: [0/1]\tTime 6.241 (6.241)\tLoss 0.0014 (0.0014)\tAccuracy 0.527 (0.527)\n",
      "=> Writing results json to /home/jfeil/IDP/baseline_implementations/microsoft_baseline/pose_estimation/experiment_output/coco/pose_resnet_152/384x288_d256x3_adam_lr1e-3_TransferLearning_2024-01-16_09:50:30/results/keypoints_val2017_results.json\n",
      "=> coco eval results saved to /home/jfeil/IDP/baseline_implementations/microsoft_baseline/pose_estimation/experiment_output/coco/pose_resnet_152/384x288_d256x3_adam_lr1e-3_TransferLearning_2024-01-16_09:50:30/results/keypoints_val2017_results.pkl\n",
      "| Arch | AP | Ap .5 | AP .75 | AP (M) | AP (L) | AR | AR .5 | AR .75 | AR (M) | AR (L) |\n",
      "|---|---|---|---|---|---|---|---|---|---|---|\n",
      "| 384x288_pose_resnet_152_d256d256d256 | 0.457 | 0.949 | 0.342 | 0.457 | -1.000 | 0.507 | 0.967 | 0.400 | 0.507 | -1.000 |\n",
      "=> saving checkpoint to /home/jfeil/IDP/baseline_implementations/microsoft_baseline/pose_estimation/experiment_output/coco/pose_resnet_152/384x288_d256x3_adam_lr1e-3_TransferLearning_2024-01-16_09:50:30\n"
     ]
    },
    {
     "name": "stdout",
     "output_type": "stream",
     "text": [
      "Loading and preparing results...\n",
      "DONE (t=0.00s)\n",
      "creating index...\n",
      "index created!\n",
      "Running per image evaluation...\n",
      "Evaluate annotation type *keypoints*\n",
      "DONE (t=0.01s).\n",
      "Accumulating evaluation results...\n",
      "DONE (t=0.00s).\n",
      " Average Precision  (AP) @[ IoU=0.50:0.95 | area=   all | maxDets= 20 ] = 0.457\n",
      " Average Precision  (AP) @[ IoU=0.50      | area=   all | maxDets= 20 ] = 0.949\n",
      " Average Precision  (AP) @[ IoU=0.75      | area=   all | maxDets= 20 ] = 0.342\n",
      " Average Precision  (AP) @[ IoU=0.50:0.95 | area=medium | maxDets= 20 ] = 0.457\n",
      " Average Precision  (AP) @[ IoU=0.50:0.95 | area= large | maxDets= 20 ] = -1.000\n",
      " Average Recall     (AR) @[ IoU=0.50:0.95 | area=   all | maxDets= 20 ] = 0.507\n",
      " Average Recall     (AR) @[ IoU=0.50      | area=   all | maxDets= 20 ] = 0.967\n",
      " Average Recall     (AR) @[ IoU=0.75      | area=   all | maxDets= 20 ] = 0.400\n",
      " Average Recall     (AR) @[ IoU=0.50:0.95 | area=medium | maxDets= 20 ] = 0.507\n",
      " Average Recall     (AR) @[ IoU=0.50:0.95 | area= large | maxDets= 20 ] = -1.000\n"
     ]
    },
    {
     "name": "stderr",
     "output_type": "stream",
     "text": [
      "Epoch: [47][0/6]\tTime 10.028s (10.028s)\tSpeed 3.2 samples/s\tData 9.769s (9.769s)\tLoss 0.00037 (0.00037)\tAccuracy 0.945 (0.945)\n",
      "Test: [0/1]\tTime 6.276 (6.276)\tLoss 0.0013 (0.0013)\tAccuracy 0.543 (0.543)\n",
      "=> Writing results json to /home/jfeil/IDP/baseline_implementations/microsoft_baseline/pose_estimation/experiment_output/coco/pose_resnet_152/384x288_d256x3_adam_lr1e-3_TransferLearning_2024-01-16_09:50:30/results/keypoints_val2017_results.json\n",
      "=> coco eval results saved to /home/jfeil/IDP/baseline_implementations/microsoft_baseline/pose_estimation/experiment_output/coco/pose_resnet_152/384x288_d256x3_adam_lr1e-3_TransferLearning_2024-01-16_09:50:30/results/keypoints_val2017_results.pkl\n",
      "| Arch | AP | Ap .5 | AP .75 | AP (M) | AP (L) | AR | AR .5 | AR .75 | AR (M) | AR (L) |\n",
      "|---|---|---|---|---|---|---|---|---|---|---|\n",
      "| 384x288_pose_resnet_152_d256d256d256 | 0.487 | 1.000 | 0.384 | 0.487 | -1.000 | 0.523 | 1.000 | 0.433 | 0.523 | -1.000 |\n",
      "=> saving checkpoint to /home/jfeil/IDP/baseline_implementations/microsoft_baseline/pose_estimation/experiment_output/coco/pose_resnet_152/384x288_d256x3_adam_lr1e-3_TransferLearning_2024-01-16_09:50:30\n"
     ]
    },
    {
     "name": "stdout",
     "output_type": "stream",
     "text": [
      "Loading and preparing results...\n",
      "DONE (t=0.00s)\n",
      "creating index...\n",
      "index created!\n",
      "Running per image evaluation...\n",
      "Evaluate annotation type *keypoints*\n",
      "DONE (t=0.01s).\n",
      "Accumulating evaluation results...\n",
      "DONE (t=0.00s).\n",
      " Average Precision  (AP) @[ IoU=0.50:0.95 | area=   all | maxDets= 20 ] = 0.487\n",
      " Average Precision  (AP) @[ IoU=0.50      | area=   all | maxDets= 20 ] = 1.000\n",
      " Average Precision  (AP) @[ IoU=0.75      | area=   all | maxDets= 20 ] = 0.384\n",
      " Average Precision  (AP) @[ IoU=0.50:0.95 | area=medium | maxDets= 20 ] = 0.487\n",
      " Average Precision  (AP) @[ IoU=0.50:0.95 | area= large | maxDets= 20 ] = -1.000\n",
      " Average Recall     (AR) @[ IoU=0.50:0.95 | area=   all | maxDets= 20 ] = 0.523\n",
      " Average Recall     (AR) @[ IoU=0.50      | area=   all | maxDets= 20 ] = 1.000\n",
      " Average Recall     (AR) @[ IoU=0.75      | area=   all | maxDets= 20 ] = 0.433\n",
      " Average Recall     (AR) @[ IoU=0.50:0.95 | area=medium | maxDets= 20 ] = 0.523\n",
      " Average Recall     (AR) @[ IoU=0.50:0.95 | area= large | maxDets= 20 ] = -1.000\n"
     ]
    },
    {
     "name": "stderr",
     "output_type": "stream",
     "text": [
      "Epoch: [48][0/6]\tTime 9.949s (9.949s)\tSpeed 3.2 samples/s\tData 9.694s (9.694s)\tLoss 0.00041 (0.00041)\tAccuracy 0.941 (0.941)\n",
      "Test: [0/1]\tTime 6.220 (6.220)\tLoss 0.0014 (0.0014)\tAccuracy 0.537 (0.537)\n",
      "=> Writing results json to /home/jfeil/IDP/baseline_implementations/microsoft_baseline/pose_estimation/experiment_output/coco/pose_resnet_152/384x288_d256x3_adam_lr1e-3_TransferLearning_2024-01-16_09:50:30/results/keypoints_val2017_results.json\n",
      "=> coco eval results saved to /home/jfeil/IDP/baseline_implementations/microsoft_baseline/pose_estimation/experiment_output/coco/pose_resnet_152/384x288_d256x3_adam_lr1e-3_TransferLearning_2024-01-16_09:50:30/results/keypoints_val2017_results.pkl\n",
      "| Arch | AP | Ap .5 | AP .75 | AP (M) | AP (L) | AR | AR .5 | AR .75 | AR (M) | AR (L) |\n",
      "|---|---|---|---|---|---|---|---|---|---|---|\n",
      "| 384x288_pose_resnet_152_d256d256d256 | 0.522 | 1.000 | 0.416 | 0.522 | -1.000 | 0.557 | 1.000 | 0.467 | 0.557 | -1.000 |\n",
      "=> saving checkpoint to /home/jfeil/IDP/baseline_implementations/microsoft_baseline/pose_estimation/experiment_output/coco/pose_resnet_152/384x288_d256x3_adam_lr1e-3_TransferLearning_2024-01-16_09:50:30\n"
     ]
    },
    {
     "name": "stdout",
     "output_type": "stream",
     "text": [
      "Loading and preparing results...\n",
      "DONE (t=0.00s)\n",
      "creating index...\n",
      "index created!\n",
      "Running per image evaluation...\n",
      "Evaluate annotation type *keypoints*\n",
      "DONE (t=0.01s).\n",
      "Accumulating evaluation results...\n",
      "DONE (t=0.00s).\n",
      " Average Precision  (AP) @[ IoU=0.50:0.95 | area=   all | maxDets= 20 ] = 0.522\n",
      " Average Precision  (AP) @[ IoU=0.50      | area=   all | maxDets= 20 ] = 1.000\n",
      " Average Precision  (AP) @[ IoU=0.75      | area=   all | maxDets= 20 ] = 0.416\n",
      " Average Precision  (AP) @[ IoU=0.50:0.95 | area=medium | maxDets= 20 ] = 0.522\n",
      " Average Precision  (AP) @[ IoU=0.50:0.95 | area= large | maxDets= 20 ] = -1.000\n",
      " Average Recall     (AR) @[ IoU=0.50:0.95 | area=   all | maxDets= 20 ] = 0.557\n",
      " Average Recall     (AR) @[ IoU=0.50      | area=   all | maxDets= 20 ] = 1.000\n",
      " Average Recall     (AR) @[ IoU=0.75      | area=   all | maxDets= 20 ] = 0.467\n",
      " Average Recall     (AR) @[ IoU=0.50:0.95 | area=medium | maxDets= 20 ] = 0.557\n",
      " Average Recall     (AR) @[ IoU=0.50:0.95 | area= large | maxDets= 20 ] = -1.000\n"
     ]
    },
    {
     "name": "stderr",
     "output_type": "stream",
     "text": [
      "Epoch: [49][0/6]\tTime 10.085s (10.085s)\tSpeed 3.2 samples/s\tData 9.835s (9.835s)\tLoss 0.00035 (0.00035)\tAccuracy 0.958 (0.958)\n",
      "Test: [0/1]\tTime 6.271 (6.271)\tLoss 0.0014 (0.0014)\tAccuracy 0.530 (0.530)\n",
      "=> Writing results json to /home/jfeil/IDP/baseline_implementations/microsoft_baseline/pose_estimation/experiment_output/coco/pose_resnet_152/384x288_d256x3_adam_lr1e-3_TransferLearning_2024-01-16_09:50:30/results/keypoints_val2017_results.json\n",
      "=> coco eval results saved to /home/jfeil/IDP/baseline_implementations/microsoft_baseline/pose_estimation/experiment_output/coco/pose_resnet_152/384x288_d256x3_adam_lr1e-3_TransferLearning_2024-01-16_09:50:30/results/keypoints_val2017_results.pkl\n",
      "| Arch | AP | Ap .5 | AP .75 | AP (M) | AP (L) | AR | AR .5 | AR .75 | AR (M) | AR (L) |\n",
      "|---|---|---|---|---|---|---|---|---|---|---|\n",
      "| 384x288_pose_resnet_152_d256d256d256 | 0.504 | 1.000 | 0.450 | 0.504 | -1.000 | 0.540 | 1.000 | 0.500 | 0.540 | -1.000 |\n",
      "=> saving checkpoint to /home/jfeil/IDP/baseline_implementations/microsoft_baseline/pose_estimation/experiment_output/coco/pose_resnet_152/384x288_d256x3_adam_lr1e-3_TransferLearning_2024-01-16_09:50:30\n"
     ]
    },
    {
     "name": "stdout",
     "output_type": "stream",
     "text": [
      "Loading and preparing results...\n",
      "DONE (t=0.00s)\n",
      "creating index...\n",
      "index created!\n",
      "Running per image evaluation...\n",
      "Evaluate annotation type *keypoints*\n",
      "DONE (t=0.01s).\n",
      "Accumulating evaluation results...\n",
      "DONE (t=0.00s).\n",
      " Average Precision  (AP) @[ IoU=0.50:0.95 | area=   all | maxDets= 20 ] = 0.504\n",
      " Average Precision  (AP) @[ IoU=0.50      | area=   all | maxDets= 20 ] = 1.000\n",
      " Average Precision  (AP) @[ IoU=0.75      | area=   all | maxDets= 20 ] = 0.450\n",
      " Average Precision  (AP) @[ IoU=0.50:0.95 | area=medium | maxDets= 20 ] = 0.504\n",
      " Average Precision  (AP) @[ IoU=0.50:0.95 | area= large | maxDets= 20 ] = -1.000\n",
      " Average Recall     (AR) @[ IoU=0.50:0.95 | area=   all | maxDets= 20 ] = 0.540\n",
      " Average Recall     (AR) @[ IoU=0.50      | area=   all | maxDets= 20 ] = 1.000\n",
      " Average Recall     (AR) @[ IoU=0.75      | area=   all | maxDets= 20 ] = 0.500\n",
      " Average Recall     (AR) @[ IoU=0.50:0.95 | area=medium | maxDets= 20 ] = 0.540\n",
      " Average Recall     (AR) @[ IoU=0.50:0.95 | area= large | maxDets= 20 ] = -1.000\n"
     ]
    },
    {
     "name": "stderr",
     "output_type": "stream",
     "text": [
      "Epoch: [50][0/6]\tTime 10.007s (10.007s)\tSpeed 3.2 samples/s\tData 9.765s (9.765s)\tLoss 0.00039 (0.00039)\tAccuracy 0.922 (0.922)\n",
      "Test: [0/1]\tTime 6.239 (6.239)\tLoss 0.0014 (0.0014)\tAccuracy 0.523 (0.523)\n",
      "=> Writing results json to /home/jfeil/IDP/baseline_implementations/microsoft_baseline/pose_estimation/experiment_output/coco/pose_resnet_152/384x288_d256x3_adam_lr1e-3_TransferLearning_2024-01-16_09:50:30/results/keypoints_val2017_results.json\n",
      "=> coco eval results saved to /home/jfeil/IDP/baseline_implementations/microsoft_baseline/pose_estimation/experiment_output/coco/pose_resnet_152/384x288_d256x3_adam_lr1e-3_TransferLearning_2024-01-16_09:50:30/results/keypoints_val2017_results.pkl\n",
      "| Arch | AP | Ap .5 | AP .75 | AP (M) | AP (L) | AR | AR .5 | AR .75 | AR (M) | AR (L) |\n",
      "|---|---|---|---|---|---|---|---|---|---|---|\n",
      "| 384x288_pose_resnet_152_d256d256d256 | 0.482 | 0.913 | 0.481 | 0.482 | -1.000 | 0.510 | 0.933 | 0.533 | 0.510 | -1.000 |\n",
      "=> saving checkpoint to /home/jfeil/IDP/baseline_implementations/microsoft_baseline/pose_estimation/experiment_output/coco/pose_resnet_152/384x288_d256x3_adam_lr1e-3_TransferLearning_2024-01-16_09:50:30\n"
     ]
    },
    {
     "name": "stdout",
     "output_type": "stream",
     "text": [
      "Loading and preparing results...\n",
      "DONE (t=0.00s)\n",
      "creating index...\n",
      "index created!\n",
      "Running per image evaluation...\n",
      "Evaluate annotation type *keypoints*\n",
      "DONE (t=0.01s).\n",
      "Accumulating evaluation results...\n",
      "DONE (t=0.00s).\n",
      " Average Precision  (AP) @[ IoU=0.50:0.95 | area=   all | maxDets= 20 ] = 0.482\n",
      " Average Precision  (AP) @[ IoU=0.50      | area=   all | maxDets= 20 ] = 0.913\n",
      " Average Precision  (AP) @[ IoU=0.75      | area=   all | maxDets= 20 ] = 0.481\n",
      " Average Precision  (AP) @[ IoU=0.50:0.95 | area=medium | maxDets= 20 ] = 0.482\n",
      " Average Precision  (AP) @[ IoU=0.50:0.95 | area= large | maxDets= 20 ] = -1.000\n",
      " Average Recall     (AR) @[ IoU=0.50:0.95 | area=   all | maxDets= 20 ] = 0.510\n",
      " Average Recall     (AR) @[ IoU=0.50      | area=   all | maxDets= 20 ] = 0.933\n",
      " Average Recall     (AR) @[ IoU=0.75      | area=   all | maxDets= 20 ] = 0.533\n",
      " Average Recall     (AR) @[ IoU=0.50:0.95 | area=medium | maxDets= 20 ] = 0.510\n",
      " Average Recall     (AR) @[ IoU=0.50:0.95 | area= large | maxDets= 20 ] = -1.000\n"
     ]
    },
    {
     "name": "stderr",
     "output_type": "stream",
     "text": [
      "Epoch: [51][0/6]\tTime 10.102s (10.102s)\tSpeed 3.2 samples/s\tData 9.852s (9.852s)\tLoss 0.00039 (0.00039)\tAccuracy 0.911 (0.911)\n",
      "Test: [0/1]\tTime 6.230 (6.230)\tLoss 0.0014 (0.0014)\tAccuracy 0.530 (0.530)\n",
      "=> Writing results json to /home/jfeil/IDP/baseline_implementations/microsoft_baseline/pose_estimation/experiment_output/coco/pose_resnet_152/384x288_d256x3_adam_lr1e-3_TransferLearning_2024-01-16_09:50:30/results/keypoints_val2017_results.json\n",
      "=> coco eval results saved to /home/jfeil/IDP/baseline_implementations/microsoft_baseline/pose_estimation/experiment_output/coco/pose_resnet_152/384x288_d256x3_adam_lr1e-3_TransferLearning_2024-01-16_09:50:30/results/keypoints_val2017_results.pkl\n",
      "| Arch | AP | Ap .5 | AP .75 | AP (M) | AP (L) | AR | AR .5 | AR .75 | AR (M) | AR (L) |\n",
      "|---|---|---|---|---|---|---|---|---|---|---|\n",
      "| 384x288_pose_resnet_152_d256d256d256 | 0.485 | 0.916 | 0.472 | 0.485 | -1.000 | 0.513 | 0.933 | 0.500 | 0.513 | -1.000 |\n",
      "=> saving checkpoint to /home/jfeil/IDP/baseline_implementations/microsoft_baseline/pose_estimation/experiment_output/coco/pose_resnet_152/384x288_d256x3_adam_lr1e-3_TransferLearning_2024-01-16_09:50:30\n"
     ]
    },
    {
     "name": "stdout",
     "output_type": "stream",
     "text": [
      "Loading and preparing results...\n",
      "DONE (t=0.00s)\n",
      "creating index...\n",
      "index created!\n",
      "Running per image evaluation...\n",
      "Evaluate annotation type *keypoints*\n",
      "DONE (t=0.01s).\n",
      "Accumulating evaluation results...\n",
      "DONE (t=0.00s).\n",
      " Average Precision  (AP) @[ IoU=0.50:0.95 | area=   all | maxDets= 20 ] = 0.485\n",
      " Average Precision  (AP) @[ IoU=0.50      | area=   all | maxDets= 20 ] = 0.916\n",
      " Average Precision  (AP) @[ IoU=0.75      | area=   all | maxDets= 20 ] = 0.472\n",
      " Average Precision  (AP) @[ IoU=0.50:0.95 | area=medium | maxDets= 20 ] = 0.485\n",
      " Average Precision  (AP) @[ IoU=0.50:0.95 | area= large | maxDets= 20 ] = -1.000\n",
      " Average Recall     (AR) @[ IoU=0.50:0.95 | area=   all | maxDets= 20 ] = 0.513\n",
      " Average Recall     (AR) @[ IoU=0.50      | area=   all | maxDets= 20 ] = 0.933\n",
      " Average Recall     (AR) @[ IoU=0.75      | area=   all | maxDets= 20 ] = 0.500\n",
      " Average Recall     (AR) @[ IoU=0.50:0.95 | area=medium | maxDets= 20 ] = 0.513\n",
      " Average Recall     (AR) @[ IoU=0.50:0.95 | area= large | maxDets= 20 ] = -1.000\n"
     ]
    },
    {
     "name": "stderr",
     "output_type": "stream",
     "text": [
      "Epoch: [52][0/6]\tTime 9.977s (9.977s)\tSpeed 3.2 samples/s\tData 9.687s (9.687s)\tLoss 0.00028 (0.00028)\tAccuracy 0.965 (0.965)\n",
      "Test: [0/1]\tTime 6.210 (6.210)\tLoss 0.0014 (0.0014)\tAccuracy 0.520 (0.520)\n",
      "=> Writing results json to /home/jfeil/IDP/baseline_implementations/microsoft_baseline/pose_estimation/experiment_output/coco/pose_resnet_152/384x288_d256x3_adam_lr1e-3_TransferLearning_2024-01-16_09:50:30/results/keypoints_val2017_results.json\n",
      "=> coco eval results saved to /home/jfeil/IDP/baseline_implementations/microsoft_baseline/pose_estimation/experiment_output/coco/pose_resnet_152/384x288_d256x3_adam_lr1e-3_TransferLearning_2024-01-16_09:50:30/results/keypoints_val2017_results.pkl\n",
      "| Arch | AP | Ap .5 | AP .75 | AP (M) | AP (L) | AR | AR .5 | AR .75 | AR (M) | AR (L) |\n",
      "|---|---|---|---|---|---|---|---|---|---|---|\n",
      "| 384x288_pose_resnet_152_d256d256d256 | 0.452 | 0.809 | 0.500 | 0.452 | -1.000 | 0.487 | 0.833 | 0.533 | 0.487 | -1.000 |\n",
      "=> saving checkpoint to /home/jfeil/IDP/baseline_implementations/microsoft_baseline/pose_estimation/experiment_output/coco/pose_resnet_152/384x288_d256x3_adam_lr1e-3_TransferLearning_2024-01-16_09:50:30\n"
     ]
    },
    {
     "name": "stdout",
     "output_type": "stream",
     "text": [
      "Loading and preparing results...\n",
      "DONE (t=0.00s)\n",
      "creating index...\n",
      "index created!\n",
      "Running per image evaluation...\n",
      "Evaluate annotation type *keypoints*\n",
      "DONE (t=0.01s).\n",
      "Accumulating evaluation results...\n",
      "DONE (t=0.00s).\n",
      " Average Precision  (AP) @[ IoU=0.50:0.95 | area=   all | maxDets= 20 ] = 0.452\n",
      " Average Precision  (AP) @[ IoU=0.50      | area=   all | maxDets= 20 ] = 0.809\n",
      " Average Precision  (AP) @[ IoU=0.75      | area=   all | maxDets= 20 ] = 0.500\n",
      " Average Precision  (AP) @[ IoU=0.50:0.95 | area=medium | maxDets= 20 ] = 0.452\n",
      " Average Precision  (AP) @[ IoU=0.50:0.95 | area= large | maxDets= 20 ] = -1.000\n",
      " Average Recall     (AR) @[ IoU=0.50:0.95 | area=   all | maxDets= 20 ] = 0.487\n",
      " Average Recall     (AR) @[ IoU=0.50      | area=   all | maxDets= 20 ] = 0.833\n",
      " Average Recall     (AR) @[ IoU=0.75      | area=   all | maxDets= 20 ] = 0.533\n",
      " Average Recall     (AR) @[ IoU=0.50:0.95 | area=medium | maxDets= 20 ] = 0.487\n",
      " Average Recall     (AR) @[ IoU=0.50:0.95 | area= large | maxDets= 20 ] = -1.000\n"
     ]
    },
    {
     "name": "stderr",
     "output_type": "stream",
     "text": [
      "Epoch: [53][0/6]\tTime 9.789s (9.789s)\tSpeed 3.3 samples/s\tData 9.528s (9.528s)\tLoss 0.00037 (0.00037)\tAccuracy 0.914 (0.914)\n",
      "Test: [0/1]\tTime 6.272 (6.272)\tLoss 0.0014 (0.0014)\tAccuracy 0.537 (0.537)\n",
      "=> Writing results json to /home/jfeil/IDP/baseline_implementations/microsoft_baseline/pose_estimation/experiment_output/coco/pose_resnet_152/384x288_d256x3_adam_lr1e-3_TransferLearning_2024-01-16_09:50:30/results/keypoints_val2017_results.json\n",
      "=> coco eval results saved to /home/jfeil/IDP/baseline_implementations/microsoft_baseline/pose_estimation/experiment_output/coco/pose_resnet_152/384x288_d256x3_adam_lr1e-3_TransferLearning_2024-01-16_09:50:30/results/keypoints_val2017_results.pkl\n",
      "| Arch | AP | Ap .5 | AP .75 | AP (M) | AP (L) | AR | AR .5 | AR .75 | AR (M) | AR (L) |\n",
      "|---|---|---|---|---|---|---|---|---|---|---|\n",
      "| 384x288_pose_resnet_152_d256d256d256 | 0.471 | 0.845 | 0.477 | 0.471 | -1.000 | 0.500 | 0.867 | 0.500 | 0.500 | -1.000 |\n",
      "=> saving checkpoint to /home/jfeil/IDP/baseline_implementations/microsoft_baseline/pose_estimation/experiment_output/coco/pose_resnet_152/384x288_d256x3_adam_lr1e-3_TransferLearning_2024-01-16_09:50:30\n"
     ]
    },
    {
     "name": "stdout",
     "output_type": "stream",
     "text": [
      "Loading and preparing results...\n",
      "DONE (t=0.00s)\n",
      "creating index...\n",
      "index created!\n",
      "Running per image evaluation...\n",
      "Evaluate annotation type *keypoints*\n",
      "DONE (t=0.01s).\n",
      "Accumulating evaluation results...\n",
      "DONE (t=0.00s).\n",
      " Average Precision  (AP) @[ IoU=0.50:0.95 | area=   all | maxDets= 20 ] = 0.471\n",
      " Average Precision  (AP) @[ IoU=0.50      | area=   all | maxDets= 20 ] = 0.845\n",
      " Average Precision  (AP) @[ IoU=0.75      | area=   all | maxDets= 20 ] = 0.477\n",
      " Average Precision  (AP) @[ IoU=0.50:0.95 | area=medium | maxDets= 20 ] = 0.471\n",
      " Average Precision  (AP) @[ IoU=0.50:0.95 | area= large | maxDets= 20 ] = -1.000\n",
      " Average Recall     (AR) @[ IoU=0.50:0.95 | area=   all | maxDets= 20 ] = 0.500\n",
      " Average Recall     (AR) @[ IoU=0.50      | area=   all | maxDets= 20 ] = 0.867\n",
      " Average Recall     (AR) @[ IoU=0.75      | area=   all | maxDets= 20 ] = 0.500\n",
      " Average Recall     (AR) @[ IoU=0.50:0.95 | area=medium | maxDets= 20 ] = 0.500\n",
      " Average Recall     (AR) @[ IoU=0.50:0.95 | area= large | maxDets= 20 ] = -1.000\n"
     ]
    },
    {
     "name": "stderr",
     "output_type": "stream",
     "text": [
      "Epoch: [54][0/6]\tTime 9.811s (9.811s)\tSpeed 3.3 samples/s\tData 9.546s (9.546s)\tLoss 0.00030 (0.00030)\tAccuracy 0.965 (0.965)\n",
      "Test: [0/1]\tTime 6.243 (6.243)\tLoss 0.0014 (0.0014)\tAccuracy 0.530 (0.530)\n",
      "=> Writing results json to /home/jfeil/IDP/baseline_implementations/microsoft_baseline/pose_estimation/experiment_output/coco/pose_resnet_152/384x288_d256x3_adam_lr1e-3_TransferLearning_2024-01-16_09:50:30/results/keypoints_val2017_results.json\n",
      "=> coco eval results saved to /home/jfeil/IDP/baseline_implementations/microsoft_baseline/pose_estimation/experiment_output/coco/pose_resnet_152/384x288_d256x3_adam_lr1e-3_TransferLearning_2024-01-16_09:50:30/results/keypoints_val2017_results.pkl\n",
      "| Arch | AP | Ap .5 | AP .75 | AP (M) | AP (L) | AR | AR .5 | AR .75 | AR (M) | AR (L) |\n",
      "|---|---|---|---|---|---|---|---|---|---|---|\n",
      "| 384x288_pose_resnet_152_d256d256d256 | 0.449 | 0.881 | 0.409 | 0.449 | -1.000 | 0.480 | 0.900 | 0.433 | 0.480 | -1.000 |\n",
      "=> saving checkpoint to /home/jfeil/IDP/baseline_implementations/microsoft_baseline/pose_estimation/experiment_output/coco/pose_resnet_152/384x288_d256x3_adam_lr1e-3_TransferLearning_2024-01-16_09:50:30\n"
     ]
    },
    {
     "name": "stdout",
     "output_type": "stream",
     "text": [
      "Loading and preparing results...\n",
      "DONE (t=0.00s)\n",
      "creating index...\n",
      "index created!\n",
      "Running per image evaluation...\n",
      "Evaluate annotation type *keypoints*\n",
      "DONE (t=0.01s).\n",
      "Accumulating evaluation results...\n",
      "DONE (t=0.00s).\n",
      " Average Precision  (AP) @[ IoU=0.50:0.95 | area=   all | maxDets= 20 ] = 0.449\n",
      " Average Precision  (AP) @[ IoU=0.50      | area=   all | maxDets= 20 ] = 0.881\n",
      " Average Precision  (AP) @[ IoU=0.75      | area=   all | maxDets= 20 ] = 0.409\n",
      " Average Precision  (AP) @[ IoU=0.50:0.95 | area=medium | maxDets= 20 ] = 0.449\n",
      " Average Precision  (AP) @[ IoU=0.50:0.95 | area= large | maxDets= 20 ] = -1.000\n",
      " Average Recall     (AR) @[ IoU=0.50:0.95 | area=   all | maxDets= 20 ] = 0.480\n",
      " Average Recall     (AR) @[ IoU=0.50      | area=   all | maxDets= 20 ] = 0.900\n",
      " Average Recall     (AR) @[ IoU=0.75      | area=   all | maxDets= 20 ] = 0.433\n",
      " Average Recall     (AR) @[ IoU=0.50:0.95 | area=medium | maxDets= 20 ] = 0.480\n",
      " Average Recall     (AR) @[ IoU=0.50:0.95 | area= large | maxDets= 20 ] = -1.000\n"
     ]
    },
    {
     "name": "stderr",
     "output_type": "stream",
     "text": [
      "Epoch: [55][0/6]\tTime 9.973s (9.973s)\tSpeed 3.2 samples/s\tData 9.724s (9.724s)\tLoss 0.00045 (0.00045)\tAccuracy 0.919 (0.919)\n",
      "Test: [0/1]\tTime 6.310 (6.310)\tLoss 0.0014 (0.0014)\tAccuracy 0.530 (0.530)\n",
      "=> Writing results json to /home/jfeil/IDP/baseline_implementations/microsoft_baseline/pose_estimation/experiment_output/coco/pose_resnet_152/384x288_d256x3_adam_lr1e-3_TransferLearning_2024-01-16_09:50:30/results/keypoints_val2017_results.json\n",
      "=> coco eval results saved to /home/jfeil/IDP/baseline_implementations/microsoft_baseline/pose_estimation/experiment_output/coco/pose_resnet_152/384x288_d256x3_adam_lr1e-3_TransferLearning_2024-01-16_09:50:30/results/keypoints_val2017_results.pkl\n",
      "| Arch | AP | Ap .5 | AP .75 | AP (M) | AP (L) | AR | AR .5 | AR .75 | AR (M) | AR (L) |\n",
      "|---|---|---|---|---|---|---|---|---|---|---|\n",
      "| 384x288_pose_resnet_152_d256d256d256 | 0.453 | 0.861 | 0.415 | 0.453 | -1.000 | 0.503 | 0.900 | 0.467 | 0.503 | -1.000 |\n",
      "=> saving checkpoint to /home/jfeil/IDP/baseline_implementations/microsoft_baseline/pose_estimation/experiment_output/coco/pose_resnet_152/384x288_d256x3_adam_lr1e-3_TransferLearning_2024-01-16_09:50:30\n"
     ]
    },
    {
     "name": "stdout",
     "output_type": "stream",
     "text": [
      "Loading and preparing results...\n",
      "DONE (t=0.00s)\n",
      "creating index...\n",
      "index created!\n",
      "Running per image evaluation...\n",
      "Evaluate annotation type *keypoints*\n",
      "DONE (t=0.01s).\n",
      "Accumulating evaluation results...\n",
      "DONE (t=0.00s).\n",
      " Average Precision  (AP) @[ IoU=0.50:0.95 | area=   all | maxDets= 20 ] = 0.453\n",
      " Average Precision  (AP) @[ IoU=0.50      | area=   all | maxDets= 20 ] = 0.861\n",
      " Average Precision  (AP) @[ IoU=0.75      | area=   all | maxDets= 20 ] = 0.415\n",
      " Average Precision  (AP) @[ IoU=0.50:0.95 | area=medium | maxDets= 20 ] = 0.453\n",
      " Average Precision  (AP) @[ IoU=0.50:0.95 | area= large | maxDets= 20 ] = -1.000\n",
      " Average Recall     (AR) @[ IoU=0.50:0.95 | area=   all | maxDets= 20 ] = 0.503\n",
      " Average Recall     (AR) @[ IoU=0.50      | area=   all | maxDets= 20 ] = 0.900\n",
      " Average Recall     (AR) @[ IoU=0.75      | area=   all | maxDets= 20 ] = 0.467\n",
      " Average Recall     (AR) @[ IoU=0.50:0.95 | area=medium | maxDets= 20 ] = 0.503\n",
      " Average Recall     (AR) @[ IoU=0.50:0.95 | area= large | maxDets= 20 ] = -1.000\n"
     ]
    },
    {
     "name": "stderr",
     "output_type": "stream",
     "text": [
      "Epoch: [56][0/6]\tTime 9.908s (9.908s)\tSpeed 3.2 samples/s\tData 9.650s (9.650s)\tLoss 0.00031 (0.00031)\tAccuracy 0.959 (0.959)\n",
      "Test: [0/1]\tTime 6.227 (6.227)\tLoss 0.0015 (0.0015)\tAccuracy 0.533 (0.533)\n",
      "=> Writing results json to /home/jfeil/IDP/baseline_implementations/microsoft_baseline/pose_estimation/experiment_output/coco/pose_resnet_152/384x288_d256x3_adam_lr1e-3_TransferLearning_2024-01-16_09:50:30/results/keypoints_val2017_results.json\n",
      "=> coco eval results saved to /home/jfeil/IDP/baseline_implementations/microsoft_baseline/pose_estimation/experiment_output/coco/pose_resnet_152/384x288_d256x3_adam_lr1e-3_TransferLearning_2024-01-16_09:50:30/results/keypoints_val2017_results.pkl\n",
      "| Arch | AP | Ap .5 | AP .75 | AP (M) | AP (L) | AR | AR .5 | AR .75 | AR (M) | AR (L) |\n",
      "|---|---|---|---|---|---|---|---|---|---|---|\n",
      "| 384x288_pose_resnet_152_d256d256d256 | 0.454 | 0.860 | 0.438 | 0.454 | -1.000 | 0.503 | 0.900 | 0.500 | 0.503 | -1.000 |\n",
      "=> saving checkpoint to /home/jfeil/IDP/baseline_implementations/microsoft_baseline/pose_estimation/experiment_output/coco/pose_resnet_152/384x288_d256x3_adam_lr1e-3_TransferLearning_2024-01-16_09:50:30\n"
     ]
    },
    {
     "name": "stdout",
     "output_type": "stream",
     "text": [
      "Loading and preparing results...\n",
      "DONE (t=0.00s)\n",
      "creating index...\n",
      "index created!\n",
      "Running per image evaluation...\n",
      "Evaluate annotation type *keypoints*\n",
      "DONE (t=0.01s).\n",
      "Accumulating evaluation results...\n",
      "DONE (t=0.00s).\n",
      " Average Precision  (AP) @[ IoU=0.50:0.95 | area=   all | maxDets= 20 ] = 0.454\n",
      " Average Precision  (AP) @[ IoU=0.50      | area=   all | maxDets= 20 ] = 0.860\n",
      " Average Precision  (AP) @[ IoU=0.75      | area=   all | maxDets= 20 ] = 0.438\n",
      " Average Precision  (AP) @[ IoU=0.50:0.95 | area=medium | maxDets= 20 ] = 0.454\n",
      " Average Precision  (AP) @[ IoU=0.50:0.95 | area= large | maxDets= 20 ] = -1.000\n",
      " Average Recall     (AR) @[ IoU=0.50:0.95 | area=   all | maxDets= 20 ] = 0.503\n",
      " Average Recall     (AR) @[ IoU=0.50      | area=   all | maxDets= 20 ] = 0.900\n",
      " Average Recall     (AR) @[ IoU=0.75      | area=   all | maxDets= 20 ] = 0.500\n",
      " Average Recall     (AR) @[ IoU=0.50:0.95 | area=medium | maxDets= 20 ] = 0.503\n",
      " Average Recall     (AR) @[ IoU=0.50:0.95 | area= large | maxDets= 20 ] = -1.000\n"
     ]
    },
    {
     "name": "stderr",
     "output_type": "stream",
     "text": [
      "Epoch: [57][0/6]\tTime 9.878s (9.878s)\tSpeed 3.2 samples/s\tData 9.631s (9.631s)\tLoss 0.00037 (0.00037)\tAccuracy 0.937 (0.937)\n",
      "Test: [0/1]\tTime 6.264 (6.264)\tLoss 0.0015 (0.0015)\tAccuracy 0.507 (0.507)\n",
      "=> Writing results json to /home/jfeil/IDP/baseline_implementations/microsoft_baseline/pose_estimation/experiment_output/coco/pose_resnet_152/384x288_d256x3_adam_lr1e-3_TransferLearning_2024-01-16_09:50:30/results/keypoints_val2017_results.json\n",
      "=> coco eval results saved to /home/jfeil/IDP/baseline_implementations/microsoft_baseline/pose_estimation/experiment_output/coco/pose_resnet_152/384x288_d256x3_adam_lr1e-3_TransferLearning_2024-01-16_09:50:30/results/keypoints_val2017_results.pkl\n",
      "| Arch | AP | Ap .5 | AP .75 | AP (M) | AP (L) | AR | AR .5 | AR .75 | AR (M) | AR (L) |\n",
      "|---|---|---|---|---|---|---|---|---|---|---|\n",
      "| 384x288_pose_resnet_152_d256d256d256 | 0.435 | 0.855 | 0.377 | 0.435 | -1.000 | 0.493 | 0.900 | 0.433 | 0.493 | -1.000 |\n",
      "=> saving checkpoint to /home/jfeil/IDP/baseline_implementations/microsoft_baseline/pose_estimation/experiment_output/coco/pose_resnet_152/384x288_d256x3_adam_lr1e-3_TransferLearning_2024-01-16_09:50:30\n"
     ]
    },
    {
     "name": "stdout",
     "output_type": "stream",
     "text": [
      "Loading and preparing results...\n",
      "DONE (t=0.00s)\n",
      "creating index...\n",
      "index created!\n",
      "Running per image evaluation...\n",
      "Evaluate annotation type *keypoints*\n",
      "DONE (t=0.01s).\n",
      "Accumulating evaluation results...\n",
      "DONE (t=0.00s).\n",
      " Average Precision  (AP) @[ IoU=0.50:0.95 | area=   all | maxDets= 20 ] = 0.435\n",
      " Average Precision  (AP) @[ IoU=0.50      | area=   all | maxDets= 20 ] = 0.855\n",
      " Average Precision  (AP) @[ IoU=0.75      | area=   all | maxDets= 20 ] = 0.377\n",
      " Average Precision  (AP) @[ IoU=0.50:0.95 | area=medium | maxDets= 20 ] = 0.435\n",
      " Average Precision  (AP) @[ IoU=0.50:0.95 | area= large | maxDets= 20 ] = -1.000\n",
      " Average Recall     (AR) @[ IoU=0.50:0.95 | area=   all | maxDets= 20 ] = 0.493\n",
      " Average Recall     (AR) @[ IoU=0.50      | area=   all | maxDets= 20 ] = 0.900\n",
      " Average Recall     (AR) @[ IoU=0.75      | area=   all | maxDets= 20 ] = 0.433\n",
      " Average Recall     (AR) @[ IoU=0.50:0.95 | area=medium | maxDets= 20 ] = 0.493\n",
      " Average Recall     (AR) @[ IoU=0.50:0.95 | area= large | maxDets= 20 ] = -1.000\n"
     ]
    },
    {
     "name": "stderr",
     "output_type": "stream",
     "text": [
      "Epoch: [58][0/6]\tTime 10.144s (10.144s)\tSpeed 3.2 samples/s\tData 9.897s (9.897s)\tLoss 0.00034 (0.00034)\tAccuracy 0.917 (0.917)\n",
      "Test: [0/1]\tTime 6.235 (6.235)\tLoss 0.0015 (0.0015)\tAccuracy 0.517 (0.517)\n",
      "=> Writing results json to /home/jfeil/IDP/baseline_implementations/microsoft_baseline/pose_estimation/experiment_output/coco/pose_resnet_152/384x288_d256x3_adam_lr1e-3_TransferLearning_2024-01-16_09:50:30/results/keypoints_val2017_results.json\n",
      "=> coco eval results saved to /home/jfeil/IDP/baseline_implementations/microsoft_baseline/pose_estimation/experiment_output/coco/pose_resnet_152/384x288_d256x3_adam_lr1e-3_TransferLearning_2024-01-16_09:50:30/results/keypoints_val2017_results.pkl\n",
      "| Arch | AP | Ap .5 | AP .75 | AP (M) | AP (L) | AR | AR .5 | AR .75 | AR (M) | AR (L) |\n",
      "|---|---|---|---|---|---|---|---|---|---|---|\n",
      "| 384x288_pose_resnet_152_d256d256d256 | 0.442 | 0.852 | 0.340 | 0.442 | -1.000 | 0.503 | 0.900 | 0.400 | 0.503 | -1.000 |\n",
      "=> saving checkpoint to /home/jfeil/IDP/baseline_implementations/microsoft_baseline/pose_estimation/experiment_output/coco/pose_resnet_152/384x288_d256x3_adam_lr1e-3_TransferLearning_2024-01-16_09:50:30\n"
     ]
    },
    {
     "name": "stdout",
     "output_type": "stream",
     "text": [
      "Loading and preparing results...\n",
      "DONE (t=0.00s)\n",
      "creating index...\n",
      "index created!\n",
      "Running per image evaluation...\n",
      "Evaluate annotation type *keypoints*\n",
      "DONE (t=0.01s).\n",
      "Accumulating evaluation results...\n",
      "DONE (t=0.00s).\n",
      " Average Precision  (AP) @[ IoU=0.50:0.95 | area=   all | maxDets= 20 ] = 0.442\n",
      " Average Precision  (AP) @[ IoU=0.50      | area=   all | maxDets= 20 ] = 0.852\n",
      " Average Precision  (AP) @[ IoU=0.75      | area=   all | maxDets= 20 ] = 0.340\n",
      " Average Precision  (AP) @[ IoU=0.50:0.95 | area=medium | maxDets= 20 ] = 0.442\n",
      " Average Precision  (AP) @[ IoU=0.50:0.95 | area= large | maxDets= 20 ] = -1.000\n",
      " Average Recall     (AR) @[ IoU=0.50:0.95 | area=   all | maxDets= 20 ] = 0.503\n",
      " Average Recall     (AR) @[ IoU=0.50      | area=   all | maxDets= 20 ] = 0.900\n",
      " Average Recall     (AR) @[ IoU=0.75      | area=   all | maxDets= 20 ] = 0.400\n",
      " Average Recall     (AR) @[ IoU=0.50:0.95 | area=medium | maxDets= 20 ] = 0.503\n",
      " Average Recall     (AR) @[ IoU=0.50:0.95 | area= large | maxDets= 20 ] = -1.000\n"
     ]
    },
    {
     "name": "stderr",
     "output_type": "stream",
     "text": [
      "Epoch: [59][0/6]\tTime 9.772s (9.772s)\tSpeed 3.3 samples/s\tData 9.519s (9.519s)\tLoss 0.00029 (0.00029)\tAccuracy 0.965 (0.965)\n",
      "Test: [0/1]\tTime 6.217 (6.217)\tLoss 0.0015 (0.0015)\tAccuracy 0.530 (0.530)\n",
      "=> Writing results json to /home/jfeil/IDP/baseline_implementations/microsoft_baseline/pose_estimation/experiment_output/coco/pose_resnet_152/384x288_d256x3_adam_lr1e-3_TransferLearning_2024-01-16_09:50:30/results/keypoints_val2017_results.json\n",
      "=> coco eval results saved to /home/jfeil/IDP/baseline_implementations/microsoft_baseline/pose_estimation/experiment_output/coco/pose_resnet_152/384x288_d256x3_adam_lr1e-3_TransferLearning_2024-01-16_09:50:30/results/keypoints_val2017_results.pkl\n",
      "| Arch | AP | Ap .5 | AP .75 | AP (M) | AP (L) | AR | AR .5 | AR .75 | AR (M) | AR (L) |\n",
      "|---|---|---|---|---|---|---|---|---|---|---|\n",
      "| 384x288_pose_resnet_152_d256d256d256 | 0.449 | 0.898 | 0.414 | 0.449 | -1.000 | 0.510 | 0.933 | 0.500 | 0.510 | -1.000 |\n",
      "=> saving checkpoint to /home/jfeil/IDP/baseline_implementations/microsoft_baseline/pose_estimation/experiment_output/coco/pose_resnet_152/384x288_d256x3_adam_lr1e-3_TransferLearning_2024-01-16_09:50:30\n"
     ]
    },
    {
     "name": "stdout",
     "output_type": "stream",
     "text": [
      "Loading and preparing results...\n",
      "DONE (t=0.00s)\n",
      "creating index...\n",
      "index created!\n",
      "Running per image evaluation...\n",
      "Evaluate annotation type *keypoints*\n",
      "DONE (t=0.01s).\n",
      "Accumulating evaluation results...\n",
      "DONE (t=0.00s).\n",
      " Average Precision  (AP) @[ IoU=0.50:0.95 | area=   all | maxDets= 20 ] = 0.449\n",
      " Average Precision  (AP) @[ IoU=0.50      | area=   all | maxDets= 20 ] = 0.898\n",
      " Average Precision  (AP) @[ IoU=0.75      | area=   all | maxDets= 20 ] = 0.414\n",
      " Average Precision  (AP) @[ IoU=0.50:0.95 | area=medium | maxDets= 20 ] = 0.449\n",
      " Average Precision  (AP) @[ IoU=0.50:0.95 | area= large | maxDets= 20 ] = -1.000\n",
      " Average Recall     (AR) @[ IoU=0.50:0.95 | area=   all | maxDets= 20 ] = 0.510\n",
      " Average Recall     (AR) @[ IoU=0.50      | area=   all | maxDets= 20 ] = 0.933\n",
      " Average Recall     (AR) @[ IoU=0.75      | area=   all | maxDets= 20 ] = 0.500\n",
      " Average Recall     (AR) @[ IoU=0.50:0.95 | area=medium | maxDets= 20 ] = 0.510\n",
      " Average Recall     (AR) @[ IoU=0.50:0.95 | area= large | maxDets= 20 ] = -1.000\n"
     ]
    },
    {
     "name": "stderr",
     "output_type": "stream",
     "text": [
      "Epoch: [60][0/6]\tTime 10.074s (10.074s)\tSpeed 3.2 samples/s\tData 9.827s (9.827s)\tLoss 0.00033 (0.00033)\tAccuracy 0.946 (0.946)\n",
      "Test: [0/1]\tTime 6.254 (6.254)\tLoss 0.0014 (0.0014)\tAccuracy 0.550 (0.550)\n",
      "=> Writing results json to /home/jfeil/IDP/baseline_implementations/microsoft_baseline/pose_estimation/experiment_output/coco/pose_resnet_152/384x288_d256x3_adam_lr1e-3_TransferLearning_2024-01-16_09:50:30/results/keypoints_val2017_results.json\n",
      "=> coco eval results saved to /home/jfeil/IDP/baseline_implementations/microsoft_baseline/pose_estimation/experiment_output/coco/pose_resnet_152/384x288_d256x3_adam_lr1e-3_TransferLearning_2024-01-16_09:50:30/results/keypoints_val2017_results.pkl\n",
      "| Arch | AP | Ap .5 | AP .75 | AP (M) | AP (L) | AR | AR .5 | AR .75 | AR (M) | AR (L) |\n",
      "|---|---|---|---|---|---|---|---|---|---|---|\n",
      "| 384x288_pose_resnet_152_d256d256d256 | 0.457 | 0.899 | 0.414 | 0.457 | -1.000 | 0.523 | 0.933 | 0.500 | 0.523 | -1.000 |\n",
      "=> saving checkpoint to /home/jfeil/IDP/baseline_implementations/microsoft_baseline/pose_estimation/experiment_output/coco/pose_resnet_152/384x288_d256x3_adam_lr1e-3_TransferLearning_2024-01-16_09:50:30\n"
     ]
    },
    {
     "name": "stdout",
     "output_type": "stream",
     "text": [
      "Loading and preparing results...\n",
      "DONE (t=0.00s)\n",
      "creating index...\n",
      "index created!\n",
      "Running per image evaluation...\n",
      "Evaluate annotation type *keypoints*\n",
      "DONE (t=0.01s).\n",
      "Accumulating evaluation results...\n",
      "DONE (t=0.00s).\n",
      " Average Precision  (AP) @[ IoU=0.50:0.95 | area=   all | maxDets= 20 ] = 0.457\n",
      " Average Precision  (AP) @[ IoU=0.50      | area=   all | maxDets= 20 ] = 0.899\n",
      " Average Precision  (AP) @[ IoU=0.75      | area=   all | maxDets= 20 ] = 0.414\n",
      " Average Precision  (AP) @[ IoU=0.50:0.95 | area=medium | maxDets= 20 ] = 0.457\n",
      " Average Precision  (AP) @[ IoU=0.50:0.95 | area= large | maxDets= 20 ] = -1.000\n",
      " Average Recall     (AR) @[ IoU=0.50:0.95 | area=   all | maxDets= 20 ] = 0.523\n",
      " Average Recall     (AR) @[ IoU=0.50      | area=   all | maxDets= 20 ] = 0.933\n",
      " Average Recall     (AR) @[ IoU=0.75      | area=   all | maxDets= 20 ] = 0.500\n",
      " Average Recall     (AR) @[ IoU=0.50:0.95 | area=medium | maxDets= 20 ] = 0.523\n",
      " Average Recall     (AR) @[ IoU=0.50:0.95 | area= large | maxDets= 20 ] = -1.000\n"
     ]
    },
    {
     "name": "stderr",
     "output_type": "stream",
     "text": [
      "Epoch: [61][0/6]\tTime 10.006s (10.006s)\tSpeed 3.2 samples/s\tData 9.762s (9.762s)\tLoss 0.00024 (0.00024)\tAccuracy 0.978 (0.978)\n",
      "Test: [0/1]\tTime 6.234 (6.234)\tLoss 0.0015 (0.0015)\tAccuracy 0.523 (0.523)\n",
      "=> Writing results json to /home/jfeil/IDP/baseline_implementations/microsoft_baseline/pose_estimation/experiment_output/coco/pose_resnet_152/384x288_d256x3_adam_lr1e-3_TransferLearning_2024-01-16_09:50:30/results/keypoints_val2017_results.json\n",
      "=> coco eval results saved to /home/jfeil/IDP/baseline_implementations/microsoft_baseline/pose_estimation/experiment_output/coco/pose_resnet_152/384x288_d256x3_adam_lr1e-3_TransferLearning_2024-01-16_09:50:30/results/keypoints_val2017_results.pkl\n",
      "| Arch | AP | Ap .5 | AP .75 | AP (M) | AP (L) | AR | AR .5 | AR .75 | AR (M) | AR (L) |\n",
      "|---|---|---|---|---|---|---|---|---|---|---|\n",
      "| 384x288_pose_resnet_152_d256d256d256 | 0.439 | 0.853 | 0.421 | 0.439 | -1.000 | 0.493 | 0.900 | 0.500 | 0.493 | -1.000 |\n",
      "=> saving checkpoint to /home/jfeil/IDP/baseline_implementations/microsoft_baseline/pose_estimation/experiment_output/coco/pose_resnet_152/384x288_d256x3_adam_lr1e-3_TransferLearning_2024-01-16_09:50:30\n"
     ]
    },
    {
     "name": "stdout",
     "output_type": "stream",
     "text": [
      "Loading and preparing results...\n",
      "DONE (t=0.00s)\n",
      "creating index...\n",
      "index created!\n",
      "Running per image evaluation...\n",
      "Evaluate annotation type *keypoints*\n",
      "DONE (t=0.01s).\n",
      "Accumulating evaluation results...\n",
      "DONE (t=0.00s).\n",
      " Average Precision  (AP) @[ IoU=0.50:0.95 | area=   all | maxDets= 20 ] = 0.439\n",
      " Average Precision  (AP) @[ IoU=0.50      | area=   all | maxDets= 20 ] = 0.853\n",
      " Average Precision  (AP) @[ IoU=0.75      | area=   all | maxDets= 20 ] = 0.421\n",
      " Average Precision  (AP) @[ IoU=0.50:0.95 | area=medium | maxDets= 20 ] = 0.439\n",
      " Average Precision  (AP) @[ IoU=0.50:0.95 | area= large | maxDets= 20 ] = -1.000\n",
      " Average Recall     (AR) @[ IoU=0.50:0.95 | area=   all | maxDets= 20 ] = 0.493\n",
      " Average Recall     (AR) @[ IoU=0.50      | area=   all | maxDets= 20 ] = 0.900\n",
      " Average Recall     (AR) @[ IoU=0.75      | area=   all | maxDets= 20 ] = 0.500\n",
      " Average Recall     (AR) @[ IoU=0.50:0.95 | area=medium | maxDets= 20 ] = 0.493\n",
      " Average Recall     (AR) @[ IoU=0.50:0.95 | area= large | maxDets= 20 ] = -1.000\n"
     ]
    },
    {
     "name": "stderr",
     "output_type": "stream",
     "text": [
      "Epoch: [62][0/6]\tTime 9.966s (9.966s)\tSpeed 3.2 samples/s\tData 9.716s (9.716s)\tLoss 0.00025 (0.00025)\tAccuracy 0.984 (0.984)\n",
      "Test: [0/1]\tTime 6.234 (6.234)\tLoss 0.0014 (0.0014)\tAccuracy 0.533 (0.533)\n",
      "=> Writing results json to /home/jfeil/IDP/baseline_implementations/microsoft_baseline/pose_estimation/experiment_output/coco/pose_resnet_152/384x288_d256x3_adam_lr1e-3_TransferLearning_2024-01-16_09:50:30/results/keypoints_val2017_results.json\n",
      "=> coco eval results saved to /home/jfeil/IDP/baseline_implementations/microsoft_baseline/pose_estimation/experiment_output/coco/pose_resnet_152/384x288_d256x3_adam_lr1e-3_TransferLearning_2024-01-16_09:50:30/results/keypoints_val2017_results.pkl\n",
      "| Arch | AP | Ap .5 | AP .75 | AP (M) | AP (L) | AR | AR .5 | AR .75 | AR (M) | AR (L) |\n",
      "|---|---|---|---|---|---|---|---|---|---|---|\n",
      "| 384x288_pose_resnet_152_d256d256d256 | 0.445 | 0.817 | 0.417 | 0.445 | -1.000 | 0.497 | 0.867 | 0.500 | 0.497 | -1.000 |\n",
      "=> saving checkpoint to /home/jfeil/IDP/baseline_implementations/microsoft_baseline/pose_estimation/experiment_output/coco/pose_resnet_152/384x288_d256x3_adam_lr1e-3_TransferLearning_2024-01-16_09:50:30\n"
     ]
    },
    {
     "name": "stdout",
     "output_type": "stream",
     "text": [
      "Loading and preparing results...\n",
      "DONE (t=0.00s)\n",
      "creating index...\n",
      "index created!\n",
      "Running per image evaluation...\n",
      "Evaluate annotation type *keypoints*\n",
      "DONE (t=0.01s).\n",
      "Accumulating evaluation results...\n",
      "DONE (t=0.00s).\n",
      " Average Precision  (AP) @[ IoU=0.50:0.95 | area=   all | maxDets= 20 ] = 0.445\n",
      " Average Precision  (AP) @[ IoU=0.50      | area=   all | maxDets= 20 ] = 0.817\n",
      " Average Precision  (AP) @[ IoU=0.75      | area=   all | maxDets= 20 ] = 0.417\n",
      " Average Precision  (AP) @[ IoU=0.50:0.95 | area=medium | maxDets= 20 ] = 0.445\n",
      " Average Precision  (AP) @[ IoU=0.50:0.95 | area= large | maxDets= 20 ] = -1.000\n",
      " Average Recall     (AR) @[ IoU=0.50:0.95 | area=   all | maxDets= 20 ] = 0.497\n",
      " Average Recall     (AR) @[ IoU=0.50      | area=   all | maxDets= 20 ] = 0.867\n",
      " Average Recall     (AR) @[ IoU=0.75      | area=   all | maxDets= 20 ] = 0.500\n",
      " Average Recall     (AR) @[ IoU=0.50:0.95 | area=medium | maxDets= 20 ] = 0.497\n",
      " Average Recall     (AR) @[ IoU=0.50:0.95 | area= large | maxDets= 20 ] = -1.000\n"
     ]
    },
    {
     "name": "stderr",
     "output_type": "stream",
     "text": [
      "Epoch: [63][0/6]\tTime 9.849s (9.849s)\tSpeed 3.2 samples/s\tData 9.593s (9.593s)\tLoss 0.00028 (0.00028)\tAccuracy 0.956 (0.956)\n",
      "Test: [0/1]\tTime 6.249 (6.249)\tLoss 0.0015 (0.0015)\tAccuracy 0.520 (0.520)\n",
      "=> Writing results json to /home/jfeil/IDP/baseline_implementations/microsoft_baseline/pose_estimation/experiment_output/coco/pose_resnet_152/384x288_d256x3_adam_lr1e-3_TransferLearning_2024-01-16_09:50:30/results/keypoints_val2017_results.json\n",
      "=> coco eval results saved to /home/jfeil/IDP/baseline_implementations/microsoft_baseline/pose_estimation/experiment_output/coco/pose_resnet_152/384x288_d256x3_adam_lr1e-3_TransferLearning_2024-01-16_09:50:30/results/keypoints_val2017_results.pkl\n",
      "| Arch | AP | Ap .5 | AP .75 | AP (M) | AP (L) | AR | AR .5 | AR .75 | AR (M) | AR (L) |\n",
      "|---|---|---|---|---|---|---|---|---|---|---|\n",
      "| 384x288_pose_resnet_152_d256d256d256 | 0.461 | 0.853 | 0.372 | 0.461 | -1.000 | 0.507 | 0.900 | 0.433 | 0.507 | -1.000 |\n",
      "=> saving checkpoint to /home/jfeil/IDP/baseline_implementations/microsoft_baseline/pose_estimation/experiment_output/coco/pose_resnet_152/384x288_d256x3_adam_lr1e-3_TransferLearning_2024-01-16_09:50:30\n"
     ]
    },
    {
     "name": "stdout",
     "output_type": "stream",
     "text": [
      "Loading and preparing results...\n",
      "DONE (t=0.00s)\n",
      "creating index...\n",
      "index created!\n",
      "Running per image evaluation...\n",
      "Evaluate annotation type *keypoints*\n",
      "DONE (t=0.01s).\n",
      "Accumulating evaluation results...\n",
      "DONE (t=0.00s).\n",
      " Average Precision  (AP) @[ IoU=0.50:0.95 | area=   all | maxDets= 20 ] = 0.461\n",
      " Average Precision  (AP) @[ IoU=0.50      | area=   all | maxDets= 20 ] = 0.853\n",
      " Average Precision  (AP) @[ IoU=0.75      | area=   all | maxDets= 20 ] = 0.372\n",
      " Average Precision  (AP) @[ IoU=0.50:0.95 | area=medium | maxDets= 20 ] = 0.461\n",
      " Average Precision  (AP) @[ IoU=0.50:0.95 | area= large | maxDets= 20 ] = -1.000\n",
      " Average Recall     (AR) @[ IoU=0.50:0.95 | area=   all | maxDets= 20 ] = 0.507\n",
      " Average Recall     (AR) @[ IoU=0.50      | area=   all | maxDets= 20 ] = 0.900\n",
      " Average Recall     (AR) @[ IoU=0.75      | area=   all | maxDets= 20 ] = 0.433\n",
      " Average Recall     (AR) @[ IoU=0.50:0.95 | area=medium | maxDets= 20 ] = 0.507\n",
      " Average Recall     (AR) @[ IoU=0.50:0.95 | area= large | maxDets= 20 ] = -1.000\n"
     ]
    },
    {
     "name": "stderr",
     "output_type": "stream",
     "text": [
      "Epoch: [64][0/6]\tTime 9.908s (9.908s)\tSpeed 3.2 samples/s\tData 9.661s (9.661s)\tLoss 0.00040 (0.00040)\tAccuracy 0.911 (0.911)\n",
      "Test: [0/1]\tTime 6.292 (6.292)\tLoss 0.0014 (0.0014)\tAccuracy 0.553 (0.553)\n",
      "=> Writing results json to /home/jfeil/IDP/baseline_implementations/microsoft_baseline/pose_estimation/experiment_output/coco/pose_resnet_152/384x288_d256x3_adam_lr1e-3_TransferLearning_2024-01-16_09:50:30/results/keypoints_val2017_results.json\n",
      "=> coco eval results saved to /home/jfeil/IDP/baseline_implementations/microsoft_baseline/pose_estimation/experiment_output/coco/pose_resnet_152/384x288_d256x3_adam_lr1e-3_TransferLearning_2024-01-16_09:50:30/results/keypoints_val2017_results.pkl\n",
      "| Arch | AP | Ap .5 | AP .75 | AP (M) | AP (L) | AR | AR .5 | AR .75 | AR (M) | AR (L) |\n",
      "|---|---|---|---|---|---|---|---|---|---|---|\n",
      "| 384x288_pose_resnet_152_d256d256d256 | 0.470 | 0.864 | 0.391 | 0.470 | -1.000 | 0.517 | 0.900 | 0.433 | 0.517 | -1.000 |\n",
      "=> saving checkpoint to /home/jfeil/IDP/baseline_implementations/microsoft_baseline/pose_estimation/experiment_output/coco/pose_resnet_152/384x288_d256x3_adam_lr1e-3_TransferLearning_2024-01-16_09:50:30\n"
     ]
    },
    {
     "name": "stdout",
     "output_type": "stream",
     "text": [
      "Loading and preparing results...\n",
      "DONE (t=0.00s)\n",
      "creating index...\n",
      "index created!\n",
      "Running per image evaluation...\n",
      "Evaluate annotation type *keypoints*\n",
      "DONE (t=0.01s).\n",
      "Accumulating evaluation results...\n",
      "DONE (t=0.00s).\n",
      " Average Precision  (AP) @[ IoU=0.50:0.95 | area=   all | maxDets= 20 ] = 0.470\n",
      " Average Precision  (AP) @[ IoU=0.50      | area=   all | maxDets= 20 ] = 0.864\n",
      " Average Precision  (AP) @[ IoU=0.75      | area=   all | maxDets= 20 ] = 0.391\n",
      " Average Precision  (AP) @[ IoU=0.50:0.95 | area=medium | maxDets= 20 ] = 0.470\n",
      " Average Precision  (AP) @[ IoU=0.50:0.95 | area= large | maxDets= 20 ] = -1.000\n",
      " Average Recall     (AR) @[ IoU=0.50:0.95 | area=   all | maxDets= 20 ] = 0.517\n",
      " Average Recall     (AR) @[ IoU=0.50      | area=   all | maxDets= 20 ] = 0.900\n",
      " Average Recall     (AR) @[ IoU=0.75      | area=   all | maxDets= 20 ] = 0.433\n",
      " Average Recall     (AR) @[ IoU=0.50:0.95 | area=medium | maxDets= 20 ] = 0.517\n",
      " Average Recall     (AR) @[ IoU=0.50:0.95 | area= large | maxDets= 20 ] = -1.000\n"
     ]
    },
    {
     "name": "stderr",
     "output_type": "stream",
     "text": [
      "Epoch: [65][0/6]\tTime 9.759s (9.759s)\tSpeed 3.3 samples/s\tData 9.508s (9.508s)\tLoss 0.00037 (0.00037)\tAccuracy 0.939 (0.939)\n",
      "Test: [0/1]\tTime 6.178 (6.178)\tLoss 0.0014 (0.0014)\tAccuracy 0.543 (0.543)\n",
      "=> Writing results json to /home/jfeil/IDP/baseline_implementations/microsoft_baseline/pose_estimation/experiment_output/coco/pose_resnet_152/384x288_d256x3_adam_lr1e-3_TransferLearning_2024-01-16_09:50:30/results/keypoints_val2017_results.json\n",
      "=> coco eval results saved to /home/jfeil/IDP/baseline_implementations/microsoft_baseline/pose_estimation/experiment_output/coco/pose_resnet_152/384x288_d256x3_adam_lr1e-3_TransferLearning_2024-01-16_09:50:30/results/keypoints_val2017_results.pkl\n",
      "| Arch | AP | Ap .5 | AP .75 | AP (M) | AP (L) | AR | AR .5 | AR .75 | AR (M) | AR (L) |\n",
      "|---|---|---|---|---|---|---|---|---|---|---|\n",
      "| 384x288_pose_resnet_152_d256d256d256 | 0.471 | 0.830 | 0.416 | 0.471 | -1.000 | 0.517 | 0.867 | 0.467 | 0.517 | -1.000 |\n",
      "=> saving checkpoint to /home/jfeil/IDP/baseline_implementations/microsoft_baseline/pose_estimation/experiment_output/coco/pose_resnet_152/384x288_d256x3_adam_lr1e-3_TransferLearning_2024-01-16_09:50:30\n"
     ]
    },
    {
     "name": "stdout",
     "output_type": "stream",
     "text": [
      "Loading and preparing results...\n",
      "DONE (t=0.00s)\n",
      "creating index...\n",
      "index created!\n",
      "Running per image evaluation...\n",
      "Evaluate annotation type *keypoints*\n",
      "DONE (t=0.01s).\n",
      "Accumulating evaluation results...\n",
      "DONE (t=0.00s).\n",
      " Average Precision  (AP) @[ IoU=0.50:0.95 | area=   all | maxDets= 20 ] = 0.471\n",
      " Average Precision  (AP) @[ IoU=0.50      | area=   all | maxDets= 20 ] = 0.830\n",
      " Average Precision  (AP) @[ IoU=0.75      | area=   all | maxDets= 20 ] = 0.416\n",
      " Average Precision  (AP) @[ IoU=0.50:0.95 | area=medium | maxDets= 20 ] = 0.471\n",
      " Average Precision  (AP) @[ IoU=0.50:0.95 | area= large | maxDets= 20 ] = -1.000\n",
      " Average Recall     (AR) @[ IoU=0.50:0.95 | area=   all | maxDets= 20 ] = 0.517\n",
      " Average Recall     (AR) @[ IoU=0.50      | area=   all | maxDets= 20 ] = 0.867\n",
      " Average Recall     (AR) @[ IoU=0.75      | area=   all | maxDets= 20 ] = 0.467\n",
      " Average Recall     (AR) @[ IoU=0.50:0.95 | area=medium | maxDets= 20 ] = 0.517\n",
      " Average Recall     (AR) @[ IoU=0.50:0.95 | area= large | maxDets= 20 ] = -1.000\n"
     ]
    },
    {
     "name": "stderr",
     "output_type": "stream",
     "text": [
      "Epoch: [66][0/6]\tTime 10.213s (10.213s)\tSpeed 3.1 samples/s\tData 9.965s (9.965s)\tLoss 0.00025 (0.00025)\tAccuracy 0.981 (0.981)\n",
      "Test: [0/1]\tTime 6.280 (6.280)\tLoss 0.0015 (0.0015)\tAccuracy 0.537 (0.537)\n",
      "=> Writing results json to /home/jfeil/IDP/baseline_implementations/microsoft_baseline/pose_estimation/experiment_output/coco/pose_resnet_152/384x288_d256x3_adam_lr1e-3_TransferLearning_2024-01-16_09:50:30/results/keypoints_val2017_results.json\n",
      "=> coco eval results saved to /home/jfeil/IDP/baseline_implementations/microsoft_baseline/pose_estimation/experiment_output/coco/pose_resnet_152/384x288_d256x3_adam_lr1e-3_TransferLearning_2024-01-16_09:50:30/results/keypoints_val2017_results.pkl\n",
      "| Arch | AP | Ap .5 | AP .75 | AP (M) | AP (L) | AR | AR .5 | AR .75 | AR (M) | AR (L) |\n",
      "|---|---|---|---|---|---|---|---|---|---|---|\n",
      "| 384x288_pose_resnet_152_d256d256d256 | 0.455 | 0.867 | 0.398 | 0.455 | -1.000 | 0.507 | 0.900 | 0.467 | 0.507 | -1.000 |\n",
      "=> saving checkpoint to /home/jfeil/IDP/baseline_implementations/microsoft_baseline/pose_estimation/experiment_output/coco/pose_resnet_152/384x288_d256x3_adam_lr1e-3_TransferLearning_2024-01-16_09:50:30\n"
     ]
    },
    {
     "name": "stdout",
     "output_type": "stream",
     "text": [
      "Loading and preparing results...\n",
      "DONE (t=0.00s)\n",
      "creating index...\n",
      "index created!\n",
      "Running per image evaluation...\n",
      "Evaluate annotation type *keypoints*\n",
      "DONE (t=0.01s).\n",
      "Accumulating evaluation results...\n",
      "DONE (t=0.00s).\n",
      " Average Precision  (AP) @[ IoU=0.50:0.95 | area=   all | maxDets= 20 ] = 0.455\n",
      " Average Precision  (AP) @[ IoU=0.50      | area=   all | maxDets= 20 ] = 0.867\n",
      " Average Precision  (AP) @[ IoU=0.75      | area=   all | maxDets= 20 ] = 0.398\n",
      " Average Precision  (AP) @[ IoU=0.50:0.95 | area=medium | maxDets= 20 ] = 0.455\n",
      " Average Precision  (AP) @[ IoU=0.50:0.95 | area= large | maxDets= 20 ] = -1.000\n",
      " Average Recall     (AR) @[ IoU=0.50:0.95 | area=   all | maxDets= 20 ] = 0.507\n",
      " Average Recall     (AR) @[ IoU=0.50      | area=   all | maxDets= 20 ] = 0.900\n",
      " Average Recall     (AR) @[ IoU=0.75      | area=   all | maxDets= 20 ] = 0.467\n",
      " Average Recall     (AR) @[ IoU=0.50:0.95 | area=medium | maxDets= 20 ] = 0.507\n",
      " Average Recall     (AR) @[ IoU=0.50:0.95 | area= large | maxDets= 20 ] = -1.000\n"
     ]
    },
    {
     "name": "stderr",
     "output_type": "stream",
     "text": [
      "Epoch: [67][0/6]\tTime 10.019s (10.019s)\tSpeed 3.2 samples/s\tData 9.772s (9.772s)\tLoss 0.00033 (0.00033)\tAccuracy 0.952 (0.952)\n",
      "Test: [0/1]\tTime 6.308 (6.308)\tLoss 0.0014 (0.0014)\tAccuracy 0.533 (0.533)\n",
      "=> Writing results json to /home/jfeil/IDP/baseline_implementations/microsoft_baseline/pose_estimation/experiment_output/coco/pose_resnet_152/384x288_d256x3_adam_lr1e-3_TransferLearning_2024-01-16_09:50:30/results/keypoints_val2017_results.json\n",
      "=> coco eval results saved to /home/jfeil/IDP/baseline_implementations/microsoft_baseline/pose_estimation/experiment_output/coco/pose_resnet_152/384x288_d256x3_adam_lr1e-3_TransferLearning_2024-01-16_09:50:30/results/keypoints_val2017_results.pkl\n",
      "| Arch | AP | Ap .5 | AP .75 | AP (M) | AP (L) | AR | AR .5 | AR .75 | AR (M) | AR (L) |\n",
      "|---|---|---|---|---|---|---|---|---|---|---|\n",
      "| 384x288_pose_resnet_152_d256d256d256 | 0.480 | 0.908 | 0.433 | 0.480 | -1.000 | 0.523 | 0.933 | 0.500 | 0.523 | -1.000 |\n",
      "=> saving checkpoint to /home/jfeil/IDP/baseline_implementations/microsoft_baseline/pose_estimation/experiment_output/coco/pose_resnet_152/384x288_d256x3_adam_lr1e-3_TransferLearning_2024-01-16_09:50:30\n"
     ]
    },
    {
     "name": "stdout",
     "output_type": "stream",
     "text": [
      "Loading and preparing results...\n",
      "DONE (t=0.00s)\n",
      "creating index...\n",
      "index created!\n",
      "Running per image evaluation...\n",
      "Evaluate annotation type *keypoints*\n",
      "DONE (t=0.01s).\n",
      "Accumulating evaluation results...\n",
      "DONE (t=0.00s).\n",
      " Average Precision  (AP) @[ IoU=0.50:0.95 | area=   all | maxDets= 20 ] = 0.480\n",
      " Average Precision  (AP) @[ IoU=0.50      | area=   all | maxDets= 20 ] = 0.908\n",
      " Average Precision  (AP) @[ IoU=0.75      | area=   all | maxDets= 20 ] = 0.433\n",
      " Average Precision  (AP) @[ IoU=0.50:0.95 | area=medium | maxDets= 20 ] = 0.480\n",
      " Average Precision  (AP) @[ IoU=0.50:0.95 | area= large | maxDets= 20 ] = -1.000\n",
      " Average Recall     (AR) @[ IoU=0.50:0.95 | area=   all | maxDets= 20 ] = 0.523\n",
      " Average Recall     (AR) @[ IoU=0.50      | area=   all | maxDets= 20 ] = 0.933\n",
      " Average Recall     (AR) @[ IoU=0.75      | area=   all | maxDets= 20 ] = 0.500\n",
      " Average Recall     (AR) @[ IoU=0.50:0.95 | area=medium | maxDets= 20 ] = 0.523\n",
      " Average Recall     (AR) @[ IoU=0.50:0.95 | area= large | maxDets= 20 ] = -1.000\n"
     ]
    },
    {
     "name": "stderr",
     "output_type": "stream",
     "text": [
      "Epoch: [68][0/6]\tTime 10.012s (10.012s)\tSpeed 3.2 samples/s\tData 9.763s (9.763s)\tLoss 0.00030 (0.00030)\tAccuracy 0.942 (0.942)\n",
      "Test: [0/1]\tTime 6.212 (6.212)\tLoss 0.0014 (0.0014)\tAccuracy 0.527 (0.527)\n",
      "=> Writing results json to /home/jfeil/IDP/baseline_implementations/microsoft_baseline/pose_estimation/experiment_output/coco/pose_resnet_152/384x288_d256x3_adam_lr1e-3_TransferLearning_2024-01-16_09:50:30/results/keypoints_val2017_results.json\n",
      "=> coco eval results saved to /home/jfeil/IDP/baseline_implementations/microsoft_baseline/pose_estimation/experiment_output/coco/pose_resnet_152/384x288_d256x3_adam_lr1e-3_TransferLearning_2024-01-16_09:50:30/results/keypoints_val2017_results.pkl\n",
      "| Arch | AP | Ap .5 | AP .75 | AP (M) | AP (L) | AR | AR .5 | AR .75 | AR (M) | AR (L) |\n",
      "|---|---|---|---|---|---|---|---|---|---|---|\n",
      "| 384x288_pose_resnet_152_d256d256d256 | 0.462 | 0.864 | 0.444 | 0.462 | -1.000 | 0.507 | 0.900 | 0.500 | 0.507 | -1.000 |\n",
      "=> saving checkpoint to /home/jfeil/IDP/baseline_implementations/microsoft_baseline/pose_estimation/experiment_output/coco/pose_resnet_152/384x288_d256x3_adam_lr1e-3_TransferLearning_2024-01-16_09:50:30\n"
     ]
    },
    {
     "name": "stdout",
     "output_type": "stream",
     "text": [
      "Loading and preparing results...\n",
      "DONE (t=0.00s)\n",
      "creating index...\n",
      "index created!\n",
      "Running per image evaluation...\n",
      "Evaluate annotation type *keypoints*\n",
      "DONE (t=0.01s).\n",
      "Accumulating evaluation results...\n",
      "DONE (t=0.00s).\n",
      " Average Precision  (AP) @[ IoU=0.50:0.95 | area=   all | maxDets= 20 ] = 0.462\n",
      " Average Precision  (AP) @[ IoU=0.50      | area=   all | maxDets= 20 ] = 0.864\n",
      " Average Precision  (AP) @[ IoU=0.75      | area=   all | maxDets= 20 ] = 0.444\n",
      " Average Precision  (AP) @[ IoU=0.50:0.95 | area=medium | maxDets= 20 ] = 0.462\n",
      " Average Precision  (AP) @[ IoU=0.50:0.95 | area= large | maxDets= 20 ] = -1.000\n",
      " Average Recall     (AR) @[ IoU=0.50:0.95 | area=   all | maxDets= 20 ] = 0.507\n",
      " Average Recall     (AR) @[ IoU=0.50      | area=   all | maxDets= 20 ] = 0.900\n",
      " Average Recall     (AR) @[ IoU=0.75      | area=   all | maxDets= 20 ] = 0.500\n",
      " Average Recall     (AR) @[ IoU=0.50:0.95 | area=medium | maxDets= 20 ] = 0.507\n",
      " Average Recall     (AR) @[ IoU=0.50:0.95 | area= large | maxDets= 20 ] = -1.000\n"
     ]
    },
    {
     "name": "stderr",
     "output_type": "stream",
     "text": [
      "Epoch: [69][0/6]\tTime 10.061s (10.061s)\tSpeed 3.2 samples/s\tData 9.811s (9.811s)\tLoss 0.00027 (0.00027)\tAccuracy 0.959 (0.959)\n",
      "Test: [0/1]\tTime 6.293 (6.293)\tLoss 0.0015 (0.0015)\tAccuracy 0.517 (0.517)\n",
      "=> Writing results json to /home/jfeil/IDP/baseline_implementations/microsoft_baseline/pose_estimation/experiment_output/coco/pose_resnet_152/384x288_d256x3_adam_lr1e-3_TransferLearning_2024-01-16_09:50:30/results/keypoints_val2017_results.json\n",
      "=> coco eval results saved to /home/jfeil/IDP/baseline_implementations/microsoft_baseline/pose_estimation/experiment_output/coco/pose_resnet_152/384x288_d256x3_adam_lr1e-3_TransferLearning_2024-01-16_09:50:30/results/keypoints_val2017_results.pkl\n",
      "| Arch | AP | Ap .5 | AP .75 | AP (M) | AP (L) | AR | AR .5 | AR .75 | AR (M) | AR (L) |\n",
      "|---|---|---|---|---|---|---|---|---|---|---|\n",
      "| 384x288_pose_resnet_152_d256d256d256 | 0.442 | 0.857 | 0.429 | 0.442 | -1.000 | 0.510 | 0.900 | 0.500 | 0.510 | -1.000 |\n",
      "=> saving checkpoint to /home/jfeil/IDP/baseline_implementations/microsoft_baseline/pose_estimation/experiment_output/coco/pose_resnet_152/384x288_d256x3_adam_lr1e-3_TransferLearning_2024-01-16_09:50:30\n"
     ]
    },
    {
     "name": "stdout",
     "output_type": "stream",
     "text": [
      "Loading and preparing results...\n",
      "DONE (t=0.00s)\n",
      "creating index...\n",
      "index created!\n",
      "Running per image evaluation...\n",
      "Evaluate annotation type *keypoints*\n",
      "DONE (t=0.01s).\n",
      "Accumulating evaluation results...\n",
      "DONE (t=0.00s).\n",
      " Average Precision  (AP) @[ IoU=0.50:0.95 | area=   all | maxDets= 20 ] = 0.442\n",
      " Average Precision  (AP) @[ IoU=0.50      | area=   all | maxDets= 20 ] = 0.857\n",
      " Average Precision  (AP) @[ IoU=0.75      | area=   all | maxDets= 20 ] = 0.429\n",
      " Average Precision  (AP) @[ IoU=0.50:0.95 | area=medium | maxDets= 20 ] = 0.442\n",
      " Average Precision  (AP) @[ IoU=0.50:0.95 | area= large | maxDets= 20 ] = -1.000\n",
      " Average Recall     (AR) @[ IoU=0.50:0.95 | area=   all | maxDets= 20 ] = 0.510\n",
      " Average Recall     (AR) @[ IoU=0.50      | area=   all | maxDets= 20 ] = 0.900\n",
      " Average Recall     (AR) @[ IoU=0.75      | area=   all | maxDets= 20 ] = 0.500\n",
      " Average Recall     (AR) @[ IoU=0.50:0.95 | area=medium | maxDets= 20 ] = 0.510\n",
      " Average Recall     (AR) @[ IoU=0.50:0.95 | area= large | maxDets= 20 ] = -1.000\n"
     ]
    },
    {
     "name": "stderr",
     "output_type": "stream",
     "text": [
      "Epoch: [70][0/6]\tTime 9.849s (9.849s)\tSpeed 3.2 samples/s\tData 9.599s (9.599s)\tLoss 0.00025 (0.00025)\tAccuracy 0.991 (0.991)\n",
      "Test: [0/1]\tTime 6.157 (6.157)\tLoss 0.0015 (0.0015)\tAccuracy 0.513 (0.513)\n",
      "=> Writing results json to /home/jfeil/IDP/baseline_implementations/microsoft_baseline/pose_estimation/experiment_output/coco/pose_resnet_152/384x288_d256x3_adam_lr1e-3_TransferLearning_2024-01-16_09:50:30/results/keypoints_val2017_results.json\n",
      "=> coco eval results saved to /home/jfeil/IDP/baseline_implementations/microsoft_baseline/pose_estimation/experiment_output/coco/pose_resnet_152/384x288_d256x3_adam_lr1e-3_TransferLearning_2024-01-16_09:50:30/results/keypoints_val2017_results.pkl\n",
      "| Arch | AP | Ap .5 | AP .75 | AP (M) | AP (L) | AR | AR .5 | AR .75 | AR (M) | AR (L) |\n",
      "|---|---|---|---|---|---|---|---|---|---|---|\n",
      "| 384x288_pose_resnet_152_d256d256d256 | 0.451 | 0.861 | 0.467 | 0.451 | -1.000 | 0.507 | 0.900 | 0.533 | 0.507 | -1.000 |\n",
      "=> saving checkpoint to /home/jfeil/IDP/baseline_implementations/microsoft_baseline/pose_estimation/experiment_output/coco/pose_resnet_152/384x288_d256x3_adam_lr1e-3_TransferLearning_2024-01-16_09:50:30\n"
     ]
    },
    {
     "name": "stdout",
     "output_type": "stream",
     "text": [
      "Loading and preparing results...\n",
      "DONE (t=0.00s)\n",
      "creating index...\n",
      "index created!\n",
      "Running per image evaluation...\n",
      "Evaluate annotation type *keypoints*\n",
      "DONE (t=0.01s).\n",
      "Accumulating evaluation results...\n",
      "DONE (t=0.00s).\n",
      " Average Precision  (AP) @[ IoU=0.50:0.95 | area=   all | maxDets= 20 ] = 0.451\n",
      " Average Precision  (AP) @[ IoU=0.50      | area=   all | maxDets= 20 ] = 0.861\n",
      " Average Precision  (AP) @[ IoU=0.75      | area=   all | maxDets= 20 ] = 0.467\n",
      " Average Precision  (AP) @[ IoU=0.50:0.95 | area=medium | maxDets= 20 ] = 0.451\n",
      " Average Precision  (AP) @[ IoU=0.50:0.95 | area= large | maxDets= 20 ] = -1.000\n",
      " Average Recall     (AR) @[ IoU=0.50:0.95 | area=   all | maxDets= 20 ] = 0.507\n",
      " Average Recall     (AR) @[ IoU=0.50      | area=   all | maxDets= 20 ] = 0.900\n",
      " Average Recall     (AR) @[ IoU=0.75      | area=   all | maxDets= 20 ] = 0.533\n",
      " Average Recall     (AR) @[ IoU=0.50:0.95 | area=medium | maxDets= 20 ] = 0.507\n",
      " Average Recall     (AR) @[ IoU=0.50:0.95 | area= large | maxDets= 20 ] = -1.000\n"
     ]
    },
    {
     "name": "stderr",
     "output_type": "stream",
     "text": [
      "Epoch: [71][0/6]\tTime 9.851s (9.851s)\tSpeed 3.2 samples/s\tData 9.606s (9.606s)\tLoss 0.00027 (0.00027)\tAccuracy 0.964 (0.964)\n",
      "Test: [0/1]\tTime 6.241 (6.241)\tLoss 0.0015 (0.0015)\tAccuracy 0.533 (0.533)\n",
      "=> Writing results json to /home/jfeil/IDP/baseline_implementations/microsoft_baseline/pose_estimation/experiment_output/coco/pose_resnet_152/384x288_d256x3_adam_lr1e-3_TransferLearning_2024-01-16_09:50:30/results/keypoints_val2017_results.json\n",
      "=> coco eval results saved to /home/jfeil/IDP/baseline_implementations/microsoft_baseline/pose_estimation/experiment_output/coco/pose_resnet_152/384x288_d256x3_adam_lr1e-3_TransferLearning_2024-01-16_09:50:30/results/keypoints_val2017_results.pkl\n",
      "| Arch | AP | Ap .5 | AP .75 | AP (M) | AP (L) | AR | AR .5 | AR .75 | AR (M) | AR (L) |\n",
      "|---|---|---|---|---|---|---|---|---|---|---|\n",
      "| 384x288_pose_resnet_152_d256d256d256 | 0.453 | 0.854 | 0.448 | 0.453 | -1.000 | 0.507 | 0.900 | 0.500 | 0.507 | -1.000 |\n",
      "=> saving checkpoint to /home/jfeil/IDP/baseline_implementations/microsoft_baseline/pose_estimation/experiment_output/coco/pose_resnet_152/384x288_d256x3_adam_lr1e-3_TransferLearning_2024-01-16_09:50:30\n"
     ]
    },
    {
     "name": "stdout",
     "output_type": "stream",
     "text": [
      "Loading and preparing results...\n",
      "DONE (t=0.00s)\n",
      "creating index...\n",
      "index created!\n",
      "Running per image evaluation...\n",
      "Evaluate annotation type *keypoints*\n",
      "DONE (t=0.01s).\n",
      "Accumulating evaluation results...\n",
      "DONE (t=0.00s).\n",
      " Average Precision  (AP) @[ IoU=0.50:0.95 | area=   all | maxDets= 20 ] = 0.453\n",
      " Average Precision  (AP) @[ IoU=0.50      | area=   all | maxDets= 20 ] = 0.854\n",
      " Average Precision  (AP) @[ IoU=0.75      | area=   all | maxDets= 20 ] = 0.448\n",
      " Average Precision  (AP) @[ IoU=0.50:0.95 | area=medium | maxDets= 20 ] = 0.453\n",
      " Average Precision  (AP) @[ IoU=0.50:0.95 | area= large | maxDets= 20 ] = -1.000\n",
      " Average Recall     (AR) @[ IoU=0.50:0.95 | area=   all | maxDets= 20 ] = 0.507\n",
      " Average Recall     (AR) @[ IoU=0.50      | area=   all | maxDets= 20 ] = 0.900\n",
      " Average Recall     (AR) @[ IoU=0.75      | area=   all | maxDets= 20 ] = 0.500\n",
      " Average Recall     (AR) @[ IoU=0.50:0.95 | area=medium | maxDets= 20 ] = 0.507\n",
      " Average Recall     (AR) @[ IoU=0.50:0.95 | area= large | maxDets= 20 ] = -1.000\n"
     ]
    },
    {
     "name": "stderr",
     "output_type": "stream",
     "text": [
      "Epoch: [72][0/6]\tTime 10.151s (10.151s)\tSpeed 3.2 samples/s\tData 9.908s (9.908s)\tLoss 0.00028 (0.00028)\tAccuracy 0.952 (0.952)\n",
      "Test: [0/1]\tTime 6.226 (6.226)\tLoss 0.0015 (0.0015)\tAccuracy 0.517 (0.517)\n",
      "=> Writing results json to /home/jfeil/IDP/baseline_implementations/microsoft_baseline/pose_estimation/experiment_output/coco/pose_resnet_152/384x288_d256x3_adam_lr1e-3_TransferLearning_2024-01-16_09:50:30/results/keypoints_val2017_results.json\n",
      "=> coco eval results saved to /home/jfeil/IDP/baseline_implementations/microsoft_baseline/pose_estimation/experiment_output/coco/pose_resnet_152/384x288_d256x3_adam_lr1e-3_TransferLearning_2024-01-16_09:50:30/results/keypoints_val2017_results.pkl\n",
      "| Arch | AP | Ap .5 | AP .75 | AP (M) | AP (L) | AR | AR .5 | AR .75 | AR (M) | AR (L) |\n",
      "|---|---|---|---|---|---|---|---|---|---|---|\n",
      "| 384x288_pose_resnet_152_d256d256d256 | 0.425 | 0.854 | 0.411 | 0.425 | -1.000 | 0.497 | 0.900 | 0.500 | 0.497 | -1.000 |\n",
      "=> saving checkpoint to /home/jfeil/IDP/baseline_implementations/microsoft_baseline/pose_estimation/experiment_output/coco/pose_resnet_152/384x288_d256x3_adam_lr1e-3_TransferLearning_2024-01-16_09:50:30\n"
     ]
    },
    {
     "name": "stdout",
     "output_type": "stream",
     "text": [
      "Loading and preparing results...\n",
      "DONE (t=0.00s)\n",
      "creating index...\n",
      "index created!\n",
      "Running per image evaluation...\n",
      "Evaluate annotation type *keypoints*\n",
      "DONE (t=0.01s).\n",
      "Accumulating evaluation results...\n",
      "DONE (t=0.00s).\n",
      " Average Precision  (AP) @[ IoU=0.50:0.95 | area=   all | maxDets= 20 ] = 0.425\n",
      " Average Precision  (AP) @[ IoU=0.50      | area=   all | maxDets= 20 ] = 0.854\n",
      " Average Precision  (AP) @[ IoU=0.75      | area=   all | maxDets= 20 ] = 0.411\n",
      " Average Precision  (AP) @[ IoU=0.50:0.95 | area=medium | maxDets= 20 ] = 0.425\n",
      " Average Precision  (AP) @[ IoU=0.50:0.95 | area= large | maxDets= 20 ] = -1.000\n",
      " Average Recall     (AR) @[ IoU=0.50:0.95 | area=   all | maxDets= 20 ] = 0.497\n",
      " Average Recall     (AR) @[ IoU=0.50      | area=   all | maxDets= 20 ] = 0.900\n",
      " Average Recall     (AR) @[ IoU=0.75      | area=   all | maxDets= 20 ] = 0.500\n",
      " Average Recall     (AR) @[ IoU=0.50:0.95 | area=medium | maxDets= 20 ] = 0.497\n",
      " Average Recall     (AR) @[ IoU=0.50:0.95 | area= large | maxDets= 20 ] = -1.000\n"
     ]
    },
    {
     "name": "stderr",
     "output_type": "stream",
     "text": [
      "Epoch: [73][0/6]\tTime 10.066s (10.066s)\tSpeed 3.2 samples/s\tData 9.822s (9.822s)\tLoss 0.00030 (0.00030)\tAccuracy 0.952 (0.952)\n",
      "Test: [0/1]\tTime 6.220 (6.220)\tLoss 0.0014 (0.0014)\tAccuracy 0.520 (0.520)\n",
      "=> Writing results json to /home/jfeil/IDP/baseline_implementations/microsoft_baseline/pose_estimation/experiment_output/coco/pose_resnet_152/384x288_d256x3_adam_lr1e-3_TransferLearning_2024-01-16_09:50:30/results/keypoints_val2017_results.json\n",
      "=> coco eval results saved to /home/jfeil/IDP/baseline_implementations/microsoft_baseline/pose_estimation/experiment_output/coco/pose_resnet_152/384x288_d256x3_adam_lr1e-3_TransferLearning_2024-01-16_09:50:30/results/keypoints_val2017_results.pkl\n",
      "| Arch | AP | Ap .5 | AP .75 | AP (M) | AP (L) | AR | AR .5 | AR .75 | AR (M) | AR (L) |\n",
      "|---|---|---|---|---|---|---|---|---|---|---|\n",
      "| 384x288_pose_resnet_152_d256d256d256 | 0.444 | 0.859 | 0.365 | 0.444 | -1.000 | 0.500 | 0.900 | 0.467 | 0.500 | -1.000 |\n",
      "=> saving checkpoint to /home/jfeil/IDP/baseline_implementations/microsoft_baseline/pose_estimation/experiment_output/coco/pose_resnet_152/384x288_d256x3_adam_lr1e-3_TransferLearning_2024-01-16_09:50:30\n"
     ]
    },
    {
     "name": "stdout",
     "output_type": "stream",
     "text": [
      "Loading and preparing results...\n",
      "DONE (t=0.00s)\n",
      "creating index...\n",
      "index created!\n",
      "Running per image evaluation...\n",
      "Evaluate annotation type *keypoints*\n",
      "DONE (t=0.01s).\n",
      "Accumulating evaluation results...\n",
      "DONE (t=0.00s).\n",
      " Average Precision  (AP) @[ IoU=0.50:0.95 | area=   all | maxDets= 20 ] = 0.444\n",
      " Average Precision  (AP) @[ IoU=0.50      | area=   all | maxDets= 20 ] = 0.859\n",
      " Average Precision  (AP) @[ IoU=0.75      | area=   all | maxDets= 20 ] = 0.365\n",
      " Average Precision  (AP) @[ IoU=0.50:0.95 | area=medium | maxDets= 20 ] = 0.444\n",
      " Average Precision  (AP) @[ IoU=0.50:0.95 | area= large | maxDets= 20 ] = -1.000\n",
      " Average Recall     (AR) @[ IoU=0.50:0.95 | area=   all | maxDets= 20 ] = 0.500\n",
      " Average Recall     (AR) @[ IoU=0.50      | area=   all | maxDets= 20 ] = 0.900\n",
      " Average Recall     (AR) @[ IoU=0.75      | area=   all | maxDets= 20 ] = 0.467\n",
      " Average Recall     (AR) @[ IoU=0.50:0.95 | area=medium | maxDets= 20 ] = 0.500\n",
      " Average Recall     (AR) @[ IoU=0.50:0.95 | area= large | maxDets= 20 ] = -1.000\n"
     ]
    },
    {
     "name": "stderr",
     "output_type": "stream",
     "text": [
      "Epoch: [74][0/6]\tTime 9.971s (9.971s)\tSpeed 3.2 samples/s\tData 9.722s (9.722s)\tLoss 0.00025 (0.00025)\tAccuracy 0.959 (0.959)\n",
      "Test: [0/1]\tTime 6.233 (6.233)\tLoss 0.0015 (0.0015)\tAccuracy 0.520 (0.520)\n",
      "=> Writing results json to /home/jfeil/IDP/baseline_implementations/microsoft_baseline/pose_estimation/experiment_output/coco/pose_resnet_152/384x288_d256x3_adam_lr1e-3_TransferLearning_2024-01-16_09:50:30/results/keypoints_val2017_results.json\n",
      "=> coco eval results saved to /home/jfeil/IDP/baseline_implementations/microsoft_baseline/pose_estimation/experiment_output/coco/pose_resnet_152/384x288_d256x3_adam_lr1e-3_TransferLearning_2024-01-16_09:50:30/results/keypoints_val2017_results.pkl\n",
      "| Arch | AP | Ap .5 | AP .75 | AP (M) | AP (L) | AR | AR .5 | AR .75 | AR (M) | AR (L) |\n",
      "|---|---|---|---|---|---|---|---|---|---|---|\n",
      "| 384x288_pose_resnet_152_d256d256d256 | 0.422 | 0.795 | 0.302 | 0.422 | -1.000 | 0.493 | 0.867 | 0.400 | 0.493 | -1.000 |\n",
      "=> saving checkpoint to /home/jfeil/IDP/baseline_implementations/microsoft_baseline/pose_estimation/experiment_output/coco/pose_resnet_152/384x288_d256x3_adam_lr1e-3_TransferLearning_2024-01-16_09:50:30\n"
     ]
    },
    {
     "name": "stdout",
     "output_type": "stream",
     "text": [
      "Loading and preparing results...\n",
      "DONE (t=0.00s)\n",
      "creating index...\n",
      "index created!\n",
      "Running per image evaluation...\n",
      "Evaluate annotation type *keypoints*\n",
      "DONE (t=0.01s).\n",
      "Accumulating evaluation results...\n",
      "DONE (t=0.00s).\n",
      " Average Precision  (AP) @[ IoU=0.50:0.95 | area=   all | maxDets= 20 ] = 0.422\n",
      " Average Precision  (AP) @[ IoU=0.50      | area=   all | maxDets= 20 ] = 0.795\n",
      " Average Precision  (AP) @[ IoU=0.75      | area=   all | maxDets= 20 ] = 0.302\n",
      " Average Precision  (AP) @[ IoU=0.50:0.95 | area=medium | maxDets= 20 ] = 0.422\n",
      " Average Precision  (AP) @[ IoU=0.50:0.95 | area= large | maxDets= 20 ] = -1.000\n",
      " Average Recall     (AR) @[ IoU=0.50:0.95 | area=   all | maxDets= 20 ] = 0.493\n",
      " Average Recall     (AR) @[ IoU=0.50      | area=   all | maxDets= 20 ] = 0.867\n",
      " Average Recall     (AR) @[ IoU=0.75      | area=   all | maxDets= 20 ] = 0.400\n",
      " Average Recall     (AR) @[ IoU=0.50:0.95 | area=medium | maxDets= 20 ] = 0.493\n",
      " Average Recall     (AR) @[ IoU=0.50:0.95 | area= large | maxDets= 20 ] = -1.000\n"
     ]
    },
    {
     "name": "stderr",
     "output_type": "stream",
     "text": [
      "Epoch: [75][0/6]\tTime 9.820s (9.820s)\tSpeed 3.3 samples/s\tData 9.570s (9.570s)\tLoss 0.00026 (0.00026)\tAccuracy 0.958 (0.958)\n",
      "Test: [0/1]\tTime 6.268 (6.268)\tLoss 0.0015 (0.0015)\tAccuracy 0.533 (0.533)\n",
      "=> Writing results json to /home/jfeil/IDP/baseline_implementations/microsoft_baseline/pose_estimation/experiment_output/coco/pose_resnet_152/384x288_d256x3_adam_lr1e-3_TransferLearning_2024-01-16_09:50:30/results/keypoints_val2017_results.json\n",
      "=> coco eval results saved to /home/jfeil/IDP/baseline_implementations/microsoft_baseline/pose_estimation/experiment_output/coco/pose_resnet_152/384x288_d256x3_adam_lr1e-3_TransferLearning_2024-01-16_09:50:30/results/keypoints_val2017_results.pkl\n",
      "| Arch | AP | Ap .5 | AP .75 | AP (M) | AP (L) | AR | AR .5 | AR .75 | AR (M) | AR (L) |\n",
      "|---|---|---|---|---|---|---|---|---|---|---|\n",
      "| 384x288_pose_resnet_152_d256d256d256 | 0.428 | 0.851 | 0.331 | 0.428 | -1.000 | 0.510 | 0.900 | 0.433 | 0.510 | -1.000 |\n",
      "=> saving checkpoint to /home/jfeil/IDP/baseline_implementations/microsoft_baseline/pose_estimation/experiment_output/coco/pose_resnet_152/384x288_d256x3_adam_lr1e-3_TransferLearning_2024-01-16_09:50:30\n"
     ]
    },
    {
     "name": "stdout",
     "output_type": "stream",
     "text": [
      "Loading and preparing results...\n",
      "DONE (t=0.00s)\n",
      "creating index...\n",
      "index created!\n",
      "Running per image evaluation...\n",
      "Evaluate annotation type *keypoints*\n",
      "DONE (t=0.01s).\n",
      "Accumulating evaluation results...\n",
      "DONE (t=0.00s).\n",
      " Average Precision  (AP) @[ IoU=0.50:0.95 | area=   all | maxDets= 20 ] = 0.428\n",
      " Average Precision  (AP) @[ IoU=0.50      | area=   all | maxDets= 20 ] = 0.851\n",
      " Average Precision  (AP) @[ IoU=0.75      | area=   all | maxDets= 20 ] = 0.331\n",
      " Average Precision  (AP) @[ IoU=0.50:0.95 | area=medium | maxDets= 20 ] = 0.428\n",
      " Average Precision  (AP) @[ IoU=0.50:0.95 | area= large | maxDets= 20 ] = -1.000\n",
      " Average Recall     (AR) @[ IoU=0.50:0.95 | area=   all | maxDets= 20 ] = 0.510\n",
      " Average Recall     (AR) @[ IoU=0.50      | area=   all | maxDets= 20 ] = 0.900\n",
      " Average Recall     (AR) @[ IoU=0.75      | area=   all | maxDets= 20 ] = 0.433\n",
      " Average Recall     (AR) @[ IoU=0.50:0.95 | area=medium | maxDets= 20 ] = 0.510\n",
      " Average Recall     (AR) @[ IoU=0.50:0.95 | area= large | maxDets= 20 ] = -1.000\n"
     ]
    },
    {
     "name": "stderr",
     "output_type": "stream",
     "text": [
      "Epoch: [76][0/6]\tTime 9.675s (9.675s)\tSpeed 3.3 samples/s\tData 9.430s (9.430s)\tLoss 0.00034 (0.00034)\tAccuracy 0.946 (0.946)\n",
      "Test: [0/1]\tTime 6.251 (6.251)\tLoss 0.0015 (0.0015)\tAccuracy 0.520 (0.520)\n",
      "=> Writing results json to /home/jfeil/IDP/baseline_implementations/microsoft_baseline/pose_estimation/experiment_output/coco/pose_resnet_152/384x288_d256x3_adam_lr1e-3_TransferLearning_2024-01-16_09:50:30/results/keypoints_val2017_results.json\n",
      "=> coco eval results saved to /home/jfeil/IDP/baseline_implementations/microsoft_baseline/pose_estimation/experiment_output/coco/pose_resnet_152/384x288_d256x3_adam_lr1e-3_TransferLearning_2024-01-16_09:50:30/results/keypoints_val2017_results.pkl\n",
      "| Arch | AP | Ap .5 | AP .75 | AP (M) | AP (L) | AR | AR .5 | AR .75 | AR (M) | AR (L) |\n",
      "|---|---|---|---|---|---|---|---|---|---|---|\n",
      "| 384x288_pose_resnet_152_d256d256d256 | 0.430 | 0.851 | 0.365 | 0.430 | -1.000 | 0.500 | 0.900 | 0.467 | 0.500 | -1.000 |\n",
      "=> saving checkpoint to /home/jfeil/IDP/baseline_implementations/microsoft_baseline/pose_estimation/experiment_output/coco/pose_resnet_152/384x288_d256x3_adam_lr1e-3_TransferLearning_2024-01-16_09:50:30\n"
     ]
    },
    {
     "name": "stdout",
     "output_type": "stream",
     "text": [
      "Loading and preparing results...\n",
      "DONE (t=0.00s)\n",
      "creating index...\n",
      "index created!\n",
      "Running per image evaluation...\n",
      "Evaluate annotation type *keypoints*\n",
      "DONE (t=0.01s).\n",
      "Accumulating evaluation results...\n",
      "DONE (t=0.00s).\n",
      " Average Precision  (AP) @[ IoU=0.50:0.95 | area=   all | maxDets= 20 ] = 0.430\n",
      " Average Precision  (AP) @[ IoU=0.50      | area=   all | maxDets= 20 ] = 0.851\n",
      " Average Precision  (AP) @[ IoU=0.75      | area=   all | maxDets= 20 ] = 0.365\n",
      " Average Precision  (AP) @[ IoU=0.50:0.95 | area=medium | maxDets= 20 ] = 0.430\n",
      " Average Precision  (AP) @[ IoU=0.50:0.95 | area= large | maxDets= 20 ] = -1.000\n",
      " Average Recall     (AR) @[ IoU=0.50:0.95 | area=   all | maxDets= 20 ] = 0.500\n",
      " Average Recall     (AR) @[ IoU=0.50      | area=   all | maxDets= 20 ] = 0.900\n",
      " Average Recall     (AR) @[ IoU=0.75      | area=   all | maxDets= 20 ] = 0.467\n",
      " Average Recall     (AR) @[ IoU=0.50:0.95 | area=medium | maxDets= 20 ] = 0.500\n",
      " Average Recall     (AR) @[ IoU=0.50:0.95 | area= large | maxDets= 20 ] = -1.000\n"
     ]
    },
    {
     "name": "stderr",
     "output_type": "stream",
     "text": [
      "Epoch: [77][0/6]\tTime 9.830s (9.830s)\tSpeed 3.3 samples/s\tData 9.578s (9.578s)\tLoss 0.00024 (0.00024)\tAccuracy 0.965 (0.965)\n",
      "Test: [0/1]\tTime 6.266 (6.266)\tLoss 0.0015 (0.0015)\tAccuracy 0.527 (0.527)\n",
      "=> Writing results json to /home/jfeil/IDP/baseline_implementations/microsoft_baseline/pose_estimation/experiment_output/coco/pose_resnet_152/384x288_d256x3_adam_lr1e-3_TransferLearning_2024-01-16_09:50:30/results/keypoints_val2017_results.json\n",
      "=> coco eval results saved to /home/jfeil/IDP/baseline_implementations/microsoft_baseline/pose_estimation/experiment_output/coco/pose_resnet_152/384x288_d256x3_adam_lr1e-3_TransferLearning_2024-01-16_09:50:30/results/keypoints_val2017_results.pkl\n",
      "| Arch | AP | Ap .5 | AP .75 | AP (M) | AP (L) | AR | AR .5 | AR .75 | AR (M) | AR (L) |\n",
      "|---|---|---|---|---|---|---|---|---|---|---|\n",
      "| 384x288_pose_resnet_152_d256d256d256 | 0.435 | 0.805 | 0.434 | 0.435 | -1.000 | 0.510 | 0.867 | 0.533 | 0.510 | -1.000 |\n",
      "=> saving checkpoint to /home/jfeil/IDP/baseline_implementations/microsoft_baseline/pose_estimation/experiment_output/coco/pose_resnet_152/384x288_d256x3_adam_lr1e-3_TransferLearning_2024-01-16_09:50:30\n"
     ]
    },
    {
     "name": "stdout",
     "output_type": "stream",
     "text": [
      "Loading and preparing results...\n",
      "DONE (t=0.00s)\n",
      "creating index...\n",
      "index created!\n",
      "Running per image evaluation...\n",
      "Evaluate annotation type *keypoints*\n",
      "DONE (t=0.01s).\n",
      "Accumulating evaluation results...\n",
      "DONE (t=0.00s).\n",
      " Average Precision  (AP) @[ IoU=0.50:0.95 | area=   all | maxDets= 20 ] = 0.435\n",
      " Average Precision  (AP) @[ IoU=0.50      | area=   all | maxDets= 20 ] = 0.805\n",
      " Average Precision  (AP) @[ IoU=0.75      | area=   all | maxDets= 20 ] = 0.434\n",
      " Average Precision  (AP) @[ IoU=0.50:0.95 | area=medium | maxDets= 20 ] = 0.435\n",
      " Average Precision  (AP) @[ IoU=0.50:0.95 | area= large | maxDets= 20 ] = -1.000\n",
      " Average Recall     (AR) @[ IoU=0.50:0.95 | area=   all | maxDets= 20 ] = 0.510\n",
      " Average Recall     (AR) @[ IoU=0.50      | area=   all | maxDets= 20 ] = 0.867\n",
      " Average Recall     (AR) @[ IoU=0.75      | area=   all | maxDets= 20 ] = 0.533\n",
      " Average Recall     (AR) @[ IoU=0.50:0.95 | area=medium | maxDets= 20 ] = 0.510\n",
      " Average Recall     (AR) @[ IoU=0.50:0.95 | area= large | maxDets= 20 ] = -1.000\n"
     ]
    },
    {
     "name": "stderr",
     "output_type": "stream",
     "text": [
      "Epoch: [78][0/6]\tTime 10.155s (10.155s)\tSpeed 3.2 samples/s\tData 9.912s (9.912s)\tLoss 0.00029 (0.00029)\tAccuracy 0.949 (0.949)\n",
      "Test: [0/1]\tTime 6.303 (6.303)\tLoss 0.0015 (0.0015)\tAccuracy 0.507 (0.507)\n",
      "=> Writing results json to /home/jfeil/IDP/baseline_implementations/microsoft_baseline/pose_estimation/experiment_output/coco/pose_resnet_152/384x288_d256x3_adam_lr1e-3_TransferLearning_2024-01-16_09:50:30/results/keypoints_val2017_results.json\n",
      "=> coco eval results saved to /home/jfeil/IDP/baseline_implementations/microsoft_baseline/pose_estimation/experiment_output/coco/pose_resnet_152/384x288_d256x3_adam_lr1e-3_TransferLearning_2024-01-16_09:50:30/results/keypoints_val2017_results.pkl\n",
      "| Arch | AP | Ap .5 | AP .75 | AP (M) | AP (L) | AR | AR .5 | AR .75 | AR (M) | AR (L) |\n",
      "|---|---|---|---|---|---|---|---|---|---|---|\n",
      "| 384x288_pose_resnet_152_d256d256d256 | 0.444 | 0.812 | 0.393 | 0.444 | -1.000 | 0.500 | 0.867 | 0.467 | 0.500 | -1.000 |\n",
      "=> saving checkpoint to /home/jfeil/IDP/baseline_implementations/microsoft_baseline/pose_estimation/experiment_output/coco/pose_resnet_152/384x288_d256x3_adam_lr1e-3_TransferLearning_2024-01-16_09:50:30\n"
     ]
    },
    {
     "name": "stdout",
     "output_type": "stream",
     "text": [
      "Loading and preparing results...\n",
      "DONE (t=0.00s)\n",
      "creating index...\n",
      "index created!\n",
      "Running per image evaluation...\n",
      "Evaluate annotation type *keypoints*\n",
      "DONE (t=0.01s).\n",
      "Accumulating evaluation results...\n",
      "DONE (t=0.00s).\n",
      " Average Precision  (AP) @[ IoU=0.50:0.95 | area=   all | maxDets= 20 ] = 0.444\n",
      " Average Precision  (AP) @[ IoU=0.50      | area=   all | maxDets= 20 ] = 0.812\n",
      " Average Precision  (AP) @[ IoU=0.75      | area=   all | maxDets= 20 ] = 0.393\n",
      " Average Precision  (AP) @[ IoU=0.50:0.95 | area=medium | maxDets= 20 ] = 0.444\n",
      " Average Precision  (AP) @[ IoU=0.50:0.95 | area= large | maxDets= 20 ] = -1.000\n",
      " Average Recall     (AR) @[ IoU=0.50:0.95 | area=   all | maxDets= 20 ] = 0.500\n",
      " Average Recall     (AR) @[ IoU=0.50      | area=   all | maxDets= 20 ] = 0.867\n",
      " Average Recall     (AR) @[ IoU=0.75      | area=   all | maxDets= 20 ] = 0.467\n",
      " Average Recall     (AR) @[ IoU=0.50:0.95 | area=medium | maxDets= 20 ] = 0.500\n",
      " Average Recall     (AR) @[ IoU=0.50:0.95 | area= large | maxDets= 20 ] = -1.000\n"
     ]
    },
    {
     "name": "stderr",
     "output_type": "stream",
     "text": [
      "Epoch: [79][0/6]\tTime 10.552s (10.552s)\tSpeed 3.0 samples/s\tData 10.263s (10.263s)\tLoss 0.00029 (0.00029)\tAccuracy 0.955 (0.955)\n",
      "Test: [0/1]\tTime 6.318 (6.318)\tLoss 0.0014 (0.0014)\tAccuracy 0.527 (0.527)\n",
      "=> Writing results json to /home/jfeil/IDP/baseline_implementations/microsoft_baseline/pose_estimation/experiment_output/coco/pose_resnet_152/384x288_d256x3_adam_lr1e-3_TransferLearning_2024-01-16_09:50:30/results/keypoints_val2017_results.json\n",
      "=> coco eval results saved to /home/jfeil/IDP/baseline_implementations/microsoft_baseline/pose_estimation/experiment_output/coco/pose_resnet_152/384x288_d256x3_adam_lr1e-3_TransferLearning_2024-01-16_09:50:30/results/keypoints_val2017_results.pkl\n",
      "| Arch | AP | Ap .5 | AP .75 | AP (M) | AP (L) | AR | AR .5 | AR .75 | AR (M) | AR (L) |\n",
      "|---|---|---|---|---|---|---|---|---|---|---|\n",
      "| 384x288_pose_resnet_152_d256d256d256 | 0.473 | 0.891 | 0.470 | 0.473 | -1.000 | 0.520 | 0.900 | 0.533 | 0.520 | -1.000 |\n",
      "=> saving checkpoint to /home/jfeil/IDP/baseline_implementations/microsoft_baseline/pose_estimation/experiment_output/coco/pose_resnet_152/384x288_d256x3_adam_lr1e-3_TransferLearning_2024-01-16_09:50:30\n"
     ]
    },
    {
     "name": "stdout",
     "output_type": "stream",
     "text": [
      "Loading and preparing results...\n",
      "DONE (t=0.00s)\n",
      "creating index...\n",
      "index created!\n",
      "Running per image evaluation...\n",
      "Evaluate annotation type *keypoints*\n",
      "DONE (t=0.01s).\n",
      "Accumulating evaluation results...\n",
      "DONE (t=0.00s).\n",
      " Average Precision  (AP) @[ IoU=0.50:0.95 | area=   all | maxDets= 20 ] = 0.473\n",
      " Average Precision  (AP) @[ IoU=0.50      | area=   all | maxDets= 20 ] = 0.891\n",
      " Average Precision  (AP) @[ IoU=0.75      | area=   all | maxDets= 20 ] = 0.470\n",
      " Average Precision  (AP) @[ IoU=0.50:0.95 | area=medium | maxDets= 20 ] = 0.473\n",
      " Average Precision  (AP) @[ IoU=0.50:0.95 | area= large | maxDets= 20 ] = -1.000\n",
      " Average Recall     (AR) @[ IoU=0.50:0.95 | area=   all | maxDets= 20 ] = 0.520\n",
      " Average Recall     (AR) @[ IoU=0.50      | area=   all | maxDets= 20 ] = 0.900\n",
      " Average Recall     (AR) @[ IoU=0.75      | area=   all | maxDets= 20 ] = 0.533\n",
      " Average Recall     (AR) @[ IoU=0.50:0.95 | area=medium | maxDets= 20 ] = 0.520\n",
      " Average Recall     (AR) @[ IoU=0.50:0.95 | area= large | maxDets= 20 ] = -1.000\n"
     ]
    },
    {
     "name": "stderr",
     "output_type": "stream",
     "text": [
      "Epoch: [80][0/6]\tTime 10.876s (10.876s)\tSpeed 2.9 samples/s\tData 10.552s (10.552s)\tLoss 0.00030 (0.00030)\tAccuracy 0.946 (0.946)\n",
      "Test: [0/1]\tTime 6.356 (6.356)\tLoss 0.0014 (0.0014)\tAccuracy 0.513 (0.513)\n",
      "=> Writing results json to /home/jfeil/IDP/baseline_implementations/microsoft_baseline/pose_estimation/experiment_output/coco/pose_resnet_152/384x288_d256x3_adam_lr1e-3_TransferLearning_2024-01-16_09:50:30/results/keypoints_val2017_results.json\n",
      "=> coco eval results saved to /home/jfeil/IDP/baseline_implementations/microsoft_baseline/pose_estimation/experiment_output/coco/pose_resnet_152/384x288_d256x3_adam_lr1e-3_TransferLearning_2024-01-16_09:50:30/results/keypoints_val2017_results.pkl\n",
      "| Arch | AP | Ap .5 | AP .75 | AP (M) | AP (L) | AR | AR .5 | AR .75 | AR (M) | AR (L) |\n",
      "|---|---|---|---|---|---|---|---|---|---|---|\n",
      "| 384x288_pose_resnet_152_d256d256d256 | 0.465 | 0.850 | 0.441 | 0.465 | -1.000 | 0.527 | 0.900 | 0.533 | 0.527 | -1.000 |\n",
      "=> saving checkpoint to /home/jfeil/IDP/baseline_implementations/microsoft_baseline/pose_estimation/experiment_output/coco/pose_resnet_152/384x288_d256x3_adam_lr1e-3_TransferLearning_2024-01-16_09:50:30\n"
     ]
    },
    {
     "name": "stdout",
     "output_type": "stream",
     "text": [
      "Loading and preparing results...\n",
      "DONE (t=0.00s)\n",
      "creating index...\n",
      "index created!\n",
      "Running per image evaluation...\n",
      "Evaluate annotation type *keypoints*\n",
      "DONE (t=0.01s).\n",
      "Accumulating evaluation results...\n",
      "DONE (t=0.00s).\n",
      " Average Precision  (AP) @[ IoU=0.50:0.95 | area=   all | maxDets= 20 ] = 0.465\n",
      " Average Precision  (AP) @[ IoU=0.50      | area=   all | maxDets= 20 ] = 0.850\n",
      " Average Precision  (AP) @[ IoU=0.75      | area=   all | maxDets= 20 ] = 0.441\n",
      " Average Precision  (AP) @[ IoU=0.50:0.95 | area=medium | maxDets= 20 ] = 0.465\n",
      " Average Precision  (AP) @[ IoU=0.50:0.95 | area= large | maxDets= 20 ] = -1.000\n",
      " Average Recall     (AR) @[ IoU=0.50:0.95 | area=   all | maxDets= 20 ] = 0.527\n",
      " Average Recall     (AR) @[ IoU=0.50      | area=   all | maxDets= 20 ] = 0.900\n",
      " Average Recall     (AR) @[ IoU=0.75      | area=   all | maxDets= 20 ] = 0.533\n",
      " Average Recall     (AR) @[ IoU=0.50:0.95 | area=medium | maxDets= 20 ] = 0.527\n",
      " Average Recall     (AR) @[ IoU=0.50:0.95 | area= large | maxDets= 20 ] = -1.000\n"
     ]
    },
    {
     "name": "stderr",
     "output_type": "stream",
     "text": [
      "Epoch: [81][0/6]\tTime 10.183s (10.183s)\tSpeed 3.1 samples/s\tData 9.924s (9.924s)\tLoss 0.00029 (0.00029)\tAccuracy 0.953 (0.953)\n",
      "Test: [0/1]\tTime 6.309 (6.309)\tLoss 0.0015 (0.0015)\tAccuracy 0.497 (0.497)\n",
      "=> Writing results json to /home/jfeil/IDP/baseline_implementations/microsoft_baseline/pose_estimation/experiment_output/coco/pose_resnet_152/384x288_d256x3_adam_lr1e-3_TransferLearning_2024-01-16_09:50:30/results/keypoints_val2017_results.json\n",
      "=> coco eval results saved to /home/jfeil/IDP/baseline_implementations/microsoft_baseline/pose_estimation/experiment_output/coco/pose_resnet_152/384x288_d256x3_adam_lr1e-3_TransferLearning_2024-01-16_09:50:30/results/keypoints_val2017_results.pkl\n",
      "| Arch | AP | Ap .5 | AP .75 | AP (M) | AP (L) | AR | AR .5 | AR .75 | AR (M) | AR (L) |\n",
      "|---|---|---|---|---|---|---|---|---|---|---|\n",
      "| 384x288_pose_resnet_152_d256d256d256 | 0.397 | 0.749 | 0.355 | 0.397 | -1.000 | 0.480 | 0.833 | 0.433 | 0.480 | -1.000 |\n",
      "=> saving checkpoint to /home/jfeil/IDP/baseline_implementations/microsoft_baseline/pose_estimation/experiment_output/coco/pose_resnet_152/384x288_d256x3_adam_lr1e-3_TransferLearning_2024-01-16_09:50:30\n"
     ]
    },
    {
     "name": "stdout",
     "output_type": "stream",
     "text": [
      "Loading and preparing results...\n",
      "DONE (t=0.00s)\n",
      "creating index...\n",
      "index created!\n",
      "Running per image evaluation...\n",
      "Evaluate annotation type *keypoints*\n",
      "DONE (t=0.01s).\n",
      "Accumulating evaluation results...\n",
      "DONE (t=0.00s).\n",
      " Average Precision  (AP) @[ IoU=0.50:0.95 | area=   all | maxDets= 20 ] = 0.397\n",
      " Average Precision  (AP) @[ IoU=0.50      | area=   all | maxDets= 20 ] = 0.749\n",
      " Average Precision  (AP) @[ IoU=0.75      | area=   all | maxDets= 20 ] = 0.355\n",
      " Average Precision  (AP) @[ IoU=0.50:0.95 | area=medium | maxDets= 20 ] = 0.397\n",
      " Average Precision  (AP) @[ IoU=0.50:0.95 | area= large | maxDets= 20 ] = -1.000\n",
      " Average Recall     (AR) @[ IoU=0.50:0.95 | area=   all | maxDets= 20 ] = 0.480\n",
      " Average Recall     (AR) @[ IoU=0.50      | area=   all | maxDets= 20 ] = 0.833\n",
      " Average Recall     (AR) @[ IoU=0.75      | area=   all | maxDets= 20 ] = 0.433\n",
      " Average Recall     (AR) @[ IoU=0.50:0.95 | area=medium | maxDets= 20 ] = 0.480\n",
      " Average Recall     (AR) @[ IoU=0.50:0.95 | area= large | maxDets= 20 ] = -1.000\n"
     ]
    },
    {
     "name": "stderr",
     "output_type": "stream",
     "text": [
      "Epoch: [82][0/6]\tTime 10.376s (10.376s)\tSpeed 3.1 samples/s\tData 10.116s (10.116s)\tLoss 0.00032 (0.00032)\tAccuracy 0.953 (0.953)\n",
      "Test: [0/1]\tTime 6.397 (6.397)\tLoss 0.0015 (0.0015)\tAccuracy 0.523 (0.523)\n",
      "=> Writing results json to /home/jfeil/IDP/baseline_implementations/microsoft_baseline/pose_estimation/experiment_output/coco/pose_resnet_152/384x288_d256x3_adam_lr1e-3_TransferLearning_2024-01-16_09:50:30/results/keypoints_val2017_results.json\n",
      "=> coco eval results saved to /home/jfeil/IDP/baseline_implementations/microsoft_baseline/pose_estimation/experiment_output/coco/pose_resnet_152/384x288_d256x3_adam_lr1e-3_TransferLearning_2024-01-16_09:50:30/results/keypoints_val2017_results.pkl\n",
      "| Arch | AP | Ap .5 | AP .75 | AP (M) | AP (L) | AR | AR .5 | AR .75 | AR (M) | AR (L) |\n",
      "|---|---|---|---|---|---|---|---|---|---|---|\n",
      "| 384x288_pose_resnet_152_d256d256d256 | 0.420 | 0.895 | 0.360 | 0.420 | -1.000 | 0.497 | 0.933 | 0.467 | 0.497 | -1.000 |\n",
      "=> saving checkpoint to /home/jfeil/IDP/baseline_implementations/microsoft_baseline/pose_estimation/experiment_output/coco/pose_resnet_152/384x288_d256x3_adam_lr1e-3_TransferLearning_2024-01-16_09:50:30\n"
     ]
    },
    {
     "name": "stdout",
     "output_type": "stream",
     "text": [
      "Loading and preparing results...\n",
      "DONE (t=0.00s)\n",
      "creating index...\n",
      "index created!\n",
      "Running per image evaluation...\n",
      "Evaluate annotation type *keypoints*\n",
      "DONE (t=0.01s).\n",
      "Accumulating evaluation results...\n",
      "DONE (t=0.00s).\n",
      " Average Precision  (AP) @[ IoU=0.50:0.95 | area=   all | maxDets= 20 ] = 0.420\n",
      " Average Precision  (AP) @[ IoU=0.50      | area=   all | maxDets= 20 ] = 0.895\n",
      " Average Precision  (AP) @[ IoU=0.75      | area=   all | maxDets= 20 ] = 0.360\n",
      " Average Precision  (AP) @[ IoU=0.50:0.95 | area=medium | maxDets= 20 ] = 0.420\n",
      " Average Precision  (AP) @[ IoU=0.50:0.95 | area= large | maxDets= 20 ] = -1.000\n",
      " Average Recall     (AR) @[ IoU=0.50:0.95 | area=   all | maxDets= 20 ] = 0.497\n",
      " Average Recall     (AR) @[ IoU=0.50      | area=   all | maxDets= 20 ] = 0.933\n",
      " Average Recall     (AR) @[ IoU=0.75      | area=   all | maxDets= 20 ] = 0.467\n",
      " Average Recall     (AR) @[ IoU=0.50:0.95 | area=medium | maxDets= 20 ] = 0.497\n",
      " Average Recall     (AR) @[ IoU=0.50:0.95 | area= large | maxDets= 20 ] = -1.000\n"
     ]
    },
    {
     "name": "stderr",
     "output_type": "stream",
     "text": [
      "Epoch: [83][0/6]\tTime 10.320s (10.320s)\tSpeed 3.1 samples/s\tData 10.066s (10.066s)\tLoss 0.00026 (0.00026)\tAccuracy 0.965 (0.965)\n",
      "Test: [0/1]\tTime 6.364 (6.364)\tLoss 0.0015 (0.0015)\tAccuracy 0.513 (0.513)\n",
      "=> Writing results json to /home/jfeil/IDP/baseline_implementations/microsoft_baseline/pose_estimation/experiment_output/coco/pose_resnet_152/384x288_d256x3_adam_lr1e-3_TransferLearning_2024-01-16_09:50:30/results/keypoints_val2017_results.json\n",
      "=> coco eval results saved to /home/jfeil/IDP/baseline_implementations/microsoft_baseline/pose_estimation/experiment_output/coco/pose_resnet_152/384x288_d256x3_adam_lr1e-3_TransferLearning_2024-01-16_09:50:30/results/keypoints_val2017_results.pkl\n",
      "| Arch | AP | Ap .5 | AP .75 | AP (M) | AP (L) | AR | AR .5 | AR .75 | AR (M) | AR (L) |\n",
      "|---|---|---|---|---|---|---|---|---|---|---|\n",
      "| 384x288_pose_resnet_152_d256d256d256 | 0.421 | 0.845 | 0.404 | 0.421 | -1.000 | 0.497 | 0.900 | 0.500 | 0.497 | -1.000 |\n",
      "=> saving checkpoint to /home/jfeil/IDP/baseline_implementations/microsoft_baseline/pose_estimation/experiment_output/coco/pose_resnet_152/384x288_d256x3_adam_lr1e-3_TransferLearning_2024-01-16_09:50:30\n"
     ]
    },
    {
     "name": "stdout",
     "output_type": "stream",
     "text": [
      "Loading and preparing results...\n",
      "DONE (t=0.00s)\n",
      "creating index...\n",
      "index created!\n",
      "Running per image evaluation...\n",
      "Evaluate annotation type *keypoints*\n",
      "DONE (t=0.01s).\n",
      "Accumulating evaluation results...\n",
      "DONE (t=0.00s).\n",
      " Average Precision  (AP) @[ IoU=0.50:0.95 | area=   all | maxDets= 20 ] = 0.421\n",
      " Average Precision  (AP) @[ IoU=0.50      | area=   all | maxDets= 20 ] = 0.845\n",
      " Average Precision  (AP) @[ IoU=0.75      | area=   all | maxDets= 20 ] = 0.404\n",
      " Average Precision  (AP) @[ IoU=0.50:0.95 | area=medium | maxDets= 20 ] = 0.421\n",
      " Average Precision  (AP) @[ IoU=0.50:0.95 | area= large | maxDets= 20 ] = -1.000\n",
      " Average Recall     (AR) @[ IoU=0.50:0.95 | area=   all | maxDets= 20 ] = 0.497\n",
      " Average Recall     (AR) @[ IoU=0.50      | area=   all | maxDets= 20 ] = 0.900\n",
      " Average Recall     (AR) @[ IoU=0.75      | area=   all | maxDets= 20 ] = 0.500\n",
      " Average Recall     (AR) @[ IoU=0.50:0.95 | area=medium | maxDets= 20 ] = 0.497\n",
      " Average Recall     (AR) @[ IoU=0.50:0.95 | area= large | maxDets= 20 ] = -1.000\n"
     ]
    },
    {
     "name": "stderr",
     "output_type": "stream",
     "text": [
      "Epoch: [84][0/6]\tTime 10.470s (10.470s)\tSpeed 3.1 samples/s\tData 10.226s (10.226s)\tLoss 0.00025 (0.00025)\tAccuracy 0.958 (0.958)\n",
      "Test: [0/1]\tTime 6.385 (6.385)\tLoss 0.0015 (0.0015)\tAccuracy 0.497 (0.497)\n",
      "=> Writing results json to /home/jfeil/IDP/baseline_implementations/microsoft_baseline/pose_estimation/experiment_output/coco/pose_resnet_152/384x288_d256x3_adam_lr1e-3_TransferLearning_2024-01-16_09:50:30/results/keypoints_val2017_results.json\n",
      "=> coco eval results saved to /home/jfeil/IDP/baseline_implementations/microsoft_baseline/pose_estimation/experiment_output/coco/pose_resnet_152/384x288_d256x3_adam_lr1e-3_TransferLearning_2024-01-16_09:50:30/results/keypoints_val2017_results.pkl\n",
      "| Arch | AP | Ap .5 | AP .75 | AP (M) | AP (L) | AR | AR .5 | AR .75 | AR (M) | AR (L) |\n",
      "|---|---|---|---|---|---|---|---|---|---|---|\n",
      "| 384x288_pose_resnet_152_d256d256d256 | 0.430 | 0.791 | 0.420 | 0.430 | -1.000 | 0.510 | 0.867 | 0.500 | 0.510 | -1.000 |\n",
      "=> saving checkpoint to /home/jfeil/IDP/baseline_implementations/microsoft_baseline/pose_estimation/experiment_output/coco/pose_resnet_152/384x288_d256x3_adam_lr1e-3_TransferLearning_2024-01-16_09:50:30\n"
     ]
    },
    {
     "name": "stdout",
     "output_type": "stream",
     "text": [
      "Loading and preparing results...\n",
      "DONE (t=0.00s)\n",
      "creating index...\n",
      "index created!\n",
      "Running per image evaluation...\n",
      "Evaluate annotation type *keypoints*\n",
      "DONE (t=0.01s).\n",
      "Accumulating evaluation results...\n",
      "DONE (t=0.00s).\n",
      " Average Precision  (AP) @[ IoU=0.50:0.95 | area=   all | maxDets= 20 ] = 0.430\n",
      " Average Precision  (AP) @[ IoU=0.50      | area=   all | maxDets= 20 ] = 0.791\n",
      " Average Precision  (AP) @[ IoU=0.75      | area=   all | maxDets= 20 ] = 0.420\n",
      " Average Precision  (AP) @[ IoU=0.50:0.95 | area=medium | maxDets= 20 ] = 0.430\n",
      " Average Precision  (AP) @[ IoU=0.50:0.95 | area= large | maxDets= 20 ] = -1.000\n",
      " Average Recall     (AR) @[ IoU=0.50:0.95 | area=   all | maxDets= 20 ] = 0.510\n",
      " Average Recall     (AR) @[ IoU=0.50      | area=   all | maxDets= 20 ] = 0.867\n",
      " Average Recall     (AR) @[ IoU=0.75      | area=   all | maxDets= 20 ] = 0.500\n",
      " Average Recall     (AR) @[ IoU=0.50:0.95 | area=medium | maxDets= 20 ] = 0.510\n",
      " Average Recall     (AR) @[ IoU=0.50:0.95 | area= large | maxDets= 20 ] = -1.000\n"
     ]
    },
    {
     "name": "stderr",
     "output_type": "stream",
     "text": [
      "Epoch: [85][0/6]\tTime 10.564s (10.564s)\tSpeed 3.0 samples/s\tData 10.243s (10.243s)\tLoss 0.00034 (0.00034)\tAccuracy 0.923 (0.923)\n",
      "Test: [0/1]\tTime 6.358 (6.358)\tLoss 0.0015 (0.0015)\tAccuracy 0.517 (0.517)\n",
      "=> Writing results json to /home/jfeil/IDP/baseline_implementations/microsoft_baseline/pose_estimation/experiment_output/coco/pose_resnet_152/384x288_d256x3_adam_lr1e-3_TransferLearning_2024-01-16_09:50:30/results/keypoints_val2017_results.json\n",
      "=> coco eval results saved to /home/jfeil/IDP/baseline_implementations/microsoft_baseline/pose_estimation/experiment_output/coco/pose_resnet_152/384x288_d256x3_adam_lr1e-3_TransferLearning_2024-01-16_09:50:30/results/keypoints_val2017_results.pkl\n",
      "| Arch | AP | Ap .5 | AP .75 | AP (M) | AP (L) | AR | AR .5 | AR .75 | AR (M) | AR (L) |\n",
      "|---|---|---|---|---|---|---|---|---|---|---|\n",
      "| 384x288_pose_resnet_152_d256d256d256 | 0.422 | 0.792 | 0.411 | 0.422 | -1.000 | 0.500 | 0.867 | 0.500 | 0.500 | -1.000 |\n",
      "=> saving checkpoint to /home/jfeil/IDP/baseline_implementations/microsoft_baseline/pose_estimation/experiment_output/coco/pose_resnet_152/384x288_d256x3_adam_lr1e-3_TransferLearning_2024-01-16_09:50:30\n"
     ]
    },
    {
     "name": "stdout",
     "output_type": "stream",
     "text": [
      "Loading and preparing results...\n",
      "DONE (t=0.00s)\n",
      "creating index...\n",
      "index created!\n",
      "Running per image evaluation...\n",
      "Evaluate annotation type *keypoints*\n",
      "DONE (t=0.01s).\n",
      "Accumulating evaluation results...\n",
      "DONE (t=0.00s).\n",
      " Average Precision  (AP) @[ IoU=0.50:0.95 | area=   all | maxDets= 20 ] = 0.422\n",
      " Average Precision  (AP) @[ IoU=0.50      | area=   all | maxDets= 20 ] = 0.792\n",
      " Average Precision  (AP) @[ IoU=0.75      | area=   all | maxDets= 20 ] = 0.411\n",
      " Average Precision  (AP) @[ IoU=0.50:0.95 | area=medium | maxDets= 20 ] = 0.422\n",
      " Average Precision  (AP) @[ IoU=0.50:0.95 | area= large | maxDets= 20 ] = -1.000\n",
      " Average Recall     (AR) @[ IoU=0.50:0.95 | area=   all | maxDets= 20 ] = 0.500\n",
      " Average Recall     (AR) @[ IoU=0.50      | area=   all | maxDets= 20 ] = 0.867\n",
      " Average Recall     (AR) @[ IoU=0.75      | area=   all | maxDets= 20 ] = 0.500\n",
      " Average Recall     (AR) @[ IoU=0.50:0.95 | area=medium | maxDets= 20 ] = 0.500\n",
      " Average Recall     (AR) @[ IoU=0.50:0.95 | area= large | maxDets= 20 ] = -1.000\n"
     ]
    },
    {
     "name": "stderr",
     "output_type": "stream",
     "text": [
      "Epoch: [86][0/6]\tTime 10.330s (10.330s)\tSpeed 3.1 samples/s\tData 10.078s (10.078s)\tLoss 0.00020 (0.00020)\tAccuracy 0.971 (0.971)\n",
      "Test: [0/1]\tTime 6.358 (6.358)\tLoss 0.0014 (0.0014)\tAccuracy 0.537 (0.537)\n",
      "=> Writing results json to /home/jfeil/IDP/baseline_implementations/microsoft_baseline/pose_estimation/experiment_output/coco/pose_resnet_152/384x288_d256x3_adam_lr1e-3_TransferLearning_2024-01-16_09:50:30/results/keypoints_val2017_results.json\n",
      "=> coco eval results saved to /home/jfeil/IDP/baseline_implementations/microsoft_baseline/pose_estimation/experiment_output/coco/pose_resnet_152/384x288_d256x3_adam_lr1e-3_TransferLearning_2024-01-16_09:50:30/results/keypoints_val2017_results.pkl\n",
      "| Arch | AP | Ap .5 | AP .75 | AP (M) | AP (L) | AR | AR .5 | AR .75 | AR (M) | AR (L) |\n",
      "|---|---|---|---|---|---|---|---|---|---|---|\n",
      "| 384x288_pose_resnet_152_d256d256d256 | 0.446 | 0.949 | 0.455 | 0.446 | -1.000 | 0.507 | 0.967 | 0.533 | 0.507 | -1.000 |\n",
      "=> saving checkpoint to /home/jfeil/IDP/baseline_implementations/microsoft_baseline/pose_estimation/experiment_output/coco/pose_resnet_152/384x288_d256x3_adam_lr1e-3_TransferLearning_2024-01-16_09:50:30\n"
     ]
    },
    {
     "name": "stdout",
     "output_type": "stream",
     "text": [
      "Loading and preparing results...\n",
      "DONE (t=0.00s)\n",
      "creating index...\n",
      "index created!\n",
      "Running per image evaluation...\n",
      "Evaluate annotation type *keypoints*\n",
      "DONE (t=0.01s).\n",
      "Accumulating evaluation results...\n",
      "DONE (t=0.00s).\n",
      " Average Precision  (AP) @[ IoU=0.50:0.95 | area=   all | maxDets= 20 ] = 0.446\n",
      " Average Precision  (AP) @[ IoU=0.50      | area=   all | maxDets= 20 ] = 0.949\n",
      " Average Precision  (AP) @[ IoU=0.75      | area=   all | maxDets= 20 ] = 0.455\n",
      " Average Precision  (AP) @[ IoU=0.50:0.95 | area=medium | maxDets= 20 ] = 0.446\n",
      " Average Precision  (AP) @[ IoU=0.50:0.95 | area= large | maxDets= 20 ] = -1.000\n",
      " Average Recall     (AR) @[ IoU=0.50:0.95 | area=   all | maxDets= 20 ] = 0.507\n",
      " Average Recall     (AR) @[ IoU=0.50      | area=   all | maxDets= 20 ] = 0.967\n",
      " Average Recall     (AR) @[ IoU=0.75      | area=   all | maxDets= 20 ] = 0.533\n",
      " Average Recall     (AR) @[ IoU=0.50:0.95 | area=medium | maxDets= 20 ] = 0.507\n",
      " Average Recall     (AR) @[ IoU=0.50:0.95 | area= large | maxDets= 20 ] = -1.000\n"
     ]
    },
    {
     "name": "stderr",
     "output_type": "stream",
     "text": [
      "Epoch: [87][0/6]\tTime 9.937s (9.937s)\tSpeed 3.2 samples/s\tData 9.681s (9.681s)\tLoss 0.00020 (0.00020)\tAccuracy 0.959 (0.959)\n",
      "Test: [0/1]\tTime 6.289 (6.289)\tLoss 0.0015 (0.0015)\tAccuracy 0.517 (0.517)\n",
      "=> Writing results json to /home/jfeil/IDP/baseline_implementations/microsoft_baseline/pose_estimation/experiment_output/coco/pose_resnet_152/384x288_d256x3_adam_lr1e-3_TransferLearning_2024-01-16_09:50:30/results/keypoints_val2017_results.json\n",
      "=> coco eval results saved to /home/jfeil/IDP/baseline_implementations/microsoft_baseline/pose_estimation/experiment_output/coco/pose_resnet_152/384x288_d256x3_adam_lr1e-3_TransferLearning_2024-01-16_09:50:30/results/keypoints_val2017_results.pkl\n",
      "| Arch | AP | Ap .5 | AP .75 | AP (M) | AP (L) | AR | AR .5 | AR .75 | AR (M) | AR (L) |\n",
      "|---|---|---|---|---|---|---|---|---|---|---|\n",
      "| 384x288_pose_resnet_152_d256d256d256 | 0.414 | 0.854 | 0.392 | 0.414 | -1.000 | 0.483 | 0.900 | 0.467 | 0.483 | -1.000 |\n",
      "=> saving checkpoint to /home/jfeil/IDP/baseline_implementations/microsoft_baseline/pose_estimation/experiment_output/coco/pose_resnet_152/384x288_d256x3_adam_lr1e-3_TransferLearning_2024-01-16_09:50:30\n"
     ]
    },
    {
     "name": "stdout",
     "output_type": "stream",
     "text": [
      "Loading and preparing results...\n",
      "DONE (t=0.00s)\n",
      "creating index...\n",
      "index created!\n",
      "Running per image evaluation...\n",
      "Evaluate annotation type *keypoints*\n",
      "DONE (t=0.01s).\n",
      "Accumulating evaluation results...\n",
      "DONE (t=0.00s).\n",
      " Average Precision  (AP) @[ IoU=0.50:0.95 | area=   all | maxDets= 20 ] = 0.414\n",
      " Average Precision  (AP) @[ IoU=0.50      | area=   all | maxDets= 20 ] = 0.854\n",
      " Average Precision  (AP) @[ IoU=0.75      | area=   all | maxDets= 20 ] = 0.392\n",
      " Average Precision  (AP) @[ IoU=0.50:0.95 | area=medium | maxDets= 20 ] = 0.414\n",
      " Average Precision  (AP) @[ IoU=0.50:0.95 | area= large | maxDets= 20 ] = -1.000\n",
      " Average Recall     (AR) @[ IoU=0.50:0.95 | area=   all | maxDets= 20 ] = 0.483\n",
      " Average Recall     (AR) @[ IoU=0.50      | area=   all | maxDets= 20 ] = 0.900\n",
      " Average Recall     (AR) @[ IoU=0.75      | area=   all | maxDets= 20 ] = 0.467\n",
      " Average Recall     (AR) @[ IoU=0.50:0.95 | area=medium | maxDets= 20 ] = 0.483\n",
      " Average Recall     (AR) @[ IoU=0.50:0.95 | area= large | maxDets= 20 ] = -1.000\n"
     ]
    },
    {
     "name": "stderr",
     "output_type": "stream",
     "text": [
      "Epoch: [88][0/6]\tTime 10.183s (10.183s)\tSpeed 3.1 samples/s\tData 9.905s (9.905s)\tLoss 0.00021 (0.00021)\tAccuracy 0.978 (0.978)\n",
      "Test: [0/1]\tTime 6.315 (6.315)\tLoss 0.0015 (0.0015)\tAccuracy 0.493 (0.493)\n",
      "=> Writing results json to /home/jfeil/IDP/baseline_implementations/microsoft_baseline/pose_estimation/experiment_output/coco/pose_resnet_152/384x288_d256x3_adam_lr1e-3_TransferLearning_2024-01-16_09:50:30/results/keypoints_val2017_results.json\n",
      "=> coco eval results saved to /home/jfeil/IDP/baseline_implementations/microsoft_baseline/pose_estimation/experiment_output/coco/pose_resnet_152/384x288_d256x3_adam_lr1e-3_TransferLearning_2024-01-16_09:50:30/results/keypoints_val2017_results.pkl\n",
      "| Arch | AP | Ap .5 | AP .75 | AP (M) | AP (L) | AR | AR .5 | AR .75 | AR (M) | AR (L) |\n",
      "|---|---|---|---|---|---|---|---|---|---|---|\n",
      "| 384x288_pose_resnet_152_d256d256d256 | 0.400 | 0.842 | 0.354 | 0.400 | -1.000 | 0.487 | 0.900 | 0.433 | 0.487 | -1.000 |\n",
      "=> saving checkpoint to /home/jfeil/IDP/baseline_implementations/microsoft_baseline/pose_estimation/experiment_output/coco/pose_resnet_152/384x288_d256x3_adam_lr1e-3_TransferLearning_2024-01-16_09:50:30\n"
     ]
    },
    {
     "name": "stdout",
     "output_type": "stream",
     "text": [
      "Loading and preparing results...\n",
      "DONE (t=0.00s)\n",
      "creating index...\n",
      "index created!\n",
      "Running per image evaluation...\n",
      "Evaluate annotation type *keypoints*\n",
      "DONE (t=0.01s).\n",
      "Accumulating evaluation results...\n",
      "DONE (t=0.00s).\n",
      " Average Precision  (AP) @[ IoU=0.50:0.95 | area=   all | maxDets= 20 ] = 0.400\n",
      " Average Precision  (AP) @[ IoU=0.50      | area=   all | maxDets= 20 ] = 0.842\n",
      " Average Precision  (AP) @[ IoU=0.75      | area=   all | maxDets= 20 ] = 0.354\n",
      " Average Precision  (AP) @[ IoU=0.50:0.95 | area=medium | maxDets= 20 ] = 0.400\n",
      " Average Precision  (AP) @[ IoU=0.50:0.95 | area= large | maxDets= 20 ] = -1.000\n",
      " Average Recall     (AR) @[ IoU=0.50:0.95 | area=   all | maxDets= 20 ] = 0.487\n",
      " Average Recall     (AR) @[ IoU=0.50      | area=   all | maxDets= 20 ] = 0.900\n",
      " Average Recall     (AR) @[ IoU=0.75      | area=   all | maxDets= 20 ] = 0.433\n",
      " Average Recall     (AR) @[ IoU=0.50:0.95 | area=medium | maxDets= 20 ] = 0.487\n",
      " Average Recall     (AR) @[ IoU=0.50:0.95 | area= large | maxDets= 20 ] = -1.000\n"
     ]
    },
    {
     "name": "stderr",
     "output_type": "stream",
     "text": [
      "Epoch: [89][0/6]\tTime 10.037s (10.037s)\tSpeed 3.2 samples/s\tData 9.773s (9.773s)\tLoss 0.00023 (0.00023)\tAccuracy 0.964 (0.964)\n",
      "Test: [0/1]\tTime 6.302 (6.302)\tLoss 0.0015 (0.0015)\tAccuracy 0.500 (0.500)\n",
      "=> Writing results json to /home/jfeil/IDP/baseline_implementations/microsoft_baseline/pose_estimation/experiment_output/coco/pose_resnet_152/384x288_d256x3_adam_lr1e-3_TransferLearning_2024-01-16_09:50:30/results/keypoints_val2017_results.json\n",
      "=> coco eval results saved to /home/jfeil/IDP/baseline_implementations/microsoft_baseline/pose_estimation/experiment_output/coco/pose_resnet_152/384x288_d256x3_adam_lr1e-3_TransferLearning_2024-01-16_09:50:30/results/keypoints_val2017_results.pkl\n",
      "| Arch | AP | Ap .5 | AP .75 | AP (M) | AP (L) | AR | AR .5 | AR .75 | AR (M) | AR (L) |\n",
      "|---|---|---|---|---|---|---|---|---|---|---|\n",
      "| 384x288_pose_resnet_152_d256d256d256 | 0.399 | 0.840 | 0.351 | 0.399 | -1.000 | 0.490 | 0.900 | 0.433 | 0.490 | -1.000 |\n",
      "=> saving checkpoint to /home/jfeil/IDP/baseline_implementations/microsoft_baseline/pose_estimation/experiment_output/coco/pose_resnet_152/384x288_d256x3_adam_lr1e-3_TransferLearning_2024-01-16_09:50:30\n"
     ]
    },
    {
     "name": "stdout",
     "output_type": "stream",
     "text": [
      "Loading and preparing results...\n",
      "DONE (t=0.00s)\n",
      "creating index...\n",
      "index created!\n",
      "Running per image evaluation...\n",
      "Evaluate annotation type *keypoints*\n",
      "DONE (t=0.01s).\n",
      "Accumulating evaluation results...\n",
      "DONE (t=0.00s).\n",
      " Average Precision  (AP) @[ IoU=0.50:0.95 | area=   all | maxDets= 20 ] = 0.399\n",
      " Average Precision  (AP) @[ IoU=0.50      | area=   all | maxDets= 20 ] = 0.840\n",
      " Average Precision  (AP) @[ IoU=0.75      | area=   all | maxDets= 20 ] = 0.351\n",
      " Average Precision  (AP) @[ IoU=0.50:0.95 | area=medium | maxDets= 20 ] = 0.399\n",
      " Average Precision  (AP) @[ IoU=0.50:0.95 | area= large | maxDets= 20 ] = -1.000\n",
      " Average Recall     (AR) @[ IoU=0.50:0.95 | area=   all | maxDets= 20 ] = 0.490\n",
      " Average Recall     (AR) @[ IoU=0.50      | area=   all | maxDets= 20 ] = 0.900\n",
      " Average Recall     (AR) @[ IoU=0.75      | area=   all | maxDets= 20 ] = 0.433\n",
      " Average Recall     (AR) @[ IoU=0.50:0.95 | area=medium | maxDets= 20 ] = 0.490\n",
      " Average Recall     (AR) @[ IoU=0.50:0.95 | area= large | maxDets= 20 ] = -1.000\n"
     ]
    },
    {
     "name": "stderr",
     "output_type": "stream",
     "text": [
      "Epoch: [90][0/6]\tTime 10.272s (10.272s)\tSpeed 3.1 samples/s\tData 10.028s (10.028s)\tLoss 0.00020 (0.00020)\tAccuracy 0.990 (0.990)\n",
      "Test: [0/1]\tTime 6.303 (6.303)\tLoss 0.0015 (0.0015)\tAccuracy 0.503 (0.503)\n",
      "=> Writing results json to /home/jfeil/IDP/baseline_implementations/microsoft_baseline/pose_estimation/experiment_output/coco/pose_resnet_152/384x288_d256x3_adam_lr1e-3_TransferLearning_2024-01-16_09:50:30/results/keypoints_val2017_results.json\n",
      "=> coco eval results saved to /home/jfeil/IDP/baseline_implementations/microsoft_baseline/pose_estimation/experiment_output/coco/pose_resnet_152/384x288_d256x3_adam_lr1e-3_TransferLearning_2024-01-16_09:50:30/results/keypoints_val2017_results.pkl\n",
      "| Arch | AP | Ap .5 | AP .75 | AP (M) | AP (L) | AR | AR .5 | AR .75 | AR (M) | AR (L) |\n",
      "|---|---|---|---|---|---|---|---|---|---|---|\n",
      "| 384x288_pose_resnet_152_d256d256d256 | 0.410 | 0.845 | 0.378 | 0.410 | -1.000 | 0.500 | 0.900 | 0.467 | 0.500 | -1.000 |\n",
      "=> saving checkpoint to /home/jfeil/IDP/baseline_implementations/microsoft_baseline/pose_estimation/experiment_output/coco/pose_resnet_152/384x288_d256x3_adam_lr1e-3_TransferLearning_2024-01-16_09:50:30\n"
     ]
    },
    {
     "name": "stdout",
     "output_type": "stream",
     "text": [
      "Loading and preparing results...\n",
      "DONE (t=0.00s)\n",
      "creating index...\n",
      "index created!\n",
      "Running per image evaluation...\n",
      "Evaluate annotation type *keypoints*\n",
      "DONE (t=0.01s).\n",
      "Accumulating evaluation results...\n",
      "DONE (t=0.00s).\n",
      " Average Precision  (AP) @[ IoU=0.50:0.95 | area=   all | maxDets= 20 ] = 0.410\n",
      " Average Precision  (AP) @[ IoU=0.50      | area=   all | maxDets= 20 ] = 0.845\n",
      " Average Precision  (AP) @[ IoU=0.75      | area=   all | maxDets= 20 ] = 0.378\n",
      " Average Precision  (AP) @[ IoU=0.50:0.95 | area=medium | maxDets= 20 ] = 0.410\n",
      " Average Precision  (AP) @[ IoU=0.50:0.95 | area= large | maxDets= 20 ] = -1.000\n",
      " Average Recall     (AR) @[ IoU=0.50:0.95 | area=   all | maxDets= 20 ] = 0.500\n",
      " Average Recall     (AR) @[ IoU=0.50      | area=   all | maxDets= 20 ] = 0.900\n",
      " Average Recall     (AR) @[ IoU=0.75      | area=   all | maxDets= 20 ] = 0.467\n",
      " Average Recall     (AR) @[ IoU=0.50:0.95 | area=medium | maxDets= 20 ] = 0.500\n",
      " Average Recall     (AR) @[ IoU=0.50:0.95 | area= large | maxDets= 20 ] = -1.000\n"
     ]
    },
    {
     "name": "stderr",
     "output_type": "stream",
     "text": [
      "Epoch: [91][0/6]\tTime 9.974s (9.974s)\tSpeed 3.2 samples/s\tData 9.726s (9.726s)\tLoss 0.00021 (0.00021)\tAccuracy 0.991 (0.991)\n",
      "Test: [0/1]\tTime 6.304 (6.304)\tLoss 0.0015 (0.0015)\tAccuracy 0.513 (0.513)\n",
      "=> Writing results json to /home/jfeil/IDP/baseline_implementations/microsoft_baseline/pose_estimation/experiment_output/coco/pose_resnet_152/384x288_d256x3_adam_lr1e-3_TransferLearning_2024-01-16_09:50:30/results/keypoints_val2017_results.json\n",
      "=> coco eval results saved to /home/jfeil/IDP/baseline_implementations/microsoft_baseline/pose_estimation/experiment_output/coco/pose_resnet_152/384x288_d256x3_adam_lr1e-3_TransferLearning_2024-01-16_09:50:30/results/keypoints_val2017_results.pkl\n",
      "| Arch | AP | Ap .5 | AP .75 | AP (M) | AP (L) | AR | AR .5 | AR .75 | AR (M) | AR (L) |\n",
      "|---|---|---|---|---|---|---|---|---|---|---|\n",
      "| 384x288_pose_resnet_152_d256d256d256 | 0.424 | 0.844 | 0.394 | 0.424 | -1.000 | 0.503 | 0.900 | 0.467 | 0.503 | -1.000 |\n",
      "=> saving checkpoint to /home/jfeil/IDP/baseline_implementations/microsoft_baseline/pose_estimation/experiment_output/coco/pose_resnet_152/384x288_d256x3_adam_lr1e-3_TransferLearning_2024-01-16_09:50:30\n"
     ]
    },
    {
     "name": "stdout",
     "output_type": "stream",
     "text": [
      "Loading and preparing results...\n",
      "DONE (t=0.00s)\n",
      "creating index...\n",
      "index created!\n",
      "Running per image evaluation...\n",
      "Evaluate annotation type *keypoints*\n",
      "DONE (t=0.01s).\n",
      "Accumulating evaluation results...\n",
      "DONE (t=0.00s).\n",
      " Average Precision  (AP) @[ IoU=0.50:0.95 | area=   all | maxDets= 20 ] = 0.424\n",
      " Average Precision  (AP) @[ IoU=0.50      | area=   all | maxDets= 20 ] = 0.844\n",
      " Average Precision  (AP) @[ IoU=0.75      | area=   all | maxDets= 20 ] = 0.394\n",
      " Average Precision  (AP) @[ IoU=0.50:0.95 | area=medium | maxDets= 20 ] = 0.424\n",
      " Average Precision  (AP) @[ IoU=0.50:0.95 | area= large | maxDets= 20 ] = -1.000\n",
      " Average Recall     (AR) @[ IoU=0.50:0.95 | area=   all | maxDets= 20 ] = 0.503\n",
      " Average Recall     (AR) @[ IoU=0.50      | area=   all | maxDets= 20 ] = 0.900\n",
      " Average Recall     (AR) @[ IoU=0.75      | area=   all | maxDets= 20 ] = 0.467\n",
      " Average Recall     (AR) @[ IoU=0.50:0.95 | area=medium | maxDets= 20 ] = 0.503\n",
      " Average Recall     (AR) @[ IoU=0.50:0.95 | area= large | maxDets= 20 ] = -1.000\n"
     ]
    },
    {
     "name": "stderr",
     "output_type": "stream",
     "text": [
      "Epoch: [92][0/6]\tTime 10.146s (10.146s)\tSpeed 3.2 samples/s\tData 9.891s (9.891s)\tLoss 0.00025 (0.00025)\tAccuracy 0.965 (0.965)\n",
      "Test: [0/1]\tTime 6.315 (6.315)\tLoss 0.0015 (0.0015)\tAccuracy 0.520 (0.520)\n",
      "=> Writing results json to /home/jfeil/IDP/baseline_implementations/microsoft_baseline/pose_estimation/experiment_output/coco/pose_resnet_152/384x288_d256x3_adam_lr1e-3_TransferLearning_2024-01-16_09:50:30/results/keypoints_val2017_results.json\n",
      "=> coco eval results saved to /home/jfeil/IDP/baseline_implementations/microsoft_baseline/pose_estimation/experiment_output/coco/pose_resnet_152/384x288_d256x3_adam_lr1e-3_TransferLearning_2024-01-16_09:50:30/results/keypoints_val2017_results.pkl\n",
      "| Arch | AP | Ap .5 | AP .75 | AP (M) | AP (L) | AR | AR .5 | AR .75 | AR (M) | AR (L) |\n",
      "|---|---|---|---|---|---|---|---|---|---|---|\n",
      "| 384x288_pose_resnet_152_d256d256d256 | 0.436 | 0.847 | 0.422 | 0.436 | -1.000 | 0.517 | 0.900 | 0.500 | 0.517 | -1.000 |\n",
      "=> saving checkpoint to /home/jfeil/IDP/baseline_implementations/microsoft_baseline/pose_estimation/experiment_output/coco/pose_resnet_152/384x288_d256x3_adam_lr1e-3_TransferLearning_2024-01-16_09:50:30\n"
     ]
    },
    {
     "name": "stdout",
     "output_type": "stream",
     "text": [
      "Loading and preparing results...\n",
      "DONE (t=0.00s)\n",
      "creating index...\n",
      "index created!\n",
      "Running per image evaluation...\n",
      "Evaluate annotation type *keypoints*\n",
      "DONE (t=0.01s).\n",
      "Accumulating evaluation results...\n",
      "DONE (t=0.00s).\n",
      " Average Precision  (AP) @[ IoU=0.50:0.95 | area=   all | maxDets= 20 ] = 0.436\n",
      " Average Precision  (AP) @[ IoU=0.50      | area=   all | maxDets= 20 ] = 0.847\n",
      " Average Precision  (AP) @[ IoU=0.75      | area=   all | maxDets= 20 ] = 0.422\n",
      " Average Precision  (AP) @[ IoU=0.50:0.95 | area=medium | maxDets= 20 ] = 0.436\n",
      " Average Precision  (AP) @[ IoU=0.50:0.95 | area= large | maxDets= 20 ] = -1.000\n",
      " Average Recall     (AR) @[ IoU=0.50:0.95 | area=   all | maxDets= 20 ] = 0.517\n",
      " Average Recall     (AR) @[ IoU=0.50      | area=   all | maxDets= 20 ] = 0.900\n",
      " Average Recall     (AR) @[ IoU=0.75      | area=   all | maxDets= 20 ] = 0.500\n",
      " Average Recall     (AR) @[ IoU=0.50:0.95 | area=medium | maxDets= 20 ] = 0.517\n",
      " Average Recall     (AR) @[ IoU=0.50:0.95 | area= large | maxDets= 20 ] = -1.000\n"
     ]
    },
    {
     "name": "stderr",
     "output_type": "stream",
     "text": [
      "Epoch: [93][0/6]\tTime 10.060s (10.060s)\tSpeed 3.2 samples/s\tData 9.808s (9.808s)\tLoss 0.00026 (0.00026)\tAccuracy 0.967 (0.967)\n",
      "Test: [0/1]\tTime 6.241 (6.241)\tLoss 0.0015 (0.0015)\tAccuracy 0.517 (0.517)\n",
      "=> Writing results json to /home/jfeil/IDP/baseline_implementations/microsoft_baseline/pose_estimation/experiment_output/coco/pose_resnet_152/384x288_d256x3_adam_lr1e-3_TransferLearning_2024-01-16_09:50:30/results/keypoints_val2017_results.json\n",
      "=> coco eval results saved to /home/jfeil/IDP/baseline_implementations/microsoft_baseline/pose_estimation/experiment_output/coco/pose_resnet_152/384x288_d256x3_adam_lr1e-3_TransferLearning_2024-01-16_09:50:30/results/keypoints_val2017_results.pkl\n",
      "| Arch | AP | Ap .5 | AP .75 | AP (M) | AP (L) | AR | AR .5 | AR .75 | AR (M) | AR (L) |\n",
      "|---|---|---|---|---|---|---|---|---|---|---|\n",
      "| 384x288_pose_resnet_152_d256d256d256 | 0.437 | 0.847 | 0.425 | 0.437 | -1.000 | 0.517 | 0.900 | 0.500 | 0.517 | -1.000 |\n",
      "=> saving checkpoint to /home/jfeil/IDP/baseline_implementations/microsoft_baseline/pose_estimation/experiment_output/coco/pose_resnet_152/384x288_d256x3_adam_lr1e-3_TransferLearning_2024-01-16_09:50:30\n"
     ]
    },
    {
     "name": "stdout",
     "output_type": "stream",
     "text": [
      "Loading and preparing results...\n",
      "DONE (t=0.00s)\n",
      "creating index...\n",
      "index created!\n",
      "Running per image evaluation...\n",
      "Evaluate annotation type *keypoints*\n",
      "DONE (t=0.01s).\n",
      "Accumulating evaluation results...\n",
      "DONE (t=0.00s).\n",
      " Average Precision  (AP) @[ IoU=0.50:0.95 | area=   all | maxDets= 20 ] = 0.437\n",
      " Average Precision  (AP) @[ IoU=0.50      | area=   all | maxDets= 20 ] = 0.847\n",
      " Average Precision  (AP) @[ IoU=0.75      | area=   all | maxDets= 20 ] = 0.425\n",
      " Average Precision  (AP) @[ IoU=0.50:0.95 | area=medium | maxDets= 20 ] = 0.437\n",
      " Average Precision  (AP) @[ IoU=0.50:0.95 | area= large | maxDets= 20 ] = -1.000\n",
      " Average Recall     (AR) @[ IoU=0.50:0.95 | area=   all | maxDets= 20 ] = 0.517\n",
      " Average Recall     (AR) @[ IoU=0.50      | area=   all | maxDets= 20 ] = 0.900\n",
      " Average Recall     (AR) @[ IoU=0.75      | area=   all | maxDets= 20 ] = 0.500\n",
      " Average Recall     (AR) @[ IoU=0.50:0.95 | area=medium | maxDets= 20 ] = 0.517\n",
      " Average Recall     (AR) @[ IoU=0.50:0.95 | area= large | maxDets= 20 ] = -1.000\n"
     ]
    },
    {
     "name": "stderr",
     "output_type": "stream",
     "text": [
      "Epoch: [94][0/6]\tTime 10.284s (10.284s)\tSpeed 3.1 samples/s\tData 10.041s (10.041s)\tLoss 0.00019 (0.00019)\tAccuracy 0.978 (0.978)\n",
      "Test: [0/1]\tTime 6.331 (6.331)\tLoss 0.0015 (0.0015)\tAccuracy 0.507 (0.507)\n",
      "=> Writing results json to /home/jfeil/IDP/baseline_implementations/microsoft_baseline/pose_estimation/experiment_output/coco/pose_resnet_152/384x288_d256x3_adam_lr1e-3_TransferLearning_2024-01-16_09:50:30/results/keypoints_val2017_results.json\n",
      "=> coco eval results saved to /home/jfeil/IDP/baseline_implementations/microsoft_baseline/pose_estimation/experiment_output/coco/pose_resnet_152/384x288_d256x3_adam_lr1e-3_TransferLearning_2024-01-16_09:50:30/results/keypoints_val2017_results.pkl\n",
      "| Arch | AP | Ap .5 | AP .75 | AP (M) | AP (L) | AR | AR .5 | AR .75 | AR (M) | AR (L) |\n",
      "|---|---|---|---|---|---|---|---|---|---|---|\n",
      "| 384x288_pose_resnet_152_d256d256d256 | 0.429 | 0.844 | 0.422 | 0.429 | -1.000 | 0.503 | 0.900 | 0.500 | 0.503 | -1.000 |\n",
      "=> saving checkpoint to /home/jfeil/IDP/baseline_implementations/microsoft_baseline/pose_estimation/experiment_output/coco/pose_resnet_152/384x288_d256x3_adam_lr1e-3_TransferLearning_2024-01-16_09:50:30\n"
     ]
    },
    {
     "name": "stdout",
     "output_type": "stream",
     "text": [
      "Loading and preparing results...\n",
      "DONE (t=0.00s)\n",
      "creating index...\n",
      "index created!\n",
      "Running per image evaluation...\n",
      "Evaluate annotation type *keypoints*\n",
      "DONE (t=0.01s).\n",
      "Accumulating evaluation results...\n",
      "DONE (t=0.00s).\n",
      " Average Precision  (AP) @[ IoU=0.50:0.95 | area=   all | maxDets= 20 ] = 0.429\n",
      " Average Precision  (AP) @[ IoU=0.50      | area=   all | maxDets= 20 ] = 0.844\n",
      " Average Precision  (AP) @[ IoU=0.75      | area=   all | maxDets= 20 ] = 0.422\n",
      " Average Precision  (AP) @[ IoU=0.50:0.95 | area=medium | maxDets= 20 ] = 0.429\n",
      " Average Precision  (AP) @[ IoU=0.50:0.95 | area= large | maxDets= 20 ] = -1.000\n",
      " Average Recall     (AR) @[ IoU=0.50:0.95 | area=   all | maxDets= 20 ] = 0.503\n",
      " Average Recall     (AR) @[ IoU=0.50      | area=   all | maxDets= 20 ] = 0.900\n",
      " Average Recall     (AR) @[ IoU=0.75      | area=   all | maxDets= 20 ] = 0.500\n",
      " Average Recall     (AR) @[ IoU=0.50:0.95 | area=medium | maxDets= 20 ] = 0.503\n",
      " Average Recall     (AR) @[ IoU=0.50:0.95 | area= large | maxDets= 20 ] = -1.000\n"
     ]
    },
    {
     "name": "stderr",
     "output_type": "stream",
     "text": [
      "Epoch: [95][0/6]\tTime 9.760s (9.760s)\tSpeed 3.3 samples/s\tData 9.512s (9.512s)\tLoss 0.00019 (0.00019)\tAccuracy 0.991 (0.991)\n",
      "Test: [0/1]\tTime 6.287 (6.287)\tLoss 0.0015 (0.0015)\tAccuracy 0.510 (0.510)\n",
      "=> Writing results json to /home/jfeil/IDP/baseline_implementations/microsoft_baseline/pose_estimation/experiment_output/coco/pose_resnet_152/384x288_d256x3_adam_lr1e-3_TransferLearning_2024-01-16_09:50:30/results/keypoints_val2017_results.json\n",
      "=> coco eval results saved to /home/jfeil/IDP/baseline_implementations/microsoft_baseline/pose_estimation/experiment_output/coco/pose_resnet_152/384x288_d256x3_adam_lr1e-3_TransferLearning_2024-01-16_09:50:30/results/keypoints_val2017_results.pkl\n",
      "| Arch | AP | Ap .5 | AP .75 | AP (M) | AP (L) | AR | AR .5 | AR .75 | AR (M) | AR (L) |\n",
      "|---|---|---|---|---|---|---|---|---|---|---|\n",
      "| 384x288_pose_resnet_152_d256d256d256 | 0.432 | 0.844 | 0.417 | 0.432 | -1.000 | 0.513 | 0.900 | 0.500 | 0.513 | -1.000 |\n",
      "=> saving checkpoint to /home/jfeil/IDP/baseline_implementations/microsoft_baseline/pose_estimation/experiment_output/coco/pose_resnet_152/384x288_d256x3_adam_lr1e-3_TransferLearning_2024-01-16_09:50:30\n"
     ]
    },
    {
     "name": "stdout",
     "output_type": "stream",
     "text": [
      "Loading and preparing results...\n",
      "DONE (t=0.00s)\n",
      "creating index...\n",
      "index created!\n",
      "Running per image evaluation...\n",
      "Evaluate annotation type *keypoints*\n",
      "DONE (t=0.01s).\n",
      "Accumulating evaluation results...\n",
      "DONE (t=0.00s).\n",
      " Average Precision  (AP) @[ IoU=0.50:0.95 | area=   all | maxDets= 20 ] = 0.432\n",
      " Average Precision  (AP) @[ IoU=0.50      | area=   all | maxDets= 20 ] = 0.844\n",
      " Average Precision  (AP) @[ IoU=0.75      | area=   all | maxDets= 20 ] = 0.417\n",
      " Average Precision  (AP) @[ IoU=0.50:0.95 | area=medium | maxDets= 20 ] = 0.432\n",
      " Average Precision  (AP) @[ IoU=0.50:0.95 | area= large | maxDets= 20 ] = -1.000\n",
      " Average Recall     (AR) @[ IoU=0.50:0.95 | area=   all | maxDets= 20 ] = 0.513\n",
      " Average Recall     (AR) @[ IoU=0.50      | area=   all | maxDets= 20 ] = 0.900\n",
      " Average Recall     (AR) @[ IoU=0.75      | area=   all | maxDets= 20 ] = 0.500\n",
      " Average Recall     (AR) @[ IoU=0.50:0.95 | area=medium | maxDets= 20 ] = 0.513\n",
      " Average Recall     (AR) @[ IoU=0.50:0.95 | area= large | maxDets= 20 ] = -1.000\n"
     ]
    },
    {
     "name": "stderr",
     "output_type": "stream",
     "text": [
      "Epoch: [96][0/6]\tTime 10.244s (10.244s)\tSpeed 3.1 samples/s\tData 9.999s (9.999s)\tLoss 0.00018 (0.00018)\tAccuracy 0.981 (0.981)\n",
      "Test: [0/1]\tTime 6.290 (6.290)\tLoss 0.0015 (0.0015)\tAccuracy 0.510 (0.510)\n",
      "=> Writing results json to /home/jfeil/IDP/baseline_implementations/microsoft_baseline/pose_estimation/experiment_output/coco/pose_resnet_152/384x288_d256x3_adam_lr1e-3_TransferLearning_2024-01-16_09:50:30/results/keypoints_val2017_results.json\n",
      "=> coco eval results saved to /home/jfeil/IDP/baseline_implementations/microsoft_baseline/pose_estimation/experiment_output/coco/pose_resnet_152/384x288_d256x3_adam_lr1e-3_TransferLearning_2024-01-16_09:50:30/results/keypoints_val2017_results.pkl\n",
      "| Arch | AP | Ap .5 | AP .75 | AP (M) | AP (L) | AR | AR .5 | AR .75 | AR (M) | AR (L) |\n",
      "|---|---|---|---|---|---|---|---|---|---|---|\n",
      "| 384x288_pose_resnet_152_d256d256d256 | 0.419 | 0.840 | 0.401 | 0.419 | -1.000 | 0.503 | 0.900 | 0.500 | 0.503 | -1.000 |\n",
      "=> saving checkpoint to /home/jfeil/IDP/baseline_implementations/microsoft_baseline/pose_estimation/experiment_output/coco/pose_resnet_152/384x288_d256x3_adam_lr1e-3_TransferLearning_2024-01-16_09:50:30\n"
     ]
    },
    {
     "name": "stdout",
     "output_type": "stream",
     "text": [
      "Loading and preparing results...\n",
      "DONE (t=0.00s)\n",
      "creating index...\n",
      "index created!\n",
      "Running per image evaluation...\n",
      "Evaluate annotation type *keypoints*\n",
      "DONE (t=0.01s).\n",
      "Accumulating evaluation results...\n",
      "DONE (t=0.00s).\n",
      " Average Precision  (AP) @[ IoU=0.50:0.95 | area=   all | maxDets= 20 ] = 0.419\n",
      " Average Precision  (AP) @[ IoU=0.50      | area=   all | maxDets= 20 ] = 0.840\n",
      " Average Precision  (AP) @[ IoU=0.75      | area=   all | maxDets= 20 ] = 0.401\n",
      " Average Precision  (AP) @[ IoU=0.50:0.95 | area=medium | maxDets= 20 ] = 0.419\n",
      " Average Precision  (AP) @[ IoU=0.50:0.95 | area= large | maxDets= 20 ] = -1.000\n",
      " Average Recall     (AR) @[ IoU=0.50:0.95 | area=   all | maxDets= 20 ] = 0.503\n",
      " Average Recall     (AR) @[ IoU=0.50      | area=   all | maxDets= 20 ] = 0.900\n",
      " Average Recall     (AR) @[ IoU=0.75      | area=   all | maxDets= 20 ] = 0.500\n",
      " Average Recall     (AR) @[ IoU=0.50:0.95 | area=medium | maxDets= 20 ] = 0.503\n",
      " Average Recall     (AR) @[ IoU=0.50:0.95 | area= large | maxDets= 20 ] = -1.000\n"
     ]
    },
    {
     "name": "stderr",
     "output_type": "stream",
     "text": [
      "Epoch: [97][0/6]\tTime 10.161s (10.161s)\tSpeed 3.1 samples/s\tData 9.910s (9.910s)\tLoss 0.00015 (0.00015)\tAccuracy 0.994 (0.994)\n",
      "Test: [0/1]\tTime 6.409 (6.409)\tLoss 0.0015 (0.0015)\tAccuracy 0.513 (0.513)\n",
      "=> Writing results json to /home/jfeil/IDP/baseline_implementations/microsoft_baseline/pose_estimation/experiment_output/coco/pose_resnet_152/384x288_d256x3_adam_lr1e-3_TransferLearning_2024-01-16_09:50:30/results/keypoints_val2017_results.json\n",
      "=> coco eval results saved to /home/jfeil/IDP/baseline_implementations/microsoft_baseline/pose_estimation/experiment_output/coco/pose_resnet_152/384x288_d256x3_adam_lr1e-3_TransferLearning_2024-01-16_09:50:30/results/keypoints_val2017_results.pkl\n",
      "| Arch | AP | Ap .5 | AP .75 | AP (M) | AP (L) | AR | AR .5 | AR .75 | AR (M) | AR (L) |\n",
      "|---|---|---|---|---|---|---|---|---|---|---|\n",
      "| 384x288_pose_resnet_152_d256d256d256 | 0.423 | 0.840 | 0.407 | 0.423 | -1.000 | 0.503 | 0.900 | 0.500 | 0.503 | -1.000 |\n",
      "=> saving checkpoint to /home/jfeil/IDP/baseline_implementations/microsoft_baseline/pose_estimation/experiment_output/coco/pose_resnet_152/384x288_d256x3_adam_lr1e-3_TransferLearning_2024-01-16_09:50:30\n"
     ]
    },
    {
     "name": "stdout",
     "output_type": "stream",
     "text": [
      "Loading and preparing results...\n",
      "DONE (t=0.00s)\n",
      "creating index...\n",
      "index created!\n",
      "Running per image evaluation...\n",
      "Evaluate annotation type *keypoints*\n",
      "DONE (t=0.01s).\n",
      "Accumulating evaluation results...\n",
      "DONE (t=0.00s).\n",
      " Average Precision  (AP) @[ IoU=0.50:0.95 | area=   all | maxDets= 20 ] = 0.423\n",
      " Average Precision  (AP) @[ IoU=0.50      | area=   all | maxDets= 20 ] = 0.840\n",
      " Average Precision  (AP) @[ IoU=0.75      | area=   all | maxDets= 20 ] = 0.407\n",
      " Average Precision  (AP) @[ IoU=0.50:0.95 | area=medium | maxDets= 20 ] = 0.423\n",
      " Average Precision  (AP) @[ IoU=0.50:0.95 | area= large | maxDets= 20 ] = -1.000\n",
      " Average Recall     (AR) @[ IoU=0.50:0.95 | area=   all | maxDets= 20 ] = 0.503\n",
      " Average Recall     (AR) @[ IoU=0.50      | area=   all | maxDets= 20 ] = 0.900\n",
      " Average Recall     (AR) @[ IoU=0.75      | area=   all | maxDets= 20 ] = 0.500\n",
      " Average Recall     (AR) @[ IoU=0.50:0.95 | area=medium | maxDets= 20 ] = 0.503\n",
      " Average Recall     (AR) @[ IoU=0.50:0.95 | area= large | maxDets= 20 ] = -1.000\n"
     ]
    },
    {
     "name": "stderr",
     "output_type": "stream",
     "text": [
      "Epoch: [98][0/6]\tTime 9.940s (9.940s)\tSpeed 3.2 samples/s\tData 9.682s (9.682s)\tLoss 0.00022 (0.00022)\tAccuracy 0.978 (0.978)\n",
      "Test: [0/1]\tTime 6.412 (6.412)\tLoss 0.0015 (0.0015)\tAccuracy 0.513 (0.513)\n",
      "=> Writing results json to /home/jfeil/IDP/baseline_implementations/microsoft_baseline/pose_estimation/experiment_output/coco/pose_resnet_152/384x288_d256x3_adam_lr1e-3_TransferLearning_2024-01-16_09:50:30/results/keypoints_val2017_results.json\n",
      "=> coco eval results saved to /home/jfeil/IDP/baseline_implementations/microsoft_baseline/pose_estimation/experiment_output/coco/pose_resnet_152/384x288_d256x3_adam_lr1e-3_TransferLearning_2024-01-16_09:50:30/results/keypoints_val2017_results.pkl\n",
      "| Arch | AP | Ap .5 | AP .75 | AP (M) | AP (L) | AR | AR .5 | AR .75 | AR (M) | AR (L) |\n",
      "|---|---|---|---|---|---|---|---|---|---|---|\n",
      "| 384x288_pose_resnet_152_d256d256d256 | 0.422 | 0.838 | 0.396 | 0.422 | -1.000 | 0.507 | 0.900 | 0.500 | 0.507 | -1.000 |\n",
      "=> saving checkpoint to /home/jfeil/IDP/baseline_implementations/microsoft_baseline/pose_estimation/experiment_output/coco/pose_resnet_152/384x288_d256x3_adam_lr1e-3_TransferLearning_2024-01-16_09:50:30\n"
     ]
    },
    {
     "name": "stdout",
     "output_type": "stream",
     "text": [
      "Loading and preparing results...\n",
      "DONE (t=0.00s)\n",
      "creating index...\n",
      "index created!\n",
      "Running per image evaluation...\n",
      "Evaluate annotation type *keypoints*\n",
      "DONE (t=0.01s).\n",
      "Accumulating evaluation results...\n",
      "DONE (t=0.00s).\n",
      " Average Precision  (AP) @[ IoU=0.50:0.95 | area=   all | maxDets= 20 ] = 0.422\n",
      " Average Precision  (AP) @[ IoU=0.50      | area=   all | maxDets= 20 ] = 0.838\n",
      " Average Precision  (AP) @[ IoU=0.75      | area=   all | maxDets= 20 ] = 0.396\n",
      " Average Precision  (AP) @[ IoU=0.50:0.95 | area=medium | maxDets= 20 ] = 0.422\n",
      " Average Precision  (AP) @[ IoU=0.50:0.95 | area= large | maxDets= 20 ] = -1.000\n",
      " Average Recall     (AR) @[ IoU=0.50:0.95 | area=   all | maxDets= 20 ] = 0.507\n",
      " Average Recall     (AR) @[ IoU=0.50      | area=   all | maxDets= 20 ] = 0.900\n",
      " Average Recall     (AR) @[ IoU=0.75      | area=   all | maxDets= 20 ] = 0.500\n",
      " Average Recall     (AR) @[ IoU=0.50:0.95 | area=medium | maxDets= 20 ] = 0.507\n",
      " Average Recall     (AR) @[ IoU=0.50:0.95 | area= large | maxDets= 20 ] = -1.000\n"
     ]
    },
    {
     "name": "stderr",
     "output_type": "stream",
     "text": [
      "Epoch: [99][0/6]\tTime 9.940s (9.940s)\tSpeed 3.2 samples/s\tData 9.684s (9.684s)\tLoss 0.00022 (0.00022)\tAccuracy 0.984 (0.984)\n",
      "Test: [0/1]\tTime 6.247 (6.247)\tLoss 0.0015 (0.0015)\tAccuracy 0.517 (0.517)\n",
      "=> Writing results json to /home/jfeil/IDP/baseline_implementations/microsoft_baseline/pose_estimation/experiment_output/coco/pose_resnet_152/384x288_d256x3_adam_lr1e-3_TransferLearning_2024-01-16_09:50:30/results/keypoints_val2017_results.json\n",
      "=> coco eval results saved to /home/jfeil/IDP/baseline_implementations/microsoft_baseline/pose_estimation/experiment_output/coco/pose_resnet_152/384x288_d256x3_adam_lr1e-3_TransferLearning_2024-01-16_09:50:30/results/keypoints_val2017_results.pkl\n",
      "| Arch | AP | Ap .5 | AP .75 | AP (M) | AP (L) | AR | AR .5 | AR .75 | AR (M) | AR (L) |\n",
      "|---|---|---|---|---|---|---|---|---|---|---|\n",
      "| 384x288_pose_resnet_152_d256d256d256 | 0.427 | 0.838 | 0.404 | 0.427 | -1.000 | 0.510 | 0.900 | 0.500 | 0.510 | -1.000 |\n",
      "=> saving checkpoint to /home/jfeil/IDP/baseline_implementations/microsoft_baseline/pose_estimation/experiment_output/coco/pose_resnet_152/384x288_d256x3_adam_lr1e-3_TransferLearning_2024-01-16_09:50:30\n"
     ]
    },
    {
     "name": "stdout",
     "output_type": "stream",
     "text": [
      "Loading and preparing results...\n",
      "DONE (t=0.00s)\n",
      "creating index...\n",
      "index created!\n",
      "Running per image evaluation...\n",
      "Evaluate annotation type *keypoints*\n",
      "DONE (t=0.01s).\n",
      "Accumulating evaluation results...\n",
      "DONE (t=0.00s).\n",
      " Average Precision  (AP) @[ IoU=0.50:0.95 | area=   all | maxDets= 20 ] = 0.427\n",
      " Average Precision  (AP) @[ IoU=0.50      | area=   all | maxDets= 20 ] = 0.838\n",
      " Average Precision  (AP) @[ IoU=0.75      | area=   all | maxDets= 20 ] = 0.404\n",
      " Average Precision  (AP) @[ IoU=0.50:0.95 | area=medium | maxDets= 20 ] = 0.427\n",
      " Average Precision  (AP) @[ IoU=0.50:0.95 | area= large | maxDets= 20 ] = -1.000\n",
      " Average Recall     (AR) @[ IoU=0.50:0.95 | area=   all | maxDets= 20 ] = 0.510\n",
      " Average Recall     (AR) @[ IoU=0.50      | area=   all | maxDets= 20 ] = 0.900\n",
      " Average Recall     (AR) @[ IoU=0.75      | area=   all | maxDets= 20 ] = 0.500\n",
      " Average Recall     (AR) @[ IoU=0.50:0.95 | area=medium | maxDets= 20 ] = 0.510\n",
      " Average Recall     (AR) @[ IoU=0.50:0.95 | area= large | maxDets= 20 ] = -1.000\n"
     ]
    },
    {
     "name": "stderr",
     "output_type": "stream",
     "text": [
      "saving final model state to /home/jfeil/IDP/baseline_implementations/microsoft_baseline/pose_estimation/experiment_output/coco/pose_resnet_152/384x288_d256x3_adam_lr1e-3_TransferLearning_2024-01-16_09:50:30/final_state.pth.tar\n"
     ]
    }
   ],
   "source": [
    "for data_set in tqdm(training_data):\n",
    "    prepare_training_set('/home/jfeil/IDP/training_pipeline/data/tennis_dataset', data_set['train_set'], data_set['val_set'], '/var/tmp/test')\n",
    "    with mlflow.start_run():\n",
    "        dataset_params = {}\n",
    "        train_params = {}\n",
    "        config_path = prepare_config('/var/tmp/test', 'experiment_output', '/home/jfeil/IDP/training_pipeline/configuration/384x288_d256x3_adam_lr1e-3_TransferLearning.yaml', dataset_params, train_params)\n",
    "        mlflow.log_params(data_set)\n",
    "        train_loop(config_path, num_workers=16, enable_mlflow=True)\n",
    "        os.remove(config_path)"
   ]
  },
  {
   "cell_type": "code",
   "execution_count": 14,
   "id": "c86f95da-1792-4026-9392-c56f108f9635",
   "metadata": {},
   "outputs": [
    {
     "data": {
      "text/plain": [
       "'s3://mlflow/0/5a456625e76f476a9558198c9dd1183b/artifacts'"
      ]
     },
     "execution_count": 14,
     "metadata": {},
     "output_type": "execute_result"
    }
   ],
   "source": [
    "mlflow.get_run('5a456625e76f476a9558198c9dd1183b').info.artifact_uri"
   ]
  },
  {
   "cell_type": "code",
   "execution_count": 24,
   "id": "05b60a46-1eaf-41a8-a0b5-fdfa5900193a",
   "metadata": {},
   "outputs": [
    {
     "data": {
      "application/vnd.jupyter.widget-view+json": {
       "model_id": "9af1f7d01472448293a7b69a032b1c71",
       "version_major": 2,
       "version_minor": 0
      },
      "text/plain": [
       "Downloading artifacts:   0%|          | 0/3 [00:00<?, ?it/s]"
      ]
     },
     "metadata": {},
     "output_type": "display_data"
    },
    {
     "name": "stderr",
     "output_type": "stream",
     "text": [
      "Connection pool is full, discarding connection: localhost. Connection pool size: 10\n",
      "Connection pool is full, discarding connection: localhost. Connection pool size: 10\n",
      "Connection pool is full, discarding connection: localhost. Connection pool size: 10\n",
      "Connection pool is full, discarding connection: localhost. Connection pool size: 10\n",
      "Connection pool is full, discarding connection: localhost. Connection pool size: 10\n",
      "Connection pool is full, discarding connection: localhost. Connection pool size: 10\n",
      "Connection pool is full, discarding connection: localhost. Connection pool size: 10\n",
      "Connection pool is full, discarding connection: localhost. Connection pool size: 10\n",
      "Connection pool is full, discarding connection: localhost. Connection pool size: 10\n",
      "Connection pool is full, discarding connection: localhost. Connection pool size: 10\n"
     ]
    },
    {
     "data": {
      "text/plain": [
       "'/tmp/tmpzt6yl86b/'"
      ]
     },
     "execution_count": 24,
     "metadata": {},
     "output_type": "execute_result"
    }
   ],
   "source": [
    "mlflow.artifacts.download_artifacts(run_id='5a456625e76f476a9558198c9dd1183b')"
   ]
  },
  {
   "cell_type": "code",
   "execution_count": 30,
   "id": "b61b00f7-25df-493f-bab8-84f2d808b5b5",
   "metadata": {},
   "outputs": [
    {
     "data": {
      "text/html": [
       "<div>\n",
       "<style scoped>\n",
       "    .dataframe tbody tr th:only-of-type {\n",
       "        vertical-align: middle;\n",
       "    }\n",
       "\n",
       "    .dataframe tbody tr th {\n",
       "        vertical-align: top;\n",
       "    }\n",
       "\n",
       "    .dataframe thead th {\n",
       "        text-align: right;\n",
       "    }\n",
       "</style>\n",
       "<table border=\"1\" class=\"dataframe\">\n",
       "  <thead>\n",
       "    <tr style=\"text-align: right;\">\n",
       "      <th></th>\n",
       "      <th>run_id</th>\n",
       "      <th>experiment_id</th>\n",
       "      <th>status</th>\n",
       "      <th>artifact_uri</th>\n",
       "      <th>start_time</th>\n",
       "      <th>end_time</th>\n",
       "      <th>metrics.train_loss</th>\n",
       "      <th>metrics.train_acc</th>\n",
       "      <th>metrics.valid_acc</th>\n",
       "      <th>metrics.valid_loss</th>\n",
       "      <th>...</th>\n",
       "      <th>params.GAMMA2</th>\n",
       "      <th>params.SCALE_FACTOR</th>\n",
       "      <th>params.BATCH_SIZE</th>\n",
       "      <th>params.SHUFFLE</th>\n",
       "      <th>params.NESTEROV</th>\n",
       "      <th>params.SAT_FACTOR</th>\n",
       "      <th>tags.mlflow.user</th>\n",
       "      <th>tags.mlflow.source.name</th>\n",
       "      <th>tags.mlflow.source.type</th>\n",
       "      <th>tags.mlflow.runName</th>\n",
       "    </tr>\n",
       "  </thead>\n",
       "  <tbody>\n",
       "    <tr>\n",
       "      <th>0</th>\n",
       "      <td>5a456625e76f476a9558198c9dd1183b</td>\n",
       "      <td>0</td>\n",
       "      <td>FINISHED</td>\n",
       "      <td>s3://mlflow/0/5a456625e76f476a9558198c9dd1183b...</td>\n",
       "      <td>2024-01-15 19:21:56.899000+00:00</td>\n",
       "      <td>2024-01-15 19:57:35.406000+00:00</td>\n",
       "      <td>0.000258</td>\n",
       "      <td>0.971142</td>\n",
       "      <td>0.653333</td>\n",
       "      <td>0.001299</td>\n",
       "      <td>...</td>\n",
       "      <td>0.0</td>\n",
       "      <td>0.15</td>\n",
       "      <td>32</td>\n",
       "      <td>True</td>\n",
       "      <td>False</td>\n",
       "      <td>0.25</td>\n",
       "      <td>jfeil</td>\n",
       "      <td>/home/jfeil/.pyenv/versions/3.8.17/envs/DroneT...</td>\n",
       "      <td>LOCAL</td>\n",
       "      <td>learned-shad-853</td>\n",
       "    </tr>\n",
       "  </tbody>\n",
       "</table>\n",
       "<p>1 rows × 37 columns</p>\n",
       "</div>"
      ],
      "text/plain": [
       "                             run_id experiment_id    status  \\\n",
       "0  5a456625e76f476a9558198c9dd1183b             0  FINISHED   \n",
       "\n",
       "                                        artifact_uri  \\\n",
       "0  s3://mlflow/0/5a456625e76f476a9558198c9dd1183b...   \n",
       "\n",
       "                        start_time                         end_time  \\\n",
       "0 2024-01-15 19:21:56.899000+00:00 2024-01-15 19:57:35.406000+00:00   \n",
       "\n",
       "   metrics.train_loss  metrics.train_acc  metrics.valid_acc  \\\n",
       "0            0.000258           0.971142           0.653333   \n",
       "\n",
       "   metrics.valid_loss  ... params.GAMMA2 params.SCALE_FACTOR  \\\n",
       "0            0.001299  ...           0.0                0.15   \n",
       "\n",
       "  params.BATCH_SIZE params.SHUFFLE params.NESTEROV params.SAT_FACTOR  \\\n",
       "0                32           True           False              0.25   \n",
       "\n",
       "  tags.mlflow.user                            tags.mlflow.source.name  \\\n",
       "0            jfeil  /home/jfeil/.pyenv/versions/3.8.17/envs/DroneT...   \n",
       "\n",
       "  tags.mlflow.source.type tags.mlflow.runName  \n",
       "0                   LOCAL    learned-shad-853  \n",
       "\n",
       "[1 rows x 37 columns]"
      ]
     },
     "execution_count": 30,
     "metadata": {},
     "output_type": "execute_result"
    }
   ],
   "source": [
    "mlflow.search_runs(experiment_ids=\"0\")"
   ]
  }
 ],
 "metadata": {
  "kernelspec": {
   "display_name": "Python 3 (ipykernel)",
   "language": "python",
   "name": "python3"
  },
  "language_info": {
   "codemirror_mode": {
    "name": "ipython",
    "version": 3
   },
   "file_extension": ".py",
   "mimetype": "text/x-python",
   "name": "python",
   "nbconvert_exporter": "python",
   "pygments_lexer": "ipython3",
   "version": "3.8.17"
  }
 },
 "nbformat": 4,
 "nbformat_minor": 5
}
